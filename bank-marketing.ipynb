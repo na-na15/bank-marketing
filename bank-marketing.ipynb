{
 "cells": [
  {
   "cell_type": "markdown",
   "metadata": {},
   "source": [
    "**Final Project Submission** \n",
    "\n",
    "Please fill out:\n",
    "* Student name: \n",
    "* Student pace: self paced / part time / full time\n",
    "* Scheduled project review date/time: \n",
    "* Instructor name: \n",
    "* Blog post URL:\n"
   ]
  },
  {
   "cell_type": "markdown",
   "metadata": {},
   "source": [
    "# Bank Marketing Campaign"
   ]
  },
  {
   "cell_type": "markdown",
   "metadata": {},
   "source": [
    "This project was completed as part of Flatiron School's Data Science Bootcamp (Module 3 Final Project)."
   ]
  },
  {
   "cell_type": "markdown",
   "metadata": {},
   "source": [
    "## Introduction"
   ]
  },
  {
   "cell_type": "markdown",
   "metadata": {},
   "source": [
    "### Problem Statement"
   ]
  },
  {
   "cell_type": "markdown",
   "metadata": {},
   "source": [
    "**What is a term deposit?**\n",
    "\n",
    "From <a href = 'https://www.investopedia.com/terms/t/termdeposit.asp'>Investopedia</a>, \"A term deposit is a fixed-term investment that includes the deposit of money into an account at a financial institution. Term deposit investments usually carry short-term maturities ranging from one month to a few years and will have varying levels of required minimum deposits. The investor must understand when buying a term deposit that they can withdraw their funds only after the term ends. In some cases, the account holder may allow the investor early termination—or withdrawal—if they give several days notification. Also, there will be a penalty assessed for early termination.\""
   ]
  },
  {
   "cell_type": "markdown",
   "metadata": {},
   "source": [
    "### Business Value"
   ]
  },
  {
   "cell_type": "markdown",
   "metadata": {},
   "source": [
    "### Methodology"
   ]
  },
  {
   "cell_type": "markdown",
   "metadata": {},
   "source": [
    "We will adopt the OSEMN data science workflow, which involves:\n",
    "1. Obtain (import the data)\n",
    "2. Scrub (clean the data, deal with missing values and data types)\n",
    "3. Explore (answer descriptives questions using EDA)\n",
    "4. Model (build our predictive model)\n",
    "5. iNterpret (comment on our model and findings)"
   ]
  },
  {
   "cell_type": "markdown",
   "metadata": {},
   "source": [
    "### Libraries"
   ]
  },
  {
   "cell_type": "code",
   "execution_count": 171,
   "metadata": {
    "scrolled": true
   },
   "outputs": [],
   "source": [
    "import pandas as pd\n",
    "import numpy as np\n",
    "\n",
    "import matplotlib.pyplot as plt\n",
    "import seaborn as sns\n",
    "chosen_palette = 'Accent'\n",
    "%matplotlib inline\n",
    "\n",
    "from sklearn.model_selection import train_test_split\n",
    "from sklearn.model_selection import cross_val_score\n",
    "from sklearn.model_selection import GridSearchCV\n",
    "\n",
    "from sklearn.preprocessing import OrdinalEncoder, OneHotEncoder, StandardScaler\n",
    "from sklearn.impute import SimpleImputer, KNNImputer\n",
    "\n",
    "from sklearn.base import BaseEstimator, TransformerMixin\n",
    "from sklearn.compose import ColumnTransformer\n",
    "\n",
    "from sklearn.linear_model import LogisticRegression\n",
    "from sklearn.tree import DecisionTreeClassifier \n",
    "from sklearn.ensemble import RandomForestClassifier, AdaBoostClassifier, GradientBoostingClassifier\n",
    "from sklearn.neighbors import KNeighborsClassifier\n",
    "from sklearn.naive_bayes import GaussianNB\n",
    "from sklearn.svm import SVC\n",
    "import xgboost as xgb\n",
    "\n",
    "\n",
    "from sklearn.metrics import roc_curve, auc, confusion_matrix, accuracy_score, f1_score, \\\n",
    "precision_score, recall_score, roc_auc_score, classification_report, plot_confusion_matrix\n",
    "\n",
    "from imblearn.pipeline import Pipeline\n",
    "from imblearn.over_sampling import SMOTE\n",
    "\n",
    "# do not show any warnings\n",
    "import warnings\n",
    "warnings.filterwarnings('ignore')\n",
    "\n",
    "import time \n",
    "\n",
    "# set random state\n",
    "random_state = 0"
   ]
  },
  {
   "cell_type": "markdown",
   "metadata": {},
   "source": [
    "## Obtain Data"
   ]
  },
  {
   "cell_type": "markdown",
   "metadata": {},
   "source": [
    "A dataset for this project has been provided and can be found in the `Data` folder in this repository.\n",
    "\n",
    "It was originally from <a href = 'https://archive.ics.uci.edu/ml/datasets/Bank+Marketing'> UCI Machine Learning Repository</a>. \n",
    "\n",
    "Source: [Moro et al., 2014] S. Moro, P. Cortez and P. Rita. A Data-Driven Approach to Predict the Success of Bank Telemarketing. Decision Support Systems, Elsevier, 62:22-31, June 2014"
   ]
  },
  {
   "cell_type": "markdown",
   "metadata": {},
   "source": [
    "### Load Data"
   ]
  },
  {
   "cell_type": "code",
   "execution_count": 10,
   "metadata": {
    "scrolled": false
   },
   "outputs": [
    {
     "data": {
      "text/html": [
       "<div>\n",
       "<style scoped>\n",
       "    .dataframe tbody tr th:only-of-type {\n",
       "        vertical-align: middle;\n",
       "    }\n",
       "\n",
       "    .dataframe tbody tr th {\n",
       "        vertical-align: top;\n",
       "    }\n",
       "\n",
       "    .dataframe thead th {\n",
       "        text-align: right;\n",
       "    }\n",
       "</style>\n",
       "<table border=\"1\" class=\"dataframe\">\n",
       "  <thead>\n",
       "    <tr style=\"text-align: right;\">\n",
       "      <th></th>\n",
       "      <th>age</th>\n",
       "      <th>job</th>\n",
       "      <th>marital</th>\n",
       "      <th>education</th>\n",
       "      <th>default</th>\n",
       "      <th>housing</th>\n",
       "      <th>loan</th>\n",
       "      <th>contact</th>\n",
       "      <th>month</th>\n",
       "      <th>day_of_week</th>\n",
       "      <th>...</th>\n",
       "      <th>campaign</th>\n",
       "      <th>pdays</th>\n",
       "      <th>previous</th>\n",
       "      <th>poutcome</th>\n",
       "      <th>emp.var.rate</th>\n",
       "      <th>cons.price.idx</th>\n",
       "      <th>cons.conf.idx</th>\n",
       "      <th>euribor3m</th>\n",
       "      <th>nr.employed</th>\n",
       "      <th>y</th>\n",
       "    </tr>\n",
       "  </thead>\n",
       "  <tbody>\n",
       "    <tr>\n",
       "      <td>0</td>\n",
       "      <td>56</td>\n",
       "      <td>housemaid</td>\n",
       "      <td>married</td>\n",
       "      <td>basic.4y</td>\n",
       "      <td>no</td>\n",
       "      <td>no</td>\n",
       "      <td>no</td>\n",
       "      <td>telephone</td>\n",
       "      <td>may</td>\n",
       "      <td>mon</td>\n",
       "      <td>...</td>\n",
       "      <td>1</td>\n",
       "      <td>999</td>\n",
       "      <td>0</td>\n",
       "      <td>nonexistent</td>\n",
       "      <td>1.1</td>\n",
       "      <td>93.994</td>\n",
       "      <td>-36.4</td>\n",
       "      <td>4.857</td>\n",
       "      <td>5191.0</td>\n",
       "      <td>no</td>\n",
       "    </tr>\n",
       "    <tr>\n",
       "      <td>1</td>\n",
       "      <td>57</td>\n",
       "      <td>services</td>\n",
       "      <td>married</td>\n",
       "      <td>high.school</td>\n",
       "      <td>unknown</td>\n",
       "      <td>no</td>\n",
       "      <td>no</td>\n",
       "      <td>telephone</td>\n",
       "      <td>may</td>\n",
       "      <td>mon</td>\n",
       "      <td>...</td>\n",
       "      <td>1</td>\n",
       "      <td>999</td>\n",
       "      <td>0</td>\n",
       "      <td>nonexistent</td>\n",
       "      <td>1.1</td>\n",
       "      <td>93.994</td>\n",
       "      <td>-36.4</td>\n",
       "      <td>4.857</td>\n",
       "      <td>5191.0</td>\n",
       "      <td>no</td>\n",
       "    </tr>\n",
       "    <tr>\n",
       "      <td>2</td>\n",
       "      <td>37</td>\n",
       "      <td>services</td>\n",
       "      <td>married</td>\n",
       "      <td>high.school</td>\n",
       "      <td>no</td>\n",
       "      <td>yes</td>\n",
       "      <td>no</td>\n",
       "      <td>telephone</td>\n",
       "      <td>may</td>\n",
       "      <td>mon</td>\n",
       "      <td>...</td>\n",
       "      <td>1</td>\n",
       "      <td>999</td>\n",
       "      <td>0</td>\n",
       "      <td>nonexistent</td>\n",
       "      <td>1.1</td>\n",
       "      <td>93.994</td>\n",
       "      <td>-36.4</td>\n",
       "      <td>4.857</td>\n",
       "      <td>5191.0</td>\n",
       "      <td>no</td>\n",
       "    </tr>\n",
       "    <tr>\n",
       "      <td>3</td>\n",
       "      <td>40</td>\n",
       "      <td>admin.</td>\n",
       "      <td>married</td>\n",
       "      <td>basic.6y</td>\n",
       "      <td>no</td>\n",
       "      <td>no</td>\n",
       "      <td>no</td>\n",
       "      <td>telephone</td>\n",
       "      <td>may</td>\n",
       "      <td>mon</td>\n",
       "      <td>...</td>\n",
       "      <td>1</td>\n",
       "      <td>999</td>\n",
       "      <td>0</td>\n",
       "      <td>nonexistent</td>\n",
       "      <td>1.1</td>\n",
       "      <td>93.994</td>\n",
       "      <td>-36.4</td>\n",
       "      <td>4.857</td>\n",
       "      <td>5191.0</td>\n",
       "      <td>no</td>\n",
       "    </tr>\n",
       "    <tr>\n",
       "      <td>4</td>\n",
       "      <td>56</td>\n",
       "      <td>services</td>\n",
       "      <td>married</td>\n",
       "      <td>high.school</td>\n",
       "      <td>no</td>\n",
       "      <td>no</td>\n",
       "      <td>yes</td>\n",
       "      <td>telephone</td>\n",
       "      <td>may</td>\n",
       "      <td>mon</td>\n",
       "      <td>...</td>\n",
       "      <td>1</td>\n",
       "      <td>999</td>\n",
       "      <td>0</td>\n",
       "      <td>nonexistent</td>\n",
       "      <td>1.1</td>\n",
       "      <td>93.994</td>\n",
       "      <td>-36.4</td>\n",
       "      <td>4.857</td>\n",
       "      <td>5191.0</td>\n",
       "      <td>no</td>\n",
       "    </tr>\n",
       "  </tbody>\n",
       "</table>\n",
       "<p>5 rows × 21 columns</p>\n",
       "</div>"
      ],
      "text/plain": [
       "   age        job  marital    education  default housing loan    contact  \\\n",
       "0   56  housemaid  married     basic.4y       no      no   no  telephone   \n",
       "1   57   services  married  high.school  unknown      no   no  telephone   \n",
       "2   37   services  married  high.school       no     yes   no  telephone   \n",
       "3   40     admin.  married     basic.6y       no      no   no  telephone   \n",
       "4   56   services  married  high.school       no      no  yes  telephone   \n",
       "\n",
       "  month day_of_week  ...  campaign  pdays  previous     poutcome emp.var.rate  \\\n",
       "0   may         mon  ...         1    999         0  nonexistent          1.1   \n",
       "1   may         mon  ...         1    999         0  nonexistent          1.1   \n",
       "2   may         mon  ...         1    999         0  nonexistent          1.1   \n",
       "3   may         mon  ...         1    999         0  nonexistent          1.1   \n",
       "4   may         mon  ...         1    999         0  nonexistent          1.1   \n",
       "\n",
       "   cons.price.idx  cons.conf.idx  euribor3m  nr.employed   y  \n",
       "0          93.994          -36.4      4.857       5191.0  no  \n",
       "1          93.994          -36.4      4.857       5191.0  no  \n",
       "2          93.994          -36.4      4.857       5191.0  no  \n",
       "3          93.994          -36.4      4.857       5191.0  no  \n",
       "4          93.994          -36.4      4.857       5191.0  no  \n",
       "\n",
       "[5 rows x 21 columns]"
      ]
     },
     "execution_count": 10,
     "metadata": {},
     "output_type": "execute_result"
    }
   ],
   "source": [
    "# Read data \n",
    "raw_df = pd.read_csv('data/bank-additional-full.csv', sep = ';')\n",
    "\n",
    "# Check first five rows\n",
    "raw_df.head()"
   ]
  },
  {
   "cell_type": "code",
   "execution_count": 11,
   "metadata": {
    "scrolled": true
   },
   "outputs": [
    {
     "data": {
      "text/plain": [
       "(41188, 21)"
      ]
     },
     "execution_count": 11,
     "metadata": {},
     "output_type": "execute_result"
    }
   ],
   "source": [
    "# Get info\n",
    "raw_df.shape"
   ]
  },
  {
   "cell_type": "markdown",
   "metadata": {},
   "source": [
    "We see that we have 21 columns, with 20 feature columns and 1 target column `y`. There are 41,188 entries recorded."
   ]
  },
  {
   "cell_type": "markdown",
   "metadata": {},
   "source": [
    "### Data Dictionnary"
   ]
  },
  {
   "cell_type": "markdown",
   "metadata": {},
   "source": [
    "We have been provided with the following information regarding the **features**.\n",
    "\n",
    "`age` - (numeric)\n",
    "\n",
    "`job` - type of job (categorical: \"admin.\",\"blue-collar\", \"entrepreneur\", \"housemaid\", \"management\", \"retired\", \"self-employed\", \"services\", \"student\", \"technician\", \"unemployed\", \"unknown\")\n",
    "\n",
    "`marital` - marital status (categorical: \"divorced\", \"married\", \"single\", \"unknown\"; note: \"divorced\" means divorced or widowed)\n",
    "\n",
    "`education` - (categorical: \"basic.4y\", \"basic.6y\", \"basic.9y\",  \"high.school\", \"illiterate\", \"professional.course\", \"university.degree\", \"unknown\")\n",
    "\n",
    "`default` - has credit in default? (categorical: \"no\", \"yes\", \"unknown\")\n",
    "\n",
    "`housing`- has housing loan? (categorical: \"no\", \"yes\", \"unknown\")\n",
    "\n",
    "`loan`- has personal loan? (categorical: \"no\", \"yes\", \"unknown\")\n",
    "\n",
    "`contact` - contact communication type (categorical: \"cellular\", \"telephone\")\n",
    "\n",
    "`month` - last contact month of year (categorical: \"jan\", \"feb\", \"mar\", ..., \"nov\", \"dec\")\n",
    "\n",
    "`day_of_week` - last contact day of the week (categorical: \"mon\", \"tue\", \"wed\", \"thu\", \"fri\")\n",
    "\n",
    "`duration` - last contact duration, in seconds (numeric). Important note: this attribute highly affects the output target (e.g., if duration=0 then y=\"no\"). Yet, the duration is not known before a call is performed. Also, after the end of the call y is obviously known. Thus, this input should only be included for benchmark purposes and should be discarded if the intention is to have a realistic predictive model.\n",
    "\n",
    "`campaign` - number of contacts performed during this campaign and for this client (numeric, includes last contact)\n",
    "\n",
    "`pdays` - number of days that passed by after the client was last contacted from a previous campaign (numeric; 999 means client was not previously contacted)\n",
    "\n",
    "`previous` - number of contacts performed before this campaign and for this client (numeric)\n",
    "\n",
    "`poutcome` - outcome of the previous marketing campaign (categorical: \"failure\",\"nonexistent\",\"success\")\n",
    "\n",
    "`emp.var.rate` - Employment variation is the variation of how many people are being hired or fired due to the shifts in the conditions of the economy. - quarterly indicator (numeric)\n",
    "\n",
    "`cons.price.idx` - The Consumer Price Index (CPI) is a measure that examines the weighted average of prices of a basket of consumer goods and services, such as transportation, food, and medical care. It is calculated by taking price changes for each item in the predetermined basket of goods and averaging them. - monthly indicator (numeric)\n",
    "\n",
    "`cons.conf.idx` - Consumer confidence index (CCI) This consumer confidence indicator provides an indication of future developments of households' consumption and saving, based upon answers regarding their expected financial situation, their sentiment about the general economic situation, unemployment and capability of savings. - monthly indicator (numeric)\n",
    "\n",
    "`euribor3m` - The 3 month Euribor interest rate is the interest rate at which a selection of European banks lend one another funds denominated in euros whereby the loans have a maturity of 3 months. - daily indicator (numeric)\n",
    "\n",
    "`nr.employed` - number of employees - quarterly indicator (numeric)\n",
    "\n",
    "The **target** variable `y` is whether the client subscribed to a term deposit (binary: \"yes\", \"no\")"
   ]
  },
  {
   "cell_type": "markdown",
   "metadata": {},
   "source": [
    "### Train-Test Split"
   ]
  },
  {
   "cell_type": "markdown",
   "metadata": {},
   "source": [
    "Before we proceed, let us split our data into test and training sets. This test set will be use to evaluate our final model and we would like it to be completely new to us to avoid any data snooping bias.\n",
    "\n",
    "We will ensure that the target variable `y` classes are proportional in the test set to ensure as based on our domain expertise we suspect that the classes will be unbalanced, with \"yes\" being a minority class."
   ]
  },
  {
   "cell_type": "code",
   "execution_count": 12,
   "metadata": {
    "scrolled": true
   },
   "outputs": [
    {
     "name": "stdout",
     "output_type": "stream",
     "text": [
      "Train set Shape: (37069, 21)\n",
      "Test set Shape: (4119, 21)\n"
     ]
    }
   ],
   "source": [
    "# Train-test Split\n",
    "train_set, test_set = train_test_split(raw_df, test_size = 0.1, stratify=raw_df['y'], random_state = 0)\n",
    "\n",
    "print(f'Train set Shape: {train_set.shape}')\n",
    "print(f'Test set Shape: {test_set.shape}')"
   ]
  },
  {
   "cell_type": "markdown",
   "metadata": {},
   "source": [
    "## Scrub Data"
   ]
  },
  {
   "cell_type": "markdown",
   "metadata": {},
   "source": [
    "Let us clean our DataFrame to ensure it is fit for exploration and modelling. We will work on a copy of the training set."
   ]
  },
  {
   "cell_type": "code",
   "execution_count": 13,
   "metadata": {
    "scrolled": true
   },
   "outputs": [],
   "source": [
    "# Create copy to work with\n",
    "df = train_set.reset_index(drop = True).copy()"
   ]
  },
  {
   "cell_type": "markdown",
   "metadata": {},
   "source": [
    "### Check Data Types"
   ]
  },
  {
   "cell_type": "code",
   "execution_count": 14,
   "metadata": {
    "scrolled": true
   },
   "outputs": [
    {
     "name": "stdout",
     "output_type": "stream",
     "text": [
      "<class 'pandas.core.frame.DataFrame'>\n",
      "RangeIndex: 37069 entries, 0 to 37068\n",
      "Data columns (total 21 columns):\n",
      "age               37069 non-null int64\n",
      "job               37069 non-null object\n",
      "marital           37069 non-null object\n",
      "education         37069 non-null object\n",
      "default           37069 non-null object\n",
      "housing           37069 non-null object\n",
      "loan              37069 non-null object\n",
      "contact           37069 non-null object\n",
      "month             37069 non-null object\n",
      "day_of_week       37069 non-null object\n",
      "duration          37069 non-null int64\n",
      "campaign          37069 non-null int64\n",
      "pdays             37069 non-null int64\n",
      "previous          37069 non-null int64\n",
      "poutcome          37069 non-null object\n",
      "emp.var.rate      37069 non-null float64\n",
      "cons.price.idx    37069 non-null float64\n",
      "cons.conf.idx     37069 non-null float64\n",
      "euribor3m         37069 non-null float64\n",
      "nr.employed       37069 non-null float64\n",
      "y                 37069 non-null object\n",
      "dtypes: float64(5), int64(5), object(11)\n",
      "memory usage: 5.9+ MB\n"
     ]
    }
   ],
   "source": [
    "df.info()"
   ]
  },
  {
   "cell_type": "markdown",
   "metadata": {},
   "source": [
    "All data types appear correct."
   ]
  },
  {
   "cell_type": "markdown",
   "metadata": {},
   "source": [
    "### Missing / Placeholder Values"
   ]
  },
  {
   "cell_type": "code",
   "execution_count": 15,
   "metadata": {
    "scrolled": false
   },
   "outputs": [
    {
     "data": {
      "text/plain": [
       "False"
      ]
     },
     "execution_count": 15,
     "metadata": {},
     "output_type": "execute_result"
    }
   ],
   "source": [
    "# Check for missing values\n",
    "df.isna().any().any()"
   ]
  },
  {
   "cell_type": "markdown",
   "metadata": {},
   "source": [
    "This tells us there are no explicit `NaN` missing values. However there could still be placeholder values, say if a particular number was used to denote no data for numerical attributes or a string such as 'not known' for categorical attributes."
   ]
  },
  {
   "cell_type": "markdown",
   "metadata": {},
   "source": [
    "Let's first check the numerical attributes using the describe method."
   ]
  },
  {
   "cell_type": "code",
   "execution_count": 16,
   "metadata": {
    "scrolled": false
   },
   "outputs": [
    {
     "data": {
      "text/html": [
       "<div>\n",
       "<style scoped>\n",
       "    .dataframe tbody tr th:only-of-type {\n",
       "        vertical-align: middle;\n",
       "    }\n",
       "\n",
       "    .dataframe tbody tr th {\n",
       "        vertical-align: top;\n",
       "    }\n",
       "\n",
       "    .dataframe thead th {\n",
       "        text-align: right;\n",
       "    }\n",
       "</style>\n",
       "<table border=\"1\" class=\"dataframe\">\n",
       "  <thead>\n",
       "    <tr style=\"text-align: right;\">\n",
       "      <th></th>\n",
       "      <th>age</th>\n",
       "      <th>duration</th>\n",
       "      <th>campaign</th>\n",
       "      <th>pdays</th>\n",
       "      <th>previous</th>\n",
       "      <th>emp.var.rate</th>\n",
       "      <th>cons.price.idx</th>\n",
       "      <th>cons.conf.idx</th>\n",
       "      <th>euribor3m</th>\n",
       "      <th>nr.employed</th>\n",
       "    </tr>\n",
       "  </thead>\n",
       "  <tbody>\n",
       "    <tr>\n",
       "      <td>count</td>\n",
       "      <td>37069.000000</td>\n",
       "      <td>37069.000000</td>\n",
       "      <td>37069.000000</td>\n",
       "      <td>37069.000000</td>\n",
       "      <td>37069.000000</td>\n",
       "      <td>37069.000000</td>\n",
       "      <td>37069.000000</td>\n",
       "      <td>37069.000000</td>\n",
       "      <td>37069.000000</td>\n",
       "      <td>37069.000000</td>\n",
       "    </tr>\n",
       "    <tr>\n",
       "      <td>mean</td>\n",
       "      <td>40.010440</td>\n",
       "      <td>258.504627</td>\n",
       "      <td>2.572959</td>\n",
       "      <td>962.382962</td>\n",
       "      <td>0.173460</td>\n",
       "      <td>0.082918</td>\n",
       "      <td>93.576450</td>\n",
       "      <td>-40.505287</td>\n",
       "      <td>3.621223</td>\n",
       "      <td>5167.032108</td>\n",
       "    </tr>\n",
       "    <tr>\n",
       "      <td>std</td>\n",
       "      <td>10.409739</td>\n",
       "      <td>259.806298</td>\n",
       "      <td>2.779804</td>\n",
       "      <td>187.134790</td>\n",
       "      <td>0.496145</td>\n",
       "      <td>1.570596</td>\n",
       "      <td>0.578924</td>\n",
       "      <td>4.619696</td>\n",
       "      <td>1.734979</td>\n",
       "      <td>72.326507</td>\n",
       "    </tr>\n",
       "    <tr>\n",
       "      <td>min</td>\n",
       "      <td>17.000000</td>\n",
       "      <td>0.000000</td>\n",
       "      <td>1.000000</td>\n",
       "      <td>0.000000</td>\n",
       "      <td>0.000000</td>\n",
       "      <td>-3.400000</td>\n",
       "      <td>92.201000</td>\n",
       "      <td>-50.800000</td>\n",
       "      <td>0.634000</td>\n",
       "      <td>4963.600000</td>\n",
       "    </tr>\n",
       "    <tr>\n",
       "      <td>25%</td>\n",
       "      <td>32.000000</td>\n",
       "      <td>102.000000</td>\n",
       "      <td>1.000000</td>\n",
       "      <td>999.000000</td>\n",
       "      <td>0.000000</td>\n",
       "      <td>-1.800000</td>\n",
       "      <td>93.075000</td>\n",
       "      <td>-42.700000</td>\n",
       "      <td>1.344000</td>\n",
       "      <td>5099.100000</td>\n",
       "    </tr>\n",
       "    <tr>\n",
       "      <td>50%</td>\n",
       "      <td>38.000000</td>\n",
       "      <td>180.000000</td>\n",
       "      <td>2.000000</td>\n",
       "      <td>999.000000</td>\n",
       "      <td>0.000000</td>\n",
       "      <td>1.100000</td>\n",
       "      <td>93.749000</td>\n",
       "      <td>-41.800000</td>\n",
       "      <td>4.857000</td>\n",
       "      <td>5191.000000</td>\n",
       "    </tr>\n",
       "    <tr>\n",
       "      <td>75%</td>\n",
       "      <td>47.000000</td>\n",
       "      <td>319.000000</td>\n",
       "      <td>3.000000</td>\n",
       "      <td>999.000000</td>\n",
       "      <td>0.000000</td>\n",
       "      <td>1.400000</td>\n",
       "      <td>93.994000</td>\n",
       "      <td>-36.400000</td>\n",
       "      <td>4.961000</td>\n",
       "      <td>5228.100000</td>\n",
       "    </tr>\n",
       "    <tr>\n",
       "      <td>max</td>\n",
       "      <td>98.000000</td>\n",
       "      <td>4918.000000</td>\n",
       "      <td>56.000000</td>\n",
       "      <td>999.000000</td>\n",
       "      <td>7.000000</td>\n",
       "      <td>1.400000</td>\n",
       "      <td>94.767000</td>\n",
       "      <td>-26.900000</td>\n",
       "      <td>5.045000</td>\n",
       "      <td>5228.100000</td>\n",
       "    </tr>\n",
       "  </tbody>\n",
       "</table>\n",
       "</div>"
      ],
      "text/plain": [
       "                age      duration      campaign         pdays      previous  \\\n",
       "count  37069.000000  37069.000000  37069.000000  37069.000000  37069.000000   \n",
       "mean      40.010440    258.504627      2.572959    962.382962      0.173460   \n",
       "std       10.409739    259.806298      2.779804    187.134790      0.496145   \n",
       "min       17.000000      0.000000      1.000000      0.000000      0.000000   \n",
       "25%       32.000000    102.000000      1.000000    999.000000      0.000000   \n",
       "50%       38.000000    180.000000      2.000000    999.000000      0.000000   \n",
       "75%       47.000000    319.000000      3.000000    999.000000      0.000000   \n",
       "max       98.000000   4918.000000     56.000000    999.000000      7.000000   \n",
       "\n",
       "       emp.var.rate  cons.price.idx  cons.conf.idx     euribor3m   nr.employed  \n",
       "count  37069.000000    37069.000000   37069.000000  37069.000000  37069.000000  \n",
       "mean       0.082918       93.576450     -40.505287      3.621223   5167.032108  \n",
       "std        1.570596        0.578924       4.619696      1.734979     72.326507  \n",
       "min       -3.400000       92.201000     -50.800000      0.634000   4963.600000  \n",
       "25%       -1.800000       93.075000     -42.700000      1.344000   5099.100000  \n",
       "50%        1.100000       93.749000     -41.800000      4.857000   5191.000000  \n",
       "75%        1.400000       93.994000     -36.400000      4.961000   5228.100000  \n",
       "max        1.400000       94.767000     -26.900000      5.045000   5228.100000  "
      ]
     },
     "execution_count": 16,
     "metadata": {},
     "output_type": "execute_result"
    }
   ],
   "source": [
    "df.describe()"
   ]
  },
  {
   "cell_type": "markdown",
   "metadata": {},
   "source": [
    "Based on the table, there do not appear to be any placeholder values in the numerical features with the exception of 999 in the `pdays` attribute,  used to to denote customers who were not previously contacted.\n",
    "\n",
    "Let us look at `pdays` in further detail, to see how we should treat this attribute."
   ]
  },
  {
   "cell_type": "code",
   "execution_count": 17,
   "metadata": {
    "scrolled": true
   },
   "outputs": [
    {
     "data": {
      "text/plain": [
       "999    0.963123\n",
       "3      0.010845\n",
       "6      0.009900\n",
       "4      0.002698\n",
       "9      0.001565\n",
       "Name: pdays, dtype: float64"
      ]
     },
     "execution_count": 17,
     "metadata": {},
     "output_type": "execute_result"
    }
   ],
   "source": [
    "# Get value counts for pdays\n",
    "df['pdays'].value_counts(normalize = True).sort_values(ascending = False)[:5]"
   ]
  },
  {
   "cell_type": "markdown",
   "metadata": {},
   "source": [
    "With 96% of entries in the `pdays` attribute being the placeholder value `999`, and the existence of attribute `previous` which contains the information whether a customer was previously contacted and how many times, it makes sense to drop this feature."
   ]
  },
  {
   "cell_type": "code",
   "execution_count": 18,
   "metadata": {
    "scrolled": true
   },
   "outputs": [],
   "source": [
    "# Drop pdays feature\n",
    "df = df.drop('pdays', axis = 1)"
   ]
  },
  {
   "cell_type": "markdown",
   "metadata": {},
   "source": [
    "Let us now look at categorical features by inspecting value counts."
   ]
  },
  {
   "cell_type": "code",
   "execution_count": 19,
   "metadata": {
    "scrolled": true
   },
   "outputs": [
    {
     "name": "stdout",
     "output_type": "stream",
     "text": [
      "Feature: job \n",
      "admin.           0.252583\n",
      "blue-collar      0.225040\n",
      "technician       0.163452\n",
      "services         0.095983\n",
      "management       0.071138\n",
      "retired          0.041841\n",
      "entrepreneur     0.035555\n",
      "self-employed    0.034233\n",
      "housemaid        0.026167\n",
      "unemployed       0.024630\n",
      "student          0.021339\n",
      "unknown          0.008039\n",
      "Name: job, dtype: float64 \n",
      "\n",
      "Feature: marital \n",
      "married     0.606383\n",
      "single      0.280396\n",
      "divorced    0.111387\n",
      "unknown     0.001834\n",
      "Name: marital, dtype: float64 \n",
      "\n",
      "Feature: education \n",
      "university.degree      0.295665\n",
      "high.school            0.230975\n",
      "basic.9y               0.146726\n",
      "professional.course    0.126683\n",
      "basic.4y               0.101648\n",
      "basic.6y               0.056112\n",
      "unknown                0.041760\n",
      "illiterate             0.000432\n",
      "Name: education, dtype: float64 \n",
      "\n",
      "Feature: default \n",
      "no         0.790796\n",
      "unknown    0.209124\n",
      "yes        0.000081\n",
      "Name: default, dtype: float64 \n",
      "\n",
      "Feature: housing \n",
      "yes        0.523942\n",
      "no         0.451833\n",
      "unknown    0.024225\n",
      "Name: housing, dtype: float64 \n",
      "\n",
      "Feature: loan \n",
      "no         0.823383\n",
      "yes        0.152391\n",
      "unknown    0.024225\n",
      "Name: loan, dtype: float64 \n",
      "\n",
      "Feature: contact \n",
      "cellular     0.634735\n",
      "telephone    0.365265\n",
      "Name: contact, dtype: float64 \n",
      "\n",
      "Feature: month \n",
      "may    0.334134\n",
      "jul    0.175079\n",
      "aug    0.150503\n",
      "jun    0.129057\n",
      "nov    0.099382\n",
      "apr    0.063800\n",
      "oct    0.016753\n",
      "sep    0.014136\n",
      "mar    0.012679\n",
      "dec    0.004478\n",
      "Name: month, dtype: float64 \n",
      "\n",
      "Feature: day_of_week \n",
      "thu    0.209339\n",
      "mon    0.206183\n",
      "wed    0.198036\n",
      "tue    0.197119\n",
      "fri    0.189323\n",
      "Name: day_of_week, dtype: float64 \n",
      "\n",
      "Feature: poutcome \n",
      "nonexistent    0.86312\n",
      "failure        0.10351\n",
      "success        0.03337\n",
      "Name: poutcome, dtype: float64 \n",
      "\n",
      "Feature: y \n",
      "no     0.887345\n",
      "yes    0.112655\n",
      "Name: y, dtype: float64 \n",
      "\n"
     ]
    }
   ],
   "source": [
    "# Get categorical column list\n",
    "cat_cols = df.select_dtypes(include = object).columns\n",
    "\n",
    "# Print normalized value counts for categorical columns\n",
    "for col in cat_cols:\n",
    "    print(f\"Feature: {col} \\n{df[col].value_counts(normalize = True)} \\n\")"
   ]
  },
  {
   "cell_type": "markdown",
   "metadata": {},
   "source": [
    "We see that there are `unknown` values in features `job`, `marital`, `education`, `default`, `housing` and `loan`, which we may want to address."
   ]
  },
  {
   "cell_type": "markdown",
   "metadata": {},
   "source": [
    "**job**"
   ]
  },
  {
   "cell_type": "markdown",
   "metadata": {},
   "source": [
    "There is no dominating feature so our choices are to either keep `unknown` or drop the rows with missing data, which represent 0.8% of our dataset. We have selected to keep the `unknown` values as such for now but when preparing the data for modelling, we will replace it using the distance-based imputation method k-Nearest Neighbors Imputer."
   ]
  },
  {
   "cell_type": "markdown",
   "metadata": {},
   "source": [
    "**marital**"
   ]
  },
  {
   "cell_type": "markdown",
   "metadata": {},
   "source": [
    "The `unknown` values represent 0.2% of our dataset. We choose to replace the `unknown` values with the mode of the feature, which is `married` (60% of values.)"
   ]
  },
  {
   "cell_type": "markdown",
   "metadata": {},
   "source": [
    "**education**"
   ]
  },
  {
   "cell_type": "markdown",
   "metadata": {},
   "source": [
    "Similar to job, there is no dominating feature and so our choices are either to keep `unknown` or drop the rows with missing data, which represent 4% of our dataset. As this is a higher proportion, we will choose to keep `unknown` entries for now, but will impute using the k-Nearest Neighbors Imputer when we prepare the data for modelling."
   ]
  },
  {
   "cell_type": "markdown",
   "metadata": {},
   "source": [
    "**default**"
   ]
  },
  {
   "cell_type": "markdown",
   "metadata": {},
   "source": [
    "The `unknown` values represent 0.008% of the dataset. We choose to replace the `unknown` values with the mode of the feature, which is `no` (79% of features)."
   ]
  },
  {
   "cell_type": "markdown",
   "metadata": {},
   "source": [
    "**housing**"
   ]
  },
  {
   "cell_type": "markdown",
   "metadata": {},
   "source": [
    "This binary column is split evenly as such our choices are either to keep `unknown` or drop the rows with missing data, which represent 2.4% of the dataset. We will choose to keep `unknown` entries for now  but will impute using the k-Nearest Neighbors Imputer when we prepare the data for modelling."
   ]
  },
  {
   "cell_type": "markdown",
   "metadata": {},
   "source": [
    "**loan**"
   ]
  },
  {
   "cell_type": "markdown",
   "metadata": {},
   "source": [
    "With 82% of the entries having value `no` and 2.4% of entries having value `unknown`, we think it best to replace the unknown values with no.\n",
    "\n",
    "Let us apply these changes to our DataFrame."
   ]
  },
  {
   "cell_type": "code",
   "execution_count": 20,
   "metadata": {
    "scrolled": true
   },
   "outputs": [],
   "source": [
    "# Cols in which to replace `unknown` with mode\n",
    "cols_unknown = ['marital', 'default', 'loan']\n",
    "\n",
    "# Replace unknown with None and drop using dropna()\n",
    "for col in cols_unknown:\n",
    "    df[col] = df[col].replace('unknown', None)\n",
    "    df[col] = df[col].fillna(df[col].mode())"
   ]
  },
  {
   "cell_type": "code",
   "execution_count": 21,
   "metadata": {
    "scrolled": true
   },
   "outputs": [
    {
     "data": {
      "text/plain": [
       "no     31280\n",
       "yes     5789\n",
       "Name: loan, dtype: int64"
      ]
     },
     "execution_count": 21,
     "metadata": {},
     "output_type": "execute_result"
    }
   ],
   "source": [
    "df['loan'].value_counts()"
   ]
  },
  {
   "cell_type": "markdown",
   "metadata": {},
   "source": [
    "### Clean Syntax"
   ]
  },
  {
   "cell_type": "markdown",
   "metadata": {},
   "source": [
    "We see that certain column names have a dot in the name, which we will replace with underscore. Similarly, certain values in the `education` column have a dot which we will also replace with underscore. Finally, the we will remove the dot for entries with `admin.` value in the `job` column."
   ]
  },
  {
   "cell_type": "code",
   "execution_count": 22,
   "metadata": {
    "scrolled": true
   },
   "outputs": [],
   "source": [
    "# Clean column names\n",
    "df.columns = df.columns.str.replace('.', '_')\n",
    "\n",
    "# Clean values in education\n",
    "df['education'] = df['education'].str.replace('.', '_')\n",
    "\n",
    "# Clean values in job\n",
    "df['job'] = df['job'].str.replace('.','')"
   ]
  },
  {
   "cell_type": "markdown",
   "metadata": {},
   "source": [
    "### Explore Duplicates"
   ]
  },
  {
   "cell_type": "markdown",
   "metadata": {},
   "source": [
    "Let us check whether our data has any duplicate entries."
   ]
  },
  {
   "cell_type": "code",
   "execution_count": 23,
   "metadata": {
    "scrolled": true
   },
   "outputs": [
    {
     "data": {
      "text/html": [
       "<div>\n",
       "<style scoped>\n",
       "    .dataframe tbody tr th:only-of-type {\n",
       "        vertical-align: middle;\n",
       "    }\n",
       "\n",
       "    .dataframe tbody tr th {\n",
       "        vertical-align: top;\n",
       "    }\n",
       "\n",
       "    .dataframe thead th {\n",
       "        text-align: right;\n",
       "    }\n",
       "</style>\n",
       "<table border=\"1\" class=\"dataframe\">\n",
       "  <thead>\n",
       "    <tr style=\"text-align: right;\">\n",
       "      <th></th>\n",
       "      <th>age</th>\n",
       "      <th>job</th>\n",
       "      <th>marital</th>\n",
       "      <th>education</th>\n",
       "      <th>default</th>\n",
       "      <th>housing</th>\n",
       "      <th>loan</th>\n",
       "      <th>contact</th>\n",
       "      <th>month</th>\n",
       "      <th>day_of_week</th>\n",
       "      <th>duration</th>\n",
       "      <th>campaign</th>\n",
       "      <th>previous</th>\n",
       "      <th>poutcome</th>\n",
       "      <th>emp_var_rate</th>\n",
       "      <th>cons_price_idx</th>\n",
       "      <th>cons_conf_idx</th>\n",
       "      <th>euribor3m</th>\n",
       "      <th>nr_employed</th>\n",
       "      <th>y</th>\n",
       "    </tr>\n",
       "  </thead>\n",
       "  <tbody>\n",
       "    <tr>\n",
       "      <td>6917</td>\n",
       "      <td>39</td>\n",
       "      <td>blue-collar</td>\n",
       "      <td>married</td>\n",
       "      <td>basic_6y</td>\n",
       "      <td>no</td>\n",
       "      <td>no</td>\n",
       "      <td>no</td>\n",
       "      <td>telephone</td>\n",
       "      <td>may</td>\n",
       "      <td>thu</td>\n",
       "      <td>124</td>\n",
       "      <td>1</td>\n",
       "      <td>0</td>\n",
       "      <td>nonexistent</td>\n",
       "      <td>1.1</td>\n",
       "      <td>93.994</td>\n",
       "      <td>-36.4</td>\n",
       "      <td>4.855</td>\n",
       "      <td>5191.0</td>\n",
       "      <td>no</td>\n",
       "    </tr>\n",
       "    <tr>\n",
       "      <td>9049</td>\n",
       "      <td>33</td>\n",
       "      <td>admin</td>\n",
       "      <td>married</td>\n",
       "      <td>university_degree</td>\n",
       "      <td>no</td>\n",
       "      <td>yes</td>\n",
       "      <td>no</td>\n",
       "      <td>cellular</td>\n",
       "      <td>aug</td>\n",
       "      <td>thu</td>\n",
       "      <td>59</td>\n",
       "      <td>1</td>\n",
       "      <td>0</td>\n",
       "      <td>nonexistent</td>\n",
       "      <td>1.4</td>\n",
       "      <td>93.444</td>\n",
       "      <td>-36.1</td>\n",
       "      <td>4.968</td>\n",
       "      <td>5228.1</td>\n",
       "      <td>no</td>\n",
       "    </tr>\n",
       "    <tr>\n",
       "      <td>22062</td>\n",
       "      <td>39</td>\n",
       "      <td>admin</td>\n",
       "      <td>married</td>\n",
       "      <td>university_degree</td>\n",
       "      <td>no</td>\n",
       "      <td>no</td>\n",
       "      <td>no</td>\n",
       "      <td>cellular</td>\n",
       "      <td>nov</td>\n",
       "      <td>tue</td>\n",
       "      <td>123</td>\n",
       "      <td>2</td>\n",
       "      <td>0</td>\n",
       "      <td>nonexistent</td>\n",
       "      <td>-0.1</td>\n",
       "      <td>93.200</td>\n",
       "      <td>-42.0</td>\n",
       "      <td>4.153</td>\n",
       "      <td>5195.8</td>\n",
       "      <td>no</td>\n",
       "    </tr>\n",
       "    <tr>\n",
       "      <td>23171</td>\n",
       "      <td>35</td>\n",
       "      <td>admin</td>\n",
       "      <td>married</td>\n",
       "      <td>university_degree</td>\n",
       "      <td>no</td>\n",
       "      <td>yes</td>\n",
       "      <td>no</td>\n",
       "      <td>cellular</td>\n",
       "      <td>may</td>\n",
       "      <td>fri</td>\n",
       "      <td>348</td>\n",
       "      <td>4</td>\n",
       "      <td>0</td>\n",
       "      <td>nonexistent</td>\n",
       "      <td>-1.8</td>\n",
       "      <td>92.893</td>\n",
       "      <td>-46.2</td>\n",
       "      <td>1.313</td>\n",
       "      <td>5099.1</td>\n",
       "      <td>no</td>\n",
       "    </tr>\n",
       "    <tr>\n",
       "      <td>24779</td>\n",
       "      <td>45</td>\n",
       "      <td>admin</td>\n",
       "      <td>married</td>\n",
       "      <td>university_degree</td>\n",
       "      <td>no</td>\n",
       "      <td>no</td>\n",
       "      <td>no</td>\n",
       "      <td>cellular</td>\n",
       "      <td>jul</td>\n",
       "      <td>thu</td>\n",
       "      <td>252</td>\n",
       "      <td>1</td>\n",
       "      <td>0</td>\n",
       "      <td>nonexistent</td>\n",
       "      <td>-2.9</td>\n",
       "      <td>92.469</td>\n",
       "      <td>-33.6</td>\n",
       "      <td>1.072</td>\n",
       "      <td>5076.2</td>\n",
       "      <td>yes</td>\n",
       "    </tr>\n",
       "    <tr>\n",
       "      <td>29198</td>\n",
       "      <td>24</td>\n",
       "      <td>services</td>\n",
       "      <td>single</td>\n",
       "      <td>high_school</td>\n",
       "      <td>no</td>\n",
       "      <td>yes</td>\n",
       "      <td>no</td>\n",
       "      <td>cellular</td>\n",
       "      <td>apr</td>\n",
       "      <td>tue</td>\n",
       "      <td>114</td>\n",
       "      <td>1</td>\n",
       "      <td>0</td>\n",
       "      <td>nonexistent</td>\n",
       "      <td>-1.8</td>\n",
       "      <td>93.075</td>\n",
       "      <td>-47.1</td>\n",
       "      <td>1.423</td>\n",
       "      <td>5099.1</td>\n",
       "      <td>no</td>\n",
       "    </tr>\n",
       "    <tr>\n",
       "      <td>29739</td>\n",
       "      <td>32</td>\n",
       "      <td>technician</td>\n",
       "      <td>single</td>\n",
       "      <td>professional_course</td>\n",
       "      <td>no</td>\n",
       "      <td>yes</td>\n",
       "      <td>no</td>\n",
       "      <td>cellular</td>\n",
       "      <td>jul</td>\n",
       "      <td>thu</td>\n",
       "      <td>128</td>\n",
       "      <td>1</td>\n",
       "      <td>0</td>\n",
       "      <td>nonexistent</td>\n",
       "      <td>1.4</td>\n",
       "      <td>93.918</td>\n",
       "      <td>-42.7</td>\n",
       "      <td>4.968</td>\n",
       "      <td>5228.1</td>\n",
       "      <td>no</td>\n",
       "    </tr>\n",
       "    <tr>\n",
       "      <td>29807</td>\n",
       "      <td>56</td>\n",
       "      <td>blue-collar</td>\n",
       "      <td>married</td>\n",
       "      <td>basic_4y</td>\n",
       "      <td>no</td>\n",
       "      <td>no</td>\n",
       "      <td>no</td>\n",
       "      <td>telephone</td>\n",
       "      <td>may</td>\n",
       "      <td>mon</td>\n",
       "      <td>136</td>\n",
       "      <td>1</td>\n",
       "      <td>0</td>\n",
       "      <td>nonexistent</td>\n",
       "      <td>1.1</td>\n",
       "      <td>93.994</td>\n",
       "      <td>-36.4</td>\n",
       "      <td>4.857</td>\n",
       "      <td>5191.0</td>\n",
       "      <td>no</td>\n",
       "    </tr>\n",
       "    <tr>\n",
       "      <td>33178</td>\n",
       "      <td>36</td>\n",
       "      <td>retired</td>\n",
       "      <td>married</td>\n",
       "      <td>unknown</td>\n",
       "      <td>no</td>\n",
       "      <td>no</td>\n",
       "      <td>no</td>\n",
       "      <td>telephone</td>\n",
       "      <td>jul</td>\n",
       "      <td>thu</td>\n",
       "      <td>88</td>\n",
       "      <td>1</td>\n",
       "      <td>0</td>\n",
       "      <td>nonexistent</td>\n",
       "      <td>1.4</td>\n",
       "      <td>93.918</td>\n",
       "      <td>-42.7</td>\n",
       "      <td>4.966</td>\n",
       "      <td>5228.1</td>\n",
       "      <td>no</td>\n",
       "    </tr>\n",
       "    <tr>\n",
       "      <td>33953</td>\n",
       "      <td>41</td>\n",
       "      <td>technician</td>\n",
       "      <td>married</td>\n",
       "      <td>professional_course</td>\n",
       "      <td>no</td>\n",
       "      <td>yes</td>\n",
       "      <td>no</td>\n",
       "      <td>cellular</td>\n",
       "      <td>aug</td>\n",
       "      <td>tue</td>\n",
       "      <td>127</td>\n",
       "      <td>1</td>\n",
       "      <td>0</td>\n",
       "      <td>nonexistent</td>\n",
       "      <td>1.4</td>\n",
       "      <td>93.444</td>\n",
       "      <td>-36.1</td>\n",
       "      <td>4.966</td>\n",
       "      <td>5228.1</td>\n",
       "      <td>no</td>\n",
       "    </tr>\n",
       "    <tr>\n",
       "      <td>37039</td>\n",
       "      <td>47</td>\n",
       "      <td>technician</td>\n",
       "      <td>divorced</td>\n",
       "      <td>high_school</td>\n",
       "      <td>no</td>\n",
       "      <td>yes</td>\n",
       "      <td>no</td>\n",
       "      <td>cellular</td>\n",
       "      <td>jul</td>\n",
       "      <td>thu</td>\n",
       "      <td>43</td>\n",
       "      <td>3</td>\n",
       "      <td>0</td>\n",
       "      <td>nonexistent</td>\n",
       "      <td>1.4</td>\n",
       "      <td>93.918</td>\n",
       "      <td>-42.7</td>\n",
       "      <td>4.962</td>\n",
       "      <td>5228.1</td>\n",
       "      <td>no</td>\n",
       "    </tr>\n",
       "  </tbody>\n",
       "</table>\n",
       "</div>"
      ],
      "text/plain": [
       "       age          job   marital            education default housing loan  \\\n",
       "6917    39  blue-collar   married             basic_6y      no      no   no   \n",
       "9049    33        admin   married    university_degree      no     yes   no   \n",
       "22062   39        admin   married    university_degree      no      no   no   \n",
       "23171   35        admin   married    university_degree      no     yes   no   \n",
       "24779   45        admin   married    university_degree      no      no   no   \n",
       "29198   24     services    single          high_school      no     yes   no   \n",
       "29739   32   technician    single  professional_course      no     yes   no   \n",
       "29807   56  blue-collar   married             basic_4y      no      no   no   \n",
       "33178   36      retired   married              unknown      no      no   no   \n",
       "33953   41   technician   married  professional_course      no     yes   no   \n",
       "37039   47   technician  divorced          high_school      no     yes   no   \n",
       "\n",
       "         contact month day_of_week  duration  campaign  previous     poutcome  \\\n",
       "6917   telephone   may         thu       124         1         0  nonexistent   \n",
       "9049    cellular   aug         thu        59         1         0  nonexistent   \n",
       "22062   cellular   nov         tue       123         2         0  nonexistent   \n",
       "23171   cellular   may         fri       348         4         0  nonexistent   \n",
       "24779   cellular   jul         thu       252         1         0  nonexistent   \n",
       "29198   cellular   apr         tue       114         1         0  nonexistent   \n",
       "29739   cellular   jul         thu       128         1         0  nonexistent   \n",
       "29807  telephone   may         mon       136         1         0  nonexistent   \n",
       "33178  telephone   jul         thu        88         1         0  nonexistent   \n",
       "33953   cellular   aug         tue       127         1         0  nonexistent   \n",
       "37039   cellular   jul         thu        43         3         0  nonexistent   \n",
       "\n",
       "       emp_var_rate  cons_price_idx  cons_conf_idx  euribor3m  nr_employed  \\\n",
       "6917            1.1          93.994          -36.4      4.855       5191.0   \n",
       "9049            1.4          93.444          -36.1      4.968       5228.1   \n",
       "22062          -0.1          93.200          -42.0      4.153       5195.8   \n",
       "23171          -1.8          92.893          -46.2      1.313       5099.1   \n",
       "24779          -2.9          92.469          -33.6      1.072       5076.2   \n",
       "29198          -1.8          93.075          -47.1      1.423       5099.1   \n",
       "29739           1.4          93.918          -42.7      4.968       5228.1   \n",
       "29807           1.1          93.994          -36.4      4.857       5191.0   \n",
       "33178           1.4          93.918          -42.7      4.966       5228.1   \n",
       "33953           1.4          93.444          -36.1      4.966       5228.1   \n",
       "37039           1.4          93.918          -42.7      4.962       5228.1   \n",
       "\n",
       "         y  \n",
       "6917    no  \n",
       "9049    no  \n",
       "22062   no  \n",
       "23171   no  \n",
       "24779  yes  \n",
       "29198   no  \n",
       "29739   no  \n",
       "29807   no  \n",
       "33178   no  \n",
       "33953   no  \n",
       "37039   no  "
      ]
     },
     "execution_count": 23,
     "metadata": {},
     "output_type": "execute_result"
    }
   ],
   "source": [
    "# Get duplicates\n",
    "df[df.duplicated()]"
   ]
  },
  {
   "cell_type": "markdown",
   "metadata": {},
   "source": [
    "There appear to be 9 rows with exactly the same entries. However with the absence of a unique identifier (say a customer ID) it could very well be that these do indeed represent different customers.\n",
    "\n",
    "Due to the small number of such entries, we will keep them as such. However it is worth informing our stakeholders that it would be preferable for the data to include a unique identifier."
   ]
  },
  {
   "cell_type": "markdown",
   "metadata": {},
   "source": [
    "## Explore and Visualise Data"
   ]
  },
  {
   "cell_type": "markdown",
   "metadata": {},
   "source": [
    "### Target Variable"
   ]
  },
  {
   "cell_type": "markdown",
   "metadata": {},
   "source": [
    "Let us begin by visualising the distribution of our target variable `y`, whether the customer subscribed to a term deposit."
   ]
  },
  {
   "cell_type": "code",
   "execution_count": 24,
   "metadata": {
    "scrolled": false
   },
   "outputs": [
    {
     "data": {
      "image/png": "[encoded data removed]",
      "text/plain": [
       "<Figure size 504x360 with 1 Axes>"
      ]
     },
     "metadata": {
      "needs_background": "light"
     },
     "output_type": "display_data"
    }
   ],
   "source": [
    "# Plot distribution of y\n",
    "plt.figure(figsize = (7,5))\n",
    "sns.countplot(df['y'], palette = chosen_palette)\n",
    "plt.xlabel('Term Deposit Subscription')\n",
    "plt.title('Distribution of Target Variable')\n",
    "plt.show()"
   ]
  },
  {
   "cell_type": "code",
   "execution_count": 25,
   "metadata": {
    "scrolled": true
   },
   "outputs": [
    {
     "data": {
      "text/plain": [
       "no     0.887345\n",
       "yes    0.112655\n",
       "Name: y, dtype: float64"
      ]
     },
     "execution_count": 25,
     "metadata": {},
     "output_type": "execute_result"
    }
   ],
   "source": [
    "df['y'].value_counts(normalize = True)"
   ]
  },
  {
   "cell_type": "markdown",
   "metadata": {},
   "source": [
    "We immediately notice that we are dealing with imbalanced classes, with 88% of the entries representing data for a customer who did not subscribe to the term deposit. \n",
    "\n",
    "We will need to account for this imbalance or our model may be biased towards the majority class. We will also need to carefully select our evaluation metric to based on the business scenario. This is discussed in section X."
   ]
  },
  {
   "cell_type": "markdown",
   "metadata": {},
   "source": [
    "### Features"
   ]
  },
  {
   "cell_type": "markdown",
   "metadata": {},
   "source": [
    "Let's investigate our features. We have a mix of numerical and categorical features to examine."
   ]
  },
  {
   "cell_type": "markdown",
   "metadata": {},
   "source": [
    "We begin by visualising numerical attributes via histograms."
   ]
  },
  {
   "cell_type": "code",
   "execution_count": 26,
   "metadata": {
    "scrolled": true
   },
   "outputs": [
    {
     "data": {
      "image/png": "[encoded data removed]",
      "text/plain": [
       "<Figure size 1080x720 with 9 Axes>"
      ]
     },
     "metadata": {
      "needs_background": "light"
     },
     "output_type": "display_data"
    }
   ],
   "source": [
    "# Plot histograms\n",
    "df.hist(figsize = (15,10))\n",
    "plt.show()"
   ]
  },
  {
   "cell_type": "markdown",
   "metadata": {},
   "source": [
    "Let us visualize **categorical** attributes using barplots. We will distinguish between `yes` or `no` values of our target variable to get an initial idea of which attributes might have the biggest impact on whether a customer will subscribe to a term deposit."
   ]
  },
  {
   "cell_type": "code",
   "execution_count": 27,
   "metadata": {
    "scrolled": true
   },
   "outputs": [
    {
     "data": {
      "image/png": "[encoded data removed]",
      "text/plain": [
       "<Figure size 1440x2880 with 10 Axes>"
      ]
     },
     "metadata": {
      "needs_background": "light"
     },
     "output_type": "display_data"
    }
   ],
   "source": [
    "# Define cat feats as catcols less last item y\n",
    "cat_feats = list(cat_cols)[:-1]\n",
    "\n",
    "# Create barplot of categorical features with hue target variable\n",
    "\n",
    "fig, axes = plt.subplots(5,2, figsize = (20,40))\n",
    "\n",
    "for c, col in enumerate(cat_feats):\n",
    "    ax_x = c // 2\n",
    "    ax_y = c % 2\n",
    "    sns.countplot(y = df[col], orient = 'h', hue = df['y'], palette = chosen_palette, ax = axes[ax_x, ax_y])\n",
    "    \n",
    "    axes[ax_x, ax_y].set_title(f'Feature: {col}')\n",
    "    axes[ax_x, ax_y].set_ylabel(None) \n",
    "    axes[ax_x, ax_y].set_xlabel(None) \n",
    "    axes[ax_x, ax_y].legend(title = \"Subscribed\", loc = 'lower right') \n",
    "plt.show()"
   ]
  },
  {
   "cell_type": "markdown",
   "metadata": {},
   "source": [
    "Due to the class imbalance, it is difficult to see which attributes have the highest impact on the target variable. \n",
    "\n",
    "For instance, when looking at `job`, we just see fewer `yes` observations for every type of `job`. Let us try and improve on this, by looking at the `rate` of subscribers for each job category. Once we have a more useful visualization, we will extend to the other categorical variables."
   ]
  },
  {
   "cell_type": "code",
   "execution_count": 28,
   "metadata": {
    "scrolled": true
   },
   "outputs": [
    {
     "data": {
      "text/html": [
       "<div>\n",
       "<style scoped>\n",
       "    .dataframe tbody tr th:only-of-type {\n",
       "        vertical-align: middle;\n",
       "    }\n",
       "\n",
       "    .dataframe tbody tr th {\n",
       "        vertical-align: top;\n",
       "    }\n",
       "\n",
       "    .dataframe thead th {\n",
       "        text-align: right;\n",
       "    }\n",
       "</style>\n",
       "<table border=\"1\" class=\"dataframe\">\n",
       "  <thead>\n",
       "    <tr style=\"text-align: right;\">\n",
       "      <th>y</th>\n",
       "      <th>no</th>\n",
       "      <th>yes</th>\n",
       "    </tr>\n",
       "    <tr>\n",
       "      <th>job</th>\n",
       "      <th></th>\n",
       "      <th></th>\n",
       "    </tr>\n",
       "  </thead>\n",
       "  <tbody>\n",
       "    <tr>\n",
       "      <td>admin</td>\n",
       "      <td>8150</td>\n",
       "      <td>1213</td>\n",
       "    </tr>\n",
       "    <tr>\n",
       "      <td>blue-collar</td>\n",
       "      <td>7773</td>\n",
       "      <td>569</td>\n",
       "    </tr>\n",
       "    <tr>\n",
       "      <td>entrepreneur</td>\n",
       "      <td>1202</td>\n",
       "      <td>116</td>\n",
       "    </tr>\n",
       "    <tr>\n",
       "      <td>housemaid</td>\n",
       "      <td>876</td>\n",
       "      <td>94</td>\n",
       "    </tr>\n",
       "    <tr>\n",
       "      <td>management</td>\n",
       "      <td>2338</td>\n",
       "      <td>299</td>\n",
       "    </tr>\n",
       "    <tr>\n",
       "      <td>retired</td>\n",
       "      <td>1161</td>\n",
       "      <td>390</td>\n",
       "    </tr>\n",
       "    <tr>\n",
       "      <td>self-employed</td>\n",
       "      <td>1136</td>\n",
       "      <td>133</td>\n",
       "    </tr>\n",
       "    <tr>\n",
       "      <td>services</td>\n",
       "      <td>3266</td>\n",
       "      <td>292</td>\n",
       "    </tr>\n",
       "    <tr>\n",
       "      <td>student</td>\n",
       "      <td>538</td>\n",
       "      <td>253</td>\n",
       "    </tr>\n",
       "    <tr>\n",
       "      <td>technician</td>\n",
       "      <td>5408</td>\n",
       "      <td>651</td>\n",
       "    </tr>\n",
       "    <tr>\n",
       "      <td>unemployed</td>\n",
       "      <td>783</td>\n",
       "      <td>130</td>\n",
       "    </tr>\n",
       "    <tr>\n",
       "      <td>unknown</td>\n",
       "      <td>262</td>\n",
       "      <td>36</td>\n",
       "    </tr>\n",
       "  </tbody>\n",
       "</table>\n",
       "</div>"
      ],
      "text/plain": [
       "y                no   yes\n",
       "job                      \n",
       "admin          8150  1213\n",
       "blue-collar    7773   569\n",
       "entrepreneur   1202   116\n",
       "housemaid       876    94\n",
       "management     2338   299\n",
       "retired        1161   390\n",
       "self-employed  1136   133\n",
       "services       3266   292\n",
       "student         538   253\n",
       "technician     5408   651\n",
       "unemployed      783   130\n",
       "unknown         262    36"
      ]
     },
     "execution_count": 28,
     "metadata": {},
     "output_type": "execute_result"
    }
   ],
   "source": [
    "# Establish counts of subscribers based on job using grouby\n",
    "counts = df[['job', 'y']].groupby(['job','y']).size().unstack()\n",
    "counts"
   ]
  },
  {
   "cell_type": "code",
   "execution_count": 29,
   "metadata": {
    "scrolled": true
   },
   "outputs": [
    {
     "data": {
      "text/plain": [
       "job\n",
       "admin            9363\n",
       "blue-collar      8342\n",
       "entrepreneur     1318\n",
       "housemaid         970\n",
       "management       2637\n",
       "retired          1551\n",
       "self-employed    1269\n",
       "services         3558\n",
       "student           791\n",
       "technician       6059\n",
       "unemployed        913\n",
       "unknown           298\n",
       "dtype: int64"
      ]
     },
     "execution_count": 29,
     "metadata": {},
     "output_type": "execute_result"
    }
   ],
   "source": [
    "# Count number of observations for each job category\n",
    "job_counts = counts.sum(axis = 'columns')\n",
    "job_counts"
   ]
  },
  {
   "cell_type": "code",
   "execution_count": 30,
   "metadata": {
    "scrolled": true
   },
   "outputs": [
    {
     "data": {
      "text/html": [
       "<div>\n",
       "<style scoped>\n",
       "    .dataframe tbody tr th:only-of-type {\n",
       "        vertical-align: middle;\n",
       "    }\n",
       "\n",
       "    .dataframe tbody tr th {\n",
       "        vertical-align: top;\n",
       "    }\n",
       "\n",
       "    .dataframe thead th {\n",
       "        text-align: right;\n",
       "    }\n",
       "</style>\n",
       "<table border=\"1\" class=\"dataframe\">\n",
       "  <thead>\n",
       "    <tr style=\"text-align: right;\">\n",
       "      <th>y</th>\n",
       "      <th>no</th>\n",
       "      <th>yes</th>\n",
       "    </tr>\n",
       "    <tr>\n",
       "      <th>job</th>\n",
       "      <th></th>\n",
       "      <th></th>\n",
       "    </tr>\n",
       "  </thead>\n",
       "  <tbody>\n",
       "    <tr>\n",
       "      <td>admin</td>\n",
       "      <td>0.870448</td>\n",
       "      <td>0.129552</td>\n",
       "    </tr>\n",
       "    <tr>\n",
       "      <td>blue-collar</td>\n",
       "      <td>0.931791</td>\n",
       "      <td>0.068209</td>\n",
       "    </tr>\n",
       "    <tr>\n",
       "      <td>entrepreneur</td>\n",
       "      <td>0.911988</td>\n",
       "      <td>0.088012</td>\n",
       "    </tr>\n",
       "    <tr>\n",
       "      <td>housemaid</td>\n",
       "      <td>0.903093</td>\n",
       "      <td>0.096907</td>\n",
       "    </tr>\n",
       "    <tr>\n",
       "      <td>management</td>\n",
       "      <td>0.886614</td>\n",
       "      <td>0.113386</td>\n",
       "    </tr>\n",
       "    <tr>\n",
       "      <td>retired</td>\n",
       "      <td>0.748549</td>\n",
       "      <td>0.251451</td>\n",
       "    </tr>\n",
       "    <tr>\n",
       "      <td>self-employed</td>\n",
       "      <td>0.895193</td>\n",
       "      <td>0.104807</td>\n",
       "    </tr>\n",
       "    <tr>\n",
       "      <td>services</td>\n",
       "      <td>0.917931</td>\n",
       "      <td>0.082069</td>\n",
       "    </tr>\n",
       "    <tr>\n",
       "      <td>student</td>\n",
       "      <td>0.680152</td>\n",
       "      <td>0.319848</td>\n",
       "    </tr>\n",
       "    <tr>\n",
       "      <td>technician</td>\n",
       "      <td>0.892557</td>\n",
       "      <td>0.107443</td>\n",
       "    </tr>\n",
       "    <tr>\n",
       "      <td>unemployed</td>\n",
       "      <td>0.857612</td>\n",
       "      <td>0.142388</td>\n",
       "    </tr>\n",
       "    <tr>\n",
       "      <td>unknown</td>\n",
       "      <td>0.879195</td>\n",
       "      <td>0.120805</td>\n",
       "    </tr>\n",
       "  </tbody>\n",
       "</table>\n",
       "</div>"
      ],
      "text/plain": [
       "y                    no       yes\n",
       "job                              \n",
       "admin          0.870448  0.129552\n",
       "blue-collar    0.931791  0.068209\n",
       "entrepreneur   0.911988  0.088012\n",
       "housemaid      0.903093  0.096907\n",
       "management     0.886614  0.113386\n",
       "retired        0.748549  0.251451\n",
       "self-employed  0.895193  0.104807\n",
       "services       0.917931  0.082069\n",
       "student        0.680152  0.319848\n",
       "technician     0.892557  0.107443\n",
       "unemployed     0.857612  0.142388\n",
       "unknown        0.879195  0.120805"
      ]
     },
     "execution_count": 30,
     "metadata": {},
     "output_type": "execute_result"
    }
   ],
   "source": [
    "# Obtain proportions by dividing by the respective job counts\n",
    "job_props = counts.div(job_counts, axis = 'index')\n",
    "job_props"
   ]
  },
  {
   "cell_type": "markdown",
   "metadata": {},
   "source": [
    "Now that the yes or no subscription rates for each education level add up to 1, we can see that customers who are `students` or `retired` are most likely to subscribe to a term deposit.\n",
    "\n",
    "We can visualize this clearly with a stacked bar chart."
   ]
  },
  {
   "cell_type": "code",
   "execution_count": 31,
   "metadata": {
    "scrolled": true
   },
   "outputs": [
    {
     "data": {
      "image/png": "[encoded data removed]",
      "text/plain": [
       "<Figure size 432x288 with 1 Axes>"
      ]
     },
     "metadata": {
      "needs_background": "light"
     },
     "output_type": "display_data"
    }
   ],
   "source": [
    "# Plot stacked bar chart\n",
    "job_props.plot.barh(stacked = True, colormap = chosen_palette)\n",
    "# Have legend to the side\n",
    "plt.legend(\n",
    "    loc = 'center left',\n",
    "    bbox_to_anchor = (1.05,0.5),\n",
    "    title = 'subscribed')\n",
    "plt.title('Feature: job')\n",
    "plt.ylabel(None)\n",
    "plt.show()"
   ]
  },
  {
   "cell_type": "markdown",
   "metadata": {},
   "source": [
    "Let us define a function to create this plot, so that we can then easily apply it to the other features."
   ]
  },
  {
   "cell_type": "code",
   "execution_count": 32,
   "metadata": {
    "scrolled": true
   },
   "outputs": [],
   "source": [
    "# Define function for stacked barplot\n",
    "\n",
    "def feature_rate_plot(col, target, df, colormap = chosen_palette, ax = None):\n",
    "    \n",
    "    counts = df[[col, target]].groupby([col,target]).size().unstack()\n",
    "    col_counts = counts.sum(axis = 'columns')\n",
    "    col_props = counts.div(col_counts, axis = 'index')\n",
    "    \n",
    "    # Plot stacked bar chart\n",
    "    col_props.plot.barh(stacked = True, colormap = colormap, ax = ax )\n",
    "    \n",
    "    if ax == None:\n",
    "        plt.title(f'Feature: {col}')\n",
    "        plt.legend(\n",
    "            loc = 'center left',\n",
    "            bbox_to_anchor = (1.05,0.5),\n",
    "            title = 'subscribed')\n",
    "        plt.ylabel(None)\n",
    "        \n",
    "    else:\n",
    "        ax.set_title(f'Feature: {col}')\n",
    "        ax.legend().remove()\n",
    "        ax.set_ylabel(None)"
   ]
  },
  {
   "cell_type": "markdown",
   "metadata": {},
   "source": [
    "Let us apply this function to create stacked barplots of all categorical features highlighting the rate of subscription."
   ]
  },
  {
   "cell_type": "code",
   "execution_count": 33,
   "metadata": {
    "scrolled": true
   },
   "outputs": [
    {
     "data": {
      "image/png": "[encoded data removed]",
      "text/plain": [
       "<Figure size 1440x2880 with 10 Axes>"
      ]
     },
     "metadata": {
      "needs_background": "light"
     },
     "output_type": "display_data"
    }
   ],
   "source": [
    "# Create barplot of categorical features with target variable rate\n",
    "\n",
    "fig, axes = plt.subplots(5,2, figsize = (20,40))\n",
    "\n",
    "for c, col in enumerate(cat_feats):\n",
    "    ax_x = c // 2\n",
    "    ax_y = c % 2\n",
    "    feature_rate_plot(col, 'y', df, ax = axes[ax_x, ax_y] )\n",
    "    \n",
    "axes[0, 0].legend(\n",
    "    loc='lower center', bbox_to_anchor=(1.1, 1.05), title='subscribed'\n",
    ")\n",
    "plt.show()"
   ]
  },
  {
   "cell_type": "markdown",
   "metadata": {},
   "source": [
    "From the visualisations, we can see that `poutcome` looks to be a good predictor, with **customers who previously subscribed to a term deposit likely to do so again**. Out of customers who subscribed last time (`poutcome` has value `success`) 65% subscribed again.\n",
    "\n",
    "Also **students** and **retired** customers are more likely to subscribe to a term deposit. This is in line with expectations as they are less likely to need the funds for emergencies and able to manage their outgoings effectively."
   ]
  },
  {
   "cell_type": "markdown",
   "metadata": {},
   "source": [
    "### Analysis of Duration and Campaign Features"
   ]
  },
  {
   "cell_type": "markdown",
   "metadata": {},
   "source": [
    "From the data dictionary we note that `duration` represents the last contact duration, in seconds (numeric). This attribute highly affects the output target (as if duration=0 then the customer definitely did not subscribe to the term deposit and `y` is `no`). Moreover, the duration is not known before a call is performed and after the end of the call `y` is obviously known. Therefore we will examine this variable here but discard it when building a realistic predictive model."
   ]
  },
  {
   "cell_type": "code",
   "execution_count": 34,
   "metadata": {
    "scrolled": true
   },
   "outputs": [
    {
     "data": {
      "text/plain": [
       "count    37069.000000\n",
       "mean       258.504627\n",
       "std        259.806298\n",
       "min          0.000000\n",
       "25%        102.000000\n",
       "50%        180.000000\n",
       "75%        319.000000\n",
       "max       4918.000000\n",
       "Name: duration, dtype: float64"
      ]
     },
     "execution_count": 34,
     "metadata": {},
     "output_type": "execute_result"
    }
   ],
   "source": [
    "# Describe duration feature\n",
    "df['duration'].describe()"
   ]
  },
  {
   "cell_type": "code",
   "execution_count": 35,
   "metadata": {
    "scrolled": false
   },
   "outputs": [
    {
     "data": {
      "image/png": "[encoded data removed]",
      "text/plain": [
       "<Figure size 432x288 with 1 Axes>"
      ]
     },
     "metadata": {
      "needs_background": "light"
     },
     "output_type": "display_data"
    }
   ],
   "source": [
    "# Plot distribution of duration feature\n",
    "df['duration'].hist()\n",
    "plt.title('Distribution of duration feature')\n",
    "plt.xlabel('Duration in seconds')\n",
    "plt.show()"
   ]
  },
  {
   "cell_type": "code",
   "execution_count": 36,
   "metadata": {
    "scrolled": true
   },
   "outputs": [],
   "source": [
    "# Define categorical attribute which maps duration to above and below average\n",
    "df['duration_cat'] = df['duration'].map(lambda x: 'above average' if x > df['duration'].mean() \\\n",
    "                                        else 'below average')"
   ]
  },
  {
   "cell_type": "markdown",
   "metadata": {},
   "source": [
    "We can visualise this attribute using our previously defined `feature_rate_plot` function."
   ]
  },
  {
   "cell_type": "code",
   "execution_count": 37,
   "metadata": {
    "scrolled": false
   },
   "outputs": [
    {
     "data": {
      "image/png": "[encoded data removed]",
      "text/plain": [
       "<Figure size 432x288 with 1 Axes>"
      ]
     },
     "metadata": {
      "needs_background": "light"
     },
     "output_type": "display_data"
    }
   ],
   "source": [
    "# Plot stacked bar chart\n",
    "feature_rate_plot('duration_cat', 'y', df)"
   ]
  },
  {
   "cell_type": "markdown",
   "metadata": {},
   "source": [
    "Let us now focus on customers which did subscribe to the term deposit (target variable `y` is `yes`) and look to analyse the call duration."
   ]
  },
  {
   "cell_type": "code",
   "execution_count": 38,
   "metadata": {
    "scrolled": false
   },
   "outputs": [
    {
     "data": {
      "text/plain": [
       "count    4176.000000\n",
       "mean      553.282807\n",
       "std       402.990684\n",
       "min        37.000000\n",
       "25%       254.000000\n",
       "50%       447.000000\n",
       "75%       741.250000\n",
       "max      4199.000000\n",
       "Name: duration, dtype: float64"
      ]
     },
     "execution_count": 38,
     "metadata": {},
     "output_type": "execute_result"
    }
   ],
   "source": [
    "# Describe duration feature where target variable is yes\n",
    "df[df['y'] == 'yes']['duration'].describe()"
   ]
  },
  {
   "cell_type": "code",
   "execution_count": 39,
   "metadata": {
    "scrolled": false
   },
   "outputs": [
    {
     "data": {
      "image/png": "[encoded data removed]",
      "text/plain": [
       "<Figure size 432x288 with 1 Axes>"
      ]
     },
     "metadata": {
      "needs_background": "light"
     },
     "output_type": "display_data"
    }
   ],
   "source": [
    "# Plot duration distribution where target variable is yes\n",
    "df[df['y'] == 'yes']['duration'].hist()\n",
    "plt.title('Distribution of duration feature for subscribed customers')\n",
    "plt.xlabel('Duration in seconds')\n",
    "plt.show()"
   ]
  },
  {
   "cell_type": "markdown",
   "metadata": {},
   "source": [
    "The mean call duration which resulted in a subscription is 553 seconds or just under 10 minutes."
   ]
  },
  {
   "cell_type": "markdown",
   "metadata": {},
   "source": [
    "Let us know look at the `campaign` feature. It tells us the number of contacts performed during this campaign and for this client. "
   ]
  },
  {
   "cell_type": "code",
   "execution_count": 40,
   "metadata": {
    "scrolled": true
   },
   "outputs": [
    {
     "data": {
      "text/plain": [
       "count    37069.000000\n",
       "mean         2.572959\n",
       "std          2.779804\n",
       "min          1.000000\n",
       "25%          1.000000\n",
       "50%          2.000000\n",
       "75%          3.000000\n",
       "max         56.000000\n",
       "Name: campaign, dtype: float64"
      ]
     },
     "execution_count": 40,
     "metadata": {},
     "output_type": "execute_result"
    }
   ],
   "source": [
    "# Describe campaign feature\n",
    "df['campaign'].describe()"
   ]
  },
  {
   "cell_type": "markdown",
   "metadata": {},
   "source": [
    "We see that on average, more than one call was made to each customer. The value of 56 is clearly an outlier and possibly an error. As we won't be keeping this feature for modelling purposes, we do not need to worry about it."
   ]
  },
  {
   "cell_type": "code",
   "execution_count": 41,
   "metadata": {
    "scrolled": true
   },
   "outputs": [
    {
     "data": {
      "image/png": "[encoded data removed]",
      "text/plain": [
       "<Figure size 432x288 with 1 Axes>"
      ]
     },
     "metadata": {
      "needs_background": "light"
     },
     "output_type": "display_data"
    }
   ],
   "source": [
    "# Plot campaign distribution\n",
    "df['campaign'].hist()\n",
    "plt.title('Distribution of campaign feature')\n",
    "plt.xlabel('Number of calls')\n",
    "plt.show()"
   ]
  },
  {
   "cell_type": "markdown",
   "metadata": {},
   "source": [
    "Let us now focus on customers which did subscribe to the term deposit (target variable `y` is `yes`) and look to analyse the `campaign` feature."
   ]
  },
  {
   "cell_type": "code",
   "execution_count": 42,
   "metadata": {
    "scrolled": true
   },
   "outputs": [
    {
     "data": {
      "text/plain": [
       "count    4176.000000\n",
       "mean        2.046695\n",
       "std         1.664846\n",
       "min         1.000000\n",
       "25%         1.000000\n",
       "50%         2.000000\n",
       "75%         2.000000\n",
       "max        23.000000\n",
       "Name: campaign, dtype: float64"
      ]
     },
     "execution_count": 42,
     "metadata": {},
     "output_type": "execute_result"
    }
   ],
   "source": [
    "# Describe campaign feature where target variable is yes\n",
    "df[df['y'] == 'yes']['campaign'].describe()"
   ]
  },
  {
   "cell_type": "code",
   "execution_count": 43,
   "metadata": {},
   "outputs": [
    {
     "data": {
      "image/png": "[encoded data removed]",
      "text/plain": [
       "<Figure size 432x288 with 1 Axes>"
      ]
     },
     "metadata": {
      "needs_background": "light"
     },
     "output_type": "display_data"
    }
   ],
   "source": [
    "# Plot campaign distribution where target variable is yes\n",
    "df[df['y'] == 'yes']['campaign'].hist()\n",
    "plt.title('Distribution of campaign feature for subscribed customers')\n",
    "plt.xlabel('Number of calls')\n",
    "plt.show()"
   ]
  },
  {
   "cell_type": "markdown",
   "metadata": {},
   "source": [
    "On average, it took two calls for customer to subscribe to a term deposit."
   ]
  },
  {
   "cell_type": "markdown",
   "metadata": {},
   "source": [
    "### Building a Customer Profile"
   ]
  },
  {
   "cell_type": "markdown",
   "metadata": {},
   "source": [
    "In this section, our goal is to describe the profile of a typical customer who subscribed to the term deposit."
   ]
  },
  {
   "cell_type": "code",
   "execution_count": 44,
   "metadata": {},
   "outputs": [],
   "source": [
    "# Define dataframe of subscribers by taking taget value to be yes\n",
    "subscribers = df[df['y']=='yes']"
   ]
  },
  {
   "cell_type": "markdown",
   "metadata": {},
   "source": [
    "Let us start by looking at the `job` feature."
   ]
  },
  {
   "cell_type": "code",
   "execution_count": 45,
   "metadata": {
    "scrolled": true
   },
   "outputs": [
    {
     "data": {
      "image/png": "[encoded data removed]",
      "text/plain": [
       "<Figure size 576x360 with 1 Axes>"
      ]
     },
     "metadata": {
      "needs_background": "light"
     },
     "output_type": "display_data"
    }
   ],
   "source": [
    "plt.figure(figsize = (8,5))\n",
    "sns.countplot(subscribers['job'], palette = chosen_palette)\n",
    "plt.title(\"Feature: job for subscribers\")\n",
    "plt.show()"
   ]
  },
  {
   "cell_type": "code",
   "execution_count": 46,
   "metadata": {},
   "outputs": [
    {
     "data": {
      "image/png": "[encoded data removed]",
      "text/plain": [
       "<Figure size 432x288 with 1 Axes>"
      ]
     },
     "metadata": {
      "needs_background": "light"
     },
     "output_type": "display_data"
    }
   ],
   "source": [
    "feature_rate_plot('job', 'y', df)"
   ]
  },
  {
   "cell_type": "markdown",
   "metadata": {},
   "source": [
    "### Investigate Correlations"
   ]
  },
  {
   "cell_type": "code",
   "execution_count": 47,
   "metadata": {
    "scrolled": true
   },
   "outputs": [
    {
     "data": {
      "image/png": "[encoded data removed]",
      "text/plain": [
       "<Figure size 720x504 with 2 Axes>"
      ]
     },
     "metadata": {
      "needs_background": "light"
     },
     "output_type": "display_data"
    }
   ],
   "source": [
    "corr = df.corr()\n",
    "\n",
    "# Plot heatmap\n",
    "plt.figure(figsize = (10,7))\n",
    "sns.heatmap(corr, center = 0, annot = True, cmap = 'coolwarm')\n",
    "plt.show()"
   ]
  },
  {
   "cell_type": "markdown",
   "metadata": {},
   "source": [
    "## Prepare Data for Modelling"
   ]
  },
  {
   "cell_type": "markdown",
   "metadata": {},
   "source": [
    "Let us split into features `X` and target `y`."
   ]
  },
  {
   "cell_type": "code",
   "execution_count": 48,
   "metadata": {
    "scrolled": true
   },
   "outputs": [],
   "source": [
    "# Reset df index\n",
    "df = df.reset_index(drop = True)\n",
    "\n",
    "# Split into features X/ target y\n",
    "X = df.drop('y', axis = 1)\n",
    "y = df['y'].copy()"
   ]
  },
  {
   "cell_type": "code",
   "execution_count": 49,
   "metadata": {
    "scrolled": false
   },
   "outputs": [
    {
     "data": {
      "text/plain": [
       "0    32893\n",
       "1     4176\n",
       "Name: y, dtype: int64"
      ]
     },
     "execution_count": 49,
     "metadata": {},
     "output_type": "execute_result"
    }
   ],
   "source": [
    "# Map y values to 1 and 0 \n",
    "y = y.map(lambda x: 1 if x == 'yes' else 0)\n",
    "y.value_counts()"
   ]
  },
  {
   "cell_type": "markdown",
   "metadata": {},
   "source": [
    "As discussed, we also have to drop the features `duration` and `campaign` as these would not be known prior to knowing the outcome of the target variable."
   ]
  },
  {
   "cell_type": "code",
   "execution_count": 50,
   "metadata": {
    "scrolled": true
   },
   "outputs": [],
   "source": [
    "# Drop duration and campaign features\n",
    "X = X.drop(['duration', 'duration_cat', 'campaign'], axis = 1)"
   ]
  },
  {
   "cell_type": "markdown",
   "metadata": {},
   "source": [
    "### Feature Scaling"
   ]
  },
  {
   "cell_type": "markdown",
   "metadata": {},
   "source": [
    "Let's use sklearn's `StandardScaler` to normalize the data. Note that this is not required for all algorithms, but if we don't this would have a negative impact on classifiers which rely on 'distance' such as K-Nearest Neighbours."
   ]
  },
  {
   "cell_type": "code",
   "execution_count": 51,
   "metadata": {
    "scrolled": true
   },
   "outputs": [
    {
     "data": {
      "text/html": [
       "<div>\n",
       "<style scoped>\n",
       "    .dataframe tbody tr th:only-of-type {\n",
       "        vertical-align: middle;\n",
       "    }\n",
       "\n",
       "    .dataframe tbody tr th {\n",
       "        vertical-align: top;\n",
       "    }\n",
       "\n",
       "    .dataframe thead th {\n",
       "        text-align: right;\n",
       "    }\n",
       "</style>\n",
       "<table border=\"1\" class=\"dataframe\">\n",
       "  <thead>\n",
       "    <tr style=\"text-align: right;\">\n",
       "      <th></th>\n",
       "      <th>age</th>\n",
       "      <th>previous</th>\n",
       "      <th>emp_var_rate</th>\n",
       "      <th>cons_price_idx</th>\n",
       "      <th>cons_conf_idx</th>\n",
       "      <th>euribor3m</th>\n",
       "      <th>nr_employed</th>\n",
       "    </tr>\n",
       "  </thead>\n",
       "  <tbody>\n",
       "    <tr>\n",
       "      <td>0</td>\n",
       "      <td>-0.865590</td>\n",
       "      <td>-0.349621</td>\n",
       "      <td>-1.198872</td>\n",
       "      <td>-1.266936</td>\n",
       "      <td>-2.055296</td>\n",
       "      <td>-1.043383</td>\n",
       "      <td>-0.939255</td>\n",
       "    </tr>\n",
       "    <tr>\n",
       "      <td>1</td>\n",
       "      <td>-0.385264</td>\n",
       "      <td>-0.349621</td>\n",
       "      <td>0.647586</td>\n",
       "      <td>0.721261</td>\n",
       "      <td>0.888661</td>\n",
       "      <td>0.712281</td>\n",
       "      <td>0.331389</td>\n",
       "    </tr>\n",
       "    <tr>\n",
       "      <td>2</td>\n",
       "      <td>0.671453</td>\n",
       "      <td>1.665946</td>\n",
       "      <td>-1.198872</td>\n",
       "      <td>-1.180568</td>\n",
       "      <td>-1.232720</td>\n",
       "      <td>-1.357512</td>\n",
       "      <td>-0.939255</td>\n",
       "    </tr>\n",
       "    <tr>\n",
       "      <td>3</td>\n",
       "      <td>0.671453</td>\n",
       "      <td>-0.349621</td>\n",
       "      <td>0.838599</td>\n",
       "      <td>1.534850</td>\n",
       "      <td>-0.280263</td>\n",
       "      <td>0.775684</td>\n",
       "      <td>0.844348</td>\n",
       "    </tr>\n",
       "    <tr>\n",
       "      <td>4</td>\n",
       "      <td>0.671453</td>\n",
       "      <td>-0.349621</td>\n",
       "      <td>-1.198872</td>\n",
       "      <td>-1.180568</td>\n",
       "      <td>-1.232720</td>\n",
       "      <td>-1.370192</td>\n",
       "      <td>-0.939255</td>\n",
       "    </tr>\n",
       "  </tbody>\n",
       "</table>\n",
       "</div>"
      ],
      "text/plain": [
       "        age  previous  emp_var_rate  cons_price_idx  cons_conf_idx  euribor3m  \\\n",
       "0 -0.865590 -0.349621     -1.198872       -1.266936      -2.055296  -1.043383   \n",
       "1 -0.385264 -0.349621      0.647586        0.721261       0.888661   0.712281   \n",
       "2  0.671453  1.665946     -1.198872       -1.180568      -1.232720  -1.357512   \n",
       "3  0.671453 -0.349621      0.838599        1.534850      -0.280263   0.775684   \n",
       "4  0.671453 -0.349621     -1.198872       -1.180568      -1.232720  -1.370192   \n",
       "\n",
       "   nr_employed  \n",
       "0    -0.939255  \n",
       "1     0.331389  \n",
       "2    -0.939255  \n",
       "3     0.844348  \n",
       "4    -0.939255  "
      ]
     },
     "execution_count": 51,
     "metadata": {},
     "output_type": "execute_result"
    }
   ],
   "source": [
    "# Get data of numerical type\n",
    "X_num = X.select_dtypes(include = np.number)\n",
    "\n",
    "# Get data of categorical type\n",
    "X_cat = X.select_dtypes(include = object)\n",
    "\n",
    "# Instantiate Class\n",
    "ss = StandardScaler()\n",
    "\n",
    "# Fit and Transform Data\n",
    "X_num_scaled = ss.fit_transform(X_num)\n",
    "\n",
    "# Recreate DataFrame\n",
    "X_num_scaled = pd.DataFrame(X_num_scaled, columns = X_num.columns)\n",
    "X_num_scaled.head()"
   ]
  },
  {
   "cell_type": "markdown",
   "metadata": {},
   "source": [
    "Let's recreate our DataFrame by combining the scaled numerical attributes and categorical attributes."
   ]
  },
  {
   "cell_type": "code",
   "execution_count": 52,
   "metadata": {
    "scrolled": true
   },
   "outputs": [
    {
     "data": {
      "text/html": [
       "<div>\n",
       "<style scoped>\n",
       "    .dataframe tbody tr th:only-of-type {\n",
       "        vertical-align: middle;\n",
       "    }\n",
       "\n",
       "    .dataframe tbody tr th {\n",
       "        vertical-align: top;\n",
       "    }\n",
       "\n",
       "    .dataframe thead th {\n",
       "        text-align: right;\n",
       "    }\n",
       "</style>\n",
       "<table border=\"1\" class=\"dataframe\">\n",
       "  <thead>\n",
       "    <tr style=\"text-align: right;\">\n",
       "      <th></th>\n",
       "      <th>age</th>\n",
       "      <th>previous</th>\n",
       "      <th>emp_var_rate</th>\n",
       "      <th>cons_price_idx</th>\n",
       "      <th>cons_conf_idx</th>\n",
       "      <th>euribor3m</th>\n",
       "      <th>nr_employed</th>\n",
       "      <th>job</th>\n",
       "      <th>marital</th>\n",
       "      <th>education</th>\n",
       "      <th>default</th>\n",
       "      <th>housing</th>\n",
       "      <th>loan</th>\n",
       "      <th>contact</th>\n",
       "      <th>month</th>\n",
       "      <th>day_of_week</th>\n",
       "      <th>poutcome</th>\n",
       "    </tr>\n",
       "  </thead>\n",
       "  <tbody>\n",
       "    <tr>\n",
       "      <td>0</td>\n",
       "      <td>-0.865590</td>\n",
       "      <td>-0.349621</td>\n",
       "      <td>-1.198872</td>\n",
       "      <td>-1.266936</td>\n",
       "      <td>-2.055296</td>\n",
       "      <td>-1.043383</td>\n",
       "      <td>-0.939255</td>\n",
       "      <td>admin</td>\n",
       "      <td>single</td>\n",
       "      <td>university_degree</td>\n",
       "      <td>no</td>\n",
       "      <td>no</td>\n",
       "      <td>yes</td>\n",
       "      <td>telephone</td>\n",
       "      <td>mar</td>\n",
       "      <td>mon</td>\n",
       "      <td>nonexistent</td>\n",
       "    </tr>\n",
       "    <tr>\n",
       "      <td>1</td>\n",
       "      <td>-0.385264</td>\n",
       "      <td>-0.349621</td>\n",
       "      <td>0.647586</td>\n",
       "      <td>0.721261</td>\n",
       "      <td>0.888661</td>\n",
       "      <td>0.712281</td>\n",
       "      <td>0.331389</td>\n",
       "      <td>admin</td>\n",
       "      <td>single</td>\n",
       "      <td>university_degree</td>\n",
       "      <td>no</td>\n",
       "      <td>yes</td>\n",
       "      <td>no</td>\n",
       "      <td>telephone</td>\n",
       "      <td>may</td>\n",
       "      <td>wed</td>\n",
       "      <td>nonexistent</td>\n",
       "    </tr>\n",
       "    <tr>\n",
       "      <td>2</td>\n",
       "      <td>0.671453</td>\n",
       "      <td>1.665946</td>\n",
       "      <td>-1.198872</td>\n",
       "      <td>-1.180568</td>\n",
       "      <td>-1.232720</td>\n",
       "      <td>-1.357512</td>\n",
       "      <td>-0.939255</td>\n",
       "      <td>blue-collar</td>\n",
       "      <td>married</td>\n",
       "      <td>basic_4y</td>\n",
       "      <td>no</td>\n",
       "      <td>no</td>\n",
       "      <td>no</td>\n",
       "      <td>telephone</td>\n",
       "      <td>may</td>\n",
       "      <td>thu</td>\n",
       "      <td>failure</td>\n",
       "    </tr>\n",
       "    <tr>\n",
       "      <td>3</td>\n",
       "      <td>0.671453</td>\n",
       "      <td>-0.349621</td>\n",
       "      <td>0.838599</td>\n",
       "      <td>1.534850</td>\n",
       "      <td>-0.280263</td>\n",
       "      <td>0.775684</td>\n",
       "      <td>0.844348</td>\n",
       "      <td>retired</td>\n",
       "      <td>married</td>\n",
       "      <td>basic_4y</td>\n",
       "      <td>no</td>\n",
       "      <td>no</td>\n",
       "      <td>no</td>\n",
       "      <td>telephone</td>\n",
       "      <td>jun</td>\n",
       "      <td>fri</td>\n",
       "      <td>nonexistent</td>\n",
       "    </tr>\n",
       "    <tr>\n",
       "      <td>4</td>\n",
       "      <td>0.671453</td>\n",
       "      <td>-0.349621</td>\n",
       "      <td>-1.198872</td>\n",
       "      <td>-1.180568</td>\n",
       "      <td>-1.232720</td>\n",
       "      <td>-1.370192</td>\n",
       "      <td>-0.939255</td>\n",
       "      <td>services</td>\n",
       "      <td>married</td>\n",
       "      <td>high_school</td>\n",
       "      <td>no</td>\n",
       "      <td>no</td>\n",
       "      <td>no</td>\n",
       "      <td>cellular</td>\n",
       "      <td>may</td>\n",
       "      <td>mon</td>\n",
       "      <td>nonexistent</td>\n",
       "    </tr>\n",
       "  </tbody>\n",
       "</table>\n",
       "</div>"
      ],
      "text/plain": [
       "        age  previous  emp_var_rate  cons_price_idx  cons_conf_idx  euribor3m  \\\n",
       "0 -0.865590 -0.349621     -1.198872       -1.266936      -2.055296  -1.043383   \n",
       "1 -0.385264 -0.349621      0.647586        0.721261       0.888661   0.712281   \n",
       "2  0.671453  1.665946     -1.198872       -1.180568      -1.232720  -1.357512   \n",
       "3  0.671453 -0.349621      0.838599        1.534850      -0.280263   0.775684   \n",
       "4  0.671453 -0.349621     -1.198872       -1.180568      -1.232720  -1.370192   \n",
       "\n",
       "   nr_employed          job  marital          education default housing loan  \\\n",
       "0    -0.939255        admin   single  university_degree      no      no  yes   \n",
       "1     0.331389        admin   single  university_degree      no     yes   no   \n",
       "2    -0.939255  blue-collar  married           basic_4y      no      no   no   \n",
       "3     0.844348      retired  married           basic_4y      no      no   no   \n",
       "4    -0.939255     services  married        high_school      no      no   no   \n",
       "\n",
       "     contact month day_of_week     poutcome  \n",
       "0  telephone   mar         mon  nonexistent  \n",
       "1  telephone   may         wed  nonexistent  \n",
       "2  telephone   may         thu      failure  \n",
       "3  telephone   jun         fri  nonexistent  \n",
       "4   cellular   may         mon  nonexistent  "
      ]
     },
     "execution_count": 52,
     "metadata": {},
     "output_type": "execute_result"
    }
   ],
   "source": [
    "# Combine X_num_scaled and categorical feats using pd.concat\n",
    "X = pd.concat([X_num_scaled, X_cat], axis = 1)\n",
    "X.head()"
   ]
  },
  {
   "cell_type": "markdown",
   "metadata": {},
   "source": [
    "### Categorical Feature Imputing"
   ]
  },
  {
   "cell_type": "markdown",
   "metadata": {},
   "source": [
    "As mentioned in the section 3. we will replace the `unknown` values in certain categorical columns using the K-Nearest Neighbors imputer. This is for columns where there was no dominating value and so the mode was not deemed to be appropriate.\n",
    "\n",
    "There will be three steps to this process.\n",
    "1. Convert non-missing categorical features to ordinal values and create an ordinal DataFrame\n",
    "2. Impute the missing values in the ordinal DataFrame\n",
    "3. Convert the ordinal DataFrame back to original categorical values."
   ]
  },
  {
   "cell_type": "code",
   "execution_count": 53,
   "metadata": {
    "scrolled": true
   },
   "outputs": [
    {
     "data": {
      "text/plain": [
       "Index(['job', 'marital', 'education', 'default', 'housing', 'loan', 'contact',\n",
       "       'month', 'day_of_week', 'poutcome'],\n",
       "      dtype='object')"
      ]
     },
     "execution_count": 53,
     "metadata": {},
     "output_type": "execute_result"
    }
   ],
   "source": [
    "# Define categorical columns\n",
    "cat_cols = X.select_dtypes(include = object).columns\n",
    "cat_cols"
   ]
  },
  {
   "cell_type": "code",
   "execution_count": 54,
   "metadata": {
    "scrolled": false
   },
   "outputs": [
    {
     "data": {
      "text/plain": [
       "age               False\n",
       "previous          False\n",
       "emp_var_rate      False\n",
       "cons_price_idx    False\n",
       "cons_conf_idx     False\n",
       "euribor3m         False\n",
       "nr_employed       False\n",
       "job                True\n",
       "marital           False\n",
       "education          True\n",
       "default           False\n",
       "housing            True\n",
       "loan              False\n",
       "contact           False\n",
       "month             False\n",
       "day_of_week       False\n",
       "poutcome          False\n",
       "dtype: bool"
      ]
     },
     "execution_count": 54,
     "metadata": {},
     "output_type": "execute_result"
    }
   ],
   "source": [
    "# Define feats where unknown will be replaced\n",
    "cols = ['job', 'education', 'housing']\n",
    "\n",
    "# Replace unknown with np.nan\n",
    "for col in cols:\n",
    "    X[col] = X[col].replace('unknown', np.nan)\n",
    "\n",
    "# Check missing values introduced\n",
    "X.isna().any()    "
   ]
  },
  {
   "cell_type": "code",
   "execution_count": 55,
   "metadata": {
    "scrolled": false
   },
   "outputs": [
    {
     "data": {
      "text/html": [
       "<div>\n",
       "<style scoped>\n",
       "    .dataframe tbody tr th:only-of-type {\n",
       "        vertical-align: middle;\n",
       "    }\n",
       "\n",
       "    .dataframe tbody tr th {\n",
       "        vertical-align: top;\n",
       "    }\n",
       "\n",
       "    .dataframe thead th {\n",
       "        text-align: right;\n",
       "    }\n",
       "</style>\n",
       "<table border=\"1\" class=\"dataframe\">\n",
       "  <thead>\n",
       "    <tr style=\"text-align: right;\">\n",
       "      <th></th>\n",
       "      <th>age</th>\n",
       "      <th>previous</th>\n",
       "      <th>emp_var_rate</th>\n",
       "      <th>cons_price_idx</th>\n",
       "      <th>cons_conf_idx</th>\n",
       "      <th>euribor3m</th>\n",
       "      <th>nr_employed</th>\n",
       "      <th>job</th>\n",
       "      <th>marital</th>\n",
       "      <th>education</th>\n",
       "      <th>default</th>\n",
       "      <th>housing</th>\n",
       "      <th>loan</th>\n",
       "      <th>contact</th>\n",
       "      <th>month</th>\n",
       "      <th>day_of_week</th>\n",
       "      <th>poutcome</th>\n",
       "    </tr>\n",
       "  </thead>\n",
       "  <tbody>\n",
       "    <tr>\n",
       "      <td>0</td>\n",
       "      <td>-0.865590</td>\n",
       "      <td>-0.349621</td>\n",
       "      <td>-1.198872</td>\n",
       "      <td>-1.266936</td>\n",
       "      <td>-2.055296</td>\n",
       "      <td>-1.043383</td>\n",
       "      <td>-0.939255</td>\n",
       "      <td>0</td>\n",
       "      <td>2</td>\n",
       "      <td>6</td>\n",
       "      <td>0</td>\n",
       "      <td>0</td>\n",
       "      <td>1</td>\n",
       "      <td>1</td>\n",
       "      <td>5</td>\n",
       "      <td>1</td>\n",
       "      <td>1</td>\n",
       "    </tr>\n",
       "    <tr>\n",
       "      <td>1</td>\n",
       "      <td>-0.385264</td>\n",
       "      <td>-0.349621</td>\n",
       "      <td>0.647586</td>\n",
       "      <td>0.721261</td>\n",
       "      <td>0.888661</td>\n",
       "      <td>0.712281</td>\n",
       "      <td>0.331389</td>\n",
       "      <td>0</td>\n",
       "      <td>2</td>\n",
       "      <td>6</td>\n",
       "      <td>0</td>\n",
       "      <td>1</td>\n",
       "      <td>0</td>\n",
       "      <td>1</td>\n",
       "      <td>6</td>\n",
       "      <td>4</td>\n",
       "      <td>1</td>\n",
       "    </tr>\n",
       "    <tr>\n",
       "      <td>2</td>\n",
       "      <td>0.671453</td>\n",
       "      <td>1.665946</td>\n",
       "      <td>-1.198872</td>\n",
       "      <td>-1.180568</td>\n",
       "      <td>-1.232720</td>\n",
       "      <td>-1.357512</td>\n",
       "      <td>-0.939255</td>\n",
       "      <td>1</td>\n",
       "      <td>1</td>\n",
       "      <td>0</td>\n",
       "      <td>0</td>\n",
       "      <td>0</td>\n",
       "      <td>0</td>\n",
       "      <td>1</td>\n",
       "      <td>6</td>\n",
       "      <td>2</td>\n",
       "      <td>0</td>\n",
       "    </tr>\n",
       "    <tr>\n",
       "      <td>3</td>\n",
       "      <td>0.671453</td>\n",
       "      <td>-0.349621</td>\n",
       "      <td>0.838599</td>\n",
       "      <td>1.534850</td>\n",
       "      <td>-0.280263</td>\n",
       "      <td>0.775684</td>\n",
       "      <td>0.844348</td>\n",
       "      <td>5</td>\n",
       "      <td>1</td>\n",
       "      <td>0</td>\n",
       "      <td>0</td>\n",
       "      <td>0</td>\n",
       "      <td>0</td>\n",
       "      <td>1</td>\n",
       "      <td>4</td>\n",
       "      <td>0</td>\n",
       "      <td>1</td>\n",
       "    </tr>\n",
       "    <tr>\n",
       "      <td>4</td>\n",
       "      <td>0.671453</td>\n",
       "      <td>-0.349621</td>\n",
       "      <td>-1.198872</td>\n",
       "      <td>-1.180568</td>\n",
       "      <td>-1.232720</td>\n",
       "      <td>-1.370192</td>\n",
       "      <td>-0.939255</td>\n",
       "      <td>7</td>\n",
       "      <td>1</td>\n",
       "      <td>3</td>\n",
       "      <td>0</td>\n",
       "      <td>0</td>\n",
       "      <td>0</td>\n",
       "      <td>0</td>\n",
       "      <td>6</td>\n",
       "      <td>1</td>\n",
       "      <td>1</td>\n",
       "    </tr>\n",
       "  </tbody>\n",
       "</table>\n",
       "</div>"
      ],
      "text/plain": [
       "        age  previous  emp_var_rate  cons_price_idx  cons_conf_idx  euribor3m  \\\n",
       "0 -0.865590 -0.349621     -1.198872       -1.266936      -2.055296  -1.043383   \n",
       "1 -0.385264 -0.349621      0.647586        0.721261       0.888661   0.712281   \n",
       "2  0.671453  1.665946     -1.198872       -1.180568      -1.232720  -1.357512   \n",
       "3  0.671453 -0.349621      0.838599        1.534850      -0.280263   0.775684   \n",
       "4  0.671453 -0.349621     -1.198872       -1.180568      -1.232720  -1.370192   \n",
       "\n",
       "   nr_employed job  marital education  default housing  loan  contact  month  \\\n",
       "0    -0.939255   0        2         6        0       0     1        1      5   \n",
       "1     0.331389   0        2         6        0       1     0        1      6   \n",
       "2    -0.939255   1        1         0        0       0     0        1      6   \n",
       "3     0.844348   5        1         0        0       0     0        1      4   \n",
       "4    -0.939255   7        1         3        0       0     0        0      6   \n",
       "\n",
       "   day_of_week  poutcome  \n",
       "0            1         1  \n",
       "1            4         1  \n",
       "2            2         0  \n",
       "3            0         1  \n",
       "4            1         1  "
      ]
     },
     "execution_count": 55,
     "metadata": {},
     "output_type": "execute_result"
    }
   ],
   "source": [
    "# Adapted from Datacamp advanced imputation techniques\n",
    "# https://campus.datacamp.com/courses/dealing-with-missing-data-in-python/advanced-imputation-techniques?ex=7\n",
    "\n",
    "# Create dictionary for Ordinal encoders\n",
    "ordinal_enc_dict = {}\n",
    "\n",
    "# Loop over categorical columns\n",
    "for col_name in cat_cols:\n",
    "    \n",
    "    # Create ordinal encoder instance\n",
    "    ordinal_enc_dict[col_name] = OrdinalEncoder()\n",
    "    \n",
    "    # Select non-null values\n",
    "    col = X[col_name]\n",
    "    col_not_null = col[col.notnull()]\n",
    "    reshaped_vals = col_not_null.values.reshape(-1,1)\n",
    "    \n",
    "    # Encode non-null values in column\n",
    "    ordinal_vals = ordinal_enc_dict[col_name].fit_transform(reshaped_vals)\n",
    "    \n",
    "    # Update non-null values in X with encoded values\n",
    "    X.loc[col.notnull(), col_name] = np.squeeze(ordinal_vals)\n",
    "\n",
    "# Check ordinal encoding \n",
    "X.head()"
   ]
  },
  {
   "cell_type": "markdown",
   "metadata": {},
   "source": [
    "Now that we have performed step 1, ordinal encoding, we can proceed to step 2, imputation."
   ]
  },
  {
   "cell_type": "code",
   "execution_count": 56,
   "metadata": {
    "scrolled": true
   },
   "outputs": [
    {
     "data": {
      "text/plain": [
       "False"
      ]
     },
     "execution_count": 56,
     "metadata": {},
     "output_type": "execute_result"
    }
   ],
   "source": [
    "# Adapted from Datacamp advanced imputation techniques\n",
    "# https://campus.datacamp.com/courses/dealing-with-missing-data-in-python/advanced-imputation-techniques?ex=7\n",
    "\n",
    "# Create copy of X\n",
    "X_imputed = X.copy(deep = True)\n",
    "\n",
    "# Create imputer instance\n",
    "knn_imputer = KNNImputer()\n",
    "\n",
    "# Apply imputer\n",
    "X_imputed.iloc[:,:] = knn_imputer.fit_transform(X_imputed)\n",
    "\n",
    "# Check\n",
    "X_imputed.isna().any().any()"
   ]
  },
  {
   "cell_type": "markdown",
   "metadata": {},
   "source": [
    "Finally as step 3, we reverse the ordinal values back to categorical values."
   ]
  },
  {
   "cell_type": "code",
   "execution_count": 57,
   "metadata": {},
   "outputs": [
    {
     "data": {
      "text/html": [
       "<div>\n",
       "<style scoped>\n",
       "    .dataframe tbody tr th:only-of-type {\n",
       "        vertical-align: middle;\n",
       "    }\n",
       "\n",
       "    .dataframe tbody tr th {\n",
       "        vertical-align: top;\n",
       "    }\n",
       "\n",
       "    .dataframe thead th {\n",
       "        text-align: right;\n",
       "    }\n",
       "</style>\n",
       "<table border=\"1\" class=\"dataframe\">\n",
       "  <thead>\n",
       "    <tr style=\"text-align: right;\">\n",
       "      <th></th>\n",
       "      <th>age</th>\n",
       "      <th>previous</th>\n",
       "      <th>emp_var_rate</th>\n",
       "      <th>cons_price_idx</th>\n",
       "      <th>cons_conf_idx</th>\n",
       "      <th>euribor3m</th>\n",
       "      <th>nr_employed</th>\n",
       "      <th>job</th>\n",
       "      <th>marital</th>\n",
       "      <th>education</th>\n",
       "      <th>default</th>\n",
       "      <th>housing</th>\n",
       "      <th>loan</th>\n",
       "      <th>contact</th>\n",
       "      <th>month</th>\n",
       "      <th>day_of_week</th>\n",
       "      <th>poutcome</th>\n",
       "    </tr>\n",
       "  </thead>\n",
       "  <tbody>\n",
       "    <tr>\n",
       "      <td>0</td>\n",
       "      <td>-0.865590</td>\n",
       "      <td>-0.349621</td>\n",
       "      <td>-1.198872</td>\n",
       "      <td>-1.266936</td>\n",
       "      <td>-2.055296</td>\n",
       "      <td>-1.043383</td>\n",
       "      <td>-0.939255</td>\n",
       "      <td>admin</td>\n",
       "      <td>single</td>\n",
       "      <td>university_degree</td>\n",
       "      <td>no</td>\n",
       "      <td>no</td>\n",
       "      <td>yes</td>\n",
       "      <td>telephone</td>\n",
       "      <td>mar</td>\n",
       "      <td>mon</td>\n",
       "      <td>nonexistent</td>\n",
       "    </tr>\n",
       "    <tr>\n",
       "      <td>1</td>\n",
       "      <td>-0.385264</td>\n",
       "      <td>-0.349621</td>\n",
       "      <td>0.647586</td>\n",
       "      <td>0.721261</td>\n",
       "      <td>0.888661</td>\n",
       "      <td>0.712281</td>\n",
       "      <td>0.331389</td>\n",
       "      <td>admin</td>\n",
       "      <td>single</td>\n",
       "      <td>university_degree</td>\n",
       "      <td>no</td>\n",
       "      <td>yes</td>\n",
       "      <td>no</td>\n",
       "      <td>telephone</td>\n",
       "      <td>may</td>\n",
       "      <td>wed</td>\n",
       "      <td>nonexistent</td>\n",
       "    </tr>\n",
       "    <tr>\n",
       "      <td>2</td>\n",
       "      <td>0.671453</td>\n",
       "      <td>1.665946</td>\n",
       "      <td>-1.198872</td>\n",
       "      <td>-1.180568</td>\n",
       "      <td>-1.232720</td>\n",
       "      <td>-1.357512</td>\n",
       "      <td>-0.939255</td>\n",
       "      <td>blue-collar</td>\n",
       "      <td>married</td>\n",
       "      <td>basic_4y</td>\n",
       "      <td>no</td>\n",
       "      <td>no</td>\n",
       "      <td>no</td>\n",
       "      <td>telephone</td>\n",
       "      <td>may</td>\n",
       "      <td>thu</td>\n",
       "      <td>failure</td>\n",
       "    </tr>\n",
       "    <tr>\n",
       "      <td>3</td>\n",
       "      <td>0.671453</td>\n",
       "      <td>-0.349621</td>\n",
       "      <td>0.838599</td>\n",
       "      <td>1.534850</td>\n",
       "      <td>-0.280263</td>\n",
       "      <td>0.775684</td>\n",
       "      <td>0.844348</td>\n",
       "      <td>retired</td>\n",
       "      <td>married</td>\n",
       "      <td>basic_4y</td>\n",
       "      <td>no</td>\n",
       "      <td>no</td>\n",
       "      <td>no</td>\n",
       "      <td>telephone</td>\n",
       "      <td>jun</td>\n",
       "      <td>fri</td>\n",
       "      <td>nonexistent</td>\n",
       "    </tr>\n",
       "    <tr>\n",
       "      <td>4</td>\n",
       "      <td>0.671453</td>\n",
       "      <td>-0.349621</td>\n",
       "      <td>-1.198872</td>\n",
       "      <td>-1.180568</td>\n",
       "      <td>-1.232720</td>\n",
       "      <td>-1.370192</td>\n",
       "      <td>-0.939255</td>\n",
       "      <td>services</td>\n",
       "      <td>married</td>\n",
       "      <td>high_school</td>\n",
       "      <td>no</td>\n",
       "      <td>no</td>\n",
       "      <td>no</td>\n",
       "      <td>cellular</td>\n",
       "      <td>may</td>\n",
       "      <td>mon</td>\n",
       "      <td>nonexistent</td>\n",
       "    </tr>\n",
       "  </tbody>\n",
       "</table>\n",
       "</div>"
      ],
      "text/plain": [
       "        age  previous  emp_var_rate  cons_price_idx  cons_conf_idx  euribor3m  \\\n",
       "0 -0.865590 -0.349621     -1.198872       -1.266936      -2.055296  -1.043383   \n",
       "1 -0.385264 -0.349621      0.647586        0.721261       0.888661   0.712281   \n",
       "2  0.671453  1.665946     -1.198872       -1.180568      -1.232720  -1.357512   \n",
       "3  0.671453 -0.349621      0.838599        1.534850      -0.280263   0.775684   \n",
       "4  0.671453 -0.349621     -1.198872       -1.180568      -1.232720  -1.370192   \n",
       "\n",
       "   nr_employed          job  marital          education default housing loan  \\\n",
       "0    -0.939255        admin   single  university_degree      no      no  yes   \n",
       "1     0.331389        admin   single  university_degree      no     yes   no   \n",
       "2    -0.939255  blue-collar  married           basic_4y      no      no   no   \n",
       "3     0.844348      retired  married           basic_4y      no      no   no   \n",
       "4    -0.939255     services  married        high_school      no      no   no   \n",
       "\n",
       "     contact month day_of_week     poutcome  \n",
       "0  telephone   mar         mon  nonexistent  \n",
       "1  telephone   may         wed  nonexistent  \n",
       "2  telephone   may         thu      failure  \n",
       "3  telephone   jun         fri  nonexistent  \n",
       "4   cellular   may         mon  nonexistent  "
      ]
     },
     "execution_count": 57,
     "metadata": {},
     "output_type": "execute_result"
    }
   ],
   "source": [
    "# Reverse to get back to categorical values\n",
    "for col_name in cat_cols:\n",
    "    \n",
    "    # Reshape \n",
    "    reshaped_col = X_imputed[col_name].values.reshape(-1,1)\n",
    "    #\n",
    "    X_imputed[col_name] = ordinal_enc_dict[col_name].inverse_transform(reshaped_col)\n",
    "    \n",
    "# Check DataFrame\n",
    "X_imputed.head()"
   ]
  },
  {
   "cell_type": "markdown",
   "metadata": {},
   "source": [
    "### Categorical Feature Encoding"
   ]
  },
  {
   "cell_type": "markdown",
   "metadata": {},
   "source": [
    "Let's use sklearn's `OneHotEncoder` to encode categorical variables."
   ]
  },
  {
   "cell_type": "code",
   "execution_count": 58,
   "metadata": {
    "scrolled": false
   },
   "outputs": [
    {
     "data": {
      "text/plain": [
       "<37069x47 sparse matrix of type '<class 'numpy.float64'>'\n",
       "\twith 370690 stored elements in Compressed Sparse Row format>"
      ]
     },
     "execution_count": 58,
     "metadata": {},
     "output_type": "execute_result"
    }
   ],
   "source": [
    "# Get data of type object\n",
    "X_cat = X_imputed.select_dtypes(include = object)\n",
    "\n",
    "# Instantiate Class\n",
    "ohe = OneHotEncoder()\n",
    "\n",
    "# Fit and transform \n",
    "X_cat_1hot = ohe.fit_transform(X_cat)\n",
    "\n",
    "# View results\n",
    "X_cat_1hot"
   ]
  },
  {
   "cell_type": "markdown",
   "metadata": {},
   "source": [
    "`OneHotEncoder` creates a sparse matrix, which is useful for memory purposes when dealing with large datasets and significantly more columns. However we will transform back into a Numpy array and then DataFrame."
   ]
  },
  {
   "cell_type": "code",
   "execution_count": 59,
   "metadata": {
    "scrolled": true
   },
   "outputs": [
    {
     "data": {
      "text/html": [
       "<div>\n",
       "<style scoped>\n",
       "    .dataframe tbody tr th:only-of-type {\n",
       "        vertical-align: middle;\n",
       "    }\n",
       "\n",
       "    .dataframe tbody tr th {\n",
       "        vertical-align: top;\n",
       "    }\n",
       "\n",
       "    .dataframe thead th {\n",
       "        text-align: right;\n",
       "    }\n",
       "</style>\n",
       "<table border=\"1\" class=\"dataframe\">\n",
       "  <thead>\n",
       "    <tr style=\"text-align: right;\">\n",
       "      <th></th>\n",
       "      <th>job_admin</th>\n",
       "      <th>job_blue-collar</th>\n",
       "      <th>job_entrepreneur</th>\n",
       "      <th>job_housemaid</th>\n",
       "      <th>job_management</th>\n",
       "      <th>job_retired</th>\n",
       "      <th>job_self-employed</th>\n",
       "      <th>job_services</th>\n",
       "      <th>job_student</th>\n",
       "      <th>job_technician</th>\n",
       "      <th>...</th>\n",
       "      <th>month_oct</th>\n",
       "      <th>month_sep</th>\n",
       "      <th>day_of_week_fri</th>\n",
       "      <th>day_of_week_mon</th>\n",
       "      <th>day_of_week_thu</th>\n",
       "      <th>day_of_week_tue</th>\n",
       "      <th>day_of_week_wed</th>\n",
       "      <th>poutcome_failure</th>\n",
       "      <th>poutcome_nonexistent</th>\n",
       "      <th>poutcome_success</th>\n",
       "    </tr>\n",
       "  </thead>\n",
       "  <tbody>\n",
       "    <tr>\n",
       "      <td>0</td>\n",
       "      <td>1.0</td>\n",
       "      <td>0.0</td>\n",
       "      <td>0.0</td>\n",
       "      <td>0.0</td>\n",
       "      <td>0.0</td>\n",
       "      <td>0.0</td>\n",
       "      <td>0.0</td>\n",
       "      <td>0.0</td>\n",
       "      <td>0.0</td>\n",
       "      <td>0.0</td>\n",
       "      <td>...</td>\n",
       "      <td>0.0</td>\n",
       "      <td>0.0</td>\n",
       "      <td>0.0</td>\n",
       "      <td>1.0</td>\n",
       "      <td>0.0</td>\n",
       "      <td>0.0</td>\n",
       "      <td>0.0</td>\n",
       "      <td>0.0</td>\n",
       "      <td>1.0</td>\n",
       "      <td>0.0</td>\n",
       "    </tr>\n",
       "    <tr>\n",
       "      <td>1</td>\n",
       "      <td>1.0</td>\n",
       "      <td>0.0</td>\n",
       "      <td>0.0</td>\n",
       "      <td>0.0</td>\n",
       "      <td>0.0</td>\n",
       "      <td>0.0</td>\n",
       "      <td>0.0</td>\n",
       "      <td>0.0</td>\n",
       "      <td>0.0</td>\n",
       "      <td>0.0</td>\n",
       "      <td>...</td>\n",
       "      <td>0.0</td>\n",
       "      <td>0.0</td>\n",
       "      <td>0.0</td>\n",
       "      <td>0.0</td>\n",
       "      <td>0.0</td>\n",
       "      <td>0.0</td>\n",
       "      <td>1.0</td>\n",
       "      <td>0.0</td>\n",
       "      <td>1.0</td>\n",
       "      <td>0.0</td>\n",
       "    </tr>\n",
       "    <tr>\n",
       "      <td>2</td>\n",
       "      <td>0.0</td>\n",
       "      <td>1.0</td>\n",
       "      <td>0.0</td>\n",
       "      <td>0.0</td>\n",
       "      <td>0.0</td>\n",
       "      <td>0.0</td>\n",
       "      <td>0.0</td>\n",
       "      <td>0.0</td>\n",
       "      <td>0.0</td>\n",
       "      <td>0.0</td>\n",
       "      <td>...</td>\n",
       "      <td>0.0</td>\n",
       "      <td>0.0</td>\n",
       "      <td>0.0</td>\n",
       "      <td>0.0</td>\n",
       "      <td>1.0</td>\n",
       "      <td>0.0</td>\n",
       "      <td>0.0</td>\n",
       "      <td>1.0</td>\n",
       "      <td>0.0</td>\n",
       "      <td>0.0</td>\n",
       "    </tr>\n",
       "    <tr>\n",
       "      <td>3</td>\n",
       "      <td>0.0</td>\n",
       "      <td>0.0</td>\n",
       "      <td>0.0</td>\n",
       "      <td>0.0</td>\n",
       "      <td>0.0</td>\n",
       "      <td>1.0</td>\n",
       "      <td>0.0</td>\n",
       "      <td>0.0</td>\n",
       "      <td>0.0</td>\n",
       "      <td>0.0</td>\n",
       "      <td>...</td>\n",
       "      <td>0.0</td>\n",
       "      <td>0.0</td>\n",
       "      <td>1.0</td>\n",
       "      <td>0.0</td>\n",
       "      <td>0.0</td>\n",
       "      <td>0.0</td>\n",
       "      <td>0.0</td>\n",
       "      <td>0.0</td>\n",
       "      <td>1.0</td>\n",
       "      <td>0.0</td>\n",
       "    </tr>\n",
       "    <tr>\n",
       "      <td>4</td>\n",
       "      <td>0.0</td>\n",
       "      <td>0.0</td>\n",
       "      <td>0.0</td>\n",
       "      <td>0.0</td>\n",
       "      <td>0.0</td>\n",
       "      <td>0.0</td>\n",
       "      <td>0.0</td>\n",
       "      <td>1.0</td>\n",
       "      <td>0.0</td>\n",
       "      <td>0.0</td>\n",
       "      <td>...</td>\n",
       "      <td>0.0</td>\n",
       "      <td>0.0</td>\n",
       "      <td>0.0</td>\n",
       "      <td>1.0</td>\n",
       "      <td>0.0</td>\n",
       "      <td>0.0</td>\n",
       "      <td>0.0</td>\n",
       "      <td>0.0</td>\n",
       "      <td>1.0</td>\n",
       "      <td>0.0</td>\n",
       "    </tr>\n",
       "  </tbody>\n",
       "</table>\n",
       "<p>5 rows × 47 columns</p>\n",
       "</div>"
      ],
      "text/plain": [
       "   job_admin  job_blue-collar  job_entrepreneur  job_housemaid  \\\n",
       "0        1.0              0.0               0.0            0.0   \n",
       "1        1.0              0.0               0.0            0.0   \n",
       "2        0.0              1.0               0.0            0.0   \n",
       "3        0.0              0.0               0.0            0.0   \n",
       "4        0.0              0.0               0.0            0.0   \n",
       "\n",
       "   job_management  job_retired  job_self-employed  job_services  job_student  \\\n",
       "0             0.0          0.0                0.0           0.0          0.0   \n",
       "1             0.0          0.0                0.0           0.0          0.0   \n",
       "2             0.0          0.0                0.0           0.0          0.0   \n",
       "3             0.0          1.0                0.0           0.0          0.0   \n",
       "4             0.0          0.0                0.0           1.0          0.0   \n",
       "\n",
       "   job_technician  ...  month_oct  month_sep  day_of_week_fri  \\\n",
       "0             0.0  ...        0.0        0.0              0.0   \n",
       "1             0.0  ...        0.0        0.0              0.0   \n",
       "2             0.0  ...        0.0        0.0              0.0   \n",
       "3             0.0  ...        0.0        0.0              1.0   \n",
       "4             0.0  ...        0.0        0.0              0.0   \n",
       "\n",
       "   day_of_week_mon  day_of_week_thu  day_of_week_tue  day_of_week_wed  \\\n",
       "0              1.0              0.0              0.0              0.0   \n",
       "1              0.0              0.0              0.0              1.0   \n",
       "2              0.0              1.0              0.0              0.0   \n",
       "3              0.0              0.0              0.0              0.0   \n",
       "4              1.0              0.0              0.0              0.0   \n",
       "\n",
       "   poutcome_failure  poutcome_nonexistent  poutcome_success  \n",
       "0               0.0                   1.0               0.0  \n",
       "1               0.0                   1.0               0.0  \n",
       "2               1.0                   0.0               0.0  \n",
       "3               0.0                   1.0               0.0  \n",
       "4               0.0                   1.0               0.0  \n",
       "\n",
       "[5 rows x 47 columns]"
      ]
     },
     "execution_count": 59,
     "metadata": {},
     "output_type": "execute_result"
    }
   ],
   "source": [
    "# Get column names\n",
    "column_names = ohe.get_feature_names(X_cat.columns)\n",
    "\n",
    "# Recreate dataframe\n",
    "X_cat_encoded = pd.DataFrame(X_cat_1hot.toarray(), columns = column_names)\n",
    "\n",
    "X_cat_encoded.head()"
   ]
  },
  {
   "cell_type": "markdown",
   "metadata": {},
   "source": [
    "We can now combine the above DataFrame with the numerical features in `X_imputed` to get our final prepared DataFrame."
   ]
  },
  {
   "cell_type": "code",
   "execution_count": 60,
   "metadata": {
    "scrolled": false
   },
   "outputs": [
    {
     "data": {
      "text/html": [
       "<div>\n",
       "<style scoped>\n",
       "    .dataframe tbody tr th:only-of-type {\n",
       "        vertical-align: middle;\n",
       "    }\n",
       "\n",
       "    .dataframe tbody tr th {\n",
       "        vertical-align: top;\n",
       "    }\n",
       "\n",
       "    .dataframe thead th {\n",
       "        text-align: right;\n",
       "    }\n",
       "</style>\n",
       "<table border=\"1\" class=\"dataframe\">\n",
       "  <thead>\n",
       "    <tr style=\"text-align: right;\">\n",
       "      <th></th>\n",
       "      <th>job_admin</th>\n",
       "      <th>job_blue-collar</th>\n",
       "      <th>job_entrepreneur</th>\n",
       "      <th>job_housemaid</th>\n",
       "      <th>job_management</th>\n",
       "      <th>job_retired</th>\n",
       "      <th>job_self-employed</th>\n",
       "      <th>job_services</th>\n",
       "      <th>job_student</th>\n",
       "      <th>job_technician</th>\n",
       "      <th>...</th>\n",
       "      <th>poutcome_failure</th>\n",
       "      <th>poutcome_nonexistent</th>\n",
       "      <th>poutcome_success</th>\n",
       "      <th>age</th>\n",
       "      <th>previous</th>\n",
       "      <th>emp_var_rate</th>\n",
       "      <th>cons_price_idx</th>\n",
       "      <th>cons_conf_idx</th>\n",
       "      <th>euribor3m</th>\n",
       "      <th>nr_employed</th>\n",
       "    </tr>\n",
       "  </thead>\n",
       "  <tbody>\n",
       "    <tr>\n",
       "      <td>0</td>\n",
       "      <td>1.0</td>\n",
       "      <td>0.0</td>\n",
       "      <td>0.0</td>\n",
       "      <td>0.0</td>\n",
       "      <td>0.0</td>\n",
       "      <td>0.0</td>\n",
       "      <td>0.0</td>\n",
       "      <td>0.0</td>\n",
       "      <td>0.0</td>\n",
       "      <td>0.0</td>\n",
       "      <td>...</td>\n",
       "      <td>0.0</td>\n",
       "      <td>1.0</td>\n",
       "      <td>0.0</td>\n",
       "      <td>-0.865590</td>\n",
       "      <td>-0.349621</td>\n",
       "      <td>-1.198872</td>\n",
       "      <td>-1.266936</td>\n",
       "      <td>-2.055296</td>\n",
       "      <td>-1.043383</td>\n",
       "      <td>-0.939255</td>\n",
       "    </tr>\n",
       "    <tr>\n",
       "      <td>1</td>\n",
       "      <td>1.0</td>\n",
       "      <td>0.0</td>\n",
       "      <td>0.0</td>\n",
       "      <td>0.0</td>\n",
       "      <td>0.0</td>\n",
       "      <td>0.0</td>\n",
       "      <td>0.0</td>\n",
       "      <td>0.0</td>\n",
       "      <td>0.0</td>\n",
       "      <td>0.0</td>\n",
       "      <td>...</td>\n",
       "      <td>0.0</td>\n",
       "      <td>1.0</td>\n",
       "      <td>0.0</td>\n",
       "      <td>-0.385264</td>\n",
       "      <td>-0.349621</td>\n",
       "      <td>0.647586</td>\n",
       "      <td>0.721261</td>\n",
       "      <td>0.888661</td>\n",
       "      <td>0.712281</td>\n",
       "      <td>0.331389</td>\n",
       "    </tr>\n",
       "    <tr>\n",
       "      <td>2</td>\n",
       "      <td>0.0</td>\n",
       "      <td>1.0</td>\n",
       "      <td>0.0</td>\n",
       "      <td>0.0</td>\n",
       "      <td>0.0</td>\n",
       "      <td>0.0</td>\n",
       "      <td>0.0</td>\n",
       "      <td>0.0</td>\n",
       "      <td>0.0</td>\n",
       "      <td>0.0</td>\n",
       "      <td>...</td>\n",
       "      <td>1.0</td>\n",
       "      <td>0.0</td>\n",
       "      <td>0.0</td>\n",
       "      <td>0.671453</td>\n",
       "      <td>1.665946</td>\n",
       "      <td>-1.198872</td>\n",
       "      <td>-1.180568</td>\n",
       "      <td>-1.232720</td>\n",
       "      <td>-1.357512</td>\n",
       "      <td>-0.939255</td>\n",
       "    </tr>\n",
       "    <tr>\n",
       "      <td>3</td>\n",
       "      <td>0.0</td>\n",
       "      <td>0.0</td>\n",
       "      <td>0.0</td>\n",
       "      <td>0.0</td>\n",
       "      <td>0.0</td>\n",
       "      <td>1.0</td>\n",
       "      <td>0.0</td>\n",
       "      <td>0.0</td>\n",
       "      <td>0.0</td>\n",
       "      <td>0.0</td>\n",
       "      <td>...</td>\n",
       "      <td>0.0</td>\n",
       "      <td>1.0</td>\n",
       "      <td>0.0</td>\n",
       "      <td>0.671453</td>\n",
       "      <td>-0.349621</td>\n",
       "      <td>0.838599</td>\n",
       "      <td>1.534850</td>\n",
       "      <td>-0.280263</td>\n",
       "      <td>0.775684</td>\n",
       "      <td>0.844348</td>\n",
       "    </tr>\n",
       "    <tr>\n",
       "      <td>4</td>\n",
       "      <td>0.0</td>\n",
       "      <td>0.0</td>\n",
       "      <td>0.0</td>\n",
       "      <td>0.0</td>\n",
       "      <td>0.0</td>\n",
       "      <td>0.0</td>\n",
       "      <td>0.0</td>\n",
       "      <td>1.0</td>\n",
       "      <td>0.0</td>\n",
       "      <td>0.0</td>\n",
       "      <td>...</td>\n",
       "      <td>0.0</td>\n",
       "      <td>1.0</td>\n",
       "      <td>0.0</td>\n",
       "      <td>0.671453</td>\n",
       "      <td>-0.349621</td>\n",
       "      <td>-1.198872</td>\n",
       "      <td>-1.180568</td>\n",
       "      <td>-1.232720</td>\n",
       "      <td>-1.370192</td>\n",
       "      <td>-0.939255</td>\n",
       "    </tr>\n",
       "  </tbody>\n",
       "</table>\n",
       "<p>5 rows × 54 columns</p>\n",
       "</div>"
      ],
      "text/plain": [
       "   job_admin  job_blue-collar  job_entrepreneur  job_housemaid  \\\n",
       "0        1.0              0.0               0.0            0.0   \n",
       "1        1.0              0.0               0.0            0.0   \n",
       "2        0.0              1.0               0.0            0.0   \n",
       "3        0.0              0.0               0.0            0.0   \n",
       "4        0.0              0.0               0.0            0.0   \n",
       "\n",
       "   job_management  job_retired  job_self-employed  job_services  job_student  \\\n",
       "0             0.0          0.0                0.0           0.0          0.0   \n",
       "1             0.0          0.0                0.0           0.0          0.0   \n",
       "2             0.0          0.0                0.0           0.0          0.0   \n",
       "3             0.0          1.0                0.0           0.0          0.0   \n",
       "4             0.0          0.0                0.0           1.0          0.0   \n",
       "\n",
       "   job_technician  ...  poutcome_failure  poutcome_nonexistent  \\\n",
       "0             0.0  ...               0.0                   1.0   \n",
       "1             0.0  ...               0.0                   1.0   \n",
       "2             0.0  ...               1.0                   0.0   \n",
       "3             0.0  ...               0.0                   1.0   \n",
       "4             0.0  ...               0.0                   1.0   \n",
       "\n",
       "   poutcome_success       age  previous  emp_var_rate  cons_price_idx  \\\n",
       "0               0.0 -0.865590 -0.349621     -1.198872       -1.266936   \n",
       "1               0.0 -0.385264 -0.349621      0.647586        0.721261   \n",
       "2               0.0  0.671453  1.665946     -1.198872       -1.180568   \n",
       "3               0.0  0.671453 -0.349621      0.838599        1.534850   \n",
       "4               0.0  0.671453 -0.349621     -1.198872       -1.180568   \n",
       "\n",
       "   cons_conf_idx  euribor3m  nr_employed  \n",
       "0      -2.055296  -1.043383    -0.939255  \n",
       "1       0.888661   0.712281     0.331389  \n",
       "2      -1.232720  -1.357512    -0.939255  \n",
       "3      -0.280263   0.775684     0.844348  \n",
       "4      -1.232720  -1.370192    -0.939255  \n",
       "\n",
       "[5 rows x 54 columns]"
      ]
     },
     "execution_count": 60,
     "metadata": {},
     "output_type": "execute_result"
    }
   ],
   "source": [
    "# Combine numerical feats of X_imputed with X_cat_encoded using pd.concat\n",
    "X_prepared = pd.concat([X_cat_encoded, X_imputed.select_dtypes(include = np.number)], axis = 1)\n",
    "X_prepared.head()"
   ]
  },
  {
   "cell_type": "code",
   "execution_count": 61,
   "metadata": {},
   "outputs": [
    {
     "data": {
      "text/plain": [
       "(37069, 54)"
      ]
     },
     "execution_count": 61,
     "metadata": {},
     "output_type": "execute_result"
    }
   ],
   "source": [
    "# Check shape\n",
    "X_prepared.shape"
   ]
  },
  {
   "cell_type": "markdown",
   "metadata": {},
   "source": [
    "### Creating Pre-processing Classes"
   ]
  },
  {
   "cell_type": "markdown",
   "metadata": {},
   "source": [
    "We will begin by creating a class to do the syntax clean up and dropping unecessary features, namely removing special characters from the column names or values and removing `duration`, `campaign` and `pdays`. We will also add methods to retrieve the cleaned column names."
   ]
  },
  {
   "cell_type": "code",
   "execution_count": 62,
   "metadata": {
    "scrolled": true
   },
   "outputs": [],
   "source": [
    "# Define SyntaxCleaner class\n",
    "# Inherit from BaseEstimator and TransformerMixin\n",
    "\n",
    "class SyntaxCleanandDrop(BaseEstimator, TransformerMixin):\n",
    "    \n",
    "    def __init__(self):\n",
    "        pass\n",
    "    \n",
    "    def fit(self, X, y=None):\n",
    "        return self\n",
    "    \n",
    "    def transform(self, X):\n",
    "        \n",
    "        # Remove special characters for column names\n",
    "        specialchars = \"()*&^@#$%.\"\n",
    "        for char in specialchars:\n",
    "            X.columns = X.columns.str.replace(char, '_')\n",
    "        \n",
    "        # Replace \".\" in job feat by \" \" as end of string\n",
    "        X['job'] = X['job'].str.replace('.','')\n",
    "        \n",
    "        # Replace \".\" in education feat with \"_\"\n",
    "        X['education'] = X['education'].str.replace('.', '_')\n",
    "        \n",
    "        # Drop duration, campaign and pdays\n",
    "        X = X.drop(['duration', 'campaign', 'pdays'], axis = 1)\n",
    "        \n",
    "        # Assign num column names\n",
    "        self.num_feat_names = list(X.select_dtypes(include = np.number).columns)\n",
    "        \n",
    "        # Assign cat column names\n",
    "        self.cat_feat_names = list(X.select_dtypes(include = object).columns)\n",
    "        \n",
    "        return X\n",
    "    \n",
    "    def get_num_feat_names(self):\n",
    "        return self.num_feat_names\n",
    "    \n",
    "    def get_cat_feat_names(self):\n",
    "        return self.cat_feat_names"
   ]
  },
  {
   "cell_type": "markdown",
   "metadata": {},
   "source": [
    "Our next class will be for pre-processing numerical features. Whilst we could use sklearn's in built in functions, having our custom class makes it easier to return a DataFrame."
   ]
  },
  {
   "cell_type": "code",
   "execution_count": 63,
   "metadata": {},
   "outputs": [],
   "source": [
    "class NumPreprocess (BaseEstimator, TransformerMixin):\n",
    "        \n",
    "    def __init__(self):\n",
    "        pass\n",
    "    \n",
    "    def fit(self, X, y=None):\n",
    "        return self\n",
    "    \n",
    "    def transform(self, X):\n",
    "        # Get data of numerical type\n",
    "        X_num = X.select_dtypes(include = np.number).reset_index(drop = True)\n",
    "        \n",
    "         # Get data of categorical type\n",
    "        X_cat = X.select_dtypes(include = object).reset_index(drop = True)\n",
    "        \n",
    "        # Fill missing values with median if any\n",
    "        for col in X_num.columns:\n",
    "            X_num[col] = X_num[col].fillna(X_num[col].median())\n",
    "            \n",
    "        # Scale using standard scaler\n",
    "        ss = StandardScaler()\n",
    "        \n",
    "        # Fit and Transform Data\n",
    "        X_num_scaled = ss.fit_transform(X_num)\n",
    "        \n",
    "        # Recreate DataFrame\n",
    "        X_num_scaled = pd.DataFrame(X_num_scaled, columns = X_num.columns)\n",
    "        \n",
    "        # Combine X_num_scaled and categorical feats using pd.concat\n",
    "        X = pd.concat([X_num_scaled, X_cat], axis = 1)\n",
    "        \n",
    "        return X "
   ]
  },
  {
   "cell_type": "markdown",
   "metadata": {},
   "source": [
    "Our final class will be specifically for imputing the `unknown` values  in categorical features using K-Nearest Neighbors."
   ]
  },
  {
   "cell_type": "code",
   "execution_count": 64,
   "metadata": {
    "scrolled": true
   },
   "outputs": [],
   "source": [
    "# Define UnknownImputer class\n",
    "# Inherit from BaseEstimator and TransformerMixin\n",
    "\n",
    "class UnknownImputer(BaseEstimator, TransformerMixin):\n",
    "    \n",
    "    def __init__(self):\n",
    "        pass\n",
    "    \n",
    "    def fit(self, X, y=None):\n",
    "        return self\n",
    "    \n",
    "    def transform(self, X):\n",
    "        \n",
    "        # Define categorical columns\n",
    "        cat_cols = X.select_dtypes(include = object).columns\n",
    "        \n",
    "        # Replace unknown will np.nan\n",
    "        for col in cat_cols:\n",
    "            X[col] = X[col].replace('unknown', np.nan)\n",
    "            \n",
    "        # Create dictionary for Ordinal encoders\n",
    "        ordinal_enc_dict = {}\n",
    "\n",
    "        # Loop over categorical columns\n",
    "        for col_name in cat_cols:\n",
    "    \n",
    "            # Create ordinal encoder instance\n",
    "            ordinal_enc_dict[col_name] = OrdinalEncoder()\n",
    "    \n",
    "            # Select non-null values\n",
    "            col = X[col_name]\n",
    "            col_not_null = col[col.notnull()]\n",
    "            reshaped_vals = col_not_null.values.reshape(-1,1)\n",
    "    \n",
    "            # Encode non-null values in column\n",
    "            ordinal_vals = ordinal_enc_dict[col_name].fit_transform(reshaped_vals)\n",
    "    \n",
    "            # Update non-null values in X with encoded values\n",
    "            X.loc[col.notnull(), col_name] = np.squeeze(ordinal_vals)\n",
    "            \n",
    "        # Create copy of X\n",
    "        X_imputed = X.copy(deep = True)\n",
    "\n",
    "        # Create imputer instance\n",
    "        knn_imputer = KNNImputer()\n",
    "\n",
    "        # Apply imputer\n",
    "        X_imputed.iloc[:,:] = knn_imputer.fit_transform(X_imputed)\n",
    "\n",
    "        # Reverse to get back to categorical values\n",
    "        # Select original categorical column names \n",
    "        for col_name in cat_cols:\n",
    "            reshaped_col = X_imputed[col_name].values.reshape(-1,1)\n",
    "            X_imputed[col_name] = ordinal_enc_dict[col_name].inverse_transform(reshaped_col)\n",
    "            \n",
    "        return X_imputed"
   ]
  },
  {
   "cell_type": "markdown",
   "metadata": {},
   "source": [
    "### Pre-processing Pipeline"
   ]
  },
  {
   "cell_type": "markdown",
   "metadata": {},
   "source": [
    "We can use `ColumnTransformer` to apply different processing functions to a specific set of columns. Let's create one to apply one-hot encoding to the categorical variables."
   ]
  },
  {
   "cell_type": "code",
   "execution_count": 65,
   "metadata": {
    "scrolled": true
   },
   "outputs": [],
   "source": [
    "# Define categorical attributes\n",
    "cat_attribs = ['job', 'marital','education', 'default', 'housing', 'loan', 'contact', 'month', \\\n",
    "               'day_of_week', 'poutcome']\n",
    "\n",
    "cat_process = ColumnTransformer([\n",
    "    ('cat', OneHotEncoder(), cat_attribs)],\n",
    "    remainder = 'passthrough')"
   ]
  },
  {
   "cell_type": "markdown",
   "metadata": {},
   "source": [
    "We combine the `ColumnTransformer` above with the custom classes defined previously to create our pre-processing pipeline."
   ]
  },
  {
   "cell_type": "code",
   "execution_count": 66,
   "metadata": {
    "scrolled": true
   },
   "outputs": [],
   "source": [
    "# Define pipeline\n",
    "\n",
    "pipeline = Pipeline(steps =[\n",
    "        ('syntaxclean', SyntaxCleanandDrop()),\n",
    "        ('numprocess', NumPreprocess()),\n",
    "        ('unknownimputer', UnknownImputer()),\n",
    "        ('catprocess', cat_process)\n",
    "])"
   ]
  },
  {
   "cell_type": "markdown",
   "metadata": {},
   "source": [
    "Let us check our pipeline by applying it to a 'fresh' copy of the training set."
   ]
  },
  {
   "cell_type": "code",
   "execution_count": 67,
   "metadata": {
    "scrolled": true
   },
   "outputs": [
    {
     "data": {
      "text/html": [
       "<div>\n",
       "<style scoped>\n",
       "    .dataframe tbody tr th:only-of-type {\n",
       "        vertical-align: middle;\n",
       "    }\n",
       "\n",
       "    .dataframe tbody tr th {\n",
       "        vertical-align: top;\n",
       "    }\n",
       "\n",
       "    .dataframe thead th {\n",
       "        text-align: right;\n",
       "    }\n",
       "</style>\n",
       "<table border=\"1\" class=\"dataframe\">\n",
       "  <thead>\n",
       "    <tr style=\"text-align: right;\">\n",
       "      <th></th>\n",
       "      <th>age</th>\n",
       "      <th>job</th>\n",
       "      <th>marital</th>\n",
       "      <th>education</th>\n",
       "      <th>default</th>\n",
       "      <th>housing</th>\n",
       "      <th>loan</th>\n",
       "      <th>contact</th>\n",
       "      <th>month</th>\n",
       "      <th>day_of_week</th>\n",
       "      <th>duration</th>\n",
       "      <th>campaign</th>\n",
       "      <th>pdays</th>\n",
       "      <th>previous</th>\n",
       "      <th>poutcome</th>\n",
       "      <th>emp.var.rate</th>\n",
       "      <th>cons.price.idx</th>\n",
       "      <th>cons.conf.idx</th>\n",
       "      <th>euribor3m</th>\n",
       "      <th>nr.employed</th>\n",
       "    </tr>\n",
       "  </thead>\n",
       "  <tbody>\n",
       "    <tr>\n",
       "      <td>0</td>\n",
       "      <td>31</td>\n",
       "      <td>admin.</td>\n",
       "      <td>single</td>\n",
       "      <td>university.degree</td>\n",
       "      <td>no</td>\n",
       "      <td>no</td>\n",
       "      <td>yes</td>\n",
       "      <td>telephone</td>\n",
       "      <td>mar</td>\n",
       "      <td>mon</td>\n",
       "      <td>39</td>\n",
       "      <td>2</td>\n",
       "      <td>999</td>\n",
       "      <td>0</td>\n",
       "      <td>nonexistent</td>\n",
       "      <td>-1.8</td>\n",
       "      <td>92.843</td>\n",
       "      <td>-50.0</td>\n",
       "      <td>1.811</td>\n",
       "      <td>5099.1</td>\n",
       "    </tr>\n",
       "    <tr>\n",
       "      <td>1</td>\n",
       "      <td>36</td>\n",
       "      <td>admin.</td>\n",
       "      <td>single</td>\n",
       "      <td>university.degree</td>\n",
       "      <td>no</td>\n",
       "      <td>yes</td>\n",
       "      <td>no</td>\n",
       "      <td>telephone</td>\n",
       "      <td>may</td>\n",
       "      <td>wed</td>\n",
       "      <td>126</td>\n",
       "      <td>1</td>\n",
       "      <td>999</td>\n",
       "      <td>0</td>\n",
       "      <td>nonexistent</td>\n",
       "      <td>1.1</td>\n",
       "      <td>93.994</td>\n",
       "      <td>-36.4</td>\n",
       "      <td>4.857</td>\n",
       "      <td>5191.0</td>\n",
       "    </tr>\n",
       "    <tr>\n",
       "      <td>2</td>\n",
       "      <td>47</td>\n",
       "      <td>blue-collar</td>\n",
       "      <td>married</td>\n",
       "      <td>basic.4y</td>\n",
       "      <td>unknown</td>\n",
       "      <td>no</td>\n",
       "      <td>no</td>\n",
       "      <td>telephone</td>\n",
       "      <td>may</td>\n",
       "      <td>thu</td>\n",
       "      <td>391</td>\n",
       "      <td>1</td>\n",
       "      <td>999</td>\n",
       "      <td>1</td>\n",
       "      <td>failure</td>\n",
       "      <td>-1.8</td>\n",
       "      <td>92.893</td>\n",
       "      <td>-46.2</td>\n",
       "      <td>1.266</td>\n",
       "      <td>5099.1</td>\n",
       "    </tr>\n",
       "    <tr>\n",
       "      <td>3</td>\n",
       "      <td>47</td>\n",
       "      <td>retired</td>\n",
       "      <td>married</td>\n",
       "      <td>basic.4y</td>\n",
       "      <td>unknown</td>\n",
       "      <td>no</td>\n",
       "      <td>no</td>\n",
       "      <td>telephone</td>\n",
       "      <td>jun</td>\n",
       "      <td>fri</td>\n",
       "      <td>63</td>\n",
       "      <td>2</td>\n",
       "      <td>999</td>\n",
       "      <td>0</td>\n",
       "      <td>nonexistent</td>\n",
       "      <td>1.4</td>\n",
       "      <td>94.465</td>\n",
       "      <td>-41.8</td>\n",
       "      <td>4.967</td>\n",
       "      <td>5228.1</td>\n",
       "    </tr>\n",
       "    <tr>\n",
       "      <td>4</td>\n",
       "      <td>47</td>\n",
       "      <td>services</td>\n",
       "      <td>married</td>\n",
       "      <td>high.school</td>\n",
       "      <td>no</td>\n",
       "      <td>no</td>\n",
       "      <td>no</td>\n",
       "      <td>cellular</td>\n",
       "      <td>may</td>\n",
       "      <td>mon</td>\n",
       "      <td>261</td>\n",
       "      <td>1</td>\n",
       "      <td>999</td>\n",
       "      <td>0</td>\n",
       "      <td>nonexistent</td>\n",
       "      <td>-1.8</td>\n",
       "      <td>92.893</td>\n",
       "      <td>-46.2</td>\n",
       "      <td>1.244</td>\n",
       "      <td>5099.1</td>\n",
       "    </tr>\n",
       "  </tbody>\n",
       "</table>\n",
       "</div>"
      ],
      "text/plain": [
       "   age          job  marital          education  default housing loan  \\\n",
       "0   31       admin.   single  university.degree       no      no  yes   \n",
       "1   36       admin.   single  university.degree       no     yes   no   \n",
       "2   47  blue-collar  married           basic.4y  unknown      no   no   \n",
       "3   47      retired  married           basic.4y  unknown      no   no   \n",
       "4   47     services  married        high.school       no      no   no   \n",
       "\n",
       "     contact month day_of_week  duration  campaign  pdays  previous  \\\n",
       "0  telephone   mar         mon        39         2    999         0   \n",
       "1  telephone   may         wed       126         1    999         0   \n",
       "2  telephone   may         thu       391         1    999         1   \n",
       "3  telephone   jun         fri        63         2    999         0   \n",
       "4   cellular   may         mon       261         1    999         0   \n",
       "\n",
       "      poutcome  emp.var.rate  cons.price.idx  cons.conf.idx  euribor3m  \\\n",
       "0  nonexistent          -1.8          92.843          -50.0      1.811   \n",
       "1  nonexistent           1.1          93.994          -36.4      4.857   \n",
       "2      failure          -1.8          92.893          -46.2      1.266   \n",
       "3  nonexistent           1.4          94.465          -41.8      4.967   \n",
       "4  nonexistent          -1.8          92.893          -46.2      1.244   \n",
       "\n",
       "   nr.employed  \n",
       "0       5099.1  \n",
       "1       5191.0  \n",
       "2       5099.1  \n",
       "3       5228.1  \n",
       "4       5099.1  "
      ]
     },
     "execution_count": 67,
     "metadata": {},
     "output_type": "execute_result"
    }
   ],
   "source": [
    "# Create copy\n",
    "df_copy = train_set.reset_index(drop = True)\n",
    "\n",
    "# Define y\n",
    "y = df_copy['y']\n",
    "\n",
    "# Map y values to 1 and 0 \n",
    "y = y.map(lambda x: 1 if x == 'yes' else 0)\n",
    "\n",
    "# Define X\n",
    "X = df_copy.drop('y', axis = 1)\n",
    "X.head()"
   ]
  },
  {
   "cell_type": "code",
   "execution_count": 68,
   "metadata": {
    "scrolled": false
   },
   "outputs": [
    {
     "data": {
      "text/plain": [
       "array([[ 1.        ,  0.        ,  0.        , ..., -2.0552957 ,\n",
       "        -1.04338277, -0.93925488],\n",
       "       [ 1.        ,  0.        ,  0.        , ...,  0.88866088,\n",
       "         0.71228134,  0.3313891 ],\n",
       "       [ 0.        ,  1.        ,  0.        , ..., -1.2327196 ,\n",
       "        -1.35751177, -0.93925488],\n",
       "       ...,\n",
       "       [ 1.        ,  0.        ,  0.        , ...,  1.97099786,\n",
       "        -1.58403048, -1.25587889],\n",
       "       [ 1.        ,  0.        ,  0.        , ...,  0.9536011 ,\n",
       "         0.77337799,  0.84434765],\n",
       "       [ 0.        ,  0.        ,  0.        , ...,  2.31734569,\n",
       "        -1.63302308, -2.06748717]])"
      ]
     },
     "execution_count": 68,
     "metadata": {},
     "output_type": "execute_result"
    }
   ],
   "source": [
    "# Apply pipeline\n",
    "X_prepared = pipeline.fit_transform(X)\n",
    "X_prepared"
   ]
  },
  {
   "cell_type": "markdown",
   "metadata": {},
   "source": [
    "To check, let us get the column names and recreate a DataFrame."
   ]
  },
  {
   "cell_type": "code",
   "execution_count": 69,
   "metadata": {
    "scrolled": false
   },
   "outputs": [
    {
     "data": {
      "text/html": [
       "<div>\n",
       "<style scoped>\n",
       "    .dataframe tbody tr th:only-of-type {\n",
       "        vertical-align: middle;\n",
       "    }\n",
       "\n",
       "    .dataframe tbody tr th {\n",
       "        vertical-align: top;\n",
       "    }\n",
       "\n",
       "    .dataframe thead th {\n",
       "        text-align: right;\n",
       "    }\n",
       "</style>\n",
       "<table border=\"1\" class=\"dataframe\">\n",
       "  <thead>\n",
       "    <tr style=\"text-align: right;\">\n",
       "      <th></th>\n",
       "      <th>job_admin</th>\n",
       "      <th>job_blue-collar</th>\n",
       "      <th>job_entrepreneur</th>\n",
       "      <th>job_housemaid</th>\n",
       "      <th>job_management</th>\n",
       "      <th>job_retired</th>\n",
       "      <th>job_self-employed</th>\n",
       "      <th>job_services</th>\n",
       "      <th>job_student</th>\n",
       "      <th>job_technician</th>\n",
       "      <th>...</th>\n",
       "      <th>poutcome_failure</th>\n",
       "      <th>poutcome_nonexistent</th>\n",
       "      <th>poutcome_success</th>\n",
       "      <th>age</th>\n",
       "      <th>previous</th>\n",
       "      <th>emp_var_rate</th>\n",
       "      <th>cons_price_idx</th>\n",
       "      <th>cons_conf_idx</th>\n",
       "      <th>euribor3m</th>\n",
       "      <th>nr_employed</th>\n",
       "    </tr>\n",
       "  </thead>\n",
       "  <tbody>\n",
       "    <tr>\n",
       "      <td>0</td>\n",
       "      <td>1.0</td>\n",
       "      <td>0.0</td>\n",
       "      <td>0.0</td>\n",
       "      <td>0.0</td>\n",
       "      <td>0.0</td>\n",
       "      <td>0.0</td>\n",
       "      <td>0.0</td>\n",
       "      <td>0.0</td>\n",
       "      <td>0.0</td>\n",
       "      <td>0.0</td>\n",
       "      <td>...</td>\n",
       "      <td>0.0</td>\n",
       "      <td>1.0</td>\n",
       "      <td>0.0</td>\n",
       "      <td>-0.865590</td>\n",
       "      <td>-0.349621</td>\n",
       "      <td>-1.198872</td>\n",
       "      <td>-1.266936</td>\n",
       "      <td>-2.055296</td>\n",
       "      <td>-1.043383</td>\n",
       "      <td>-0.939255</td>\n",
       "    </tr>\n",
       "    <tr>\n",
       "      <td>1</td>\n",
       "      <td>1.0</td>\n",
       "      <td>0.0</td>\n",
       "      <td>0.0</td>\n",
       "      <td>0.0</td>\n",
       "      <td>0.0</td>\n",
       "      <td>0.0</td>\n",
       "      <td>0.0</td>\n",
       "      <td>0.0</td>\n",
       "      <td>0.0</td>\n",
       "      <td>0.0</td>\n",
       "      <td>...</td>\n",
       "      <td>0.0</td>\n",
       "      <td>1.0</td>\n",
       "      <td>0.0</td>\n",
       "      <td>-0.385264</td>\n",
       "      <td>-0.349621</td>\n",
       "      <td>0.647586</td>\n",
       "      <td>0.721261</td>\n",
       "      <td>0.888661</td>\n",
       "      <td>0.712281</td>\n",
       "      <td>0.331389</td>\n",
       "    </tr>\n",
       "    <tr>\n",
       "      <td>2</td>\n",
       "      <td>0.0</td>\n",
       "      <td>1.0</td>\n",
       "      <td>0.0</td>\n",
       "      <td>0.0</td>\n",
       "      <td>0.0</td>\n",
       "      <td>0.0</td>\n",
       "      <td>0.0</td>\n",
       "      <td>0.0</td>\n",
       "      <td>0.0</td>\n",
       "      <td>0.0</td>\n",
       "      <td>...</td>\n",
       "      <td>1.0</td>\n",
       "      <td>0.0</td>\n",
       "      <td>0.0</td>\n",
       "      <td>0.671453</td>\n",
       "      <td>1.665946</td>\n",
       "      <td>-1.198872</td>\n",
       "      <td>-1.180568</td>\n",
       "      <td>-1.232720</td>\n",
       "      <td>-1.357512</td>\n",
       "      <td>-0.939255</td>\n",
       "    </tr>\n",
       "    <tr>\n",
       "      <td>3</td>\n",
       "      <td>0.0</td>\n",
       "      <td>0.0</td>\n",
       "      <td>0.0</td>\n",
       "      <td>0.0</td>\n",
       "      <td>0.0</td>\n",
       "      <td>1.0</td>\n",
       "      <td>0.0</td>\n",
       "      <td>0.0</td>\n",
       "      <td>0.0</td>\n",
       "      <td>0.0</td>\n",
       "      <td>...</td>\n",
       "      <td>0.0</td>\n",
       "      <td>1.0</td>\n",
       "      <td>0.0</td>\n",
       "      <td>0.671453</td>\n",
       "      <td>-0.349621</td>\n",
       "      <td>0.838599</td>\n",
       "      <td>1.534850</td>\n",
       "      <td>-0.280263</td>\n",
       "      <td>0.775684</td>\n",
       "      <td>0.844348</td>\n",
       "    </tr>\n",
       "    <tr>\n",
       "      <td>4</td>\n",
       "      <td>0.0</td>\n",
       "      <td>0.0</td>\n",
       "      <td>0.0</td>\n",
       "      <td>0.0</td>\n",
       "      <td>0.0</td>\n",
       "      <td>0.0</td>\n",
       "      <td>0.0</td>\n",
       "      <td>1.0</td>\n",
       "      <td>0.0</td>\n",
       "      <td>0.0</td>\n",
       "      <td>...</td>\n",
       "      <td>0.0</td>\n",
       "      <td>1.0</td>\n",
       "      <td>0.0</td>\n",
       "      <td>0.671453</td>\n",
       "      <td>-0.349621</td>\n",
       "      <td>-1.198872</td>\n",
       "      <td>-1.180568</td>\n",
       "      <td>-1.232720</td>\n",
       "      <td>-1.370192</td>\n",
       "      <td>-0.939255</td>\n",
       "    </tr>\n",
       "  </tbody>\n",
       "</table>\n",
       "<p>5 rows × 54 columns</p>\n",
       "</div>"
      ],
      "text/plain": [
       "   job_admin  job_blue-collar  job_entrepreneur  job_housemaid  \\\n",
       "0        1.0              0.0               0.0            0.0   \n",
       "1        1.0              0.0               0.0            0.0   \n",
       "2        0.0              1.0               0.0            0.0   \n",
       "3        0.0              0.0               0.0            0.0   \n",
       "4        0.0              0.0               0.0            0.0   \n",
       "\n",
       "   job_management  job_retired  job_self-employed  job_services  job_student  \\\n",
       "0             0.0          0.0                0.0           0.0          0.0   \n",
       "1             0.0          0.0                0.0           0.0          0.0   \n",
       "2             0.0          0.0                0.0           0.0          0.0   \n",
       "3             0.0          1.0                0.0           0.0          0.0   \n",
       "4             0.0          0.0                0.0           1.0          0.0   \n",
       "\n",
       "   job_technician  ...  poutcome_failure  poutcome_nonexistent  \\\n",
       "0             0.0  ...               0.0                   1.0   \n",
       "1             0.0  ...               0.0                   1.0   \n",
       "2             0.0  ...               1.0                   0.0   \n",
       "3             0.0  ...               0.0                   1.0   \n",
       "4             0.0  ...               0.0                   1.0   \n",
       "\n",
       "   poutcome_success       age  previous  emp_var_rate  cons_price_idx  \\\n",
       "0               0.0 -0.865590 -0.349621     -1.198872       -1.266936   \n",
       "1               0.0 -0.385264 -0.349621      0.647586        0.721261   \n",
       "2               0.0  0.671453  1.665946     -1.198872       -1.180568   \n",
       "3               0.0  0.671453 -0.349621      0.838599        1.534850   \n",
       "4               0.0  0.671453 -0.349621     -1.198872       -1.180568   \n",
       "\n",
       "   cons_conf_idx  euribor3m  nr_employed  \n",
       "0      -2.055296  -1.043383    -0.939255  \n",
       "1       0.888661   0.712281     0.331389  \n",
       "2      -1.232720  -1.357512    -0.939255  \n",
       "3      -0.280263   0.775684     0.844348  \n",
       "4      -1.232720  -1.370192    -0.939255  \n",
       "\n",
       "[5 rows x 54 columns]"
      ]
     },
     "execution_count": 69,
     "metadata": {},
     "output_type": "execute_result"
    }
   ],
   "source": [
    "# Get cleaned numerical column names\n",
    "num_cleaned_attribs = pipeline['syntaxclean'].get_num_feat_names()\n",
    "\n",
    "# Get one hot encoded column names\n",
    "ohe_attribs = pipeline['catprocess'].transformers_[0][1].get_feature_names(cat_attribs)\n",
    "\n",
    "# List of all columns \n",
    "attribs = list(ohe_attribs) + num_cleaned_attribs\n",
    "\n",
    "# Show prepared df\n",
    "X_prepared_df = pd.DataFrame(X_prepared, columns = attribs)\n",
    "X_prepared_df.head()"
   ]
  },
  {
   "cell_type": "code",
   "execution_count": 72,
   "metadata": {},
   "outputs": [],
   "source": [
    "# Convert to CSV\n",
    "X_prepared_df.to_csv('data/X_train_prepared.csv')"
   ]
  },
  {
   "cell_type": "markdown",
   "metadata": {},
   "source": [
    "## Modelling"
   ]
  },
  {
   "cell_type": "markdown",
   "metadata": {},
   "source": [
    "### Choice of Evaluation Metric"
   ]
  },
  {
   "cell_type": "markdown",
   "metadata": {},
   "source": [
    "As we saw in the previous section, we are dealing with unbalanced target classes."
   ]
  },
  {
   "cell_type": "code",
   "execution_count": 409,
   "metadata": {
    "scrolled": true
   },
   "outputs": [
    {
     "data": {
      "image/png": "[encoded data removed]",
      "text/plain": [
       "<Figure size 504x360 with 1 Axes>"
      ]
     },
     "metadata": {
      "needs_background": "light"
     },
     "output_type": "display_data"
    }
   ],
   "source": [
    "# Plot distribution of y\n",
    "plt.figure(figsize = (7,5))\n",
    "sns.countplot(df['y'], palette ='Accent')\n",
    "plt.xlabel('Term Deposit Subscription')\n",
    "plt.title('Distribution of Target Variable')\n",
    "plt.show()"
   ]
  },
  {
   "cell_type": "markdown",
   "metadata": {},
   "source": [
    "### Create Evaluation Test Set"
   ]
  },
  {
   "cell_type": "markdown",
   "metadata": {},
   "source": [
    "Let us load our prepared DataFrame."
   ]
  },
  {
   "cell_type": "code",
   "execution_count": 74,
   "metadata": {
    "scrolled": true
   },
   "outputs": [
    {
     "data": {
      "text/html": [
       "<div>\n",
       "<style scoped>\n",
       "    .dataframe tbody tr th:only-of-type {\n",
       "        vertical-align: middle;\n",
       "    }\n",
       "\n",
       "    .dataframe tbody tr th {\n",
       "        vertical-align: top;\n",
       "    }\n",
       "\n",
       "    .dataframe thead th {\n",
       "        text-align: right;\n",
       "    }\n",
       "</style>\n",
       "<table border=\"1\" class=\"dataframe\">\n",
       "  <thead>\n",
       "    <tr style=\"text-align: right;\">\n",
       "      <th></th>\n",
       "      <th>job_admin</th>\n",
       "      <th>job_blue-collar</th>\n",
       "      <th>job_entrepreneur</th>\n",
       "      <th>job_housemaid</th>\n",
       "      <th>job_management</th>\n",
       "      <th>job_retired</th>\n",
       "      <th>job_self-employed</th>\n",
       "      <th>job_services</th>\n",
       "      <th>job_student</th>\n",
       "      <th>job_technician</th>\n",
       "      <th>...</th>\n",
       "      <th>poutcome_failure</th>\n",
       "      <th>poutcome_nonexistent</th>\n",
       "      <th>poutcome_success</th>\n",
       "      <th>age</th>\n",
       "      <th>previous</th>\n",
       "      <th>emp_var_rate</th>\n",
       "      <th>cons_price_idx</th>\n",
       "      <th>cons_conf_idx</th>\n",
       "      <th>euribor3m</th>\n",
       "      <th>nr_employed</th>\n",
       "    </tr>\n",
       "  </thead>\n",
       "  <tbody>\n",
       "    <tr>\n",
       "      <td>0</td>\n",
       "      <td>1.0</td>\n",
       "      <td>0.0</td>\n",
       "      <td>0.0</td>\n",
       "      <td>0.0</td>\n",
       "      <td>0.0</td>\n",
       "      <td>0.0</td>\n",
       "      <td>0.0</td>\n",
       "      <td>0.0</td>\n",
       "      <td>0.0</td>\n",
       "      <td>0.0</td>\n",
       "      <td>...</td>\n",
       "      <td>0.0</td>\n",
       "      <td>1.0</td>\n",
       "      <td>0.0</td>\n",
       "      <td>-0.865590</td>\n",
       "      <td>-0.349621</td>\n",
       "      <td>-1.198872</td>\n",
       "      <td>-1.266936</td>\n",
       "      <td>-2.055296</td>\n",
       "      <td>-1.043383</td>\n",
       "      <td>-0.939255</td>\n",
       "    </tr>\n",
       "    <tr>\n",
       "      <td>1</td>\n",
       "      <td>1.0</td>\n",
       "      <td>0.0</td>\n",
       "      <td>0.0</td>\n",
       "      <td>0.0</td>\n",
       "      <td>0.0</td>\n",
       "      <td>0.0</td>\n",
       "      <td>0.0</td>\n",
       "      <td>0.0</td>\n",
       "      <td>0.0</td>\n",
       "      <td>0.0</td>\n",
       "      <td>...</td>\n",
       "      <td>0.0</td>\n",
       "      <td>1.0</td>\n",
       "      <td>0.0</td>\n",
       "      <td>-0.385264</td>\n",
       "      <td>-0.349621</td>\n",
       "      <td>0.647586</td>\n",
       "      <td>0.721261</td>\n",
       "      <td>0.888661</td>\n",
       "      <td>0.712281</td>\n",
       "      <td>0.331389</td>\n",
       "    </tr>\n",
       "    <tr>\n",
       "      <td>2</td>\n",
       "      <td>0.0</td>\n",
       "      <td>1.0</td>\n",
       "      <td>0.0</td>\n",
       "      <td>0.0</td>\n",
       "      <td>0.0</td>\n",
       "      <td>0.0</td>\n",
       "      <td>0.0</td>\n",
       "      <td>0.0</td>\n",
       "      <td>0.0</td>\n",
       "      <td>0.0</td>\n",
       "      <td>...</td>\n",
       "      <td>1.0</td>\n",
       "      <td>0.0</td>\n",
       "      <td>0.0</td>\n",
       "      <td>0.671453</td>\n",
       "      <td>1.665946</td>\n",
       "      <td>-1.198872</td>\n",
       "      <td>-1.180568</td>\n",
       "      <td>-1.232720</td>\n",
       "      <td>-1.357512</td>\n",
       "      <td>-0.939255</td>\n",
       "    </tr>\n",
       "    <tr>\n",
       "      <td>3</td>\n",
       "      <td>0.0</td>\n",
       "      <td>0.0</td>\n",
       "      <td>0.0</td>\n",
       "      <td>0.0</td>\n",
       "      <td>0.0</td>\n",
       "      <td>1.0</td>\n",
       "      <td>0.0</td>\n",
       "      <td>0.0</td>\n",
       "      <td>0.0</td>\n",
       "      <td>0.0</td>\n",
       "      <td>...</td>\n",
       "      <td>0.0</td>\n",
       "      <td>1.0</td>\n",
       "      <td>0.0</td>\n",
       "      <td>0.671453</td>\n",
       "      <td>-0.349621</td>\n",
       "      <td>0.838599</td>\n",
       "      <td>1.534850</td>\n",
       "      <td>-0.280263</td>\n",
       "      <td>0.775684</td>\n",
       "      <td>0.844348</td>\n",
       "    </tr>\n",
       "    <tr>\n",
       "      <td>4</td>\n",
       "      <td>0.0</td>\n",
       "      <td>0.0</td>\n",
       "      <td>0.0</td>\n",
       "      <td>0.0</td>\n",
       "      <td>0.0</td>\n",
       "      <td>0.0</td>\n",
       "      <td>0.0</td>\n",
       "      <td>1.0</td>\n",
       "      <td>0.0</td>\n",
       "      <td>0.0</td>\n",
       "      <td>...</td>\n",
       "      <td>0.0</td>\n",
       "      <td>1.0</td>\n",
       "      <td>0.0</td>\n",
       "      <td>0.671453</td>\n",
       "      <td>-0.349621</td>\n",
       "      <td>-1.198872</td>\n",
       "      <td>-1.180568</td>\n",
       "      <td>-1.232720</td>\n",
       "      <td>-1.370192</td>\n",
       "      <td>-0.939255</td>\n",
       "    </tr>\n",
       "  </tbody>\n",
       "</table>\n",
       "<p>5 rows × 54 columns</p>\n",
       "</div>"
      ],
      "text/plain": [
       "   job_admin  job_blue-collar  job_entrepreneur  job_housemaid  \\\n",
       "0        1.0              0.0               0.0            0.0   \n",
       "1        1.0              0.0               0.0            0.0   \n",
       "2        0.0              1.0               0.0            0.0   \n",
       "3        0.0              0.0               0.0            0.0   \n",
       "4        0.0              0.0               0.0            0.0   \n",
       "\n",
       "   job_management  job_retired  job_self-employed  job_services  job_student  \\\n",
       "0             0.0          0.0                0.0           0.0          0.0   \n",
       "1             0.0          0.0                0.0           0.0          0.0   \n",
       "2             0.0          0.0                0.0           0.0          0.0   \n",
       "3             0.0          1.0                0.0           0.0          0.0   \n",
       "4             0.0          0.0                0.0           1.0          0.0   \n",
       "\n",
       "   job_technician  ...  poutcome_failure  poutcome_nonexistent  \\\n",
       "0             0.0  ...               0.0                   1.0   \n",
       "1             0.0  ...               0.0                   1.0   \n",
       "2             0.0  ...               1.0                   0.0   \n",
       "3             0.0  ...               0.0                   1.0   \n",
       "4             0.0  ...               0.0                   1.0   \n",
       "\n",
       "   poutcome_success       age  previous  emp_var_rate  cons_price_idx  \\\n",
       "0               0.0 -0.865590 -0.349621     -1.198872       -1.266936   \n",
       "1               0.0 -0.385264 -0.349621      0.647586        0.721261   \n",
       "2               0.0  0.671453  1.665946     -1.198872       -1.180568   \n",
       "3               0.0  0.671453 -0.349621      0.838599        1.534850   \n",
       "4               0.0  0.671453 -0.349621     -1.198872       -1.180568   \n",
       "\n",
       "   cons_conf_idx  euribor3m  nr_employed  \n",
       "0      -2.055296  -1.043383    -0.939255  \n",
       "1       0.888661   0.712281     0.331389  \n",
       "2      -1.232720  -1.357512    -0.939255  \n",
       "3      -0.280263   0.775684     0.844348  \n",
       "4      -1.232720  -1.370192    -0.939255  \n",
       "\n",
       "[5 rows x 54 columns]"
      ]
     },
     "execution_count": 74,
     "metadata": {},
     "output_type": "execute_result"
    }
   ],
   "source": [
    "X = pd.read_csv('data/X_train_prepared.csv', index_col = 0)\n",
    "X.head()"
   ]
  },
  {
   "cell_type": "code",
   "execution_count": 88,
   "metadata": {},
   "outputs": [],
   "source": [
    "# Train-test Split\n",
    "X_train, X_test, y_train, y_test = train_test_split(X, y, test_size = 0.2, stratify=y, \\\n",
    "                                                    random_state = random_state)"
   ]
  },
  {
   "cell_type": "markdown",
   "metadata": {},
   "source": [
    "### Baseline Model"
   ]
  },
  {
   "cell_type": "markdown",
   "metadata": {},
   "source": [
    "As a starting point and baseline model, let us try logistic regression."
   ]
  },
  {
   "cell_type": "code",
   "execution_count": 207,
   "metadata": {
    "scrolled": true
   },
   "outputs": [
    {
     "data": {
      "text/plain": [
       "LogisticRegression(C=1e+17, class_weight=None, dual=False, fit_intercept=True,\n",
       "                   intercept_scaling=1, l1_ratio=None, max_iter=100,\n",
       "                   multi_class='auto', n_jobs=None, penalty='l2',\n",
       "                   random_state=0, solver='lbfgs', tol=0.0001, verbose=0,\n",
       "                   warm_start=False)"
      ]
     },
     "execution_count": 207,
     "metadata": {},
     "output_type": "execute_result"
    }
   ],
   "source": [
    "# Instantiate Logistic Regression\n",
    "logreg = LogisticRegression(fit_intercept = True, C = 1e17, random_state = random_state)\n",
    "\n",
    "# Fit classifier\n",
    "logreg.fit(X_train, y_train)"
   ]
  },
  {
   "cell_type": "code",
   "execution_count": 208,
   "metadata": {
    "scrolled": true
   },
   "outputs": [
    {
     "name": "stdout",
     "output_type": "stream",
     "text": [
      "Classification Report for Train set\n",
      "              precision    recall  f1-score   support\n",
      "\n",
      "           0       0.91      0.99      0.95     26314\n",
      "           1       0.67      0.24      0.35      3341\n",
      "\n",
      "    accuracy                           0.90     29655\n",
      "   macro avg       0.79      0.61      0.65     29655\n",
      "weighted avg       0.88      0.90      0.88     29655\n",
      "\n",
      "Classification Report for Test set\n",
      "              precision    recall  f1-score   support\n",
      "\n",
      "           0       0.91      0.98      0.94      6579\n",
      "           1       0.61      0.22      0.32       835\n",
      "\n",
      "    accuracy                           0.90      7414\n",
      "   macro avg       0.76      0.60      0.63      7414\n",
      "weighted avg       0.87      0.90      0.87      7414\n",
      "\n"
     ]
    }
   ],
   "source": [
    "# Get Predictions\n",
    "train_preds = logreg.predict(X_train)\n",
    "test_preds = logreg.predict(X_test)\n",
    "\n",
    "print('Classification Report for Train set')\n",
    "print(classification_report(y_train, train_preds))\n",
    "print('Classification Report for Test set')\n",
    "print(classification_report(y_test, test_preds))"
   ]
  },
  {
   "cell_type": "code",
   "execution_count": 209,
   "metadata": {
    "scrolled": true
   },
   "outputs": [
    {
     "data": {
      "image/png": "[encoded data removed]",
      "text/plain": [
       "<Figure size 720x432 with 4 Axes>"
      ]
     },
     "metadata": {
      "needs_background": "light"
     },
     "output_type": "display_data"
    }
   ],
   "source": [
    "# Plot confusion matrices for train and test sets\n",
    "fig, axes = plt.subplots(1,2, figsize = (10,6), sharey = 'row')\n",
    "\n",
    "plot_confusion_matrix(logreg, X_train, y_train,values_format = '.0f', ax = axes[0])\n",
    "axes[0].set_title('Training Set Confusion Matrix') u\n",
    "plot_confusion_matrix(logreg, X_test, y_test, values_format = '.0f', ax = axes[1])\n",
    "axes[1].set_title('Test Set Confusion Matrix')\n",
    "plt.show()"
   ]
  },
  {
   "cell_type": "code",
   "execution_count": 235,
   "metadata": {},
   "outputs": [
    {
     "data": {
      "image/png": "[encoded data removed]",
      "text/plain": [
       "<Figure size 936x432 with 2 Axes>"
      ]
     },
     "metadata": {
      "needs_background": "light"
     },
     "output_type": "display_data"
    }
   ],
   "source": [
    "y_train_score = logreg.fit(X_train, y_train).decision_function(X_train)\n",
    "y_test_score = logreg.fit(X_train, y_train).decision_function(X_test)\n",
    "\n",
    "fpr_train, tpr_train, thresholds = roc_curve(y_train, y_train_score)\n",
    "fpr_test, tpr_test, thresholds = roc_curve(y_test, y_test_score)\n",
    "\n",
    "# Plot ROC side by side\n",
    "fig, axes = plt.subplots(1,2, figsize = (13,6))\n",
    "axes[0].plot(fpr_train, tpr_train, color='darkorange', lw=4, label='Logistic Regression')\n",
    "axes[1].plot(fpr_test, tpr_test, color='darkorange', lw=4, label='Logistic Regression')\n",
    "for ax in axes:\n",
    "    ax.plot([0, 1], [0, 1], color='navy', lw=2, linestyle='--')\n",
    "    ax.set_xlabel('False Positive Rate')\n",
    "    ax.set_ylabel('True Positive Rate')\n",
    "    ax.legend(loc='lower right')\n",
    "axes[0].set_title('Receiver operating characteristic (ROC) Curve \\n Training Set')\n",
    "axes[1].set_title('Receiver operating characteristic (ROC) Curve \\n Test Set')\n",
    "plt.show()"
   ]
  },
  {
   "cell_type": "markdown",
   "metadata": {},
   "source": [
    "### Dealing with Class Imbalance"
   ]
  },
  {
   "cell_type": "markdown",
   "metadata": {},
   "source": [
    "We will try two methods to adjust for the class imabalance.\n",
    "\n",
    "First we will investigate adjusting the weights to be inversely proportional to the frequency of the classes. With Sklearn, we can set the `class_weight` parameter to be `balanced`. This means that mistakes for the minority class will be more strongly penalized than mistakes for the majority class."
   ]
  },
  {
   "cell_type": "code",
   "execution_count": 129,
   "metadata": {
    "scrolled": false
   },
   "outputs": [
    {
     "name": "stdout",
     "output_type": "stream",
     "text": [
      "Classification Report for Train set\n",
      "              precision    recall  f1-score   support\n",
      "\n",
      "           0       0.95      0.86      0.90     26314\n",
      "           1       0.36      0.63      0.46      3341\n",
      "\n",
      "    accuracy                           0.83     29655\n",
      "   macro avg       0.66      0.75      0.68     29655\n",
      "weighted avg       0.88      0.83      0.85     29655\n",
      "\n",
      "Classification Report for Test set\n",
      "              precision    recall  f1-score   support\n",
      "\n",
      "           0       0.95      0.85      0.90      6579\n",
      "           1       0.35      0.62      0.44       835\n",
      "\n",
      "    accuracy                           0.83      7414\n",
      "   macro avg       0.65      0.73      0.67      7414\n",
      "weighted avg       0.88      0.83      0.85      7414\n",
      "\n"
     ]
    }
   ],
   "source": [
    "# Instantiate \n",
    "logreg = LogisticRegression(fit_intercept = True, C = 1e17, random_state = random_state, class_weight= 'balanced')\n",
    "\n",
    "# Fit Model\n",
    "logreg.fit(X_train, y_train)\n",
    "\n",
    "# Get Predictions\n",
    "train_preds = logreg.predict(X_train)\n",
    "test_preds = logreg.predict(X_test)\n",
    "\n",
    "print('Classification Report for Train set')\n",
    "print(classification_report(y_train, train_preds))\n",
    "print('Classification Report for Test set')\n",
    "print(classification_report(y_test, test_preds))"
   ]
  },
  {
   "cell_type": "markdown",
   "metadata": {},
   "source": [
    "Now let us try using SMOTE (Synthetic Minority Oversampling Technique). This creates new synthetic data of the minority class."
   ]
  },
  {
   "cell_type": "code",
   "execution_count": 130,
   "metadata": {
    "scrolled": true
   },
   "outputs": [
    {
     "name": "stdout",
     "output_type": "stream",
     "text": [
      "Classification Report for Train set\n",
      "              precision    recall  f1-score   support\n",
      "\n",
      "           0       0.70      0.86      0.77     26314\n",
      "           1       0.82      0.63      0.71     26314\n",
      "\n",
      "    accuracy                           0.74     52628\n",
      "   macro avg       0.76      0.74      0.74     52628\n",
      "weighted avg       0.76      0.74      0.74     52628\n",
      "\n",
      "Classification Report for Test set\n",
      "              precision    recall  f1-score   support\n",
      "\n",
      "           0       0.95      0.85      0.90      6579\n",
      "           1       0.35      0.61      0.44       835\n",
      "\n",
      "    accuracy                           0.83      7414\n",
      "   macro avg       0.65      0.73      0.67      7414\n",
      "weighted avg       0.88      0.83      0.85      7414\n",
      "\n"
     ]
    }
   ],
   "source": [
    "# Create instance of SMOTE\n",
    "smote = SMOTE()\n",
    "\n",
    "# Apply smote\n",
    "X_train_resampled, y_train_resampled = smote.fit_sample(X_train, y_train)\n",
    "\n",
    "# Instantiate \n",
    "logreg = LogisticRegression(fit_intercept = True, C = 1e17, random_state = random_state)\n",
    "\n",
    "# Fit Model\n",
    "logreg.fit(X_train_resampled, y_train_resampled)\n",
    "\n",
    "# Get Predictions\n",
    "train_preds = logreg.predict(X_train_resampled)\n",
    "test_preds = logreg.predict(X_test)\n",
    "\n",
    "print('Classification Report for Train set')\n",
    "print(classification_report(y_train_resampled, train_preds))\n",
    "print('Classification Report for Test set')\n",
    "print(classification_report(y_test, test_preds))"
   ]
  },
  {
   "cell_type": "markdown",
   "metadata": {},
   "source": [
    "Both methods have given good results, but we will choose to use SMOTE as it is more widely used and will work for non-parametric classifiers when we do not have the option to adjust class weights to `balanced`."
   ]
  },
  {
   "cell_type": "markdown",
   "metadata": {},
   "source": [
    "Going forward, we will therefore use `X_train_resampled` and `y_train_resampled` and be sure to incorporate SMOTE into our final pipeline."
   ]
  },
  {
   "cell_type": "markdown",
   "metadata": {},
   "source": [
    "### Classifiers"
   ]
  },
  {
   "cell_type": "code",
   "execution_count": 377,
   "metadata": {},
   "outputs": [],
   "source": [
    "# Create a dictionary of classifiers\n",
    "clf_dict = {\n",
    "    'Logistic Regression': LogisticRegression(random_state = random_state),\n",
    "    'K-Nearest Neighbours': KNeighborsClassifier(),\n",
    "    'Decision Tree': DecisionTreeClassifier(random_state = random_state),\n",
    "    'Naive Bayes': GaussianNB(),\n",
    "    'Support Vector Classification': SVC(random_state = random_state),\n",
    "    'Random Forrest': RandomForestClassifier(random_state = random_state),\n",
    "    'AdaBoost': AdaBoostClassifier(random_state = random_state),\n",
    "    'Gradient Boosting': GradientBoostingClassifier(random_state = random_state),\n",
    "   # 'XGBoost': xgb.XGBClassifier(random_state = random_state)\n",
    "}"
   ]
  },
  {
   "cell_type": "code",
   "execution_count": 378,
   "metadata": {},
   "outputs": [],
   "source": [
    "# Define function to batch classify\n",
    "\n",
    "def batch_clf(X_train, y_train, X_test, y_test, clf_dict, verbose = True):\n",
    "    '''\n",
    "    Fits a dictionary of classifiers onto Training Set and returns a table showing scores\n",
    "    \n",
    "    Return: results dataframe\n",
    "    '''\n",
    "    # Create empty DataFrame to store results\n",
    "    times = []\n",
    "    train_acc_scores = []\n",
    "    test_acc_scores = []\n",
    "    train_f1_scores = []\n",
    "    test_f1_scores = []\n",
    "    train_precision_scores = []\n",
    "    test_precision_scores = []\n",
    "    train_recall_scores = []\n",
    "    test_recall_scores = []\n",
    "    train_roc_data = []\n",
    "    test_roc_data = []\n",
    "    \n",
    "    # Loop through dictionary items\n",
    "    for key, clf in clf_dict.items():\n",
    "        start_time = time.clock()\n",
    "        \n",
    "        # Fit classifier\n",
    "        clf_fitted = clf.fit(X_train,y_train)\n",
    "        \n",
    "        # Get Predictions\n",
    "        train_preds = clf_fitted.predict(X_train)\n",
    "        test_preds = clf_fitted.predict(X_test)\n",
    "  \n",
    "        \n",
    "        # Get accuracy scores\n",
    "        train_acc = accuracy_score(y_train, train_preds)\n",
    "        train_acc_scores.append(round(train_acc,2))\n",
    "        test_acc = accuracy_score(y_test, test_preds)\n",
    "        test_acc_scores.append(round(test_acc,2))\n",
    "        \n",
    "        # Get F1 Scores\n",
    "        train_f1 = f1_score(y_train, train_preds)\n",
    "        train_f1_scores.append(round(train_f1,2))\n",
    "        test_f1 = f1_score(y_test, test_preds)\n",
    "        test_f1_scores.append(round(test_f1,2))\n",
    "        \n",
    "        # Get Precision Scores\n",
    "        train_precision = precision_score(y_train, train_preds)\n",
    "        train_precision_scores.append(round(train_precision,2))\n",
    "        test_precision = precision_score(y_test, test_preds)\n",
    "        test_precision_scores.append(round(test_precision,2))\n",
    "        \n",
    "        # Get Recall Scores\n",
    "        train_recall = recall_score(y_train, train_preds)\n",
    "        train_recall_scores.append(round(train_recall,2))\n",
    "        test_recall = recall_score(y_test, test_preds)\n",
    "        test_recall_scores.append(round(test_recall,2))\n",
    "        \n",
    "        # try decision_function, if not use predict_proba\n",
    "        try:\n",
    "            train_prob = clf_fitted.decision_function(X_train)\n",
    "            fpr, tpr, thresholds = roc_curve(y_train, train_prob)\n",
    "            train_roc_data.append([fpr, tpr, thresholds])\n",
    "            test_prob = clf_fitted.decision_function(X_test)\n",
    "            fpr, tpr, thresholds = roc_curve(y_test, test_prob)\n",
    "            test_roc_data.append([fpr, tpr, thresholds])\n",
    "            \n",
    "            \n",
    "        except:\n",
    "            train_prob = clf_fitted.predict_proba(X_train)\n",
    "            fpr, tpr, thresholds = roc_curve(y_train, train_prob[:,1])\n",
    "            train_roc_data.append([fpr, tpr, thresholds])\n",
    "            \n",
    "            test_prob = clf_fitted.predict_proba(X_test)\n",
    "            fpr, tpr, thresholds = roc_curve(y_test, test_prob[:,1])\n",
    "            test_roc_data.append([fpr, tpr, thresholds])\n",
    "    \n",
    "        \n",
    "        end_time = time.clock()\n",
    "        time_elapsed = end_time - start_time\n",
    "        times.append(round(time_elapsed,2))\n",
    "        \n",
    "        if verbose:\n",
    "            print(f'trained {key} in {round(time_elapsed,2)}')\n",
    "        \n",
    "    # Create results dataframe\n",
    "    results = pd.DataFrame({'Model': list(clf_dict.keys()), \n",
    "                            'Time': times,\n",
    "                            'Train Accuracy': train_acc_scores,\n",
    "                            'Test Accuracy': test_acc_scores, \n",
    "                            'Train F1': train_f1_scores,\n",
    "                            'Test F1': test_f1_scores,\n",
    "                            'Train Precision' : train_precision_scores,\n",
    "                            'Test Precision' : test_precision_scores,\n",
    "                            'Train Recall': train_recall_scores,\n",
    "                            'Test Recall': test_recall_scores\n",
    "                            })\n",
    "    \n",
    "   # Plot side by side ROC curve\n",
    "    fig, axes = plt.subplots(1,2, figsize = (13,6))\n",
    "    \n",
    "    for i in range(len(train_roc_data)):\n",
    "        axes[0].plot(train_roc_data[i][0], train_roc_data[i][1], lw=4, \\\n",
    "                 label= f'{list(clf_dict.keys())[i]}')\n",
    "        \n",
    "    for i in range(len(test_roc_data)):\n",
    "        axes[1].plot(test_roc_data[i][0], test_roc_data[i][1], lw=4, \\\n",
    "                 label= f'{list(clf_dict.keys())[i]}')    \n",
    "        \n",
    "    for ax in axes:\n",
    "        ax.plot([0, 1], [0, 1], color='navy', lw=2, linestyle='--')\n",
    "        ax.set_xlabel('False Positive Rate')\n",
    "        ax.set_ylabel('True Positive Rate')\n",
    "        ax.legend(loc='lower right')\n",
    "    axes[0].set_title('Receiver operating characteristic (ROC) Curve \\n Training Set')\n",
    "    axes[1].set_title('Receiver operating characteristic (ROC) Curve \\n Test Set')\n",
    "    plt.show()\n",
    "\n",
    "    return results"
   ]
  },
  {
   "cell_type": "code",
   "execution_count": 379,
   "metadata": {
    "scrolled": false
   },
   "outputs": [
    {
     "name": "stdout",
     "output_type": "stream",
     "text": [
      "trained Logistic Regression in 1.95\n",
      "trained K-Nearest Neighbours in 63.93\n",
      "trained Decision Tree in 0.73\n",
      "trained Naive Bayes in 0.78\n",
      "trained Support Vector Classification in 349.01\n",
      "trained Random Forrest in 7.68\n",
      "trained AdaBoost in 16.1\n",
      "trained Gradient Boosting in 15.28\n"
     ]
    },
    {
     "data": {
      "image/png": "[encoded data removed]",
      "text/plain": [
       "<Figure size 936x432 with 2 Axes>"
      ]
     },
     "metadata": {
      "needs_background": "light"
     },
     "output_type": "display_data"
    },
    {
     "data": {
      "text/html": [
       "<div>\n",
       "<style scoped>\n",
       "    .dataframe tbody tr th:only-of-type {\n",
       "        vertical-align: middle;\n",
       "    }\n",
       "\n",
       "    .dataframe tbody tr th {\n",
       "        vertical-align: top;\n",
       "    }\n",
       "\n",
       "    .dataframe thead th {\n",
       "        text-align: right;\n",
       "    }\n",
       "</style>\n",
       "<table border=\"1\" class=\"dataframe\">\n",
       "  <thead>\n",
       "    <tr style=\"text-align: right;\">\n",
       "      <th></th>\n",
       "      <th>Model</th>\n",
       "      <th>Time</th>\n",
       "      <th>Train Accuracy</th>\n",
       "      <th>Test Accuracy</th>\n",
       "      <th>Train F1</th>\n",
       "      <th>Test F1</th>\n",
       "      <th>Train Precision</th>\n",
       "      <th>Test Precision</th>\n",
       "      <th>Train Recall</th>\n",
       "      <th>Test Recall</th>\n",
       "    </tr>\n",
       "  </thead>\n",
       "  <tbody>\n",
       "    <tr>\n",
       "      <td>0</td>\n",
       "      <td>Logistic Regression</td>\n",
       "      <td>1.95</td>\n",
       "      <td>0.74</td>\n",
       "      <td>0.83</td>\n",
       "      <td>0.71</td>\n",
       "      <td>0.44</td>\n",
       "      <td>0.82</td>\n",
       "      <td>0.34</td>\n",
       "      <td>0.63</td>\n",
       "      <td>0.61</td>\n",
       "    </tr>\n",
       "    <tr>\n",
       "      <td>1</td>\n",
       "      <td>K-Nearest Neighbours</td>\n",
       "      <td>63.93</td>\n",
       "      <td>0.90</td>\n",
       "      <td>0.74</td>\n",
       "      <td>0.90</td>\n",
       "      <td>0.34</td>\n",
       "      <td>0.85</td>\n",
       "      <td>0.24</td>\n",
       "      <td>0.97</td>\n",
       "      <td>0.61</td>\n",
       "    </tr>\n",
       "    <tr>\n",
       "      <td>2</td>\n",
       "      <td>Decision Tree</td>\n",
       "      <td>0.73</td>\n",
       "      <td>0.99</td>\n",
       "      <td>0.85</td>\n",
       "      <td>0.99</td>\n",
       "      <td>0.35</td>\n",
       "      <td>1.00</td>\n",
       "      <td>0.34</td>\n",
       "      <td>0.99</td>\n",
       "      <td>0.37</td>\n",
       "    </tr>\n",
       "    <tr>\n",
       "      <td>3</td>\n",
       "      <td>Naive Bayes</td>\n",
       "      <td>0.78</td>\n",
       "      <td>0.67</td>\n",
       "      <td>0.54</td>\n",
       "      <td>0.71</td>\n",
       "      <td>0.28</td>\n",
       "      <td>0.63</td>\n",
       "      <td>0.17</td>\n",
       "      <td>0.83</td>\n",
       "      <td>0.81</td>\n",
       "    </tr>\n",
       "    <tr>\n",
       "      <td>4</td>\n",
       "      <td>Support Vector Classification</td>\n",
       "      <td>349.01</td>\n",
       "      <td>0.83</td>\n",
       "      <td>0.87</td>\n",
       "      <td>0.82</td>\n",
       "      <td>0.47</td>\n",
       "      <td>0.91</td>\n",
       "      <td>0.43</td>\n",
       "      <td>0.75</td>\n",
       "      <td>0.51</td>\n",
       "    </tr>\n",
       "    <tr>\n",
       "      <td>5</td>\n",
       "      <td>Random Forrest</td>\n",
       "      <td>7.68</td>\n",
       "      <td>0.99</td>\n",
       "      <td>0.88</td>\n",
       "      <td>0.99</td>\n",
       "      <td>0.40</td>\n",
       "      <td>1.00</td>\n",
       "      <td>0.44</td>\n",
       "      <td>0.99</td>\n",
       "      <td>0.37</td>\n",
       "    </tr>\n",
       "    <tr>\n",
       "      <td>6</td>\n",
       "      <td>AdaBoost</td>\n",
       "      <td>16.10</td>\n",
       "      <td>0.85</td>\n",
       "      <td>0.85</td>\n",
       "      <td>0.84</td>\n",
       "      <td>0.46</td>\n",
       "      <td>0.88</td>\n",
       "      <td>0.39</td>\n",
       "      <td>0.80</td>\n",
       "      <td>0.54</td>\n",
       "    </tr>\n",
       "    <tr>\n",
       "      <td>7</td>\n",
       "      <td>Gradient Boosting</td>\n",
       "      <td>15.28</td>\n",
       "      <td>0.90</td>\n",
       "      <td>0.88</td>\n",
       "      <td>0.90</td>\n",
       "      <td>0.48</td>\n",
       "      <td>0.93</td>\n",
       "      <td>0.46</td>\n",
       "      <td>0.87</td>\n",
       "      <td>0.49</td>\n",
       "    </tr>\n",
       "  </tbody>\n",
       "</table>\n",
       "</div>"
      ],
      "text/plain": [
       "                           Model    Time  Train Accuracy  Test Accuracy  \\\n",
       "0            Logistic Regression    1.95            0.74           0.83   \n",
       "1           K-Nearest Neighbours   63.93            0.90           0.74   \n",
       "2                  Decision Tree    0.73            0.99           0.85   \n",
       "3                    Naive Bayes    0.78            0.67           0.54   \n",
       "4  Support Vector Classification  349.01            0.83           0.87   \n",
       "5                 Random Forrest    7.68            0.99           0.88   \n",
       "6                       AdaBoost   16.10            0.85           0.85   \n",
       "7              Gradient Boosting   15.28            0.90           0.88   \n",
       "\n",
       "   Train F1  Test F1  Train Precision  Test Precision  Train Recall  \\\n",
       "0      0.71     0.44             0.82            0.34          0.63   \n",
       "1      0.90     0.34             0.85            0.24          0.97   \n",
       "2      0.99     0.35             1.00            0.34          0.99   \n",
       "3      0.71     0.28             0.63            0.17          0.83   \n",
       "4      0.82     0.47             0.91            0.43          0.75   \n",
       "5      0.99     0.40             1.00            0.44          0.99   \n",
       "6      0.84     0.46             0.88            0.39          0.80   \n",
       "7      0.90     0.48             0.93            0.46          0.87   \n",
       "\n",
       "   Test Recall  \n",
       "0         0.61  \n",
       "1         0.61  \n",
       "2         0.37  \n",
       "3         0.81  \n",
       "4         0.51  \n",
       "5         0.37  \n",
       "6         0.54  \n",
       "7         0.49  "
      ]
     },
     "execution_count": 379,
     "metadata": {},
     "output_type": "execute_result"
    }
   ],
   "source": [
    "batch_clf(X_train_resampled, y_train_resampled, X_test, y_test, clf_dict)"
   ]
  },
  {
   "cell_type": "markdown",
   "metadata": {},
   "source": [
    "### Tuning Classifiers with GridSearchCV"
   ]
  },
  {
   "cell_type": "markdown",
   "metadata": {},
   "source": [
    "Let us use GridSearchCV to find the best hyperparameters and perform cross validation too."
   ]
  },
  {
   "cell_type": "markdown",
   "metadata": {},
   "source": [
    "We begin by defining the parameter grid for our classifiers."
   ]
  },
  {
   "cell_type": "code",
   "execution_count": 380,
   "metadata": {},
   "outputs": [],
   "source": [
    "# Define param grid\n",
    "RF_params = {\n",
    "    'clf__max_depth': [5, 30],\n",
    "    'clf__criterion': ['gini', 'entropy'],\n",
    "    'clf__n_estimators': [100, 300]\n",
    "}\n",
    "\n",
    "DT_params = {\n",
    "    'clf__max_depth': [25, 50],\n",
    "    'clf__criterion': ['gini', 'entropy'],\n",
    "    'clf__min_samples_split': [6, 10],\n",
    "}\n",
    "\n",
    "LR_params = {\n",
    "    'clf__solver': ['liblinear'],\n",
    "    'clf__C': [0.1, 1],\n",
    "}\n",
    "\n",
    "KNN_params = {\n",
    "    'clf__n_neighbors': [5, 15],\n",
    "    'clf__weights': ['uniform', 'distance'],\n",
    "    'clf__p': [1, 5]\n",
    "}"
   ]
  },
  {
   "cell_type": "code",
   "execution_count": 381,
   "metadata": {},
   "outputs": [],
   "source": [
    "# Create a dictionary of classifiers\n",
    "clf_dict = {\n",
    "    'Logistic Regression': LogisticRegression(random_state = random_state),\n",
    "    'K-Nearest Neighbours': KNeighborsClassifier(),\n",
    "    'Decision Tree': DecisionTreeClassifier(random_state = random_state),\n",
    "    'Naive Bayes': GaussianNB(),\n",
    "    'Support Vector Classification': SVC(random_state = random_state),\n",
    "    'Random Forrest': RandomForestClassifier(random_state = random_state),\n",
    "    'AdaBoost': AdaBoostClassifier(random_state = random_state),\n",
    "    'Gradient Boosting': GradientBoostingClassifier(random_state = random_state),\n",
    "}"
   ]
  },
  {
   "cell_type": "code",
   "execution_count": 382,
   "metadata": {},
   "outputs": [],
   "source": [
    "# Create new empty dictionary\n",
    "tuning_clf_dict = {}\n",
    "\n",
    "for k,v in clf_dict.items():\n",
    "    tuning_clf_dict[k] = {}\n",
    "    # Add clfs\n",
    "    tuning_clf_dict[k]['clf'] = v\n",
    "    \n",
    "# Remove SVM\n",
    "del tuning_clf_dict['Support Vector Classification']\n",
    "\n",
    "    \n",
    "# Add Pipeline to nested dictionary\n",
    "for k in tuning_clf_dict.keys():\n",
    "    tuning_clf_dict[k]['pipeline'] = Pipeline([('smote', smote), ('clf', tuning_clf_dict[k]['clf'])])"
   ]
  },
  {
   "cell_type": "code",
   "execution_count": 383,
   "metadata": {},
   "outputs": [],
   "source": [
    "# Add param grid to nested dictionary\n",
    "\n",
    "# Add key param_grid and default empty dictionary value\n",
    "for k in tuning_clf_dict.keys():\n",
    "    tuning_clf_dict[k]['param_grid'] = {}\n",
    "\n",
    "# Reassign parameter grid to parametric classifiers\n",
    "tuning_clf_dict['Logistic Regression']['param_grid'] = LR_params\n",
    "tuning_clf_dict['Decision Tree']['param_grid'] = DT_params\n",
    "tuning_clf_dict['Random Forrest']['param_grid'] = RF_params\n",
    "tuning_clf_dict['K-Nearest Neighbours']['param_grid'] = KNN_params"
   ]
  },
  {
   "cell_type": "code",
   "execution_count": 384,
   "metadata": {},
   "outputs": [],
   "source": [
    "# Add GridSearchCV to nested dictionary\n",
    "cv = 2\n",
    "scoring = 'recall'\n",
    "\n",
    "for k in tuning_clf_dict.keys():\n",
    "    tuning_clf_dict[k]['gridsearchcv'] = GridSearchCV(estimator = tuning_clf_dict[k]['pipeline'], \n",
    "                                                  param_grid = tuning_clf_dict[k]['param_grid'],\n",
    "                                                  scoring = scoring,\n",
    "                                                  cv = cv)"
   ]
  },
  {
   "cell_type": "code",
   "execution_count": 385,
   "metadata": {},
   "outputs": [],
   "source": [
    "# Extract \n",
    "grid_dict = {}\n",
    "\n",
    "for k in tuning_clf_dict.keys():\n",
    "    grid_dict[k] = tuning_clf_dict[k]['gridsearchcv']"
   ]
  },
  {
   "cell_type": "code",
   "execution_count": 386,
   "metadata": {},
   "outputs": [
    {
     "name": "stdout",
     "output_type": "stream",
     "text": [
      "trained Logistic Regression in 6.74\n",
      "trained K-Nearest Neighbours in 478.97\n",
      "trained Decision Tree in 15.51\n",
      "trained Naive Bayes in 2.59\n",
      "trained Random Forrest in 79.0\n",
      "trained AdaBoost in 22.19\n",
      "trained Gradient Boosting in 27.92\n"
     ]
    },
    {
     "data": {
      "image/png": "[encoded data removed]",
      "text/plain": [
       "<Figure size 936x432 with 2 Axes>"
      ]
     },
     "metadata": {
      "needs_background": "light"
     },
     "output_type": "display_data"
    },
    {
     "data": {
      "text/html": [
       "<div>\n",
       "<style scoped>\n",
       "    .dataframe tbody tr th:only-of-type {\n",
       "        vertical-align: middle;\n",
       "    }\n",
       "\n",
       "    .dataframe tbody tr th {\n",
       "        vertical-align: top;\n",
       "    }\n",
       "\n",
       "    .dataframe thead th {\n",
       "        text-align: right;\n",
       "    }\n",
       "</style>\n",
       "<table border=\"1\" class=\"dataframe\">\n",
       "  <thead>\n",
       "    <tr style=\"text-align: right;\">\n",
       "      <th></th>\n",
       "      <th>Model</th>\n",
       "      <th>Time</th>\n",
       "      <th>Train Accuracy</th>\n",
       "      <th>Test Accuracy</th>\n",
       "      <th>Train F1</th>\n",
       "      <th>Test F1</th>\n",
       "      <th>Train Precision</th>\n",
       "      <th>Test Precision</th>\n",
       "      <th>Train Recall</th>\n",
       "      <th>Test Recall</th>\n",
       "    </tr>\n",
       "  </thead>\n",
       "  <tbody>\n",
       "    <tr>\n",
       "      <td>0</td>\n",
       "      <td>Logistic Regression</td>\n",
       "      <td>6.74</td>\n",
       "      <td>0.83</td>\n",
       "      <td>0.82</td>\n",
       "      <td>0.45</td>\n",
       "      <td>0.44</td>\n",
       "      <td>0.35</td>\n",
       "      <td>0.34</td>\n",
       "      <td>0.64</td>\n",
       "      <td>0.62</td>\n",
       "    </tr>\n",
       "    <tr>\n",
       "      <td>1</td>\n",
       "      <td>K-Nearest Neighbours</td>\n",
       "      <td>478.97</td>\n",
       "      <td>0.65</td>\n",
       "      <td>0.59</td>\n",
       "      <td>0.38</td>\n",
       "      <td>0.29</td>\n",
       "      <td>0.24</td>\n",
       "      <td>0.18</td>\n",
       "      <td>0.95</td>\n",
       "      <td>0.76</td>\n",
       "    </tr>\n",
       "    <tr>\n",
       "      <td>2</td>\n",
       "      <td>Decision Tree</td>\n",
       "      <td>15.51</td>\n",
       "      <td>0.94</td>\n",
       "      <td>0.85</td>\n",
       "      <td>0.71</td>\n",
       "      <td>0.33</td>\n",
       "      <td>0.80</td>\n",
       "      <td>0.34</td>\n",
       "      <td>0.63</td>\n",
       "      <td>0.31</td>\n",
       "    </tr>\n",
       "    <tr>\n",
       "      <td>3</td>\n",
       "      <td>Naive Bayes</td>\n",
       "      <td>2.59</td>\n",
       "      <td>0.54</td>\n",
       "      <td>0.54</td>\n",
       "      <td>0.28</td>\n",
       "      <td>0.28</td>\n",
       "      <td>0.17</td>\n",
       "      <td>0.17</td>\n",
       "      <td>0.81</td>\n",
       "      <td>0.81</td>\n",
       "    </tr>\n",
       "    <tr>\n",
       "      <td>4</td>\n",
       "      <td>Random Forrest</td>\n",
       "      <td>79.00</td>\n",
       "      <td>0.84</td>\n",
       "      <td>0.84</td>\n",
       "      <td>0.47</td>\n",
       "      <td>0.45</td>\n",
       "      <td>0.38</td>\n",
       "      <td>0.36</td>\n",
       "      <td>0.63</td>\n",
       "      <td>0.60</td>\n",
       "    </tr>\n",
       "    <tr>\n",
       "      <td>5</td>\n",
       "      <td>AdaBoost</td>\n",
       "      <td>22.19</td>\n",
       "      <td>0.87</td>\n",
       "      <td>0.86</td>\n",
       "      <td>0.47</td>\n",
       "      <td>0.46</td>\n",
       "      <td>0.43</td>\n",
       "      <td>0.41</td>\n",
       "      <td>0.54</td>\n",
       "      <td>0.52</td>\n",
       "    </tr>\n",
       "    <tr>\n",
       "      <td>6</td>\n",
       "      <td>Gradient Boosting</td>\n",
       "      <td>27.92</td>\n",
       "      <td>0.88</td>\n",
       "      <td>0.88</td>\n",
       "      <td>0.50</td>\n",
       "      <td>0.48</td>\n",
       "      <td>0.49</td>\n",
       "      <td>0.46</td>\n",
       "      <td>0.52</td>\n",
       "      <td>0.49</td>\n",
       "    </tr>\n",
       "  </tbody>\n",
       "</table>\n",
       "</div>"
      ],
      "text/plain": [
       "                  Model    Time  Train Accuracy  Test Accuracy  Train F1  \\\n",
       "0   Logistic Regression    6.74            0.83           0.82      0.45   \n",
       "1  K-Nearest Neighbours  478.97            0.65           0.59      0.38   \n",
       "2         Decision Tree   15.51            0.94           0.85      0.71   \n",
       "3           Naive Bayes    2.59            0.54           0.54      0.28   \n",
       "4        Random Forrest   79.00            0.84           0.84      0.47   \n",
       "5              AdaBoost   22.19            0.87           0.86      0.47   \n",
       "6     Gradient Boosting   27.92            0.88           0.88      0.50   \n",
       "\n",
       "   Test F1  Train Precision  Test Precision  Train Recall  Test Recall  \n",
       "0     0.44             0.35            0.34          0.64         0.62  \n",
       "1     0.29             0.24            0.18          0.95         0.76  \n",
       "2     0.33             0.80            0.34          0.63         0.31  \n",
       "3     0.28             0.17            0.17          0.81         0.81  \n",
       "4     0.45             0.38            0.36          0.63         0.60  \n",
       "5     0.46             0.43            0.41          0.54         0.52  \n",
       "6     0.48             0.49            0.46          0.52         0.49  "
      ]
     },
     "execution_count": 386,
     "metadata": {},
     "output_type": "execute_result"
    }
   ],
   "source": [
    "batch_clf(X_train, y_train, X_test, y_test, grid_dict)"
   ]
  },
  {
   "cell_type": "markdown",
   "metadata": {},
   "source": [
    "### Other Ensemble Methods"
   ]
  },
  {
   "cell_type": "code",
   "execution_count": null,
   "metadata": {},
   "outputs": [],
   "source": []
  }
 ],
 "metadata": {
  "kernelspec": {
   "display_name": "Python [conda env:learn-env] *",
   "language": "python",
   "name": "conda-env-learn-env-py"
  },
  "language_info": {
   "codemirror_mode": {
    "name": "ipython",
    "version": 3
   },
   "file_extension": ".py",
   "mimetype": "text/x-python",
   "name": "python",
   "nbconvert_exporter": "python",
   "pygments_lexer": "ipython3",
   "version": "3.6.9"
  },
  "toc": {
   "base_numbering": 1,
   "nav_menu": {},
   "number_sections": true,
   "sideBar": true,
   "skip_h1_title": true,
   "title_cell": "Table of Contents",
   "title_sidebar": "Contents",
   "toc_cell": false,
   "toc_position": {
    "height": "calc(100% - 180px)",
    "left": "10px",
    "top": "150px",
    "width": "281.188px"
   },
   "toc_section_display": true,
   "toc_window_display": true
  }
 },
 "nbformat": 4,
 "nbformat_minor": 2
}
