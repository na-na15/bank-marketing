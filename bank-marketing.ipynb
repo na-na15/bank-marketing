{
 "cells": [
  {
   "cell_type": "markdown",
   "metadata": {},
   "source": [
    "**Final Project Submission** \n",
    "\n",
    "Please fill out:\n",
    "* Student name: \n",
    "* Student pace: self paced / part time / full time\n",
    "* Scheduled project review date/time: \n",
    "* Instructor name: \n",
    "* Blog post URL:\n"
   ]
  },
  {
   "cell_type": "markdown",
   "metadata": {},
   "source": [
    "# Bank Marketing Campaign"
   ]
  },
  {
   "cell_type": "markdown",
   "metadata": {},
   "source": [
    "This project was completed as part of Flatiron School's Data Science Bootcamp (Module 3 Final Project)."
   ]
  },
  {
   "cell_type": "markdown",
   "metadata": {},
   "source": [
    "## Introduction"
   ]
  },
  {
   "cell_type": "markdown",
   "metadata": {},
   "source": [
    "### Problem Statement"
   ]
  },
  {
   "cell_type": "markdown",
   "metadata": {},
   "source": [
    "**What is a term deposit?**\n",
    "\n",
    "From <a href = 'https://www.investopedia.com/terms/t/termdeposit.asp'>Investopedia</a>, \"A term deposit is a fixed-term investment that includes the deposit of money into an account at a financial institution. Term deposit investments usually carry short-term maturities ranging from one month to a few years and will have varying levels of required minimum deposits. The investor must understand when buying a term deposit that they can withdraw their funds only after the term ends. In some cases, the account holder may allow the investor early termination—or withdrawal—if they give several days notification. Also, there will be a penalty assessed for early termination.\""
   ]
  },
  {
   "cell_type": "markdown",
   "metadata": {},
   "source": [
    "### Business Value"
   ]
  },
  {
   "cell_type": "markdown",
   "metadata": {},
   "source": [
    "### Methodology"
   ]
  },
  {
   "cell_type": "markdown",
   "metadata": {},
   "source": [
    "We will adopt the OSEMN data science workflow, which involves:\n",
    "1. Obtain (import the data)\n",
    "2. Scrub (clean the data, deal with missing values and data types)\n",
    "3. Explore (answer descriptives questions using EDA)\n",
    "4. Model (build our predictive model)\n",
    "5. iNterpret (comment on our model and findings)"
   ]
  },
  {
   "cell_type": "markdown",
   "metadata": {},
   "source": [
    "### Libraries"
   ]
  },
  {
   "cell_type": "code",
   "execution_count": 762,
   "metadata": {
    "scrolled": true
   },
   "outputs": [],
   "source": [
    "import pandas as pd\n",
    "import numpy as np\n",
    "\n",
    "import matplotlib.pyplot as plt\n",
    "import seaborn as sns\n",
    "chosen_palette = 'Accent'\n",
    "%matplotlib inline\n",
    "\n",
    "from sklearn.model_selection import train_test_split\n",
    "from sklearn.model_selection import cross_val_score\n",
    "from sklearn.model_selection import GridSearchCV, RandomizedSearchCV\n",
    "\n",
    "from sklearn.preprocessing import OrdinalEncoder, OneHotEncoder, StandardScaler\n",
    "from sklearn.impute import SimpleImputer, KNNImputer\n",
    "\n",
    "from sklearn.base import BaseEstimator, TransformerMixin\n",
    "from sklearn.compose import ColumnTransformer\n",
    "\n",
    "from sklearn.linear_model import LogisticRegression\n",
    "from sklearn.tree import DecisionTreeClassifier \n",
    "from sklearn.ensemble import RandomForestClassifier, AdaBoostClassifier, GradientBoostingClassifier\n",
    "from sklearn.neighbors import KNeighborsClassifier\n",
    "from sklearn.naive_bayes import GaussianNB\n",
    "from sklearn.svm import SVC\n",
    "import xgboost as xgb\n",
    "\n",
    "\n",
    "from sklearn.metrics import roc_curve, auc, confusion_matrix, accuracy_score, f1_score, \\\n",
    "precision_score, recall_score, roc_auc_score, classification_report, plot_confusion_matrix \n",
    "\n",
    "from sklearn.metrics import make_scorer, precision_recall_curve\n",
    "\n",
    "\n",
    "from imblearn.pipeline import Pipeline\n",
    "from imblearn.over_sampling import SMOTE\n",
    "\n",
    "# do not show any warnings\n",
    "import warnings\n",
    "warnings.filterwarnings('ignore')\n",
    "\n",
    "import time \n",
    "\n",
    "# set random state\n",
    "random_state = 0"
   ]
  },
  {
   "cell_type": "markdown",
   "metadata": {},
   "source": [
    "## Obtain Data"
   ]
  },
  {
   "cell_type": "markdown",
   "metadata": {},
   "source": [
    "A dataset for this project has been provided and can be found in the `Data` folder in this repository.\n",
    "\n",
    "It was originally from <a href = 'https://archive.ics.uci.edu/ml/datasets/Bank+Marketing'> UCI Machine Learning Repository</a>. \n",
    "\n",
    "Source: [Moro et al., 2014] S. Moro, P. Cortez and P. Rita. A Data-Driven Approach to Predict the Success of Bank Telemarketing. Decision Support Systems, Elsevier, 62:22-31, June 2014"
   ]
  },
  {
   "cell_type": "markdown",
   "metadata": {},
   "source": [
    "### Load Data"
   ]
  },
  {
   "cell_type": "code",
   "execution_count": 10,
   "metadata": {
    "scrolled": false
   },
   "outputs": [
    {
     "data": {
      "text/html": [
       "<div>\n",
       "<style scoped>\n",
       "    .dataframe tbody tr th:only-of-type {\n",
       "        vertical-align: middle;\n",
       "    }\n",
       "\n",
       "    .dataframe tbody tr th {\n",
       "        vertical-align: top;\n",
       "    }\n",
       "\n",
       "    .dataframe thead th {\n",
       "        text-align: right;\n",
       "    }\n",
       "</style>\n",
       "<table border=\"1\" class=\"dataframe\">\n",
       "  <thead>\n",
       "    <tr style=\"text-align: right;\">\n",
       "      <th></th>\n",
       "      <th>age</th>\n",
       "      <th>job</th>\n",
       "      <th>marital</th>\n",
       "      <th>education</th>\n",
       "      <th>default</th>\n",
       "      <th>housing</th>\n",
       "      <th>loan</th>\n",
       "      <th>contact</th>\n",
       "      <th>month</th>\n",
       "      <th>day_of_week</th>\n",
       "      <th>...</th>\n",
       "      <th>campaign</th>\n",
       "      <th>pdays</th>\n",
       "      <th>previous</th>\n",
       "      <th>poutcome</th>\n",
       "      <th>emp.var.rate</th>\n",
       "      <th>cons.price.idx</th>\n",
       "      <th>cons.conf.idx</th>\n",
       "      <th>euribor3m</th>\n",
       "      <th>nr.employed</th>\n",
       "      <th>y</th>\n",
       "    </tr>\n",
       "  </thead>\n",
       "  <tbody>\n",
       "    <tr>\n",
       "      <td>0</td>\n",
       "      <td>56</td>\n",
       "      <td>housemaid</td>\n",
       "      <td>married</td>\n",
       "      <td>basic.4y</td>\n",
       "      <td>no</td>\n",
       "      <td>no</td>\n",
       "      <td>no</td>\n",
       "      <td>telephone</td>\n",
       "      <td>may</td>\n",
       "      <td>mon</td>\n",
       "      <td>...</td>\n",
       "      <td>1</td>\n",
       "      <td>999</td>\n",
       "      <td>0</td>\n",
       "      <td>nonexistent</td>\n",
       "      <td>1.1</td>\n",
       "      <td>93.994</td>\n",
       "      <td>-36.4</td>\n",
       "      <td>4.857</td>\n",
       "      <td>5191.0</td>\n",
       "      <td>no</td>\n",
       "    </tr>\n",
       "    <tr>\n",
       "      <td>1</td>\n",
       "      <td>57</td>\n",
       "      <td>services</td>\n",
       "      <td>married</td>\n",
       "      <td>high.school</td>\n",
       "      <td>unknown</td>\n",
       "      <td>no</td>\n",
       "      <td>no</td>\n",
       "      <td>telephone</td>\n",
       "      <td>may</td>\n",
       "      <td>mon</td>\n",
       "      <td>...</td>\n",
       "      <td>1</td>\n",
       "      <td>999</td>\n",
       "      <td>0</td>\n",
       "      <td>nonexistent</td>\n",
       "      <td>1.1</td>\n",
       "      <td>93.994</td>\n",
       "      <td>-36.4</td>\n",
       "      <td>4.857</td>\n",
       "      <td>5191.0</td>\n",
       "      <td>no</td>\n",
       "    </tr>\n",
       "    <tr>\n",
       "      <td>2</td>\n",
       "      <td>37</td>\n",
       "      <td>services</td>\n",
       "      <td>married</td>\n",
       "      <td>high.school</td>\n",
       "      <td>no</td>\n",
       "      <td>yes</td>\n",
       "      <td>no</td>\n",
       "      <td>telephone</td>\n",
       "      <td>may</td>\n",
       "      <td>mon</td>\n",
       "      <td>...</td>\n",
       "      <td>1</td>\n",
       "      <td>999</td>\n",
       "      <td>0</td>\n",
       "      <td>nonexistent</td>\n",
       "      <td>1.1</td>\n",
       "      <td>93.994</td>\n",
       "      <td>-36.4</td>\n",
       "      <td>4.857</td>\n",
       "      <td>5191.0</td>\n",
       "      <td>no</td>\n",
       "    </tr>\n",
       "    <tr>\n",
       "      <td>3</td>\n",
       "      <td>40</td>\n",
       "      <td>admin.</td>\n",
       "      <td>married</td>\n",
       "      <td>basic.6y</td>\n",
       "      <td>no</td>\n",
       "      <td>no</td>\n",
       "      <td>no</td>\n",
       "      <td>telephone</td>\n",
       "      <td>may</td>\n",
       "      <td>mon</td>\n",
       "      <td>...</td>\n",
       "      <td>1</td>\n",
       "      <td>999</td>\n",
       "      <td>0</td>\n",
       "      <td>nonexistent</td>\n",
       "      <td>1.1</td>\n",
       "      <td>93.994</td>\n",
       "      <td>-36.4</td>\n",
       "      <td>4.857</td>\n",
       "      <td>5191.0</td>\n",
       "      <td>no</td>\n",
       "    </tr>\n",
       "    <tr>\n",
       "      <td>4</td>\n",
       "      <td>56</td>\n",
       "      <td>services</td>\n",
       "      <td>married</td>\n",
       "      <td>high.school</td>\n",
       "      <td>no</td>\n",
       "      <td>no</td>\n",
       "      <td>yes</td>\n",
       "      <td>telephone</td>\n",
       "      <td>may</td>\n",
       "      <td>mon</td>\n",
       "      <td>...</td>\n",
       "      <td>1</td>\n",
       "      <td>999</td>\n",
       "      <td>0</td>\n",
       "      <td>nonexistent</td>\n",
       "      <td>1.1</td>\n",
       "      <td>93.994</td>\n",
       "      <td>-36.4</td>\n",
       "      <td>4.857</td>\n",
       "      <td>5191.0</td>\n",
       "      <td>no</td>\n",
       "    </tr>\n",
       "  </tbody>\n",
       "</table>\n",
       "<p>5 rows × 21 columns</p>\n",
       "</div>"
      ],
      "text/plain": [
       "   age        job  marital    education  default housing loan    contact  \\\n",
       "0   56  housemaid  married     basic.4y       no      no   no  telephone   \n",
       "1   57   services  married  high.school  unknown      no   no  telephone   \n",
       "2   37   services  married  high.school       no     yes   no  telephone   \n",
       "3   40     admin.  married     basic.6y       no      no   no  telephone   \n",
       "4   56   services  married  high.school       no      no  yes  telephone   \n",
       "\n",
       "  month day_of_week  ...  campaign  pdays  previous     poutcome emp.var.rate  \\\n",
       "0   may         mon  ...         1    999         0  nonexistent          1.1   \n",
       "1   may         mon  ...         1    999         0  nonexistent          1.1   \n",
       "2   may         mon  ...         1    999         0  nonexistent          1.1   \n",
       "3   may         mon  ...         1    999         0  nonexistent          1.1   \n",
       "4   may         mon  ...         1    999         0  nonexistent          1.1   \n",
       "\n",
       "   cons.price.idx  cons.conf.idx  euribor3m  nr.employed   y  \n",
       "0          93.994          -36.4      4.857       5191.0  no  \n",
       "1          93.994          -36.4      4.857       5191.0  no  \n",
       "2          93.994          -36.4      4.857       5191.0  no  \n",
       "3          93.994          -36.4      4.857       5191.0  no  \n",
       "4          93.994          -36.4      4.857       5191.0  no  \n",
       "\n",
       "[5 rows x 21 columns]"
      ]
     },
     "execution_count": 10,
     "metadata": {},
     "output_type": "execute_result"
    }
   ],
   "source": [
    "# Read data \n",
    "raw_df = pd.read_csv('data/bank-additional-full.csv', sep = ';')\n",
    "\n",
    "# Check first five rows\n",
    "raw_df.head()"
   ]
  },
  {
   "cell_type": "code",
   "execution_count": 11,
   "metadata": {
    "scrolled": true
   },
   "outputs": [
    {
     "data": {
      "text/plain": [
       "(41188, 21)"
      ]
     },
     "execution_count": 11,
     "metadata": {},
     "output_type": "execute_result"
    }
   ],
   "source": [
    "# Get info\n",
    "raw_df.shape"
   ]
  },
  {
   "cell_type": "markdown",
   "metadata": {},
   "source": [
    "We see that we have 21 columns, with 20 feature columns and 1 target column `y`. There are 41,188 entries recorded."
   ]
  },
  {
   "cell_type": "markdown",
   "metadata": {},
   "source": [
    "### Data Dictionnary"
   ]
  },
  {
   "cell_type": "markdown",
   "metadata": {},
   "source": [
    "We have been provided with the following information regarding the **features**.\n",
    "\n",
    "`age` - (numeric)\n",
    "\n",
    "`job` - type of job (categorical: \"admin.\",\"blue-collar\", \"entrepreneur\", \"housemaid\", \"management\", \"retired\", \"self-employed\", \"services\", \"student\", \"technician\", \"unemployed\", \"unknown\")\n",
    "\n",
    "`marital` - marital status (categorical: \"divorced\", \"married\", \"single\", \"unknown\"; note: \"divorced\" means divorced or widowed)\n",
    "\n",
    "`education` - (categorical: \"basic.4y\", \"basic.6y\", \"basic.9y\",  \"high.school\", \"illiterate\", \"professional.course\", \"university.degree\", \"unknown\")\n",
    "\n",
    "`default` - has credit in default? (categorical: \"no\", \"yes\", \"unknown\")\n",
    "\n",
    "`housing`- has housing loan? (categorical: \"no\", \"yes\", \"unknown\")\n",
    "\n",
    "`loan`- has personal loan? (categorical: \"no\", \"yes\", \"unknown\")\n",
    "\n",
    "`contact` - contact communication type (categorical: \"cellular\", \"telephone\")\n",
    "\n",
    "`month` - last contact month of year (categorical: \"jan\", \"feb\", \"mar\", ..., \"nov\", \"dec\")\n",
    "\n",
    "`day_of_week` - last contact day of the week (categorical: \"mon\", \"tue\", \"wed\", \"thu\", \"fri\")\n",
    "\n",
    "`duration` - last contact duration, in seconds (numeric). Important note: this attribute highly affects the output target (e.g., if duration=0 then y=\"no\"). Yet, the duration is not known before a call is performed. Also, after the end of the call y is obviously known. Thus, this input should only be included for benchmark purposes and should be discarded if the intention is to have a realistic predictive model.\n",
    "\n",
    "`campaign` - number of contacts performed during this campaign and for this client (numeric, includes last contact)\n",
    "\n",
    "`pdays` - number of days that passed by after the client was last contacted from a previous campaign (numeric; 999 means client was not previously contacted)\n",
    "\n",
    "`previous` - number of contacts performed before this campaign and for this client (numeric)\n",
    "\n",
    "`poutcome` - outcome of the previous marketing campaign (categorical: \"failure\",\"nonexistent\",\"success\")\n",
    "\n",
    "`emp.var.rate` - Employment variation is the variation of how many people are being hired or fired due to the shifts in the conditions of the economy. - quarterly indicator (numeric)\n",
    "\n",
    "`cons.price.idx` - The Consumer Price Index (CPI) is a measure that examines the weighted average of prices of a basket of consumer goods and services, such as transportation, food, and medical care. It is calculated by taking price changes for each item in the predetermined basket of goods and averaging them. - monthly indicator (numeric)\n",
    "\n",
    "`cons.conf.idx` - Consumer confidence index (CCI) This consumer confidence indicator provides an indication of future developments of households' consumption and saving, based upon answers regarding their expected financial situation, their sentiment about the general economic situation, unemployment and capability of savings. - monthly indicator (numeric)\n",
    "\n",
    "`euribor3m` - The 3 month Euribor interest rate is the interest rate at which a selection of European banks lend one another funds denominated in euros whereby the loans have a maturity of 3 months. - daily indicator (numeric)\n",
    "\n",
    "`nr.employed` - number of employees - quarterly indicator (numeric)\n",
    "\n",
    "The **target** variable `y` is whether the client subscribed to a term deposit (binary: \"yes\", \"no\")"
   ]
  },
  {
   "cell_type": "markdown",
   "metadata": {},
   "source": [
    "### Train-Test Split"
   ]
  },
  {
   "cell_type": "markdown",
   "metadata": {},
   "source": [
    "Before we proceed, let us split our data into test and training sets. This test set will be use to evaluate our final model and we would like it to be completely new to us to avoid any data snooping bias.\n",
    "\n",
    "We will ensure that the target variable `y` classes are proportional in the test set to ensure as based on our domain expertise we suspect that the classes will be unbalanced, with \"yes\" being a minority class."
   ]
  },
  {
   "cell_type": "code",
   "execution_count": 12,
   "metadata": {
    "scrolled": true
   },
   "outputs": [
    {
     "name": "stdout",
     "output_type": "stream",
     "text": [
      "Train set Shape: (37069, 21)\n",
      "Test set Shape: (4119, 21)\n"
     ]
    }
   ],
   "source": [
    "# Train-test Split\n",
    "train_set, test_set = train_test_split(raw_df, test_size = 0.1, stratify=raw_df['y'], random_state = 0)\n",
    "\n",
    "print(f'Train set Shape: {train_set.shape}')\n",
    "print(f'Test set Shape: {test_set.shape}')"
   ]
  },
  {
   "cell_type": "markdown",
   "metadata": {},
   "source": [
    "## Scrub Data"
   ]
  },
  {
   "cell_type": "markdown",
   "metadata": {},
   "source": [
    "Let us clean our DataFrame to ensure it is fit for exploration and modelling. We will work on a copy of the training set."
   ]
  },
  {
   "cell_type": "code",
   "execution_count": 13,
   "metadata": {
    "scrolled": true
   },
   "outputs": [],
   "source": [
    "# Create copy to work with\n",
    "df = train_set.reset_index(drop = True).copy()"
   ]
  },
  {
   "cell_type": "markdown",
   "metadata": {},
   "source": [
    "### Check Data Types"
   ]
  },
  {
   "cell_type": "code",
   "execution_count": 14,
   "metadata": {
    "scrolled": true
   },
   "outputs": [
    {
     "name": "stdout",
     "output_type": "stream",
     "text": [
      "<class 'pandas.core.frame.DataFrame'>\n",
      "RangeIndex: 37069 entries, 0 to 37068\n",
      "Data columns (total 21 columns):\n",
      "age               37069 non-null int64\n",
      "job               37069 non-null object\n",
      "marital           37069 non-null object\n",
      "education         37069 non-null object\n",
      "default           37069 non-null object\n",
      "housing           37069 non-null object\n",
      "loan              37069 non-null object\n",
      "contact           37069 non-null object\n",
      "month             37069 non-null object\n",
      "day_of_week       37069 non-null object\n",
      "duration          37069 non-null int64\n",
      "campaign          37069 non-null int64\n",
      "pdays             37069 non-null int64\n",
      "previous          37069 non-null int64\n",
      "poutcome          37069 non-null object\n",
      "emp.var.rate      37069 non-null float64\n",
      "cons.price.idx    37069 non-null float64\n",
      "cons.conf.idx     37069 non-null float64\n",
      "euribor3m         37069 non-null float64\n",
      "nr.employed       37069 non-null float64\n",
      "y                 37069 non-null object\n",
      "dtypes: float64(5), int64(5), object(11)\n",
      "memory usage: 5.9+ MB\n"
     ]
    }
   ],
   "source": [
    "df.info()"
   ]
  },
  {
   "cell_type": "markdown",
   "metadata": {},
   "source": [
    "All data types appear correct."
   ]
  },
  {
   "cell_type": "markdown",
   "metadata": {},
   "source": [
    "### Missing / Placeholder Values"
   ]
  },
  {
   "cell_type": "code",
   "execution_count": 15,
   "metadata": {
    "scrolled": false
   },
   "outputs": [
    {
     "data": {
      "text/plain": [
       "False"
      ]
     },
     "execution_count": 15,
     "metadata": {},
     "output_type": "execute_result"
    }
   ],
   "source": [
    "# Check for missing values\n",
    "df.isna().any().any()"
   ]
  },
  {
   "cell_type": "markdown",
   "metadata": {},
   "source": [
    "This tells us there are no explicit `NaN` missing values. However there could still be placeholder values, say if a particular number was used to denote no data for numerical attributes or a string such as 'not known' for categorical attributes."
   ]
  },
  {
   "cell_type": "markdown",
   "metadata": {},
   "source": [
    "Let's first check the numerical attributes using the describe method."
   ]
  },
  {
   "cell_type": "code",
   "execution_count": 16,
   "metadata": {
    "scrolled": false
   },
   "outputs": [
    {
     "data": {
      "text/html": [
       "<div>\n",
       "<style scoped>\n",
       "    .dataframe tbody tr th:only-of-type {\n",
       "        vertical-align: middle;\n",
       "    }\n",
       "\n",
       "    .dataframe tbody tr th {\n",
       "        vertical-align: top;\n",
       "    }\n",
       "\n",
       "    .dataframe thead th {\n",
       "        text-align: right;\n",
       "    }\n",
       "</style>\n",
       "<table border=\"1\" class=\"dataframe\">\n",
       "  <thead>\n",
       "    <tr style=\"text-align: right;\">\n",
       "      <th></th>\n",
       "      <th>age</th>\n",
       "      <th>duration</th>\n",
       "      <th>campaign</th>\n",
       "      <th>pdays</th>\n",
       "      <th>previous</th>\n",
       "      <th>emp.var.rate</th>\n",
       "      <th>cons.price.idx</th>\n",
       "      <th>cons.conf.idx</th>\n",
       "      <th>euribor3m</th>\n",
       "      <th>nr.employed</th>\n",
       "    </tr>\n",
       "  </thead>\n",
       "  <tbody>\n",
       "    <tr>\n",
       "      <td>count</td>\n",
       "      <td>37069.000000</td>\n",
       "      <td>37069.000000</td>\n",
       "      <td>37069.000000</td>\n",
       "      <td>37069.000000</td>\n",
       "      <td>37069.000000</td>\n",
       "      <td>37069.000000</td>\n",
       "      <td>37069.000000</td>\n",
       "      <td>37069.000000</td>\n",
       "      <td>37069.000000</td>\n",
       "      <td>37069.000000</td>\n",
       "    </tr>\n",
       "    <tr>\n",
       "      <td>mean</td>\n",
       "      <td>40.010440</td>\n",
       "      <td>258.504627</td>\n",
       "      <td>2.572959</td>\n",
       "      <td>962.382962</td>\n",
       "      <td>0.173460</td>\n",
       "      <td>0.082918</td>\n",
       "      <td>93.576450</td>\n",
       "      <td>-40.505287</td>\n",
       "      <td>3.621223</td>\n",
       "      <td>5167.032108</td>\n",
       "    </tr>\n",
       "    <tr>\n",
       "      <td>std</td>\n",
       "      <td>10.409739</td>\n",
       "      <td>259.806298</td>\n",
       "      <td>2.779804</td>\n",
       "      <td>187.134790</td>\n",
       "      <td>0.496145</td>\n",
       "      <td>1.570596</td>\n",
       "      <td>0.578924</td>\n",
       "      <td>4.619696</td>\n",
       "      <td>1.734979</td>\n",
       "      <td>72.326507</td>\n",
       "    </tr>\n",
       "    <tr>\n",
       "      <td>min</td>\n",
       "      <td>17.000000</td>\n",
       "      <td>0.000000</td>\n",
       "      <td>1.000000</td>\n",
       "      <td>0.000000</td>\n",
       "      <td>0.000000</td>\n",
       "      <td>-3.400000</td>\n",
       "      <td>92.201000</td>\n",
       "      <td>-50.800000</td>\n",
       "      <td>0.634000</td>\n",
       "      <td>4963.600000</td>\n",
       "    </tr>\n",
       "    <tr>\n",
       "      <td>25%</td>\n",
       "      <td>32.000000</td>\n",
       "      <td>102.000000</td>\n",
       "      <td>1.000000</td>\n",
       "      <td>999.000000</td>\n",
       "      <td>0.000000</td>\n",
       "      <td>-1.800000</td>\n",
       "      <td>93.075000</td>\n",
       "      <td>-42.700000</td>\n",
       "      <td>1.344000</td>\n",
       "      <td>5099.100000</td>\n",
       "    </tr>\n",
       "    <tr>\n",
       "      <td>50%</td>\n",
       "      <td>38.000000</td>\n",
       "      <td>180.000000</td>\n",
       "      <td>2.000000</td>\n",
       "      <td>999.000000</td>\n",
       "      <td>0.000000</td>\n",
       "      <td>1.100000</td>\n",
       "      <td>93.749000</td>\n",
       "      <td>-41.800000</td>\n",
       "      <td>4.857000</td>\n",
       "      <td>5191.000000</td>\n",
       "    </tr>\n",
       "    <tr>\n",
       "      <td>75%</td>\n",
       "      <td>47.000000</td>\n",
       "      <td>319.000000</td>\n",
       "      <td>3.000000</td>\n",
       "      <td>999.000000</td>\n",
       "      <td>0.000000</td>\n",
       "      <td>1.400000</td>\n",
       "      <td>93.994000</td>\n",
       "      <td>-36.400000</td>\n",
       "      <td>4.961000</td>\n",
       "      <td>5228.100000</td>\n",
       "    </tr>\n",
       "    <tr>\n",
       "      <td>max</td>\n",
       "      <td>98.000000</td>\n",
       "      <td>4918.000000</td>\n",
       "      <td>56.000000</td>\n",
       "      <td>999.000000</td>\n",
       "      <td>7.000000</td>\n",
       "      <td>1.400000</td>\n",
       "      <td>94.767000</td>\n",
       "      <td>-26.900000</td>\n",
       "      <td>5.045000</td>\n",
       "      <td>5228.100000</td>\n",
       "    </tr>\n",
       "  </tbody>\n",
       "</table>\n",
       "</div>"
      ],
      "text/plain": [
       "                age      duration      campaign         pdays      previous  \\\n",
       "count  37069.000000  37069.000000  37069.000000  37069.000000  37069.000000   \n",
       "mean      40.010440    258.504627      2.572959    962.382962      0.173460   \n",
       "std       10.409739    259.806298      2.779804    187.134790      0.496145   \n",
       "min       17.000000      0.000000      1.000000      0.000000      0.000000   \n",
       "25%       32.000000    102.000000      1.000000    999.000000      0.000000   \n",
       "50%       38.000000    180.000000      2.000000    999.000000      0.000000   \n",
       "75%       47.000000    319.000000      3.000000    999.000000      0.000000   \n",
       "max       98.000000   4918.000000     56.000000    999.000000      7.000000   \n",
       "\n",
       "       emp.var.rate  cons.price.idx  cons.conf.idx     euribor3m   nr.employed  \n",
       "count  37069.000000    37069.000000   37069.000000  37069.000000  37069.000000  \n",
       "mean       0.082918       93.576450     -40.505287      3.621223   5167.032108  \n",
       "std        1.570596        0.578924       4.619696      1.734979     72.326507  \n",
       "min       -3.400000       92.201000     -50.800000      0.634000   4963.600000  \n",
       "25%       -1.800000       93.075000     -42.700000      1.344000   5099.100000  \n",
       "50%        1.100000       93.749000     -41.800000      4.857000   5191.000000  \n",
       "75%        1.400000       93.994000     -36.400000      4.961000   5228.100000  \n",
       "max        1.400000       94.767000     -26.900000      5.045000   5228.100000  "
      ]
     },
     "execution_count": 16,
     "metadata": {},
     "output_type": "execute_result"
    }
   ],
   "source": [
    "df.describe()"
   ]
  },
  {
   "cell_type": "markdown",
   "metadata": {},
   "source": [
    "Based on the table, there do not appear to be any placeholder values in the numerical features with the exception of 999 in the `pdays` attribute,  used to to denote customers who were not previously contacted.\n",
    "\n",
    "Let us look at `pdays` in further detail, to see how we should treat this attribute."
   ]
  },
  {
   "cell_type": "code",
   "execution_count": 17,
   "metadata": {
    "scrolled": true
   },
   "outputs": [
    {
     "data": {
      "text/plain": [
       "999    0.963123\n",
       "3      0.010845\n",
       "6      0.009900\n",
       "4      0.002698\n",
       "9      0.001565\n",
       "Name: pdays, dtype: float64"
      ]
     },
     "execution_count": 17,
     "metadata": {},
     "output_type": "execute_result"
    }
   ],
   "source": [
    "# Get value counts for pdays\n",
    "df['pdays'].value_counts(normalize = True).sort_values(ascending = False)[:5]"
   ]
  },
  {
   "cell_type": "markdown",
   "metadata": {},
   "source": [
    "With 96% of entries in the `pdays` attribute being the placeholder value `999`, and the existence of attribute `previous` which contains the information whether a customer was previously contacted and how many times, it makes sense to drop this feature."
   ]
  },
  {
   "cell_type": "code",
   "execution_count": 18,
   "metadata": {
    "scrolled": true
   },
   "outputs": [],
   "source": [
    "# Drop pdays feature\n",
    "df = df.drop('pdays', axis = 1)"
   ]
  },
  {
   "cell_type": "markdown",
   "metadata": {},
   "source": [
    "Let us now look at categorical features by inspecting value counts."
   ]
  },
  {
   "cell_type": "code",
   "execution_count": 19,
   "metadata": {
    "scrolled": true
   },
   "outputs": [
    {
     "name": "stdout",
     "output_type": "stream",
     "text": [
      "Feature: job \n",
      "admin.           0.252583\n",
      "blue-collar      0.225040\n",
      "technician       0.163452\n",
      "services         0.095983\n",
      "management       0.071138\n",
      "retired          0.041841\n",
      "entrepreneur     0.035555\n",
      "self-employed    0.034233\n",
      "housemaid        0.026167\n",
      "unemployed       0.024630\n",
      "student          0.021339\n",
      "unknown          0.008039\n",
      "Name: job, dtype: float64 \n",
      "\n",
      "Feature: marital \n",
      "married     0.606383\n",
      "single      0.280396\n",
      "divorced    0.111387\n",
      "unknown     0.001834\n",
      "Name: marital, dtype: float64 \n",
      "\n",
      "Feature: education \n",
      "university.degree      0.295665\n",
      "high.school            0.230975\n",
      "basic.9y               0.146726\n",
      "professional.course    0.126683\n",
      "basic.4y               0.101648\n",
      "basic.6y               0.056112\n",
      "unknown                0.041760\n",
      "illiterate             0.000432\n",
      "Name: education, dtype: float64 \n",
      "\n",
      "Feature: default \n",
      "no         0.790796\n",
      "unknown    0.209124\n",
      "yes        0.000081\n",
      "Name: default, dtype: float64 \n",
      "\n",
      "Feature: housing \n",
      "yes        0.523942\n",
      "no         0.451833\n",
      "unknown    0.024225\n",
      "Name: housing, dtype: float64 \n",
      "\n",
      "Feature: loan \n",
      "no         0.823383\n",
      "yes        0.152391\n",
      "unknown    0.024225\n",
      "Name: loan, dtype: float64 \n",
      "\n",
      "Feature: contact \n",
      "cellular     0.634735\n",
      "telephone    0.365265\n",
      "Name: contact, dtype: float64 \n",
      "\n",
      "Feature: month \n",
      "may    0.334134\n",
      "jul    0.175079\n",
      "aug    0.150503\n",
      "jun    0.129057\n",
      "nov    0.099382\n",
      "apr    0.063800\n",
      "oct    0.016753\n",
      "sep    0.014136\n",
      "mar    0.012679\n",
      "dec    0.004478\n",
      "Name: month, dtype: float64 \n",
      "\n",
      "Feature: day_of_week \n",
      "thu    0.209339\n",
      "mon    0.206183\n",
      "wed    0.198036\n",
      "tue    0.197119\n",
      "fri    0.189323\n",
      "Name: day_of_week, dtype: float64 \n",
      "\n",
      "Feature: poutcome \n",
      "nonexistent    0.86312\n",
      "failure        0.10351\n",
      "success        0.03337\n",
      "Name: poutcome, dtype: float64 \n",
      "\n",
      "Feature: y \n",
      "no     0.887345\n",
      "yes    0.112655\n",
      "Name: y, dtype: float64 \n",
      "\n"
     ]
    }
   ],
   "source": [
    "# Get categorical column list\n",
    "cat_cols = df.select_dtypes(include = object).columns\n",
    "\n",
    "# Print normalized value counts for categorical columns\n",
    "for col in cat_cols:\n",
    "    print(f\"Feature: {col} \\n{df[col].value_counts(normalize = True)} \\n\")"
   ]
  },
  {
   "cell_type": "markdown",
   "metadata": {},
   "source": [
    "We see that there are `unknown` values in features `job`, `marital`, `education`, `default`, `housing` and `loan`, which we may want to address."
   ]
  },
  {
   "cell_type": "markdown",
   "metadata": {},
   "source": [
    "**job**"
   ]
  },
  {
   "cell_type": "markdown",
   "metadata": {},
   "source": [
    "There is no dominating feature so our choices are to either keep `unknown` or drop the rows with missing data, which represent 0.8% of our dataset. We have selected to keep the `unknown` values as such for now but when preparing the data for modelling, we will replace it using the distance-based imputation method k-Nearest Neighbors Imputer."
   ]
  },
  {
   "cell_type": "markdown",
   "metadata": {},
   "source": [
    "**marital**"
   ]
  },
  {
   "cell_type": "markdown",
   "metadata": {},
   "source": [
    "The `unknown` values represent 0.2% of our dataset. We choose to replace the `unknown` values with the mode of the feature, which is `married` (60% of values.)"
   ]
  },
  {
   "cell_type": "markdown",
   "metadata": {},
   "source": [
    "**education**"
   ]
  },
  {
   "cell_type": "markdown",
   "metadata": {},
   "source": [
    "Similar to job, there is no dominating feature and so our choices are either to keep `unknown` or drop the rows with missing data, which represent 4% of our dataset. As this is a higher proportion, we will choose to keep `unknown` entries for now, but will impute using the k-Nearest Neighbors Imputer when we prepare the data for modelling."
   ]
  },
  {
   "cell_type": "markdown",
   "metadata": {},
   "source": [
    "**default**"
   ]
  },
  {
   "cell_type": "markdown",
   "metadata": {},
   "source": [
    "The `unknown` values represent 0.008% of the dataset. We choose to replace the `unknown` values with the mode of the feature, which is `no` (79% of features)."
   ]
  },
  {
   "cell_type": "markdown",
   "metadata": {},
   "source": [
    "**housing**"
   ]
  },
  {
   "cell_type": "markdown",
   "metadata": {},
   "source": [
    "This binary column is split evenly as such our choices are either to keep `unknown` or drop the rows with missing data, which represent 2.4% of the dataset. We will choose to keep `unknown` entries for now  but will impute using the k-Nearest Neighbors Imputer when we prepare the data for modelling."
   ]
  },
  {
   "cell_type": "markdown",
   "metadata": {},
   "source": [
    "**loan**"
   ]
  },
  {
   "cell_type": "markdown",
   "metadata": {},
   "source": [
    "With 82% of the entries having value `no` and 2.4% of entries having value `unknown`, we think it best to replace the unknown values with no.\n",
    "\n",
    "Let us apply these changes to our DataFrame."
   ]
  },
  {
   "cell_type": "code",
   "execution_count": 20,
   "metadata": {
    "scrolled": true
   },
   "outputs": [],
   "source": [
    "# Cols in which to replace `unknown` with mode\n",
    "cols_unknown = ['marital', 'default', 'loan']\n",
    "\n",
    "# Replace unknown with None and drop using dropna()\n",
    "for col in cols_unknown:\n",
    "    df[col] = df[col].replace('unknown', None)\n",
    "    df[col] = df[col].fillna(df[col].mode())"
   ]
  },
  {
   "cell_type": "code",
   "execution_count": 21,
   "metadata": {
    "scrolled": true
   },
   "outputs": [
    {
     "data": {
      "text/plain": [
       "no     31280\n",
       "yes     5789\n",
       "Name: loan, dtype: int64"
      ]
     },
     "execution_count": 21,
     "metadata": {},
     "output_type": "execute_result"
    }
   ],
   "source": [
    "df['loan'].value_counts()"
   ]
  },
  {
   "cell_type": "markdown",
   "metadata": {},
   "source": [
    "### Clean Syntax"
   ]
  },
  {
   "cell_type": "markdown",
   "metadata": {},
   "source": [
    "We see that certain column names have a dot in the name, which we will replace with underscore. Similarly, certain values in the `education` column have a dot which we will also replace with underscore. Finally, the we will remove the dot for entries with `admin.` value in the `job` column."
   ]
  },
  {
   "cell_type": "code",
   "execution_count": 22,
   "metadata": {
    "scrolled": true
   },
   "outputs": [],
   "source": [
    "# Clean column names\n",
    "df.columns = df.columns.str.replace('.', '_')\n",
    "\n",
    "# Clean values in education\n",
    "df['education'] = df['education'].str.replace('.', '_')\n",
    "\n",
    "# Clean values in job\n",
    "df['job'] = df['job'].str.replace('.','')"
   ]
  },
  {
   "cell_type": "markdown",
   "metadata": {},
   "source": [
    "### Explore Duplicates"
   ]
  },
  {
   "cell_type": "markdown",
   "metadata": {},
   "source": [
    "Let us check whether our data has any duplicate entries."
   ]
  },
  {
   "cell_type": "code",
   "execution_count": 23,
   "metadata": {
    "scrolled": true
   },
   "outputs": [
    {
     "data": {
      "text/html": [
       "<div>\n",
       "<style scoped>\n",
       "    .dataframe tbody tr th:only-of-type {\n",
       "        vertical-align: middle;\n",
       "    }\n",
       "\n",
       "    .dataframe tbody tr th {\n",
       "        vertical-align: top;\n",
       "    }\n",
       "\n",
       "    .dataframe thead th {\n",
       "        text-align: right;\n",
       "    }\n",
       "</style>\n",
       "<table border=\"1\" class=\"dataframe\">\n",
       "  <thead>\n",
       "    <tr style=\"text-align: right;\">\n",
       "      <th></th>\n",
       "      <th>age</th>\n",
       "      <th>job</th>\n",
       "      <th>marital</th>\n",
       "      <th>education</th>\n",
       "      <th>default</th>\n",
       "      <th>housing</th>\n",
       "      <th>loan</th>\n",
       "      <th>contact</th>\n",
       "      <th>month</th>\n",
       "      <th>day_of_week</th>\n",
       "      <th>duration</th>\n",
       "      <th>campaign</th>\n",
       "      <th>previous</th>\n",
       "      <th>poutcome</th>\n",
       "      <th>emp_var_rate</th>\n",
       "      <th>cons_price_idx</th>\n",
       "      <th>cons_conf_idx</th>\n",
       "      <th>euribor3m</th>\n",
       "      <th>nr_employed</th>\n",
       "      <th>y</th>\n",
       "    </tr>\n",
       "  </thead>\n",
       "  <tbody>\n",
       "    <tr>\n",
       "      <td>6917</td>\n",
       "      <td>39</td>\n",
       "      <td>blue-collar</td>\n",
       "      <td>married</td>\n",
       "      <td>basic_6y</td>\n",
       "      <td>no</td>\n",
       "      <td>no</td>\n",
       "      <td>no</td>\n",
       "      <td>telephone</td>\n",
       "      <td>may</td>\n",
       "      <td>thu</td>\n",
       "      <td>124</td>\n",
       "      <td>1</td>\n",
       "      <td>0</td>\n",
       "      <td>nonexistent</td>\n",
       "      <td>1.1</td>\n",
       "      <td>93.994</td>\n",
       "      <td>-36.4</td>\n",
       "      <td>4.855</td>\n",
       "      <td>5191.0</td>\n",
       "      <td>no</td>\n",
       "    </tr>\n",
       "    <tr>\n",
       "      <td>9049</td>\n",
       "      <td>33</td>\n",
       "      <td>admin</td>\n",
       "      <td>married</td>\n",
       "      <td>university_degree</td>\n",
       "      <td>no</td>\n",
       "      <td>yes</td>\n",
       "      <td>no</td>\n",
       "      <td>cellular</td>\n",
       "      <td>aug</td>\n",
       "      <td>thu</td>\n",
       "      <td>59</td>\n",
       "      <td>1</td>\n",
       "      <td>0</td>\n",
       "      <td>nonexistent</td>\n",
       "      <td>1.4</td>\n",
       "      <td>93.444</td>\n",
       "      <td>-36.1</td>\n",
       "      <td>4.968</td>\n",
       "      <td>5228.1</td>\n",
       "      <td>no</td>\n",
       "    </tr>\n",
       "    <tr>\n",
       "      <td>22062</td>\n",
       "      <td>39</td>\n",
       "      <td>admin</td>\n",
       "      <td>married</td>\n",
       "      <td>university_degree</td>\n",
       "      <td>no</td>\n",
       "      <td>no</td>\n",
       "      <td>no</td>\n",
       "      <td>cellular</td>\n",
       "      <td>nov</td>\n",
       "      <td>tue</td>\n",
       "      <td>123</td>\n",
       "      <td>2</td>\n",
       "      <td>0</td>\n",
       "      <td>nonexistent</td>\n",
       "      <td>-0.1</td>\n",
       "      <td>93.200</td>\n",
       "      <td>-42.0</td>\n",
       "      <td>4.153</td>\n",
       "      <td>5195.8</td>\n",
       "      <td>no</td>\n",
       "    </tr>\n",
       "    <tr>\n",
       "      <td>23171</td>\n",
       "      <td>35</td>\n",
       "      <td>admin</td>\n",
       "      <td>married</td>\n",
       "      <td>university_degree</td>\n",
       "      <td>no</td>\n",
       "      <td>yes</td>\n",
       "      <td>no</td>\n",
       "      <td>cellular</td>\n",
       "      <td>may</td>\n",
       "      <td>fri</td>\n",
       "      <td>348</td>\n",
       "      <td>4</td>\n",
       "      <td>0</td>\n",
       "      <td>nonexistent</td>\n",
       "      <td>-1.8</td>\n",
       "      <td>92.893</td>\n",
       "      <td>-46.2</td>\n",
       "      <td>1.313</td>\n",
       "      <td>5099.1</td>\n",
       "      <td>no</td>\n",
       "    </tr>\n",
       "    <tr>\n",
       "      <td>24779</td>\n",
       "      <td>45</td>\n",
       "      <td>admin</td>\n",
       "      <td>married</td>\n",
       "      <td>university_degree</td>\n",
       "      <td>no</td>\n",
       "      <td>no</td>\n",
       "      <td>no</td>\n",
       "      <td>cellular</td>\n",
       "      <td>jul</td>\n",
       "      <td>thu</td>\n",
       "      <td>252</td>\n",
       "      <td>1</td>\n",
       "      <td>0</td>\n",
       "      <td>nonexistent</td>\n",
       "      <td>-2.9</td>\n",
       "      <td>92.469</td>\n",
       "      <td>-33.6</td>\n",
       "      <td>1.072</td>\n",
       "      <td>5076.2</td>\n",
       "      <td>yes</td>\n",
       "    </tr>\n",
       "    <tr>\n",
       "      <td>29198</td>\n",
       "      <td>24</td>\n",
       "      <td>services</td>\n",
       "      <td>single</td>\n",
       "      <td>high_school</td>\n",
       "      <td>no</td>\n",
       "      <td>yes</td>\n",
       "      <td>no</td>\n",
       "      <td>cellular</td>\n",
       "      <td>apr</td>\n",
       "      <td>tue</td>\n",
       "      <td>114</td>\n",
       "      <td>1</td>\n",
       "      <td>0</td>\n",
       "      <td>nonexistent</td>\n",
       "      <td>-1.8</td>\n",
       "      <td>93.075</td>\n",
       "      <td>-47.1</td>\n",
       "      <td>1.423</td>\n",
       "      <td>5099.1</td>\n",
       "      <td>no</td>\n",
       "    </tr>\n",
       "    <tr>\n",
       "      <td>29739</td>\n",
       "      <td>32</td>\n",
       "      <td>technician</td>\n",
       "      <td>single</td>\n",
       "      <td>professional_course</td>\n",
       "      <td>no</td>\n",
       "      <td>yes</td>\n",
       "      <td>no</td>\n",
       "      <td>cellular</td>\n",
       "      <td>jul</td>\n",
       "      <td>thu</td>\n",
       "      <td>128</td>\n",
       "      <td>1</td>\n",
       "      <td>0</td>\n",
       "      <td>nonexistent</td>\n",
       "      <td>1.4</td>\n",
       "      <td>93.918</td>\n",
       "      <td>-42.7</td>\n",
       "      <td>4.968</td>\n",
       "      <td>5228.1</td>\n",
       "      <td>no</td>\n",
       "    </tr>\n",
       "    <tr>\n",
       "      <td>29807</td>\n",
       "      <td>56</td>\n",
       "      <td>blue-collar</td>\n",
       "      <td>married</td>\n",
       "      <td>basic_4y</td>\n",
       "      <td>no</td>\n",
       "      <td>no</td>\n",
       "      <td>no</td>\n",
       "      <td>telephone</td>\n",
       "      <td>may</td>\n",
       "      <td>mon</td>\n",
       "      <td>136</td>\n",
       "      <td>1</td>\n",
       "      <td>0</td>\n",
       "      <td>nonexistent</td>\n",
       "      <td>1.1</td>\n",
       "      <td>93.994</td>\n",
       "      <td>-36.4</td>\n",
       "      <td>4.857</td>\n",
       "      <td>5191.0</td>\n",
       "      <td>no</td>\n",
       "    </tr>\n",
       "    <tr>\n",
       "      <td>33178</td>\n",
       "      <td>36</td>\n",
       "      <td>retired</td>\n",
       "      <td>married</td>\n",
       "      <td>unknown</td>\n",
       "      <td>no</td>\n",
       "      <td>no</td>\n",
       "      <td>no</td>\n",
       "      <td>telephone</td>\n",
       "      <td>jul</td>\n",
       "      <td>thu</td>\n",
       "      <td>88</td>\n",
       "      <td>1</td>\n",
       "      <td>0</td>\n",
       "      <td>nonexistent</td>\n",
       "      <td>1.4</td>\n",
       "      <td>93.918</td>\n",
       "      <td>-42.7</td>\n",
       "      <td>4.966</td>\n",
       "      <td>5228.1</td>\n",
       "      <td>no</td>\n",
       "    </tr>\n",
       "    <tr>\n",
       "      <td>33953</td>\n",
       "      <td>41</td>\n",
       "      <td>technician</td>\n",
       "      <td>married</td>\n",
       "      <td>professional_course</td>\n",
       "      <td>no</td>\n",
       "      <td>yes</td>\n",
       "      <td>no</td>\n",
       "      <td>cellular</td>\n",
       "      <td>aug</td>\n",
       "      <td>tue</td>\n",
       "      <td>127</td>\n",
       "      <td>1</td>\n",
       "      <td>0</td>\n",
       "      <td>nonexistent</td>\n",
       "      <td>1.4</td>\n",
       "      <td>93.444</td>\n",
       "      <td>-36.1</td>\n",
       "      <td>4.966</td>\n",
       "      <td>5228.1</td>\n",
       "      <td>no</td>\n",
       "    </tr>\n",
       "    <tr>\n",
       "      <td>37039</td>\n",
       "      <td>47</td>\n",
       "      <td>technician</td>\n",
       "      <td>divorced</td>\n",
       "      <td>high_school</td>\n",
       "      <td>no</td>\n",
       "      <td>yes</td>\n",
       "      <td>no</td>\n",
       "      <td>cellular</td>\n",
       "      <td>jul</td>\n",
       "      <td>thu</td>\n",
       "      <td>43</td>\n",
       "      <td>3</td>\n",
       "      <td>0</td>\n",
       "      <td>nonexistent</td>\n",
       "      <td>1.4</td>\n",
       "      <td>93.918</td>\n",
       "      <td>-42.7</td>\n",
       "      <td>4.962</td>\n",
       "      <td>5228.1</td>\n",
       "      <td>no</td>\n",
       "    </tr>\n",
       "  </tbody>\n",
       "</table>\n",
       "</div>"
      ],
      "text/plain": [
       "       age          job   marital            education default housing loan  \\\n",
       "6917    39  blue-collar   married             basic_6y      no      no   no   \n",
       "9049    33        admin   married    university_degree      no     yes   no   \n",
       "22062   39        admin   married    university_degree      no      no   no   \n",
       "23171   35        admin   married    university_degree      no     yes   no   \n",
       "24779   45        admin   married    university_degree      no      no   no   \n",
       "29198   24     services    single          high_school      no     yes   no   \n",
       "29739   32   technician    single  professional_course      no     yes   no   \n",
       "29807   56  blue-collar   married             basic_4y      no      no   no   \n",
       "33178   36      retired   married              unknown      no      no   no   \n",
       "33953   41   technician   married  professional_course      no     yes   no   \n",
       "37039   47   technician  divorced          high_school      no     yes   no   \n",
       "\n",
       "         contact month day_of_week  duration  campaign  previous     poutcome  \\\n",
       "6917   telephone   may         thu       124         1         0  nonexistent   \n",
       "9049    cellular   aug         thu        59         1         0  nonexistent   \n",
       "22062   cellular   nov         tue       123         2         0  nonexistent   \n",
       "23171   cellular   may         fri       348         4         0  nonexistent   \n",
       "24779   cellular   jul         thu       252         1         0  nonexistent   \n",
       "29198   cellular   apr         tue       114         1         0  nonexistent   \n",
       "29739   cellular   jul         thu       128         1         0  nonexistent   \n",
       "29807  telephone   may         mon       136         1         0  nonexistent   \n",
       "33178  telephone   jul         thu        88         1         0  nonexistent   \n",
       "33953   cellular   aug         tue       127         1         0  nonexistent   \n",
       "37039   cellular   jul         thu        43         3         0  nonexistent   \n",
       "\n",
       "       emp_var_rate  cons_price_idx  cons_conf_idx  euribor3m  nr_employed  \\\n",
       "6917            1.1          93.994          -36.4      4.855       5191.0   \n",
       "9049            1.4          93.444          -36.1      4.968       5228.1   \n",
       "22062          -0.1          93.200          -42.0      4.153       5195.8   \n",
       "23171          -1.8          92.893          -46.2      1.313       5099.1   \n",
       "24779          -2.9          92.469          -33.6      1.072       5076.2   \n",
       "29198          -1.8          93.075          -47.1      1.423       5099.1   \n",
       "29739           1.4          93.918          -42.7      4.968       5228.1   \n",
       "29807           1.1          93.994          -36.4      4.857       5191.0   \n",
       "33178           1.4          93.918          -42.7      4.966       5228.1   \n",
       "33953           1.4          93.444          -36.1      4.966       5228.1   \n",
       "37039           1.4          93.918          -42.7      4.962       5228.1   \n",
       "\n",
       "         y  \n",
       "6917    no  \n",
       "9049    no  \n",
       "22062   no  \n",
       "23171   no  \n",
       "24779  yes  \n",
       "29198   no  \n",
       "29739   no  \n",
       "29807   no  \n",
       "33178   no  \n",
       "33953   no  \n",
       "37039   no  "
      ]
     },
     "execution_count": 23,
     "metadata": {},
     "output_type": "execute_result"
    }
   ],
   "source": [
    "# Get duplicates\n",
    "df[df.duplicated()]"
   ]
  },
  {
   "cell_type": "markdown",
   "metadata": {},
   "source": [
    "There appear to be 9 rows with exactly the same entries. However with the absence of a unique identifier (say a customer ID) it could very well be that these do indeed represent different customers.\n",
    "\n",
    "Due to the small number of such entries, we will keep them as such. However it is worth informing our stakeholders that it would be preferable for the data to include a unique identifier."
   ]
  },
  {
   "cell_type": "markdown",
   "metadata": {},
   "source": [
    "## Explore and Visualise Data"
   ]
  },
  {
   "cell_type": "markdown",
   "metadata": {},
   "source": [
    "### Target Variable"
   ]
  },
  {
   "cell_type": "markdown",
   "metadata": {},
   "source": [
    "Let us begin by visualising the distribution of our target variable `y`, whether the customer subscribed to a term deposit."
   ]
  },
  {
   "cell_type": "code",
   "execution_count": 24,
   "metadata": {
    "scrolled": false
   },
   "outputs": [
    {
     "data": {
      "image/png": "[encoded data removed]",
      "text/plain": [
       "<Figure size 504x360 with 1 Axes>"
      ]
     },
     "metadata": {
      "needs_background": "light"
     },
     "output_type": "display_data"
    }
   ],
   "source": [
    "# Plot distribution of y\n",
    "plt.figure(figsize = (7,5))\n",
    "sns.countplot(df['y'], palette = chosen_palette)\n",
    "plt.xlabel('Term Deposit Subscription')\n",
    "plt.title('Distribution of Target Variable')\n",
    "plt.show()"
   ]
  },
  {
   "cell_type": "code",
   "execution_count": 25,
   "metadata": {
    "scrolled": true
   },
   "outputs": [
    {
     "data": {
      "text/plain": [
       "no     0.887345\n",
       "yes    0.112655\n",
       "Name: y, dtype: float64"
      ]
     },
     "execution_count": 25,
     "metadata": {},
     "output_type": "execute_result"
    }
   ],
   "source": [
    "df['y'].value_counts(normalize = True)"
   ]
  },
  {
   "cell_type": "markdown",
   "metadata": {},
   "source": [
    "We immediately notice that we are dealing with imbalanced classes, with 88% of the entries representing data for a customer who did not subscribe to the term deposit. \n",
    "\n",
    "We will need to account for this imbalance or our model may be biased towards the majority class. We will also need to carefully select our evaluation metric to based on the business scenario. This is discussed in section X."
   ]
  },
  {
   "cell_type": "markdown",
   "metadata": {},
   "source": [
    "### Features"
   ]
  },
  {
   "cell_type": "markdown",
   "metadata": {},
   "source": [
    "Let's investigate our features. We have a mix of numerical and categorical features to examine."
   ]
  },
  {
   "cell_type": "markdown",
   "metadata": {},
   "source": [
    "We begin by visualising numerical attributes via histograms."
   ]
  },
  {
   "cell_type": "code",
   "execution_count": 26,
   "metadata": {
    "scrolled": true
   },
   "outputs": [
    {
     "data": {
      "image/png": "[encoded data removed]",
      "text/plain": [
       "<Figure size 1080x720 with 9 Axes>"
      ]
     },
     "metadata": {
      "needs_background": "light"
     },
     "output_type": "display_data"
    }
   ],
   "source": [
    "# Plot histograms\n",
    "df.hist(figsize = (15,10))\n",
    "plt.show()"
   ]
  },
  {
   "cell_type": "markdown",
   "metadata": {},
   "source": [
    "Let us visualize **categorical** attributes using barplots. We will distinguish between `yes` or `no` values of our target variable to get an initial idea of which attributes might have the biggest impact on whether a customer will subscribe to a term deposit."
   ]
  },
  {
   "cell_type": "code",
   "execution_count": 27,
   "metadata": {
    "scrolled": true
   },
   "outputs": [
    {
     "data": {
      "image/png": "[encoded data removed]",
      "text/plain": [
       "<Figure size 1440x2880 with 10 Axes>"
      ]
     },
     "metadata": {
      "needs_background": "light"
     },
     "output_type": "display_data"
    }
   ],
   "source": [
    "# Define cat feats as catcols less last item y\n",
    "cat_feats = list(cat_cols)[:-1]\n",
    "\n",
    "# Create barplot of categorical features with hue target variable\n",
    "\n",
    "fig, axes = plt.subplots(5,2, figsize = (20,40))\n",
    "\n",
    "for c, col in enumerate(cat_feats):\n",
    "    ax_x = c // 2\n",
    "    ax_y = c % 2\n",
    "    sns.countplot(y = df[col], orient = 'h', hue = df['y'], palette = chosen_palette, ax = axes[ax_x, ax_y])\n",
    "    \n",
    "    axes[ax_x, ax_y].set_title(f'Feature: {col}')\n",
    "    axes[ax_x, ax_y].set_ylabel(None) \n",
    "    axes[ax_x, ax_y].set_xlabel(None) \n",
    "    axes[ax_x, ax_y].legend(title = \"Subscribed\", loc = 'lower right') \n",
    "plt.show()"
   ]
  },
  {
   "cell_type": "markdown",
   "metadata": {},
   "source": [
    "Due to the class imbalance, it is difficult to see which attributes have the highest impact on the target variable. \n",
    "\n",
    "For instance, when looking at `job`, we just see fewer `yes` observations for every type of `job`. Let us try and improve on this, by looking at the `rate` of subscribers for each job category. Once we have a more useful visualization, we will extend to the other categorical variables."
   ]
  },
  {
   "cell_type": "code",
   "execution_count": 28,
   "metadata": {
    "scrolled": true
   },
   "outputs": [
    {
     "data": {
      "text/html": [
       "<div>\n",
       "<style scoped>\n",
       "    .dataframe tbody tr th:only-of-type {\n",
       "        vertical-align: middle;\n",
       "    }\n",
       "\n",
       "    .dataframe tbody tr th {\n",
       "        vertical-align: top;\n",
       "    }\n",
       "\n",
       "    .dataframe thead th {\n",
       "        text-align: right;\n",
       "    }\n",
       "</style>\n",
       "<table border=\"1\" class=\"dataframe\">\n",
       "  <thead>\n",
       "    <tr style=\"text-align: right;\">\n",
       "      <th>y</th>\n",
       "      <th>no</th>\n",
       "      <th>yes</th>\n",
       "    </tr>\n",
       "    <tr>\n",
       "      <th>job</th>\n",
       "      <th></th>\n",
       "      <th></th>\n",
       "    </tr>\n",
       "  </thead>\n",
       "  <tbody>\n",
       "    <tr>\n",
       "      <td>admin</td>\n",
       "      <td>8150</td>\n",
       "      <td>1213</td>\n",
       "    </tr>\n",
       "    <tr>\n",
       "      <td>blue-collar</td>\n",
       "      <td>7773</td>\n",
       "      <td>569</td>\n",
       "    </tr>\n",
       "    <tr>\n",
       "      <td>entrepreneur</td>\n",
       "      <td>1202</td>\n",
       "      <td>116</td>\n",
       "    </tr>\n",
       "    <tr>\n",
       "      <td>housemaid</td>\n",
       "      <td>876</td>\n",
       "      <td>94</td>\n",
       "    </tr>\n",
       "    <tr>\n",
       "      <td>management</td>\n",
       "      <td>2338</td>\n",
       "      <td>299</td>\n",
       "    </tr>\n",
       "    <tr>\n",
       "      <td>retired</td>\n",
       "      <td>1161</td>\n",
       "      <td>390</td>\n",
       "    </tr>\n",
       "    <tr>\n",
       "      <td>self-employed</td>\n",
       "      <td>1136</td>\n",
       "      <td>133</td>\n",
       "    </tr>\n",
       "    <tr>\n",
       "      <td>services</td>\n",
       "      <td>3266</td>\n",
       "      <td>292</td>\n",
       "    </tr>\n",
       "    <tr>\n",
       "      <td>student</td>\n",
       "      <td>538</td>\n",
       "      <td>253</td>\n",
       "    </tr>\n",
       "    <tr>\n",
       "      <td>technician</td>\n",
       "      <td>5408</td>\n",
       "      <td>651</td>\n",
       "    </tr>\n",
       "    <tr>\n",
       "      <td>unemployed</td>\n",
       "      <td>783</td>\n",
       "      <td>130</td>\n",
       "    </tr>\n",
       "    <tr>\n",
       "      <td>unknown</td>\n",
       "      <td>262</td>\n",
       "      <td>36</td>\n",
       "    </tr>\n",
       "  </tbody>\n",
       "</table>\n",
       "</div>"
      ],
      "text/plain": [
       "y                no   yes\n",
       "job                      \n",
       "admin          8150  1213\n",
       "blue-collar    7773   569\n",
       "entrepreneur   1202   116\n",
       "housemaid       876    94\n",
       "management     2338   299\n",
       "retired        1161   390\n",
       "self-employed  1136   133\n",
       "services       3266   292\n",
       "student         538   253\n",
       "technician     5408   651\n",
       "unemployed      783   130\n",
       "unknown         262    36"
      ]
     },
     "execution_count": 28,
     "metadata": {},
     "output_type": "execute_result"
    }
   ],
   "source": [
    "# Establish counts of subscribers based on job using grouby\n",
    "counts = df[['job', 'y']].groupby(['job','y']).size().unstack()\n",
    "counts"
   ]
  },
  {
   "cell_type": "code",
   "execution_count": 29,
   "metadata": {
    "scrolled": true
   },
   "outputs": [
    {
     "data": {
      "text/plain": [
       "job\n",
       "admin            9363\n",
       "blue-collar      8342\n",
       "entrepreneur     1318\n",
       "housemaid         970\n",
       "management       2637\n",
       "retired          1551\n",
       "self-employed    1269\n",
       "services         3558\n",
       "student           791\n",
       "technician       6059\n",
       "unemployed        913\n",
       "unknown           298\n",
       "dtype: int64"
      ]
     },
     "execution_count": 29,
     "metadata": {},
     "output_type": "execute_result"
    }
   ],
   "source": [
    "# Count number of observations for each job category\n",
    "job_counts = counts.sum(axis = 'columns')\n",
    "job_counts"
   ]
  },
  {
   "cell_type": "code",
   "execution_count": 30,
   "metadata": {
    "scrolled": true
   },
   "outputs": [
    {
     "data": {
      "text/html": [
       "<div>\n",
       "<style scoped>\n",
       "    .dataframe tbody tr th:only-of-type {\n",
       "        vertical-align: middle;\n",
       "    }\n",
       "\n",
       "    .dataframe tbody tr th {\n",
       "        vertical-align: top;\n",
       "    }\n",
       "\n",
       "    .dataframe thead th {\n",
       "        text-align: right;\n",
       "    }\n",
       "</style>\n",
       "<table border=\"1\" class=\"dataframe\">\n",
       "  <thead>\n",
       "    <tr style=\"text-align: right;\">\n",
       "      <th>y</th>\n",
       "      <th>no</th>\n",
       "      <th>yes</th>\n",
       "    </tr>\n",
       "    <tr>\n",
       "      <th>job</th>\n",
       "      <th></th>\n",
       "      <th></th>\n",
       "    </tr>\n",
       "  </thead>\n",
       "  <tbody>\n",
       "    <tr>\n",
       "      <td>admin</td>\n",
       "      <td>0.870448</td>\n",
       "      <td>0.129552</td>\n",
       "    </tr>\n",
       "    <tr>\n",
       "      <td>blue-collar</td>\n",
       "      <td>0.931791</td>\n",
       "      <td>0.068209</td>\n",
       "    </tr>\n",
       "    <tr>\n",
       "      <td>entrepreneur</td>\n",
       "      <td>0.911988</td>\n",
       "      <td>0.088012</td>\n",
       "    </tr>\n",
       "    <tr>\n",
       "      <td>housemaid</td>\n",
       "      <td>0.903093</td>\n",
       "      <td>0.096907</td>\n",
       "    </tr>\n",
       "    <tr>\n",
       "      <td>management</td>\n",
       "      <td>0.886614</td>\n",
       "      <td>0.113386</td>\n",
       "    </tr>\n",
       "    <tr>\n",
       "      <td>retired</td>\n",
       "      <td>0.748549</td>\n",
       "      <td>0.251451</td>\n",
       "    </tr>\n",
       "    <tr>\n",
       "      <td>self-employed</td>\n",
       "      <td>0.895193</td>\n",
       "      <td>0.104807</td>\n",
       "    </tr>\n",
       "    <tr>\n",
       "      <td>services</td>\n",
       "      <td>0.917931</td>\n",
       "      <td>0.082069</td>\n",
       "    </tr>\n",
       "    <tr>\n",
       "      <td>student</td>\n",
       "      <td>0.680152</td>\n",
       "      <td>0.319848</td>\n",
       "    </tr>\n",
       "    <tr>\n",
       "      <td>technician</td>\n",
       "      <td>0.892557</td>\n",
       "      <td>0.107443</td>\n",
       "    </tr>\n",
       "    <tr>\n",
       "      <td>unemployed</td>\n",
       "      <td>0.857612</td>\n",
       "      <td>0.142388</td>\n",
       "    </tr>\n",
       "    <tr>\n",
       "      <td>unknown</td>\n",
       "      <td>0.879195</td>\n",
       "      <td>0.120805</td>\n",
       "    </tr>\n",
       "  </tbody>\n",
       "</table>\n",
       "</div>"
      ],
      "text/plain": [
       "y                    no       yes\n",
       "job                              \n",
       "admin          0.870448  0.129552\n",
       "blue-collar    0.931791  0.068209\n",
       "entrepreneur   0.911988  0.088012\n",
       "housemaid      0.903093  0.096907\n",
       "management     0.886614  0.113386\n",
       "retired        0.748549  0.251451\n",
       "self-employed  0.895193  0.104807\n",
       "services       0.917931  0.082069\n",
       "student        0.680152  0.319848\n",
       "technician     0.892557  0.107443\n",
       "unemployed     0.857612  0.142388\n",
       "unknown        0.879195  0.120805"
      ]
     },
     "execution_count": 30,
     "metadata": {},
     "output_type": "execute_result"
    }
   ],
   "source": [
    "# Obtain proportions by dividing by the respective job counts\n",
    "job_props = counts.div(job_counts, axis = 'index')\n",
    "job_props"
   ]
  },
  {
   "cell_type": "markdown",
   "metadata": {},
   "source": [
    "Now that the yes or no subscription rates for each education level add up to 1, we can see that customers who are `students` or `retired` are most likely to subscribe to a term deposit.\n",
    "\n",
    "We can visualize this clearly with a stacked bar chart."
   ]
  },
  {
   "cell_type": "code",
   "execution_count": 31,
   "metadata": {
    "scrolled": true
   },
   "outputs": [
    {
     "data": {
      "image/png": "[encoded data removed]",
      "text/plain": [
       "<Figure size 432x288 with 1 Axes>"
      ]
     },
     "metadata": {
      "needs_background": "light"
     },
     "output_type": "display_data"
    }
   ],
   "source": [
    "# Plot stacked bar chart\n",
    "job_props.plot.barh(stacked = True, colormap = chosen_palette)\n",
    "# Have legend to the side\n",
    "plt.legend(\n",
    "    loc = 'center left',\n",
    "    bbox_to_anchor = (1.05,0.5),\n",
    "    title = 'subscribed')\n",
    "plt.title('Feature: job')\n",
    "plt.ylabel(None)\n",
    "plt.show()"
   ]
  },
  {
   "cell_type": "markdown",
   "metadata": {},
   "source": [
    "Let us define a function to create this plot, so that we can then easily apply it to the other features."
   ]
  },
  {
   "cell_type": "code",
   "execution_count": 32,
   "metadata": {
    "scrolled": true
   },
   "outputs": [],
   "source": [
    "# Define function for stacked barplot\n",
    "\n",
    "def feature_rate_plot(col, target, df, colormap = chosen_palette, ax = None):\n",
    "    \n",
    "    counts = df[[col, target]].groupby([col,target]).size().unstack()\n",
    "    col_counts = counts.sum(axis = 'columns')\n",
    "    col_props = counts.div(col_counts, axis = 'index')\n",
    "    \n",
    "    # Plot stacked bar chart\n",
    "    col_props.plot.barh(stacked = True, colormap = colormap, ax = ax )\n",
    "    \n",
    "    if ax == None:\n",
    "        plt.title(f'Feature: {col}')\n",
    "        plt.legend(\n",
    "            loc = 'center left',\n",
    "            bbox_to_anchor = (1.05,0.5),\n",
    "            title = 'subscribed')\n",
    "        plt.ylabel(None)\n",
    "        \n",
    "    else:\n",
    "        ax.set_title(f'Feature: {col}')\n",
    "        ax.legend().remove()\n",
    "        ax.set_ylabel(None)"
   ]
  },
  {
   "cell_type": "markdown",
   "metadata": {},
   "source": [
    "Let us apply this function to create stacked barplots of all categorical features highlighting the rate of subscription."
   ]
  },
  {
   "cell_type": "code",
   "execution_count": 33,
   "metadata": {
    "scrolled": true
   },
   "outputs": [
    {
     "data": {
      "image/png": "[encoded data removed]",
      "text/plain": [
       "<Figure size 1440x2880 with 10 Axes>"
      ]
     },
     "metadata": {
      "needs_background": "light"
     },
     "output_type": "display_data"
    }
   ],
   "source": [
    "# Create barplot of categorical features with target variable rate\n",
    "\n",
    "fig, axes = plt.subplots(5,2, figsize = (20,40))\n",
    "\n",
    "for c, col in enumerate(cat_feats):\n",
    "    ax_x = c // 2\n",
    "    ax_y = c % 2\n",
    "    feature_rate_plot(col, 'y', df, ax = axes[ax_x, ax_y] )\n",
    "    \n",
    "axes[0, 0].legend(\n",
    "    loc='lower center', bbox_to_anchor=(1.1, 1.05), title='subscribed'\n",
    ")\n",
    "plt.show()"
   ]
  },
  {
   "cell_type": "markdown",
   "metadata": {},
   "source": [
    "From the visualisations, we can see that `poutcome` looks to be a good predictor, with **customers who previously subscribed to a term deposit likely to do so again**. Out of customers who subscribed last time (`poutcome` has value `success`) 65% subscribed again.\n",
    "\n",
    "Also **students** and **retired** customers are more likely to subscribe to a term deposit. This is in line with expectations as they are less likely to need the funds for emergencies and able to manage their outgoings effectively."
   ]
  },
  {
   "cell_type": "markdown",
   "metadata": {},
   "source": [
    "### Analysis of Duration and Campaign Features"
   ]
  },
  {
   "cell_type": "markdown",
   "metadata": {},
   "source": [
    "From the data dictionary we note that `duration` represents the last contact duration, in seconds (numeric). This attribute highly affects the output target (as if duration=0 then the customer definitely did not subscribe to the term deposit and `y` is `no`). Moreover, the duration is not known before a call is performed and after the end of the call `y` is obviously known. Therefore we will examine this variable here but discard it when building a realistic predictive model."
   ]
  },
  {
   "cell_type": "code",
   "execution_count": 34,
   "metadata": {
    "scrolled": true
   },
   "outputs": [
    {
     "data": {
      "text/plain": [
       "count    37069.000000\n",
       "mean       258.504627\n",
       "std        259.806298\n",
       "min          0.000000\n",
       "25%        102.000000\n",
       "50%        180.000000\n",
       "75%        319.000000\n",
       "max       4918.000000\n",
       "Name: duration, dtype: float64"
      ]
     },
     "execution_count": 34,
     "metadata": {},
     "output_type": "execute_result"
    }
   ],
   "source": [
    "# Describe duration feature\n",
    "df['duration'].describe()"
   ]
  },
  {
   "cell_type": "code",
   "execution_count": 35,
   "metadata": {
    "scrolled": false
   },
   "outputs": [
    {
     "data": {
      "image/png": "[encoded data removed]",
      "text/plain": [
       "<Figure size 432x288 with 1 Axes>"
      ]
     },
     "metadata": {
      "needs_background": "light"
     },
     "output_type": "display_data"
    }
   ],
   "source": [
    "# Plot distribution of duration feature\n",
    "df['duration'].hist()\n",
    "plt.title('Distribution of duration feature')\n",
    "plt.xlabel('Duration in seconds')\n",
    "plt.show()"
   ]
  },
  {
   "cell_type": "code",
   "execution_count": 36,
   "metadata": {
    "scrolled": true
   },
   "outputs": [],
   "source": [
    "# Define categorical attribute which maps duration to above and below average\n",
    "df['duration_cat'] = df['duration'].map(lambda x: 'above average' if x > df['duration'].mean() \\\n",
    "                                        else 'below average')"
   ]
  },
  {
   "cell_type": "markdown",
   "metadata": {},
   "source": [
    "We can visualise this attribute using our previously defined `feature_rate_plot` function."
   ]
  },
  {
   "cell_type": "code",
   "execution_count": 37,
   "metadata": {
    "scrolled": false
   },
   "outputs": [
    {
     "data": {
      "image/png": "[encoded data removed]",
      "text/plain": [
       "<Figure size 432x288 with 1 Axes>"
      ]
     },
     "metadata": {
      "needs_background": "light"
     },
     "output_type": "display_data"
    }
   ],
   "source": [
    "# Plot stacked bar chart\n",
    "feature_rate_plot('duration_cat', 'y', df)"
   ]
  },
  {
   "cell_type": "markdown",
   "metadata": {},
   "source": [
    "Let us now focus on customers which did subscribe to the term deposit (target variable `y` is `yes`) and look to analyse the call duration."
   ]
  },
  {
   "cell_type": "code",
   "execution_count": 38,
   "metadata": {
    "scrolled": false
   },
   "outputs": [
    {
     "data": {
      "text/plain": [
       "count    4176.000000\n",
       "mean      553.282807\n",
       "std       402.990684\n",
       "min        37.000000\n",
       "25%       254.000000\n",
       "50%       447.000000\n",
       "75%       741.250000\n",
       "max      4199.000000\n",
       "Name: duration, dtype: float64"
      ]
     },
     "execution_count": 38,
     "metadata": {},
     "output_type": "execute_result"
    }
   ],
   "source": [
    "# Describe duration feature where target variable is yes\n",
    "df[df['y'] == 'yes']['duration'].describe()"
   ]
  },
  {
   "cell_type": "code",
   "execution_count": 39,
   "metadata": {
    "scrolled": false
   },
   "outputs": [
    {
     "data": {
      "image/png": "[encoded data removed]",
      "text/plain": [
       "<Figure size 432x288 with 1 Axes>"
      ]
     },
     "metadata": {
      "needs_background": "light"
     },
     "output_type": "display_data"
    }
   ],
   "source": [
    "# Plot duration distribution where target variable is yes\n",
    "df[df['y'] == 'yes']['duration'].hist()\n",
    "plt.title('Distribution of duration feature for subscribed customers')\n",
    "plt.xlabel('Duration in seconds')\n",
    "plt.show()"
   ]
  },
  {
   "cell_type": "markdown",
   "metadata": {},
   "source": [
    "The mean call duration which resulted in a subscription is 553 seconds or just under 10 minutes."
   ]
  },
  {
   "cell_type": "code",
   "execution_count": 438,
   "metadata": {
    "scrolled": true
   },
   "outputs": [
    {
     "data": {
      "text/plain": [
       "count    32893.000000\n",
       "mean       221.080443\n",
       "std        207.418894\n",
       "min          0.000000\n",
       "25%         95.000000\n",
       "50%        164.000000\n",
       "75%        279.000000\n",
       "max       4918.000000\n",
       "Name: duration, dtype: float64"
      ]
     },
     "execution_count": 438,
     "metadata": {},
     "output_type": "execute_result"
    }
   ],
   "source": [
    "# Describe duration feature where target variable is no\n",
    "df[df['y'] == 'no']['duration'].describe()"
   ]
  },
  {
   "cell_type": "markdown",
   "metadata": {},
   "source": [
    "On the other hand, the mean call duration which did not result in a subscription is 221 seconds or a bit less than 4 minutes."
   ]
  },
  {
   "cell_type": "markdown",
   "metadata": {},
   "source": [
    "Let us know look at the `campaign` feature. It tells us the number of contacts performed during this campaign and for this client. "
   ]
  },
  {
   "cell_type": "code",
   "execution_count": 40,
   "metadata": {
    "scrolled": true
   },
   "outputs": [
    {
     "data": {
      "text/plain": [
       "count    37069.000000\n",
       "mean         2.572959\n",
       "std          2.779804\n",
       "min          1.000000\n",
       "25%          1.000000\n",
       "50%          2.000000\n",
       "75%          3.000000\n",
       "max         56.000000\n",
       "Name: campaign, dtype: float64"
      ]
     },
     "execution_count": 40,
     "metadata": {},
     "output_type": "execute_result"
    }
   ],
   "source": [
    "# Describe campaign feature\n",
    "df['campaign'].describe()"
   ]
  },
  {
   "cell_type": "markdown",
   "metadata": {},
   "source": [
    "We see that on average, more than one call was made to each customer. The value of 56 is clearly an outlier and possibly an error. As we won't be keeping this feature for modelling purposes, we do not need to worry about it."
   ]
  },
  {
   "cell_type": "code",
   "execution_count": 41,
   "metadata": {
    "scrolled": true
   },
   "outputs": [
    {
     "data": {
      "image/png": "[encoded data removed]",
      "text/plain": [
       "<Figure size 432x288 with 1 Axes>"
      ]
     },
     "metadata": {
      "needs_background": "light"
     },
     "output_type": "display_data"
    }
   ],
   "source": [
    "# Plot campaign distribution\n",
    "df['campaign'].hist()\n",
    "plt.title('Distribution of campaign feature')\n",
    "plt.xlabel('Number of calls')\n",
    "plt.show()"
   ]
  },
  {
   "cell_type": "markdown",
   "metadata": {},
   "source": [
    "Let us now focus on customers which did subscribe to the term deposit (target variable `y` is `yes`) and look to analyse the `campaign` feature."
   ]
  },
  {
   "cell_type": "code",
   "execution_count": 42,
   "metadata": {
    "scrolled": true
   },
   "outputs": [
    {
     "data": {
      "text/plain": [
       "count    4176.000000\n",
       "mean        2.046695\n",
       "std         1.664846\n",
       "min         1.000000\n",
       "25%         1.000000\n",
       "50%         2.000000\n",
       "75%         2.000000\n",
       "max        23.000000\n",
       "Name: campaign, dtype: float64"
      ]
     },
     "execution_count": 42,
     "metadata": {},
     "output_type": "execute_result"
    }
   ],
   "source": [
    "# Describe campaign feature where target variable is yes\n",
    "df[df['y'] == 'yes']['campaign'].describe()"
   ]
  },
  {
   "cell_type": "code",
   "execution_count": 43,
   "metadata": {},
   "outputs": [
    {
     "data": {
      "image/png": "[encoded data removed]",
      "text/plain": [
       "<Figure size 432x288 with 1 Axes>"
      ]
     },
     "metadata": {
      "needs_background": "light"
     },
     "output_type": "display_data"
    }
   ],
   "source": [
    "# Plot campaign distribution where target variable is yes\n",
    "df[df['y'] == 'yes']['campaign'].hist()\n",
    "plt.title('Distribution of campaign feature for subscribed customers')\n",
    "plt.xlabel('Number of calls')\n",
    "plt.show()"
   ]
  },
  {
   "cell_type": "markdown",
   "metadata": {},
   "source": [
    "On average, it took two calls for customer to subscribe to a term deposit."
   ]
  },
  {
   "cell_type": "markdown",
   "metadata": {},
   "source": [
    "### Building a Customer Profile"
   ]
  },
  {
   "cell_type": "markdown",
   "metadata": {},
   "source": [
    "In this section, our goal is to describe the profile of a typical customer who subscribed to the term deposit."
   ]
  },
  {
   "cell_type": "code",
   "execution_count": 44,
   "metadata": {},
   "outputs": [],
   "source": [
    "# Define dataframe of subscribers by taking taget value to be yes\n",
    "subscribers = df[df['y']=='yes']"
   ]
  },
  {
   "cell_type": "markdown",
   "metadata": {},
   "source": [
    "Let us start by looking at the `job` feature."
   ]
  },
  {
   "cell_type": "code",
   "execution_count": 45,
   "metadata": {
    "scrolled": true
   },
   "outputs": [
    {
     "data": {
      "image/png": "[encoded data removed]",
      "text/plain": [
       "<Figure size 576x360 with 1 Axes>"
      ]
     },
     "metadata": {
      "needs_background": "light"
     },
     "output_type": "display_data"
    }
   ],
   "source": [
    "plt.figure(figsize = (8,5))\n",
    "sns.countplot(subscribers['job'], palette = chosen_palette)\n",
    "plt.title(\"Feature: job for subscribers\")\n",
    "plt.show()"
   ]
  },
  {
   "cell_type": "code",
   "execution_count": 46,
   "metadata": {},
   "outputs": [
    {
     "data": {
      "image/png": "[encoded data removed]",
      "text/plain": [
       "<Figure size 432x288 with 1 Axes>"
      ]
     },
     "metadata": {
      "needs_background": "light"
     },
     "output_type": "display_data"
    }
   ],
   "source": [
    "feature_rate_plot('job', 'y', df)"
   ]
  },
  {
   "cell_type": "markdown",
   "metadata": {},
   "source": [
    "### Investigate Correlations"
   ]
  },
  {
   "cell_type": "code",
   "execution_count": 47,
   "metadata": {
    "scrolled": true
   },
   "outputs": [
    {
     "data": {
      "image/png": "[encoded data removed]",
      "text/plain": [
       "<Figure size 720x504 with 2 Axes>"
      ]
     },
     "metadata": {
      "needs_background": "light"
     },
     "output_type": "display_data"
    }
   ],
   "source": [
    "corr = df.corr()\n",
    "\n",
    "# Plot heatmap\n",
    "plt.figure(figsize = (10,7))\n",
    "sns.heatmap(corr, center = 0, annot = True, cmap = 'coolwarm')\n",
    "plt.show()"
   ]
  },
  {
   "cell_type": "markdown",
   "metadata": {},
   "source": [
    "## Prepare Data for Modelling"
   ]
  },
  {
   "cell_type": "markdown",
   "metadata": {},
   "source": [
    "Let us split into features `X` and target `y`."
   ]
  },
  {
   "cell_type": "code",
   "execution_count": 48,
   "metadata": {
    "scrolled": true
   },
   "outputs": [],
   "source": [
    "# Reset df index\n",
    "df = df.reset_index(drop = True)\n",
    "\n",
    "# Split into features X/ target y\n",
    "X = df.drop('y', axis = 1)\n",
    "y = df['y'].copy()"
   ]
  },
  {
   "cell_type": "code",
   "execution_count": 49,
   "metadata": {
    "scrolled": false
   },
   "outputs": [
    {
     "data": {
      "text/plain": [
       "0    32893\n",
       "1     4176\n",
       "Name: y, dtype: int64"
      ]
     },
     "execution_count": 49,
     "metadata": {},
     "output_type": "execute_result"
    }
   ],
   "source": [
    "# Map y values to 1 and 0 \n",
    "y = y.map(lambda x: 1 if x == 'yes' else 0)\n",
    "y.value_counts()"
   ]
  },
  {
   "cell_type": "markdown",
   "metadata": {},
   "source": [
    "As discussed, we also have to drop the features `duration` and `campaign` as these would not be known prior to knowing the outcome of the target variable."
   ]
  },
  {
   "cell_type": "code",
   "execution_count": 50,
   "metadata": {
    "scrolled": true
   },
   "outputs": [],
   "source": [
    "# Drop duration and campaign features\n",
    "X = X.drop(['duration', 'duration_cat', 'campaign'], axis = 1)"
   ]
  },
  {
   "cell_type": "markdown",
   "metadata": {},
   "source": [
    "### Feature Scaling"
   ]
  },
  {
   "cell_type": "markdown",
   "metadata": {},
   "source": [
    "Let's use sklearn's `StandardScaler` to normalize the data. Note that this is not required for all algorithms, but if we don't this would have a negative impact on classifiers which rely on 'distance' such as K-Nearest Neighbours."
   ]
  },
  {
   "cell_type": "code",
   "execution_count": 51,
   "metadata": {
    "scrolled": true
   },
   "outputs": [
    {
     "data": {
      "text/html": [
       "<div>\n",
       "<style scoped>\n",
       "    .dataframe tbody tr th:only-of-type {\n",
       "        vertical-align: middle;\n",
       "    }\n",
       "\n",
       "    .dataframe tbody tr th {\n",
       "        vertical-align: top;\n",
       "    }\n",
       "\n",
       "    .dataframe thead th {\n",
       "        text-align: right;\n",
       "    }\n",
       "</style>\n",
       "<table border=\"1\" class=\"dataframe\">\n",
       "  <thead>\n",
       "    <tr style=\"text-align: right;\">\n",
       "      <th></th>\n",
       "      <th>age</th>\n",
       "      <th>previous</th>\n",
       "      <th>emp_var_rate</th>\n",
       "      <th>cons_price_idx</th>\n",
       "      <th>cons_conf_idx</th>\n",
       "      <th>euribor3m</th>\n",
       "      <th>nr_employed</th>\n",
       "    </tr>\n",
       "  </thead>\n",
       "  <tbody>\n",
       "    <tr>\n",
       "      <td>0</td>\n",
       "      <td>-0.865590</td>\n",
       "      <td>-0.349621</td>\n",
       "      <td>-1.198872</td>\n",
       "      <td>-1.266936</td>\n",
       "      <td>-2.055296</td>\n",
       "      <td>-1.043383</td>\n",
       "      <td>-0.939255</td>\n",
       "    </tr>\n",
       "    <tr>\n",
       "      <td>1</td>\n",
       "      <td>-0.385264</td>\n",
       "      <td>-0.349621</td>\n",
       "      <td>0.647586</td>\n",
       "      <td>0.721261</td>\n",
       "      <td>0.888661</td>\n",
       "      <td>0.712281</td>\n",
       "      <td>0.331389</td>\n",
       "    </tr>\n",
       "    <tr>\n",
       "      <td>2</td>\n",
       "      <td>0.671453</td>\n",
       "      <td>1.665946</td>\n",
       "      <td>-1.198872</td>\n",
       "      <td>-1.180568</td>\n",
       "      <td>-1.232720</td>\n",
       "      <td>-1.357512</td>\n",
       "      <td>-0.939255</td>\n",
       "    </tr>\n",
       "    <tr>\n",
       "      <td>3</td>\n",
       "      <td>0.671453</td>\n",
       "      <td>-0.349621</td>\n",
       "      <td>0.838599</td>\n",
       "      <td>1.534850</td>\n",
       "      <td>-0.280263</td>\n",
       "      <td>0.775684</td>\n",
       "      <td>0.844348</td>\n",
       "    </tr>\n",
       "    <tr>\n",
       "      <td>4</td>\n",
       "      <td>0.671453</td>\n",
       "      <td>-0.349621</td>\n",
       "      <td>-1.198872</td>\n",
       "      <td>-1.180568</td>\n",
       "      <td>-1.232720</td>\n",
       "      <td>-1.370192</td>\n",
       "      <td>-0.939255</td>\n",
       "    </tr>\n",
       "  </tbody>\n",
       "</table>\n",
       "</div>"
      ],
      "text/plain": [
       "        age  previous  emp_var_rate  cons_price_idx  cons_conf_idx  euribor3m  \\\n",
       "0 -0.865590 -0.349621     -1.198872       -1.266936      -2.055296  -1.043383   \n",
       "1 -0.385264 -0.349621      0.647586        0.721261       0.888661   0.712281   \n",
       "2  0.671453  1.665946     -1.198872       -1.180568      -1.232720  -1.357512   \n",
       "3  0.671453 -0.349621      0.838599        1.534850      -0.280263   0.775684   \n",
       "4  0.671453 -0.349621     -1.198872       -1.180568      -1.232720  -1.370192   \n",
       "\n",
       "   nr_employed  \n",
       "0    -0.939255  \n",
       "1     0.331389  \n",
       "2    -0.939255  \n",
       "3     0.844348  \n",
       "4    -0.939255  "
      ]
     },
     "execution_count": 51,
     "metadata": {},
     "output_type": "execute_result"
    }
   ],
   "source": [
    "# Get data of numerical type\n",
    "X_num = X.select_dtypes(include = np.number)\n",
    "\n",
    "# Get data of categorical type\n",
    "X_cat = X.select_dtypes(include = object)\n",
    "\n",
    "# Instantiate Class\n",
    "ss = StandardScaler()\n",
    "\n",
    "# Fit and Transform Data\n",
    "X_num_scaled = ss.fit_transform(X_num)\n",
    "\n",
    "# Recreate DataFrame\n",
    "X_num_scaled = pd.DataFrame(X_num_scaled, columns = X_num.columns)\n",
    "X_num_scaled.head()"
   ]
  },
  {
   "cell_type": "markdown",
   "metadata": {},
   "source": [
    "Let's recreate our DataFrame by combining the scaled numerical attributes and categorical attributes."
   ]
  },
  {
   "cell_type": "code",
   "execution_count": 52,
   "metadata": {
    "scrolled": true
   },
   "outputs": [
    {
     "data": {
      "text/html": [
       "<div>\n",
       "<style scoped>\n",
       "    .dataframe tbody tr th:only-of-type {\n",
       "        vertical-align: middle;\n",
       "    }\n",
       "\n",
       "    .dataframe tbody tr th {\n",
       "        vertical-align: top;\n",
       "    }\n",
       "\n",
       "    .dataframe thead th {\n",
       "        text-align: right;\n",
       "    }\n",
       "</style>\n",
       "<table border=\"1\" class=\"dataframe\">\n",
       "  <thead>\n",
       "    <tr style=\"text-align: right;\">\n",
       "      <th></th>\n",
       "      <th>age</th>\n",
       "      <th>previous</th>\n",
       "      <th>emp_var_rate</th>\n",
       "      <th>cons_price_idx</th>\n",
       "      <th>cons_conf_idx</th>\n",
       "      <th>euribor3m</th>\n",
       "      <th>nr_employed</th>\n",
       "      <th>job</th>\n",
       "      <th>marital</th>\n",
       "      <th>education</th>\n",
       "      <th>default</th>\n",
       "      <th>housing</th>\n",
       "      <th>loan</th>\n",
       "      <th>contact</th>\n",
       "      <th>month</th>\n",
       "      <th>day_of_week</th>\n",
       "      <th>poutcome</th>\n",
       "    </tr>\n",
       "  </thead>\n",
       "  <tbody>\n",
       "    <tr>\n",
       "      <td>0</td>\n",
       "      <td>-0.865590</td>\n",
       "      <td>-0.349621</td>\n",
       "      <td>-1.198872</td>\n",
       "      <td>-1.266936</td>\n",
       "      <td>-2.055296</td>\n",
       "      <td>-1.043383</td>\n",
       "      <td>-0.939255</td>\n",
       "      <td>admin</td>\n",
       "      <td>single</td>\n",
       "      <td>university_degree</td>\n",
       "      <td>no</td>\n",
       "      <td>no</td>\n",
       "      <td>yes</td>\n",
       "      <td>telephone</td>\n",
       "      <td>mar</td>\n",
       "      <td>mon</td>\n",
       "      <td>nonexistent</td>\n",
       "    </tr>\n",
       "    <tr>\n",
       "      <td>1</td>\n",
       "      <td>-0.385264</td>\n",
       "      <td>-0.349621</td>\n",
       "      <td>0.647586</td>\n",
       "      <td>0.721261</td>\n",
       "      <td>0.888661</td>\n",
       "      <td>0.712281</td>\n",
       "      <td>0.331389</td>\n",
       "      <td>admin</td>\n",
       "      <td>single</td>\n",
       "      <td>university_degree</td>\n",
       "      <td>no</td>\n",
       "      <td>yes</td>\n",
       "      <td>no</td>\n",
       "      <td>telephone</td>\n",
       "      <td>may</td>\n",
       "      <td>wed</td>\n",
       "      <td>nonexistent</td>\n",
       "    </tr>\n",
       "    <tr>\n",
       "      <td>2</td>\n",
       "      <td>0.671453</td>\n",
       "      <td>1.665946</td>\n",
       "      <td>-1.198872</td>\n",
       "      <td>-1.180568</td>\n",
       "      <td>-1.232720</td>\n",
       "      <td>-1.357512</td>\n",
       "      <td>-0.939255</td>\n",
       "      <td>blue-collar</td>\n",
       "      <td>married</td>\n",
       "      <td>basic_4y</td>\n",
       "      <td>no</td>\n",
       "      <td>no</td>\n",
       "      <td>no</td>\n",
       "      <td>telephone</td>\n",
       "      <td>may</td>\n",
       "      <td>thu</td>\n",
       "      <td>failure</td>\n",
       "    </tr>\n",
       "    <tr>\n",
       "      <td>3</td>\n",
       "      <td>0.671453</td>\n",
       "      <td>-0.349621</td>\n",
       "      <td>0.838599</td>\n",
       "      <td>1.534850</td>\n",
       "      <td>-0.280263</td>\n",
       "      <td>0.775684</td>\n",
       "      <td>0.844348</td>\n",
       "      <td>retired</td>\n",
       "      <td>married</td>\n",
       "      <td>basic_4y</td>\n",
       "      <td>no</td>\n",
       "      <td>no</td>\n",
       "      <td>no</td>\n",
       "      <td>telephone</td>\n",
       "      <td>jun</td>\n",
       "      <td>fri</td>\n",
       "      <td>nonexistent</td>\n",
       "    </tr>\n",
       "    <tr>\n",
       "      <td>4</td>\n",
       "      <td>0.671453</td>\n",
       "      <td>-0.349621</td>\n",
       "      <td>-1.198872</td>\n",
       "      <td>-1.180568</td>\n",
       "      <td>-1.232720</td>\n",
       "      <td>-1.370192</td>\n",
       "      <td>-0.939255</td>\n",
       "      <td>services</td>\n",
       "      <td>married</td>\n",
       "      <td>high_school</td>\n",
       "      <td>no</td>\n",
       "      <td>no</td>\n",
       "      <td>no</td>\n",
       "      <td>cellular</td>\n",
       "      <td>may</td>\n",
       "      <td>mon</td>\n",
       "      <td>nonexistent</td>\n",
       "    </tr>\n",
       "  </tbody>\n",
       "</table>\n",
       "</div>"
      ],
      "text/plain": [
       "        age  previous  emp_var_rate  cons_price_idx  cons_conf_idx  euribor3m  \\\n",
       "0 -0.865590 -0.349621     -1.198872       -1.266936      -2.055296  -1.043383   \n",
       "1 -0.385264 -0.349621      0.647586        0.721261       0.888661   0.712281   \n",
       "2  0.671453  1.665946     -1.198872       -1.180568      -1.232720  -1.357512   \n",
       "3  0.671453 -0.349621      0.838599        1.534850      -0.280263   0.775684   \n",
       "4  0.671453 -0.349621     -1.198872       -1.180568      -1.232720  -1.370192   \n",
       "\n",
       "   nr_employed          job  marital          education default housing loan  \\\n",
       "0    -0.939255        admin   single  university_degree      no      no  yes   \n",
       "1     0.331389        admin   single  university_degree      no     yes   no   \n",
       "2    -0.939255  blue-collar  married           basic_4y      no      no   no   \n",
       "3     0.844348      retired  married           basic_4y      no      no   no   \n",
       "4    -0.939255     services  married        high_school      no      no   no   \n",
       "\n",
       "     contact month day_of_week     poutcome  \n",
       "0  telephone   mar         mon  nonexistent  \n",
       "1  telephone   may         wed  nonexistent  \n",
       "2  telephone   may         thu      failure  \n",
       "3  telephone   jun         fri  nonexistent  \n",
       "4   cellular   may         mon  nonexistent  "
      ]
     },
     "execution_count": 52,
     "metadata": {},
     "output_type": "execute_result"
    }
   ],
   "source": [
    "# Combine X_num_scaled and categorical feats using pd.concat\n",
    "X = pd.concat([X_num_scaled, X_cat], axis = 1)\n",
    "X.head()"
   ]
  },
  {
   "cell_type": "markdown",
   "metadata": {},
   "source": [
    "### Categorical Feature Imputing"
   ]
  },
  {
   "cell_type": "markdown",
   "metadata": {},
   "source": [
    "As mentioned in the section 3. we will replace the `unknown` values in certain categorical columns using the K-Nearest Neighbors imputer. This is for columns where there was no dominating value and so the mode was not deemed to be appropriate.\n",
    "\n",
    "There will be three steps to this process.\n",
    "1. Convert non-missing categorical features to ordinal values and create an ordinal DataFrame\n",
    "2. Impute the missing values in the ordinal DataFrame\n",
    "3. Convert the ordinal DataFrame back to original categorical values."
   ]
  },
  {
   "cell_type": "code",
   "execution_count": 53,
   "metadata": {
    "scrolled": true
   },
   "outputs": [
    {
     "data": {
      "text/plain": [
       "Index(['job', 'marital', 'education', 'default', 'housing', 'loan', 'contact',\n",
       "       'month', 'day_of_week', 'poutcome'],\n",
       "      dtype='object')"
      ]
     },
     "execution_count": 53,
     "metadata": {},
     "output_type": "execute_result"
    }
   ],
   "source": [
    "# Define categorical columns\n",
    "cat_cols = X.select_dtypes(include = object).columns\n",
    "cat_cols"
   ]
  },
  {
   "cell_type": "code",
   "execution_count": 54,
   "metadata": {
    "scrolled": false
   },
   "outputs": [
    {
     "data": {
      "text/plain": [
       "age               False\n",
       "previous          False\n",
       "emp_var_rate      False\n",
       "cons_price_idx    False\n",
       "cons_conf_idx     False\n",
       "euribor3m         False\n",
       "nr_employed       False\n",
       "job                True\n",
       "marital           False\n",
       "education          True\n",
       "default           False\n",
       "housing            True\n",
       "loan              False\n",
       "contact           False\n",
       "month             False\n",
       "day_of_week       False\n",
       "poutcome          False\n",
       "dtype: bool"
      ]
     },
     "execution_count": 54,
     "metadata": {},
     "output_type": "execute_result"
    }
   ],
   "source": [
    "# Define feats where unknown will be replaced\n",
    "cols = ['job', 'education', 'housing']\n",
    "\n",
    "# Replace unknown with np.nan\n",
    "for col in cols:\n",
    "    X[col] = X[col].replace('unknown', np.nan)\n",
    "\n",
    "# Check missing values introduced\n",
    "X.isna().any()    "
   ]
  },
  {
   "cell_type": "code",
   "execution_count": 55,
   "metadata": {
    "scrolled": false
   },
   "outputs": [
    {
     "data": {
      "text/html": [
       "<div>\n",
       "<style scoped>\n",
       "    .dataframe tbody tr th:only-of-type {\n",
       "        vertical-align: middle;\n",
       "    }\n",
       "\n",
       "    .dataframe tbody tr th {\n",
       "        vertical-align: top;\n",
       "    }\n",
       "\n",
       "    .dataframe thead th {\n",
       "        text-align: right;\n",
       "    }\n",
       "</style>\n",
       "<table border=\"1\" class=\"dataframe\">\n",
       "  <thead>\n",
       "    <tr style=\"text-align: right;\">\n",
       "      <th></th>\n",
       "      <th>age</th>\n",
       "      <th>previous</th>\n",
       "      <th>emp_var_rate</th>\n",
       "      <th>cons_price_idx</th>\n",
       "      <th>cons_conf_idx</th>\n",
       "      <th>euribor3m</th>\n",
       "      <th>nr_employed</th>\n",
       "      <th>job</th>\n",
       "      <th>marital</th>\n",
       "      <th>education</th>\n",
       "      <th>default</th>\n",
       "      <th>housing</th>\n",
       "      <th>loan</th>\n",
       "      <th>contact</th>\n",
       "      <th>month</th>\n",
       "      <th>day_of_week</th>\n",
       "      <th>poutcome</th>\n",
       "    </tr>\n",
       "  </thead>\n",
       "  <tbody>\n",
       "    <tr>\n",
       "      <td>0</td>\n",
       "      <td>-0.865590</td>\n",
       "      <td>-0.349621</td>\n",
       "      <td>-1.198872</td>\n",
       "      <td>-1.266936</td>\n",
       "      <td>-2.055296</td>\n",
       "      <td>-1.043383</td>\n",
       "      <td>-0.939255</td>\n",
       "      <td>0</td>\n",
       "      <td>2</td>\n",
       "      <td>6</td>\n",
       "      <td>0</td>\n",
       "      <td>0</td>\n",
       "      <td>1</td>\n",
       "      <td>1</td>\n",
       "      <td>5</td>\n",
       "      <td>1</td>\n",
       "      <td>1</td>\n",
       "    </tr>\n",
       "    <tr>\n",
       "      <td>1</td>\n",
       "      <td>-0.385264</td>\n",
       "      <td>-0.349621</td>\n",
       "      <td>0.647586</td>\n",
       "      <td>0.721261</td>\n",
       "      <td>0.888661</td>\n",
       "      <td>0.712281</td>\n",
       "      <td>0.331389</td>\n",
       "      <td>0</td>\n",
       "      <td>2</td>\n",
       "      <td>6</td>\n",
       "      <td>0</td>\n",
       "      <td>1</td>\n",
       "      <td>0</td>\n",
       "      <td>1</td>\n",
       "      <td>6</td>\n",
       "      <td>4</td>\n",
       "      <td>1</td>\n",
       "    </tr>\n",
       "    <tr>\n",
       "      <td>2</td>\n",
       "      <td>0.671453</td>\n",
       "      <td>1.665946</td>\n",
       "      <td>-1.198872</td>\n",
       "      <td>-1.180568</td>\n",
       "      <td>-1.232720</td>\n",
       "      <td>-1.357512</td>\n",
       "      <td>-0.939255</td>\n",
       "      <td>1</td>\n",
       "      <td>1</td>\n",
       "      <td>0</td>\n",
       "      <td>0</td>\n",
       "      <td>0</td>\n",
       "      <td>0</td>\n",
       "      <td>1</td>\n",
       "      <td>6</td>\n",
       "      <td>2</td>\n",
       "      <td>0</td>\n",
       "    </tr>\n",
       "    <tr>\n",
       "      <td>3</td>\n",
       "      <td>0.671453</td>\n",
       "      <td>-0.349621</td>\n",
       "      <td>0.838599</td>\n",
       "      <td>1.534850</td>\n",
       "      <td>-0.280263</td>\n",
       "      <td>0.775684</td>\n",
       "      <td>0.844348</td>\n",
       "      <td>5</td>\n",
       "      <td>1</td>\n",
       "      <td>0</td>\n",
       "      <td>0</td>\n",
       "      <td>0</td>\n",
       "      <td>0</td>\n",
       "      <td>1</td>\n",
       "      <td>4</td>\n",
       "      <td>0</td>\n",
       "      <td>1</td>\n",
       "    </tr>\n",
       "    <tr>\n",
       "      <td>4</td>\n",
       "      <td>0.671453</td>\n",
       "      <td>-0.349621</td>\n",
       "      <td>-1.198872</td>\n",
       "      <td>-1.180568</td>\n",
       "      <td>-1.232720</td>\n",
       "      <td>-1.370192</td>\n",
       "      <td>-0.939255</td>\n",
       "      <td>7</td>\n",
       "      <td>1</td>\n",
       "      <td>3</td>\n",
       "      <td>0</td>\n",
       "      <td>0</td>\n",
       "      <td>0</td>\n",
       "      <td>0</td>\n",
       "      <td>6</td>\n",
       "      <td>1</td>\n",
       "      <td>1</td>\n",
       "    </tr>\n",
       "  </tbody>\n",
       "</table>\n",
       "</div>"
      ],
      "text/plain": [
       "        age  previous  emp_var_rate  cons_price_idx  cons_conf_idx  euribor3m  \\\n",
       "0 -0.865590 -0.349621     -1.198872       -1.266936      -2.055296  -1.043383   \n",
       "1 -0.385264 -0.349621      0.647586        0.721261       0.888661   0.712281   \n",
       "2  0.671453  1.665946     -1.198872       -1.180568      -1.232720  -1.357512   \n",
       "3  0.671453 -0.349621      0.838599        1.534850      -0.280263   0.775684   \n",
       "4  0.671453 -0.349621     -1.198872       -1.180568      -1.232720  -1.370192   \n",
       "\n",
       "   nr_employed job  marital education  default housing  loan  contact  month  \\\n",
       "0    -0.939255   0        2         6        0       0     1        1      5   \n",
       "1     0.331389   0        2         6        0       1     0        1      6   \n",
       "2    -0.939255   1        1         0        0       0     0        1      6   \n",
       "3     0.844348   5        1         0        0       0     0        1      4   \n",
       "4    -0.939255   7        1         3        0       0     0        0      6   \n",
       "\n",
       "   day_of_week  poutcome  \n",
       "0            1         1  \n",
       "1            4         1  \n",
       "2            2         0  \n",
       "3            0         1  \n",
       "4            1         1  "
      ]
     },
     "execution_count": 55,
     "metadata": {},
     "output_type": "execute_result"
    }
   ],
   "source": [
    "# Adapted from Datacamp advanced imputation techniques\n",
    "# https://campus.datacamp.com/courses/dealing-with-missing-data-in-python/advanced-imputation-techniques?ex=7\n",
    "\n",
    "# Create dictionary for Ordinal encoders\n",
    "ordinal_enc_dict = {}\n",
    "\n",
    "# Loop over categorical columns\n",
    "for col_name in cat_cols:\n",
    "    \n",
    "    # Create ordinal encoder instance\n",
    "    ordinal_enc_dict[col_name] = OrdinalEncoder()\n",
    "    \n",
    "    # Select non-null values\n",
    "    col = X[col_name]\n",
    "    col_not_null = col[col.notnull()]\n",
    "    reshaped_vals = col_not_null.values.reshape(-1,1)\n",
    "    \n",
    "    # Encode non-null values in column\n",
    "    ordinal_vals = ordinal_enc_dict[col_name].fit_transform(reshaped_vals)\n",
    "    \n",
    "    # Update non-null values in X with encoded values\n",
    "    X.loc[col.notnull(), col_name] = np.squeeze(ordinal_vals)\n",
    "\n",
    "# Check ordinal encoding \n",
    "X.head()"
   ]
  },
  {
   "cell_type": "markdown",
   "metadata": {},
   "source": [
    "Now that we have performed step 1, ordinal encoding, we can proceed to step 2, imputation."
   ]
  },
  {
   "cell_type": "code",
   "execution_count": 56,
   "metadata": {
    "scrolled": true
   },
   "outputs": [
    {
     "data": {
      "text/plain": [
       "False"
      ]
     },
     "execution_count": 56,
     "metadata": {},
     "output_type": "execute_result"
    }
   ],
   "source": [
    "# Adapted from Datacamp advanced imputation techniques\n",
    "# https://campus.datacamp.com/courses/dealing-with-missing-data-in-python/advanced-imputation-techniques?ex=7\n",
    "\n",
    "# Create copy of X\n",
    "X_imputed = X.copy(deep = True)\n",
    "\n",
    "# Create imputer instance\n",
    "knn_imputer = KNNImputer()\n",
    "\n",
    "# Apply imputer\n",
    "X_imputed.iloc[:,:] = knn_imputer.fit_transform(X_imputed)\n",
    "\n",
    "# Check\n",
    "X_imputed.isna().any().any()"
   ]
  },
  {
   "cell_type": "markdown",
   "metadata": {},
   "source": [
    "Finally as step 3, we reverse the ordinal values back to categorical values."
   ]
  },
  {
   "cell_type": "code",
   "execution_count": 57,
   "metadata": {},
   "outputs": [
    {
     "data": {
      "text/html": [
       "<div>\n",
       "<style scoped>\n",
       "    .dataframe tbody tr th:only-of-type {\n",
       "        vertical-align: middle;\n",
       "    }\n",
       "\n",
       "    .dataframe tbody tr th {\n",
       "        vertical-align: top;\n",
       "    }\n",
       "\n",
       "    .dataframe thead th {\n",
       "        text-align: right;\n",
       "    }\n",
       "</style>\n",
       "<table border=\"1\" class=\"dataframe\">\n",
       "  <thead>\n",
       "    <tr style=\"text-align: right;\">\n",
       "      <th></th>\n",
       "      <th>age</th>\n",
       "      <th>previous</th>\n",
       "      <th>emp_var_rate</th>\n",
       "      <th>cons_price_idx</th>\n",
       "      <th>cons_conf_idx</th>\n",
       "      <th>euribor3m</th>\n",
       "      <th>nr_employed</th>\n",
       "      <th>job</th>\n",
       "      <th>marital</th>\n",
       "      <th>education</th>\n",
       "      <th>default</th>\n",
       "      <th>housing</th>\n",
       "      <th>loan</th>\n",
       "      <th>contact</th>\n",
       "      <th>month</th>\n",
       "      <th>day_of_week</th>\n",
       "      <th>poutcome</th>\n",
       "    </tr>\n",
       "  </thead>\n",
       "  <tbody>\n",
       "    <tr>\n",
       "      <td>0</td>\n",
       "      <td>-0.865590</td>\n",
       "      <td>-0.349621</td>\n",
       "      <td>-1.198872</td>\n",
       "      <td>-1.266936</td>\n",
       "      <td>-2.055296</td>\n",
       "      <td>-1.043383</td>\n",
       "      <td>-0.939255</td>\n",
       "      <td>admin</td>\n",
       "      <td>single</td>\n",
       "      <td>university_degree</td>\n",
       "      <td>no</td>\n",
       "      <td>no</td>\n",
       "      <td>yes</td>\n",
       "      <td>telephone</td>\n",
       "      <td>mar</td>\n",
       "      <td>mon</td>\n",
       "      <td>nonexistent</td>\n",
       "    </tr>\n",
       "    <tr>\n",
       "      <td>1</td>\n",
       "      <td>-0.385264</td>\n",
       "      <td>-0.349621</td>\n",
       "      <td>0.647586</td>\n",
       "      <td>0.721261</td>\n",
       "      <td>0.888661</td>\n",
       "      <td>0.712281</td>\n",
       "      <td>0.331389</td>\n",
       "      <td>admin</td>\n",
       "      <td>single</td>\n",
       "      <td>university_degree</td>\n",
       "      <td>no</td>\n",
       "      <td>yes</td>\n",
       "      <td>no</td>\n",
       "      <td>telephone</td>\n",
       "      <td>may</td>\n",
       "      <td>wed</td>\n",
       "      <td>nonexistent</td>\n",
       "    </tr>\n",
       "    <tr>\n",
       "      <td>2</td>\n",
       "      <td>0.671453</td>\n",
       "      <td>1.665946</td>\n",
       "      <td>-1.198872</td>\n",
       "      <td>-1.180568</td>\n",
       "      <td>-1.232720</td>\n",
       "      <td>-1.357512</td>\n",
       "      <td>-0.939255</td>\n",
       "      <td>blue-collar</td>\n",
       "      <td>married</td>\n",
       "      <td>basic_4y</td>\n",
       "      <td>no</td>\n",
       "      <td>no</td>\n",
       "      <td>no</td>\n",
       "      <td>telephone</td>\n",
       "      <td>may</td>\n",
       "      <td>thu</td>\n",
       "      <td>failure</td>\n",
       "    </tr>\n",
       "    <tr>\n",
       "      <td>3</td>\n",
       "      <td>0.671453</td>\n",
       "      <td>-0.349621</td>\n",
       "      <td>0.838599</td>\n",
       "      <td>1.534850</td>\n",
       "      <td>-0.280263</td>\n",
       "      <td>0.775684</td>\n",
       "      <td>0.844348</td>\n",
       "      <td>retired</td>\n",
       "      <td>married</td>\n",
       "      <td>basic_4y</td>\n",
       "      <td>no</td>\n",
       "      <td>no</td>\n",
       "      <td>no</td>\n",
       "      <td>telephone</td>\n",
       "      <td>jun</td>\n",
       "      <td>fri</td>\n",
       "      <td>nonexistent</td>\n",
       "    </tr>\n",
       "    <tr>\n",
       "      <td>4</td>\n",
       "      <td>0.671453</td>\n",
       "      <td>-0.349621</td>\n",
       "      <td>-1.198872</td>\n",
       "      <td>-1.180568</td>\n",
       "      <td>-1.232720</td>\n",
       "      <td>-1.370192</td>\n",
       "      <td>-0.939255</td>\n",
       "      <td>services</td>\n",
       "      <td>married</td>\n",
       "      <td>high_school</td>\n",
       "      <td>no</td>\n",
       "      <td>no</td>\n",
       "      <td>no</td>\n",
       "      <td>cellular</td>\n",
       "      <td>may</td>\n",
       "      <td>mon</td>\n",
       "      <td>nonexistent</td>\n",
       "    </tr>\n",
       "  </tbody>\n",
       "</table>\n",
       "</div>"
      ],
      "text/plain": [
       "        age  previous  emp_var_rate  cons_price_idx  cons_conf_idx  euribor3m  \\\n",
       "0 -0.865590 -0.349621     -1.198872       -1.266936      -2.055296  -1.043383   \n",
       "1 -0.385264 -0.349621      0.647586        0.721261       0.888661   0.712281   \n",
       "2  0.671453  1.665946     -1.198872       -1.180568      -1.232720  -1.357512   \n",
       "3  0.671453 -0.349621      0.838599        1.534850      -0.280263   0.775684   \n",
       "4  0.671453 -0.349621     -1.198872       -1.180568      -1.232720  -1.370192   \n",
       "\n",
       "   nr_employed          job  marital          education default housing loan  \\\n",
       "0    -0.939255        admin   single  university_degree      no      no  yes   \n",
       "1     0.331389        admin   single  university_degree      no     yes   no   \n",
       "2    -0.939255  blue-collar  married           basic_4y      no      no   no   \n",
       "3     0.844348      retired  married           basic_4y      no      no   no   \n",
       "4    -0.939255     services  married        high_school      no      no   no   \n",
       "\n",
       "     contact month day_of_week     poutcome  \n",
       "0  telephone   mar         mon  nonexistent  \n",
       "1  telephone   may         wed  nonexistent  \n",
       "2  telephone   may         thu      failure  \n",
       "3  telephone   jun         fri  nonexistent  \n",
       "4   cellular   may         mon  nonexistent  "
      ]
     },
     "execution_count": 57,
     "metadata": {},
     "output_type": "execute_result"
    }
   ],
   "source": [
    "# Reverse to get back to categorical values\n",
    "for col_name in cat_cols:\n",
    "    \n",
    "    # Reshape \n",
    "    reshaped_col = X_imputed[col_name].values.reshape(-1,1)\n",
    "    #\n",
    "    X_imputed[col_name] = ordinal_enc_dict[col_name].inverse_transform(reshaped_col)\n",
    "    \n",
    "# Check DataFrame\n",
    "X_imputed.head()"
   ]
  },
  {
   "cell_type": "markdown",
   "metadata": {},
   "source": [
    "### Categorical Feature Encoding"
   ]
  },
  {
   "cell_type": "markdown",
   "metadata": {},
   "source": [
    "Let's use sklearn's `OneHotEncoder` to encode categorical variables."
   ]
  },
  {
   "cell_type": "code",
   "execution_count": 58,
   "metadata": {
    "scrolled": false
   },
   "outputs": [
    {
     "data": {
      "text/plain": [
       "<37069x47 sparse matrix of type '<class 'numpy.float64'>'\n",
       "\twith 370690 stored elements in Compressed Sparse Row format>"
      ]
     },
     "execution_count": 58,
     "metadata": {},
     "output_type": "execute_result"
    }
   ],
   "source": [
    "# Get data of type object\n",
    "X_cat = X_imputed.select_dtypes(include = object)\n",
    "\n",
    "# Instantiate Class\n",
    "ohe = OneHotEncoder()\n",
    "\n",
    "# Fit and transform \n",
    "X_cat_1hot = ohe.fit_transform(X_cat)\n",
    "\n",
    "# View results\n",
    "X_cat_1hot"
   ]
  },
  {
   "cell_type": "markdown",
   "metadata": {},
   "source": [
    "`OneHotEncoder` creates a sparse matrix, which is useful for memory purposes when dealing with large datasets and significantly more columns. However we will transform back into a Numpy array and then DataFrame."
   ]
  },
  {
   "cell_type": "code",
   "execution_count": 59,
   "metadata": {
    "scrolled": true
   },
   "outputs": [
    {
     "data": {
      "text/html": [
       "<div>\n",
       "<style scoped>\n",
       "    .dataframe tbody tr th:only-of-type {\n",
       "        vertical-align: middle;\n",
       "    }\n",
       "\n",
       "    .dataframe tbody tr th {\n",
       "        vertical-align: top;\n",
       "    }\n",
       "\n",
       "    .dataframe thead th {\n",
       "        text-align: right;\n",
       "    }\n",
       "</style>\n",
       "<table border=\"1\" class=\"dataframe\">\n",
       "  <thead>\n",
       "    <tr style=\"text-align: right;\">\n",
       "      <th></th>\n",
       "      <th>job_admin</th>\n",
       "      <th>job_blue-collar</th>\n",
       "      <th>job_entrepreneur</th>\n",
       "      <th>job_housemaid</th>\n",
       "      <th>job_management</th>\n",
       "      <th>job_retired</th>\n",
       "      <th>job_self-employed</th>\n",
       "      <th>job_services</th>\n",
       "      <th>job_student</th>\n",
       "      <th>job_technician</th>\n",
       "      <th>...</th>\n",
       "      <th>month_oct</th>\n",
       "      <th>month_sep</th>\n",
       "      <th>day_of_week_fri</th>\n",
       "      <th>day_of_week_mon</th>\n",
       "      <th>day_of_week_thu</th>\n",
       "      <th>day_of_week_tue</th>\n",
       "      <th>day_of_week_wed</th>\n",
       "      <th>poutcome_failure</th>\n",
       "      <th>poutcome_nonexistent</th>\n",
       "      <th>poutcome_success</th>\n",
       "    </tr>\n",
       "  </thead>\n",
       "  <tbody>\n",
       "    <tr>\n",
       "      <td>0</td>\n",
       "      <td>1.0</td>\n",
       "      <td>0.0</td>\n",
       "      <td>0.0</td>\n",
       "      <td>0.0</td>\n",
       "      <td>0.0</td>\n",
       "      <td>0.0</td>\n",
       "      <td>0.0</td>\n",
       "      <td>0.0</td>\n",
       "      <td>0.0</td>\n",
       "      <td>0.0</td>\n",
       "      <td>...</td>\n",
       "      <td>0.0</td>\n",
       "      <td>0.0</td>\n",
       "      <td>0.0</td>\n",
       "      <td>1.0</td>\n",
       "      <td>0.0</td>\n",
       "      <td>0.0</td>\n",
       "      <td>0.0</td>\n",
       "      <td>0.0</td>\n",
       "      <td>1.0</td>\n",
       "      <td>0.0</td>\n",
       "    </tr>\n",
       "    <tr>\n",
       "      <td>1</td>\n",
       "      <td>1.0</td>\n",
       "      <td>0.0</td>\n",
       "      <td>0.0</td>\n",
       "      <td>0.0</td>\n",
       "      <td>0.0</td>\n",
       "      <td>0.0</td>\n",
       "      <td>0.0</td>\n",
       "      <td>0.0</td>\n",
       "      <td>0.0</td>\n",
       "      <td>0.0</td>\n",
       "      <td>...</td>\n",
       "      <td>0.0</td>\n",
       "      <td>0.0</td>\n",
       "      <td>0.0</td>\n",
       "      <td>0.0</td>\n",
       "      <td>0.0</td>\n",
       "      <td>0.0</td>\n",
       "      <td>1.0</td>\n",
       "      <td>0.0</td>\n",
       "      <td>1.0</td>\n",
       "      <td>0.0</td>\n",
       "    </tr>\n",
       "    <tr>\n",
       "      <td>2</td>\n",
       "      <td>0.0</td>\n",
       "      <td>1.0</td>\n",
       "      <td>0.0</td>\n",
       "      <td>0.0</td>\n",
       "      <td>0.0</td>\n",
       "      <td>0.0</td>\n",
       "      <td>0.0</td>\n",
       "      <td>0.0</td>\n",
       "      <td>0.0</td>\n",
       "      <td>0.0</td>\n",
       "      <td>...</td>\n",
       "      <td>0.0</td>\n",
       "      <td>0.0</td>\n",
       "      <td>0.0</td>\n",
       "      <td>0.0</td>\n",
       "      <td>1.0</td>\n",
       "      <td>0.0</td>\n",
       "      <td>0.0</td>\n",
       "      <td>1.0</td>\n",
       "      <td>0.0</td>\n",
       "      <td>0.0</td>\n",
       "    </tr>\n",
       "    <tr>\n",
       "      <td>3</td>\n",
       "      <td>0.0</td>\n",
       "      <td>0.0</td>\n",
       "      <td>0.0</td>\n",
       "      <td>0.0</td>\n",
       "      <td>0.0</td>\n",
       "      <td>1.0</td>\n",
       "      <td>0.0</td>\n",
       "      <td>0.0</td>\n",
       "      <td>0.0</td>\n",
       "      <td>0.0</td>\n",
       "      <td>...</td>\n",
       "      <td>0.0</td>\n",
       "      <td>0.0</td>\n",
       "      <td>1.0</td>\n",
       "      <td>0.0</td>\n",
       "      <td>0.0</td>\n",
       "      <td>0.0</td>\n",
       "      <td>0.0</td>\n",
       "      <td>0.0</td>\n",
       "      <td>1.0</td>\n",
       "      <td>0.0</td>\n",
       "    </tr>\n",
       "    <tr>\n",
       "      <td>4</td>\n",
       "      <td>0.0</td>\n",
       "      <td>0.0</td>\n",
       "      <td>0.0</td>\n",
       "      <td>0.0</td>\n",
       "      <td>0.0</td>\n",
       "      <td>0.0</td>\n",
       "      <td>0.0</td>\n",
       "      <td>1.0</td>\n",
       "      <td>0.0</td>\n",
       "      <td>0.0</td>\n",
       "      <td>...</td>\n",
       "      <td>0.0</td>\n",
       "      <td>0.0</td>\n",
       "      <td>0.0</td>\n",
       "      <td>1.0</td>\n",
       "      <td>0.0</td>\n",
       "      <td>0.0</td>\n",
       "      <td>0.0</td>\n",
       "      <td>0.0</td>\n",
       "      <td>1.0</td>\n",
       "      <td>0.0</td>\n",
       "    </tr>\n",
       "  </tbody>\n",
       "</table>\n",
       "<p>5 rows × 47 columns</p>\n",
       "</div>"
      ],
      "text/plain": [
       "   job_admin  job_blue-collar  job_entrepreneur  job_housemaid  \\\n",
       "0        1.0              0.0               0.0            0.0   \n",
       "1        1.0              0.0               0.0            0.0   \n",
       "2        0.0              1.0               0.0            0.0   \n",
       "3        0.0              0.0               0.0            0.0   \n",
       "4        0.0              0.0               0.0            0.0   \n",
       "\n",
       "   job_management  job_retired  job_self-employed  job_services  job_student  \\\n",
       "0             0.0          0.0                0.0           0.0          0.0   \n",
       "1             0.0          0.0                0.0           0.0          0.0   \n",
       "2             0.0          0.0                0.0           0.0          0.0   \n",
       "3             0.0          1.0                0.0           0.0          0.0   \n",
       "4             0.0          0.0                0.0           1.0          0.0   \n",
       "\n",
       "   job_technician  ...  month_oct  month_sep  day_of_week_fri  \\\n",
       "0             0.0  ...        0.0        0.0              0.0   \n",
       "1             0.0  ...        0.0        0.0              0.0   \n",
       "2             0.0  ...        0.0        0.0              0.0   \n",
       "3             0.0  ...        0.0        0.0              1.0   \n",
       "4             0.0  ...        0.0        0.0              0.0   \n",
       "\n",
       "   day_of_week_mon  day_of_week_thu  day_of_week_tue  day_of_week_wed  \\\n",
       "0              1.0              0.0              0.0              0.0   \n",
       "1              0.0              0.0              0.0              1.0   \n",
       "2              0.0              1.0              0.0              0.0   \n",
       "3              0.0              0.0              0.0              0.0   \n",
       "4              1.0              0.0              0.0              0.0   \n",
       "\n",
       "   poutcome_failure  poutcome_nonexistent  poutcome_success  \n",
       "0               0.0                   1.0               0.0  \n",
       "1               0.0                   1.0               0.0  \n",
       "2               1.0                   0.0               0.0  \n",
       "3               0.0                   1.0               0.0  \n",
       "4               0.0                   1.0               0.0  \n",
       "\n",
       "[5 rows x 47 columns]"
      ]
     },
     "execution_count": 59,
     "metadata": {},
     "output_type": "execute_result"
    }
   ],
   "source": [
    "# Get column names\n",
    "column_names = ohe.get_feature_names(X_cat.columns)\n",
    "\n",
    "# Recreate dataframe\n",
    "X_cat_encoded = pd.DataFrame(X_cat_1hot.toarray(), columns = column_names)\n",
    "\n",
    "X_cat_encoded.head()"
   ]
  },
  {
   "cell_type": "markdown",
   "metadata": {},
   "source": [
    "We can now combine the above DataFrame with the numerical features in `X_imputed` to get our final prepared DataFrame."
   ]
  },
  {
   "cell_type": "code",
   "execution_count": 60,
   "metadata": {
    "scrolled": false
   },
   "outputs": [
    {
     "data": {
      "text/html": [
       "<div>\n",
       "<style scoped>\n",
       "    .dataframe tbody tr th:only-of-type {\n",
       "        vertical-align: middle;\n",
       "    }\n",
       "\n",
       "    .dataframe tbody tr th {\n",
       "        vertical-align: top;\n",
       "    }\n",
       "\n",
       "    .dataframe thead th {\n",
       "        text-align: right;\n",
       "    }\n",
       "</style>\n",
       "<table border=\"1\" class=\"dataframe\">\n",
       "  <thead>\n",
       "    <tr style=\"text-align: right;\">\n",
       "      <th></th>\n",
       "      <th>job_admin</th>\n",
       "      <th>job_blue-collar</th>\n",
       "      <th>job_entrepreneur</th>\n",
       "      <th>job_housemaid</th>\n",
       "      <th>job_management</th>\n",
       "      <th>job_retired</th>\n",
       "      <th>job_self-employed</th>\n",
       "      <th>job_services</th>\n",
       "      <th>job_student</th>\n",
       "      <th>job_technician</th>\n",
       "      <th>...</th>\n",
       "      <th>poutcome_failure</th>\n",
       "      <th>poutcome_nonexistent</th>\n",
       "      <th>poutcome_success</th>\n",
       "      <th>age</th>\n",
       "      <th>previous</th>\n",
       "      <th>emp_var_rate</th>\n",
       "      <th>cons_price_idx</th>\n",
       "      <th>cons_conf_idx</th>\n",
       "      <th>euribor3m</th>\n",
       "      <th>nr_employed</th>\n",
       "    </tr>\n",
       "  </thead>\n",
       "  <tbody>\n",
       "    <tr>\n",
       "      <td>0</td>\n",
       "      <td>1.0</td>\n",
       "      <td>0.0</td>\n",
       "      <td>0.0</td>\n",
       "      <td>0.0</td>\n",
       "      <td>0.0</td>\n",
       "      <td>0.0</td>\n",
       "      <td>0.0</td>\n",
       "      <td>0.0</td>\n",
       "      <td>0.0</td>\n",
       "      <td>0.0</td>\n",
       "      <td>...</td>\n",
       "      <td>0.0</td>\n",
       "      <td>1.0</td>\n",
       "      <td>0.0</td>\n",
       "      <td>-0.865590</td>\n",
       "      <td>-0.349621</td>\n",
       "      <td>-1.198872</td>\n",
       "      <td>-1.266936</td>\n",
       "      <td>-2.055296</td>\n",
       "      <td>-1.043383</td>\n",
       "      <td>-0.939255</td>\n",
       "    </tr>\n",
       "    <tr>\n",
       "      <td>1</td>\n",
       "      <td>1.0</td>\n",
       "      <td>0.0</td>\n",
       "      <td>0.0</td>\n",
       "      <td>0.0</td>\n",
       "      <td>0.0</td>\n",
       "      <td>0.0</td>\n",
       "      <td>0.0</td>\n",
       "      <td>0.0</td>\n",
       "      <td>0.0</td>\n",
       "      <td>0.0</td>\n",
       "      <td>...</td>\n",
       "      <td>0.0</td>\n",
       "      <td>1.0</td>\n",
       "      <td>0.0</td>\n",
       "      <td>-0.385264</td>\n",
       "      <td>-0.349621</td>\n",
       "      <td>0.647586</td>\n",
       "      <td>0.721261</td>\n",
       "      <td>0.888661</td>\n",
       "      <td>0.712281</td>\n",
       "      <td>0.331389</td>\n",
       "    </tr>\n",
       "    <tr>\n",
       "      <td>2</td>\n",
       "      <td>0.0</td>\n",
       "      <td>1.0</td>\n",
       "      <td>0.0</td>\n",
       "      <td>0.0</td>\n",
       "      <td>0.0</td>\n",
       "      <td>0.0</td>\n",
       "      <td>0.0</td>\n",
       "      <td>0.0</td>\n",
       "      <td>0.0</td>\n",
       "      <td>0.0</td>\n",
       "      <td>...</td>\n",
       "      <td>1.0</td>\n",
       "      <td>0.0</td>\n",
       "      <td>0.0</td>\n",
       "      <td>0.671453</td>\n",
       "      <td>1.665946</td>\n",
       "      <td>-1.198872</td>\n",
       "      <td>-1.180568</td>\n",
       "      <td>-1.232720</td>\n",
       "      <td>-1.357512</td>\n",
       "      <td>-0.939255</td>\n",
       "    </tr>\n",
       "    <tr>\n",
       "      <td>3</td>\n",
       "      <td>0.0</td>\n",
       "      <td>0.0</td>\n",
       "      <td>0.0</td>\n",
       "      <td>0.0</td>\n",
       "      <td>0.0</td>\n",
       "      <td>1.0</td>\n",
       "      <td>0.0</td>\n",
       "      <td>0.0</td>\n",
       "      <td>0.0</td>\n",
       "      <td>0.0</td>\n",
       "      <td>...</td>\n",
       "      <td>0.0</td>\n",
       "      <td>1.0</td>\n",
       "      <td>0.0</td>\n",
       "      <td>0.671453</td>\n",
       "      <td>-0.349621</td>\n",
       "      <td>0.838599</td>\n",
       "      <td>1.534850</td>\n",
       "      <td>-0.280263</td>\n",
       "      <td>0.775684</td>\n",
       "      <td>0.844348</td>\n",
       "    </tr>\n",
       "    <tr>\n",
       "      <td>4</td>\n",
       "      <td>0.0</td>\n",
       "      <td>0.0</td>\n",
       "      <td>0.0</td>\n",
       "      <td>0.0</td>\n",
       "      <td>0.0</td>\n",
       "      <td>0.0</td>\n",
       "      <td>0.0</td>\n",
       "      <td>1.0</td>\n",
       "      <td>0.0</td>\n",
       "      <td>0.0</td>\n",
       "      <td>...</td>\n",
       "      <td>0.0</td>\n",
       "      <td>1.0</td>\n",
       "      <td>0.0</td>\n",
       "      <td>0.671453</td>\n",
       "      <td>-0.349621</td>\n",
       "      <td>-1.198872</td>\n",
       "      <td>-1.180568</td>\n",
       "      <td>-1.232720</td>\n",
       "      <td>-1.370192</td>\n",
       "      <td>-0.939255</td>\n",
       "    </tr>\n",
       "  </tbody>\n",
       "</table>\n",
       "<p>5 rows × 54 columns</p>\n",
       "</div>"
      ],
      "text/plain": [
       "   job_admin  job_blue-collar  job_entrepreneur  job_housemaid  \\\n",
       "0        1.0              0.0               0.0            0.0   \n",
       "1        1.0              0.0               0.0            0.0   \n",
       "2        0.0              1.0               0.0            0.0   \n",
       "3        0.0              0.0               0.0            0.0   \n",
       "4        0.0              0.0               0.0            0.0   \n",
       "\n",
       "   job_management  job_retired  job_self-employed  job_services  job_student  \\\n",
       "0             0.0          0.0                0.0           0.0          0.0   \n",
       "1             0.0          0.0                0.0           0.0          0.0   \n",
       "2             0.0          0.0                0.0           0.0          0.0   \n",
       "3             0.0          1.0                0.0           0.0          0.0   \n",
       "4             0.0          0.0                0.0           1.0          0.0   \n",
       "\n",
       "   job_technician  ...  poutcome_failure  poutcome_nonexistent  \\\n",
       "0             0.0  ...               0.0                   1.0   \n",
       "1             0.0  ...               0.0                   1.0   \n",
       "2             0.0  ...               1.0                   0.0   \n",
       "3             0.0  ...               0.0                   1.0   \n",
       "4             0.0  ...               0.0                   1.0   \n",
       "\n",
       "   poutcome_success       age  previous  emp_var_rate  cons_price_idx  \\\n",
       "0               0.0 -0.865590 -0.349621     -1.198872       -1.266936   \n",
       "1               0.0 -0.385264 -0.349621      0.647586        0.721261   \n",
       "2               0.0  0.671453  1.665946     -1.198872       -1.180568   \n",
       "3               0.0  0.671453 -0.349621      0.838599        1.534850   \n",
       "4               0.0  0.671453 -0.349621     -1.198872       -1.180568   \n",
       "\n",
       "   cons_conf_idx  euribor3m  nr_employed  \n",
       "0      -2.055296  -1.043383    -0.939255  \n",
       "1       0.888661   0.712281     0.331389  \n",
       "2      -1.232720  -1.357512    -0.939255  \n",
       "3      -0.280263   0.775684     0.844348  \n",
       "4      -1.232720  -1.370192    -0.939255  \n",
       "\n",
       "[5 rows x 54 columns]"
      ]
     },
     "execution_count": 60,
     "metadata": {},
     "output_type": "execute_result"
    }
   ],
   "source": [
    "# Combine numerical feats of X_imputed with X_cat_encoded using pd.concat\n",
    "X_prepared = pd.concat([X_cat_encoded, X_imputed.select_dtypes(include = np.number)], axis = 1)\n",
    "X_prepared.head()"
   ]
  },
  {
   "cell_type": "code",
   "execution_count": 61,
   "metadata": {},
   "outputs": [
    {
     "data": {
      "text/plain": [
       "(37069, 54)"
      ]
     },
     "execution_count": 61,
     "metadata": {},
     "output_type": "execute_result"
    }
   ],
   "source": [
    "# Check shape\n",
    "X_prepared.shape"
   ]
  },
  {
   "cell_type": "markdown",
   "metadata": {},
   "source": [
    "### Creating Pre-processing Classes"
   ]
  },
  {
   "cell_type": "markdown",
   "metadata": {},
   "source": [
    "We will begin by creating a class to do the syntax clean up and dropping unecessary features, namely removing special characters from the column names or values and removing `duration`, `campaign` and `pdays`. We will also add methods to retrieve the cleaned column names."
   ]
  },
  {
   "cell_type": "code",
   "execution_count": 62,
   "metadata": {
    "scrolled": true
   },
   "outputs": [],
   "source": [
    "# Define SyntaxCleaner class\n",
    "# Inherit from BaseEstimator and TransformerMixin\n",
    "\n",
    "class SyntaxCleanandDrop(BaseEstimator, TransformerMixin):\n",
    "    \n",
    "    def __init__(self):\n",
    "        pass\n",
    "    \n",
    "    def fit(self, X, y=None):\n",
    "        return self\n",
    "    \n",
    "    def transform(self, X):\n",
    "        \n",
    "        # Remove special characters for column names\n",
    "        specialchars = \"()*&^@#$%.\"\n",
    "        for char in specialchars:\n",
    "            X.columns = X.columns.str.replace(char, '_')\n",
    "        \n",
    "        # Replace \".\" in job feat by \" \" as end of string\n",
    "        X['job'] = X['job'].str.replace('.','')\n",
    "        \n",
    "        # Replace \".\" in education feat with \"_\"\n",
    "        X['education'] = X['education'].str.replace('.', '_')\n",
    "        \n",
    "        # Drop duration, campaign and pdays\n",
    "        X = X.drop(['duration', 'campaign', 'pdays'], axis = 1)\n",
    "        \n",
    "        # Assign num column names\n",
    "        self.num_feat_names = list(X.select_dtypes(include = np.number).columns)\n",
    "        \n",
    "        # Assign cat column names\n",
    "        self.cat_feat_names = list(X.select_dtypes(include = object).columns)\n",
    "        \n",
    "        return X\n",
    "    \n",
    "    def get_num_feat_names(self):\n",
    "        return self.num_feat_names\n",
    "    \n",
    "    def get_cat_feat_names(self):\n",
    "        return self.cat_feat_names"
   ]
  },
  {
   "cell_type": "markdown",
   "metadata": {},
   "source": [
    "Our next class will be for pre-processing numerical features. Whilst we could use sklearn's in built in functions, having our custom class makes it easier to return a DataFrame."
   ]
  },
  {
   "cell_type": "code",
   "execution_count": 63,
   "metadata": {},
   "outputs": [],
   "source": [
    "class NumPreprocess (BaseEstimator, TransformerMixin):\n",
    "        \n",
    "    def __init__(self):\n",
    "        pass\n",
    "    \n",
    "    def fit(self, X, y=None):\n",
    "        return self\n",
    "    \n",
    "    def transform(self, X):\n",
    "        # Get data of numerical type\n",
    "        X_num = X.select_dtypes(include = np.number).reset_index(drop = True)\n",
    "        \n",
    "         # Get data of categorical type\n",
    "        X_cat = X.select_dtypes(include = object).reset_index(drop = True)\n",
    "        \n",
    "        # Fill missing values with median if any\n",
    "        for col in X_num.columns:\n",
    "            X_num[col] = X_num[col].fillna(X_num[col].median())\n",
    "            \n",
    "        # Scale using standard scaler\n",
    "        ss = StandardScaler()\n",
    "        \n",
    "        # Fit and Transform Data\n",
    "        X_num_scaled = ss.fit_transform(X_num)\n",
    "        \n",
    "        # Recreate DataFrame\n",
    "        X_num_scaled = pd.DataFrame(X_num_scaled, columns = X_num.columns)\n",
    "        \n",
    "        # Combine X_num_scaled and categorical feats using pd.concat\n",
    "        X = pd.concat([X_num_scaled, X_cat], axis = 1)\n",
    "        \n",
    "        return X "
   ]
  },
  {
   "cell_type": "markdown",
   "metadata": {},
   "source": [
    "Our final class will be specifically for imputing the `unknown` values  in categorical features using K-Nearest Neighbors."
   ]
  },
  {
   "cell_type": "code",
   "execution_count": 64,
   "metadata": {
    "scrolled": true
   },
   "outputs": [],
   "source": [
    "# Define UnknownImputer class\n",
    "# Inherit from BaseEstimator and TransformerMixin\n",
    "\n",
    "class UnknownImputer(BaseEstimator, TransformerMixin):\n",
    "    \n",
    "    def __init__(self):\n",
    "        pass\n",
    "    \n",
    "    def fit(self, X, y=None):\n",
    "        return self\n",
    "    \n",
    "    def transform(self, X):\n",
    "        \n",
    "        # Define categorical columns\n",
    "        cat_cols = X.select_dtypes(include = object).columns\n",
    "        \n",
    "        # Replace unknown will np.nan\n",
    "        for col in cat_cols:\n",
    "            X[col] = X[col].replace('unknown', np.nan)\n",
    "            \n",
    "        # Create dictionary for Ordinal encoders\n",
    "        ordinal_enc_dict = {}\n",
    "\n",
    "        # Loop over categorical columns\n",
    "        for col_name in cat_cols:\n",
    "    \n",
    "            # Create ordinal encoder instance\n",
    "            ordinal_enc_dict[col_name] = OrdinalEncoder()\n",
    "    \n",
    "            # Select non-null values\n",
    "            col = X[col_name]\n",
    "            col_not_null = col[col.notnull()]\n",
    "            reshaped_vals = col_not_null.values.reshape(-1,1)\n",
    "    \n",
    "            # Encode non-null values in column\n",
    "            ordinal_vals = ordinal_enc_dict[col_name].fit_transform(reshaped_vals)\n",
    "    \n",
    "            # Update non-null values in X with encoded values\n",
    "            X.loc[col.notnull(), col_name] = np.squeeze(ordinal_vals)\n",
    "            \n",
    "        # Create copy of X\n",
    "        X_imputed = X.copy(deep = True)\n",
    "\n",
    "        # Create imputer instance\n",
    "        knn_imputer = KNNImputer()\n",
    "\n",
    "        # Apply imputer\n",
    "        X_imputed.iloc[:,:] = knn_imputer.fit_transform(X_imputed)\n",
    "\n",
    "        # Reverse to get back to categorical values\n",
    "        # Select original categorical column names \n",
    "        for col_name in cat_cols:\n",
    "            reshaped_col = X_imputed[col_name].values.reshape(-1,1)\n",
    "            X_imputed[col_name] = ordinal_enc_dict[col_name].inverse_transform(reshaped_col)\n",
    "            \n",
    "        return X_imputed"
   ]
  },
  {
   "cell_type": "markdown",
   "metadata": {},
   "source": [
    "### Pre-processing Pipeline"
   ]
  },
  {
   "cell_type": "markdown",
   "metadata": {},
   "source": [
    "We can use `ColumnTransformer` to apply different processing functions to a specific set of columns. Let's create one to apply one-hot encoding to the categorical variables."
   ]
  },
  {
   "cell_type": "code",
   "execution_count": 65,
   "metadata": {
    "scrolled": true
   },
   "outputs": [],
   "source": [
    "# Define categorical attributes\n",
    "cat_attribs = ['job', 'marital','education', 'default', 'housing', 'loan', 'contact', 'month', \\\n",
    "               'day_of_week', 'poutcome']\n",
    "\n",
    "cat_process = ColumnTransformer([\n",
    "    ('cat', OneHotEncoder(), cat_attribs)],\n",
    "    remainder = 'passthrough')"
   ]
  },
  {
   "cell_type": "markdown",
   "metadata": {},
   "source": [
    "We combine the `ColumnTransformer` above with the custom classes defined previously to create our pre-processing pipeline."
   ]
  },
  {
   "cell_type": "code",
   "execution_count": 810,
   "metadata": {
    "scrolled": true
   },
   "outputs": [],
   "source": [
    "# Define pipeline\n",
    "\n",
    "preproc_pipeline = Pipeline(steps =[\n",
    "        ('syntaxclean', SyntaxCleanandDrop()),\n",
    "        ('numprocess', NumPreprocess()),\n",
    "        ('unknownimputer', UnknownImputer()),\n",
    "        ('catprocess', cat_process)\n",
    "])"
   ]
  },
  {
   "cell_type": "markdown",
   "metadata": {},
   "source": [
    "Let us check our pipeline by applying it to a 'fresh' copy of the training set."
   ]
  },
  {
   "cell_type": "code",
   "execution_count": 67,
   "metadata": {
    "scrolled": true
   },
   "outputs": [
    {
     "data": {
      "text/html": [
       "<div>\n",
       "<style scoped>\n",
       "    .dataframe tbody tr th:only-of-type {\n",
       "        vertical-align: middle;\n",
       "    }\n",
       "\n",
       "    .dataframe tbody tr th {\n",
       "        vertical-align: top;\n",
       "    }\n",
       "\n",
       "    .dataframe thead th {\n",
       "        text-align: right;\n",
       "    }\n",
       "</style>\n",
       "<table border=\"1\" class=\"dataframe\">\n",
       "  <thead>\n",
       "    <tr style=\"text-align: right;\">\n",
       "      <th></th>\n",
       "      <th>age</th>\n",
       "      <th>job</th>\n",
       "      <th>marital</th>\n",
       "      <th>education</th>\n",
       "      <th>default</th>\n",
       "      <th>housing</th>\n",
       "      <th>loan</th>\n",
       "      <th>contact</th>\n",
       "      <th>month</th>\n",
       "      <th>day_of_week</th>\n",
       "      <th>duration</th>\n",
       "      <th>campaign</th>\n",
       "      <th>pdays</th>\n",
       "      <th>previous</th>\n",
       "      <th>poutcome</th>\n",
       "      <th>emp.var.rate</th>\n",
       "      <th>cons.price.idx</th>\n",
       "      <th>cons.conf.idx</th>\n",
       "      <th>euribor3m</th>\n",
       "      <th>nr.employed</th>\n",
       "    </tr>\n",
       "  </thead>\n",
       "  <tbody>\n",
       "    <tr>\n",
       "      <td>0</td>\n",
       "      <td>31</td>\n",
       "      <td>admin.</td>\n",
       "      <td>single</td>\n",
       "      <td>university.degree</td>\n",
       "      <td>no</td>\n",
       "      <td>no</td>\n",
       "      <td>yes</td>\n",
       "      <td>telephone</td>\n",
       "      <td>mar</td>\n",
       "      <td>mon</td>\n",
       "      <td>39</td>\n",
       "      <td>2</td>\n",
       "      <td>999</td>\n",
       "      <td>0</td>\n",
       "      <td>nonexistent</td>\n",
       "      <td>-1.8</td>\n",
       "      <td>92.843</td>\n",
       "      <td>-50.0</td>\n",
       "      <td>1.811</td>\n",
       "      <td>5099.1</td>\n",
       "    </tr>\n",
       "    <tr>\n",
       "      <td>1</td>\n",
       "      <td>36</td>\n",
       "      <td>admin.</td>\n",
       "      <td>single</td>\n",
       "      <td>university.degree</td>\n",
       "      <td>no</td>\n",
       "      <td>yes</td>\n",
       "      <td>no</td>\n",
       "      <td>telephone</td>\n",
       "      <td>may</td>\n",
       "      <td>wed</td>\n",
       "      <td>126</td>\n",
       "      <td>1</td>\n",
       "      <td>999</td>\n",
       "      <td>0</td>\n",
       "      <td>nonexistent</td>\n",
       "      <td>1.1</td>\n",
       "      <td>93.994</td>\n",
       "      <td>-36.4</td>\n",
       "      <td>4.857</td>\n",
       "      <td>5191.0</td>\n",
       "    </tr>\n",
       "    <tr>\n",
       "      <td>2</td>\n",
       "      <td>47</td>\n",
       "      <td>blue-collar</td>\n",
       "      <td>married</td>\n",
       "      <td>basic.4y</td>\n",
       "      <td>unknown</td>\n",
       "      <td>no</td>\n",
       "      <td>no</td>\n",
       "      <td>telephone</td>\n",
       "      <td>may</td>\n",
       "      <td>thu</td>\n",
       "      <td>391</td>\n",
       "      <td>1</td>\n",
       "      <td>999</td>\n",
       "      <td>1</td>\n",
       "      <td>failure</td>\n",
       "      <td>-1.8</td>\n",
       "      <td>92.893</td>\n",
       "      <td>-46.2</td>\n",
       "      <td>1.266</td>\n",
       "      <td>5099.1</td>\n",
       "    </tr>\n",
       "    <tr>\n",
       "      <td>3</td>\n",
       "      <td>47</td>\n",
       "      <td>retired</td>\n",
       "      <td>married</td>\n",
       "      <td>basic.4y</td>\n",
       "      <td>unknown</td>\n",
       "      <td>no</td>\n",
       "      <td>no</td>\n",
       "      <td>telephone</td>\n",
       "      <td>jun</td>\n",
       "      <td>fri</td>\n",
       "      <td>63</td>\n",
       "      <td>2</td>\n",
       "      <td>999</td>\n",
       "      <td>0</td>\n",
       "      <td>nonexistent</td>\n",
       "      <td>1.4</td>\n",
       "      <td>94.465</td>\n",
       "      <td>-41.8</td>\n",
       "      <td>4.967</td>\n",
       "      <td>5228.1</td>\n",
       "    </tr>\n",
       "    <tr>\n",
       "      <td>4</td>\n",
       "      <td>47</td>\n",
       "      <td>services</td>\n",
       "      <td>married</td>\n",
       "      <td>high.school</td>\n",
       "      <td>no</td>\n",
       "      <td>no</td>\n",
       "      <td>no</td>\n",
       "      <td>cellular</td>\n",
       "      <td>may</td>\n",
       "      <td>mon</td>\n",
       "      <td>261</td>\n",
       "      <td>1</td>\n",
       "      <td>999</td>\n",
       "      <td>0</td>\n",
       "      <td>nonexistent</td>\n",
       "      <td>-1.8</td>\n",
       "      <td>92.893</td>\n",
       "      <td>-46.2</td>\n",
       "      <td>1.244</td>\n",
       "      <td>5099.1</td>\n",
       "    </tr>\n",
       "  </tbody>\n",
       "</table>\n",
       "</div>"
      ],
      "text/plain": [
       "   age          job  marital          education  default housing loan  \\\n",
       "0   31       admin.   single  university.degree       no      no  yes   \n",
       "1   36       admin.   single  university.degree       no     yes   no   \n",
       "2   47  blue-collar  married           basic.4y  unknown      no   no   \n",
       "3   47      retired  married           basic.4y  unknown      no   no   \n",
       "4   47     services  married        high.school       no      no   no   \n",
       "\n",
       "     contact month day_of_week  duration  campaign  pdays  previous  \\\n",
       "0  telephone   mar         mon        39         2    999         0   \n",
       "1  telephone   may         wed       126         1    999         0   \n",
       "2  telephone   may         thu       391         1    999         1   \n",
       "3  telephone   jun         fri        63         2    999         0   \n",
       "4   cellular   may         mon       261         1    999         0   \n",
       "\n",
       "      poutcome  emp.var.rate  cons.price.idx  cons.conf.idx  euribor3m  \\\n",
       "0  nonexistent          -1.8          92.843          -50.0      1.811   \n",
       "1  nonexistent           1.1          93.994          -36.4      4.857   \n",
       "2      failure          -1.8          92.893          -46.2      1.266   \n",
       "3  nonexistent           1.4          94.465          -41.8      4.967   \n",
       "4  nonexistent          -1.8          92.893          -46.2      1.244   \n",
       "\n",
       "   nr.employed  \n",
       "0       5099.1  \n",
       "1       5191.0  \n",
       "2       5099.1  \n",
       "3       5228.1  \n",
       "4       5099.1  "
      ]
     },
     "execution_count": 67,
     "metadata": {},
     "output_type": "execute_result"
    }
   ],
   "source": [
    "# Create copy\n",
    "df_copy = train_set.reset_index(drop = True)\n",
    "\n",
    "# Define y\n",
    "y = df_copy['y']\n",
    "\n",
    "# Map y values to 1 and 0 \n",
    "y = y.map(lambda x: 1 if x == 'yes' else 0)\n",
    "\n",
    "# Define X\n",
    "X = df_copy.drop('y', axis = 1)\n",
    "X.head()"
   ]
  },
  {
   "cell_type": "code",
   "execution_count": 68,
   "metadata": {
    "scrolled": false
   },
   "outputs": [
    {
     "data": {
      "text/plain": [
       "array([[ 1.        ,  0.        ,  0.        , ..., -2.0552957 ,\n",
       "        -1.04338277, -0.93925488],\n",
       "       [ 1.        ,  0.        ,  0.        , ...,  0.88866088,\n",
       "         0.71228134,  0.3313891 ],\n",
       "       [ 0.        ,  1.        ,  0.        , ..., -1.2327196 ,\n",
       "        -1.35751177, -0.93925488],\n",
       "       ...,\n",
       "       [ 1.        ,  0.        ,  0.        , ...,  1.97099786,\n",
       "        -1.58403048, -1.25587889],\n",
       "       [ 1.        ,  0.        ,  0.        , ...,  0.9536011 ,\n",
       "         0.77337799,  0.84434765],\n",
       "       [ 0.        ,  0.        ,  0.        , ...,  2.31734569,\n",
       "        -1.63302308, -2.06748717]])"
      ]
     },
     "execution_count": 68,
     "metadata": {},
     "output_type": "execute_result"
    }
   ],
   "source": [
    "# Apply pipeline\n",
    "X_prepared = prepross_pipeline.fit_transform(X)\n",
    "X_prepared"
   ]
  },
  {
   "cell_type": "markdown",
   "metadata": {},
   "source": [
    "To check, let us get the column names and recreate a DataFrame."
   ]
  },
  {
   "cell_type": "code",
   "execution_count": 69,
   "metadata": {
    "scrolled": false
   },
   "outputs": [
    {
     "data": {
      "text/html": [
       "<div>\n",
       "<style scoped>\n",
       "    .dataframe tbody tr th:only-of-type {\n",
       "        vertical-align: middle;\n",
       "    }\n",
       "\n",
       "    .dataframe tbody tr th {\n",
       "        vertical-align: top;\n",
       "    }\n",
       "\n",
       "    .dataframe thead th {\n",
       "        text-align: right;\n",
       "    }\n",
       "</style>\n",
       "<table border=\"1\" class=\"dataframe\">\n",
       "  <thead>\n",
       "    <tr style=\"text-align: right;\">\n",
       "      <th></th>\n",
       "      <th>job_admin</th>\n",
       "      <th>job_blue-collar</th>\n",
       "      <th>job_entrepreneur</th>\n",
       "      <th>job_housemaid</th>\n",
       "      <th>job_management</th>\n",
       "      <th>job_retired</th>\n",
       "      <th>job_self-employed</th>\n",
       "      <th>job_services</th>\n",
       "      <th>job_student</th>\n",
       "      <th>job_technician</th>\n",
       "      <th>...</th>\n",
       "      <th>poutcome_failure</th>\n",
       "      <th>poutcome_nonexistent</th>\n",
       "      <th>poutcome_success</th>\n",
       "      <th>age</th>\n",
       "      <th>previous</th>\n",
       "      <th>emp_var_rate</th>\n",
       "      <th>cons_price_idx</th>\n",
       "      <th>cons_conf_idx</th>\n",
       "      <th>euribor3m</th>\n",
       "      <th>nr_employed</th>\n",
       "    </tr>\n",
       "  </thead>\n",
       "  <tbody>\n",
       "    <tr>\n",
       "      <td>0</td>\n",
       "      <td>1.0</td>\n",
       "      <td>0.0</td>\n",
       "      <td>0.0</td>\n",
       "      <td>0.0</td>\n",
       "      <td>0.0</td>\n",
       "      <td>0.0</td>\n",
       "      <td>0.0</td>\n",
       "      <td>0.0</td>\n",
       "      <td>0.0</td>\n",
       "      <td>0.0</td>\n",
       "      <td>...</td>\n",
       "      <td>0.0</td>\n",
       "      <td>1.0</td>\n",
       "      <td>0.0</td>\n",
       "      <td>-0.865590</td>\n",
       "      <td>-0.349621</td>\n",
       "      <td>-1.198872</td>\n",
       "      <td>-1.266936</td>\n",
       "      <td>-2.055296</td>\n",
       "      <td>-1.043383</td>\n",
       "      <td>-0.939255</td>\n",
       "    </tr>\n",
       "    <tr>\n",
       "      <td>1</td>\n",
       "      <td>1.0</td>\n",
       "      <td>0.0</td>\n",
       "      <td>0.0</td>\n",
       "      <td>0.0</td>\n",
       "      <td>0.0</td>\n",
       "      <td>0.0</td>\n",
       "      <td>0.0</td>\n",
       "      <td>0.0</td>\n",
       "      <td>0.0</td>\n",
       "      <td>0.0</td>\n",
       "      <td>...</td>\n",
       "      <td>0.0</td>\n",
       "      <td>1.0</td>\n",
       "      <td>0.0</td>\n",
       "      <td>-0.385264</td>\n",
       "      <td>-0.349621</td>\n",
       "      <td>0.647586</td>\n",
       "      <td>0.721261</td>\n",
       "      <td>0.888661</td>\n",
       "      <td>0.712281</td>\n",
       "      <td>0.331389</td>\n",
       "    </tr>\n",
       "    <tr>\n",
       "      <td>2</td>\n",
       "      <td>0.0</td>\n",
       "      <td>1.0</td>\n",
       "      <td>0.0</td>\n",
       "      <td>0.0</td>\n",
       "      <td>0.0</td>\n",
       "      <td>0.0</td>\n",
       "      <td>0.0</td>\n",
       "      <td>0.0</td>\n",
       "      <td>0.0</td>\n",
       "      <td>0.0</td>\n",
       "      <td>...</td>\n",
       "      <td>1.0</td>\n",
       "      <td>0.0</td>\n",
       "      <td>0.0</td>\n",
       "      <td>0.671453</td>\n",
       "      <td>1.665946</td>\n",
       "      <td>-1.198872</td>\n",
       "      <td>-1.180568</td>\n",
       "      <td>-1.232720</td>\n",
       "      <td>-1.357512</td>\n",
       "      <td>-0.939255</td>\n",
       "    </tr>\n",
       "    <tr>\n",
       "      <td>3</td>\n",
       "      <td>0.0</td>\n",
       "      <td>0.0</td>\n",
       "      <td>0.0</td>\n",
       "      <td>0.0</td>\n",
       "      <td>0.0</td>\n",
       "      <td>1.0</td>\n",
       "      <td>0.0</td>\n",
       "      <td>0.0</td>\n",
       "      <td>0.0</td>\n",
       "      <td>0.0</td>\n",
       "      <td>...</td>\n",
       "      <td>0.0</td>\n",
       "      <td>1.0</td>\n",
       "      <td>0.0</td>\n",
       "      <td>0.671453</td>\n",
       "      <td>-0.349621</td>\n",
       "      <td>0.838599</td>\n",
       "      <td>1.534850</td>\n",
       "      <td>-0.280263</td>\n",
       "      <td>0.775684</td>\n",
       "      <td>0.844348</td>\n",
       "    </tr>\n",
       "    <tr>\n",
       "      <td>4</td>\n",
       "      <td>0.0</td>\n",
       "      <td>0.0</td>\n",
       "      <td>0.0</td>\n",
       "      <td>0.0</td>\n",
       "      <td>0.0</td>\n",
       "      <td>0.0</td>\n",
       "      <td>0.0</td>\n",
       "      <td>1.0</td>\n",
       "      <td>0.0</td>\n",
       "      <td>0.0</td>\n",
       "      <td>...</td>\n",
       "      <td>0.0</td>\n",
       "      <td>1.0</td>\n",
       "      <td>0.0</td>\n",
       "      <td>0.671453</td>\n",
       "      <td>-0.349621</td>\n",
       "      <td>-1.198872</td>\n",
       "      <td>-1.180568</td>\n",
       "      <td>-1.232720</td>\n",
       "      <td>-1.370192</td>\n",
       "      <td>-0.939255</td>\n",
       "    </tr>\n",
       "  </tbody>\n",
       "</table>\n",
       "<p>5 rows × 54 columns</p>\n",
       "</div>"
      ],
      "text/plain": [
       "   job_admin  job_blue-collar  job_entrepreneur  job_housemaid  \\\n",
       "0        1.0              0.0               0.0            0.0   \n",
       "1        1.0              0.0               0.0            0.0   \n",
       "2        0.0              1.0               0.0            0.0   \n",
       "3        0.0              0.0               0.0            0.0   \n",
       "4        0.0              0.0               0.0            0.0   \n",
       "\n",
       "   job_management  job_retired  job_self-employed  job_services  job_student  \\\n",
       "0             0.0          0.0                0.0           0.0          0.0   \n",
       "1             0.0          0.0                0.0           0.0          0.0   \n",
       "2             0.0          0.0                0.0           0.0          0.0   \n",
       "3             0.0          1.0                0.0           0.0          0.0   \n",
       "4             0.0          0.0                0.0           1.0          0.0   \n",
       "\n",
       "   job_technician  ...  poutcome_failure  poutcome_nonexistent  \\\n",
       "0             0.0  ...               0.0                   1.0   \n",
       "1             0.0  ...               0.0                   1.0   \n",
       "2             0.0  ...               1.0                   0.0   \n",
       "3             0.0  ...               0.0                   1.0   \n",
       "4             0.0  ...               0.0                   1.0   \n",
       "\n",
       "   poutcome_success       age  previous  emp_var_rate  cons_price_idx  \\\n",
       "0               0.0 -0.865590 -0.349621     -1.198872       -1.266936   \n",
       "1               0.0 -0.385264 -0.349621      0.647586        0.721261   \n",
       "2               0.0  0.671453  1.665946     -1.198872       -1.180568   \n",
       "3               0.0  0.671453 -0.349621      0.838599        1.534850   \n",
       "4               0.0  0.671453 -0.349621     -1.198872       -1.180568   \n",
       "\n",
       "   cons_conf_idx  euribor3m  nr_employed  \n",
       "0      -2.055296  -1.043383    -0.939255  \n",
       "1       0.888661   0.712281     0.331389  \n",
       "2      -1.232720  -1.357512    -0.939255  \n",
       "3      -0.280263   0.775684     0.844348  \n",
       "4      -1.232720  -1.370192    -0.939255  \n",
       "\n",
       "[5 rows x 54 columns]"
      ]
     },
     "execution_count": 69,
     "metadata": {},
     "output_type": "execute_result"
    }
   ],
   "source": [
    "# Get cleaned numerical column names\n",
    "num_cleaned_attribs = pipeline['syntaxclean'].get_num_feat_names()\n",
    "\n",
    "# Get one hot encoded column names\n",
    "ohe_attribs = pipeline['catprocess'].transformers_[0][1].get_feature_names(cat_attribs)\n",
    "\n",
    "# List of all columns \n",
    "attribs = list(ohe_attribs) + num_cleaned_attribs\n",
    "\n",
    "# Show prepared df\n",
    "X_prepared_df = pd.DataFrame(X_prepared, columns = attribs)\n",
    "X_prepared_df.head()"
   ]
  },
  {
   "cell_type": "code",
   "execution_count": 72,
   "metadata": {},
   "outputs": [],
   "source": [
    "# Convert to CSV\n",
    "X_prepared_df.to_csv('data/X_train_prepared.csv')"
   ]
  },
  {
   "cell_type": "markdown",
   "metadata": {},
   "source": [
    "## Modelling"
   ]
  },
  {
   "cell_type": "markdown",
   "metadata": {},
   "source": [
    "### Create Evaluation Test Set"
   ]
  },
  {
   "cell_type": "markdown",
   "metadata": {},
   "source": [
    "Let us load our prepared DataFrame."
   ]
  },
  {
   "cell_type": "code",
   "execution_count": 524,
   "metadata": {
    "scrolled": false
   },
   "outputs": [
    {
     "data": {
      "text/html": [
       "<div>\n",
       "<style scoped>\n",
       "    .dataframe tbody tr th:only-of-type {\n",
       "        vertical-align: middle;\n",
       "    }\n",
       "\n",
       "    .dataframe tbody tr th {\n",
       "        vertical-align: top;\n",
       "    }\n",
       "\n",
       "    .dataframe thead th {\n",
       "        text-align: right;\n",
       "    }\n",
       "</style>\n",
       "<table border=\"1\" class=\"dataframe\">\n",
       "  <thead>\n",
       "    <tr style=\"text-align: right;\">\n",
       "      <th></th>\n",
       "      <th>job_admin</th>\n",
       "      <th>job_blue-collar</th>\n",
       "      <th>job_entrepreneur</th>\n",
       "      <th>job_housemaid</th>\n",
       "      <th>job_management</th>\n",
       "      <th>job_retired</th>\n",
       "      <th>job_self-employed</th>\n",
       "      <th>job_services</th>\n",
       "      <th>job_student</th>\n",
       "      <th>job_technician</th>\n",
       "      <th>...</th>\n",
       "      <th>poutcome_failure</th>\n",
       "      <th>poutcome_nonexistent</th>\n",
       "      <th>poutcome_success</th>\n",
       "      <th>age</th>\n",
       "      <th>previous</th>\n",
       "      <th>emp_var_rate</th>\n",
       "      <th>cons_price_idx</th>\n",
       "      <th>cons_conf_idx</th>\n",
       "      <th>euribor3m</th>\n",
       "      <th>nr_employed</th>\n",
       "    </tr>\n",
       "  </thead>\n",
       "  <tbody>\n",
       "    <tr>\n",
       "      <td>0</td>\n",
       "      <td>1.0</td>\n",
       "      <td>0.0</td>\n",
       "      <td>0.0</td>\n",
       "      <td>0.0</td>\n",
       "      <td>0.0</td>\n",
       "      <td>0.0</td>\n",
       "      <td>0.0</td>\n",
       "      <td>0.0</td>\n",
       "      <td>0.0</td>\n",
       "      <td>0.0</td>\n",
       "      <td>...</td>\n",
       "      <td>0.0</td>\n",
       "      <td>1.0</td>\n",
       "      <td>0.0</td>\n",
       "      <td>-0.865590</td>\n",
       "      <td>-0.349621</td>\n",
       "      <td>-1.198872</td>\n",
       "      <td>-1.266936</td>\n",
       "      <td>-2.055296</td>\n",
       "      <td>-1.043383</td>\n",
       "      <td>-0.939255</td>\n",
       "    </tr>\n",
       "    <tr>\n",
       "      <td>1</td>\n",
       "      <td>1.0</td>\n",
       "      <td>0.0</td>\n",
       "      <td>0.0</td>\n",
       "      <td>0.0</td>\n",
       "      <td>0.0</td>\n",
       "      <td>0.0</td>\n",
       "      <td>0.0</td>\n",
       "      <td>0.0</td>\n",
       "      <td>0.0</td>\n",
       "      <td>0.0</td>\n",
       "      <td>...</td>\n",
       "      <td>0.0</td>\n",
       "      <td>1.0</td>\n",
       "      <td>0.0</td>\n",
       "      <td>-0.385264</td>\n",
       "      <td>-0.349621</td>\n",
       "      <td>0.647586</td>\n",
       "      <td>0.721261</td>\n",
       "      <td>0.888661</td>\n",
       "      <td>0.712281</td>\n",
       "      <td>0.331389</td>\n",
       "    </tr>\n",
       "    <tr>\n",
       "      <td>2</td>\n",
       "      <td>0.0</td>\n",
       "      <td>1.0</td>\n",
       "      <td>0.0</td>\n",
       "      <td>0.0</td>\n",
       "      <td>0.0</td>\n",
       "      <td>0.0</td>\n",
       "      <td>0.0</td>\n",
       "      <td>0.0</td>\n",
       "      <td>0.0</td>\n",
       "      <td>0.0</td>\n",
       "      <td>...</td>\n",
       "      <td>1.0</td>\n",
       "      <td>0.0</td>\n",
       "      <td>0.0</td>\n",
       "      <td>0.671453</td>\n",
       "      <td>1.665946</td>\n",
       "      <td>-1.198872</td>\n",
       "      <td>-1.180568</td>\n",
       "      <td>-1.232720</td>\n",
       "      <td>-1.357512</td>\n",
       "      <td>-0.939255</td>\n",
       "    </tr>\n",
       "    <tr>\n",
       "      <td>3</td>\n",
       "      <td>0.0</td>\n",
       "      <td>0.0</td>\n",
       "      <td>0.0</td>\n",
       "      <td>0.0</td>\n",
       "      <td>0.0</td>\n",
       "      <td>1.0</td>\n",
       "      <td>0.0</td>\n",
       "      <td>0.0</td>\n",
       "      <td>0.0</td>\n",
       "      <td>0.0</td>\n",
       "      <td>...</td>\n",
       "      <td>0.0</td>\n",
       "      <td>1.0</td>\n",
       "      <td>0.0</td>\n",
       "      <td>0.671453</td>\n",
       "      <td>-0.349621</td>\n",
       "      <td>0.838599</td>\n",
       "      <td>1.534850</td>\n",
       "      <td>-0.280263</td>\n",
       "      <td>0.775684</td>\n",
       "      <td>0.844348</td>\n",
       "    </tr>\n",
       "    <tr>\n",
       "      <td>4</td>\n",
       "      <td>0.0</td>\n",
       "      <td>0.0</td>\n",
       "      <td>0.0</td>\n",
       "      <td>0.0</td>\n",
       "      <td>0.0</td>\n",
       "      <td>0.0</td>\n",
       "      <td>0.0</td>\n",
       "      <td>1.0</td>\n",
       "      <td>0.0</td>\n",
       "      <td>0.0</td>\n",
       "      <td>...</td>\n",
       "      <td>0.0</td>\n",
       "      <td>1.0</td>\n",
       "      <td>0.0</td>\n",
       "      <td>0.671453</td>\n",
       "      <td>-0.349621</td>\n",
       "      <td>-1.198872</td>\n",
       "      <td>-1.180568</td>\n",
       "      <td>-1.232720</td>\n",
       "      <td>-1.370192</td>\n",
       "      <td>-0.939255</td>\n",
       "    </tr>\n",
       "  </tbody>\n",
       "</table>\n",
       "<p>5 rows × 54 columns</p>\n",
       "</div>"
      ],
      "text/plain": [
       "   job_admin  job_blue-collar  job_entrepreneur  job_housemaid  \\\n",
       "0        1.0              0.0               0.0            0.0   \n",
       "1        1.0              0.0               0.0            0.0   \n",
       "2        0.0              1.0               0.0            0.0   \n",
       "3        0.0              0.0               0.0            0.0   \n",
       "4        0.0              0.0               0.0            0.0   \n",
       "\n",
       "   job_management  job_retired  job_self-employed  job_services  job_student  \\\n",
       "0             0.0          0.0                0.0           0.0          0.0   \n",
       "1             0.0          0.0                0.0           0.0          0.0   \n",
       "2             0.0          0.0                0.0           0.0          0.0   \n",
       "3             0.0          1.0                0.0           0.0          0.0   \n",
       "4             0.0          0.0                0.0           1.0          0.0   \n",
       "\n",
       "   job_technician  ...  poutcome_failure  poutcome_nonexistent  \\\n",
       "0             0.0  ...               0.0                   1.0   \n",
       "1             0.0  ...               0.0                   1.0   \n",
       "2             0.0  ...               1.0                   0.0   \n",
       "3             0.0  ...               0.0                   1.0   \n",
       "4             0.0  ...               0.0                   1.0   \n",
       "\n",
       "   poutcome_success       age  previous  emp_var_rate  cons_price_idx  \\\n",
       "0               0.0 -0.865590 -0.349621     -1.198872       -1.266936   \n",
       "1               0.0 -0.385264 -0.349621      0.647586        0.721261   \n",
       "2               0.0  0.671453  1.665946     -1.198872       -1.180568   \n",
       "3               0.0  0.671453 -0.349621      0.838599        1.534850   \n",
       "4               0.0  0.671453 -0.349621     -1.198872       -1.180568   \n",
       "\n",
       "   cons_conf_idx  euribor3m  nr_employed  \n",
       "0      -2.055296  -1.043383    -0.939255  \n",
       "1       0.888661   0.712281     0.331389  \n",
       "2      -1.232720  -1.357512    -0.939255  \n",
       "3      -0.280263   0.775684     0.844348  \n",
       "4      -1.232720  -1.370192    -0.939255  \n",
       "\n",
       "[5 rows x 54 columns]"
      ]
     },
     "execution_count": 524,
     "metadata": {},
     "output_type": "execute_result"
    }
   ],
   "source": [
    "X = pd.read_csv('data/X_train_prepared.csv', index_col = 0)\n",
    "X.head()"
   ]
  },
  {
   "cell_type": "code",
   "execution_count": 706,
   "metadata": {},
   "outputs": [],
   "source": [
    "# Train-test Split\n",
    "X_train, X_test, y_train, y_test = train_test_split(X, y, test_size = 0.2, stratify=y, \\\n",
    "                                                    random_state = random_state)"
   ]
  },
  {
   "cell_type": "markdown",
   "metadata": {},
   "source": [
    "### Choice of Evaluation Metric"
   ]
  },
  {
   "cell_type": "markdown",
   "metadata": {},
   "source": [
    "As we saw in the previous section, we are dealing with unbalanced target classes."
   ]
  },
  {
   "cell_type": "code",
   "execution_count": 409,
   "metadata": {
    "scrolled": false
   },
   "outputs": [
    {
     "data": {
      "image/png": "[encoded data removed]",
      "text/plain": [
       "<Figure size 504x360 with 1 Axes>"
      ]
     },
     "metadata": {
      "needs_background": "light"
     },
     "output_type": "display_data"
    }
   ],
   "source": [
    "# Plot distribution of y\n",
    "plt.figure(figsize = (7,5))\n",
    "sns.countplot(df['y'], palette ='Accent')\n",
    "plt.xlabel('Term Deposit Subscription')\n",
    "plt.title('Distribution of Target Variable')\n",
    "plt.show()"
   ]
  },
  {
   "cell_type": "markdown",
   "metadata": {},
   "source": [
    "**Precision**: out of true predictions, how many are actually true.\n",
    "$$ \\text{Precision} = \\frac{\\text{TP}}{\\text{TP} + \\text{FP}} $$\n",
    "\n",
    "**Recall**: out of true observations, how many were accuractly predicted.\n",
    "$$ \\text{Recall} = \\frac{\\text{TP}}{\\text{TP} + \\text{FN}} $$"
   ]
  },
  {
   "cell_type": "markdown",
   "metadata": {},
   "source": [
    "We introduce a profit matrix, assigning values to possible outcomes."
   ]
  },
  {
   "cell_type": "markdown",
   "metadata": {},
   "source": [
    "|        .      | Predicted N   | Predicted Y |\n",
    "| ------------- | ------------- |-------------|\n",
    "| **Actual N**      | 0             | - $C$         |\n",
    "| **Actual Y**      | 0             | R - $C$       |"
   ]
  },
  {
   "cell_type": "markdown",
   "metadata": {},
   "source": [
    "We can then define our profit metric as follows:"
   ]
  },
  {
   "cell_type": "markdown",
   "metadata": {},
   "source": [
    "$$ Profit = \\sum_n TP * (R - C) + \\sum_n FP * (-C) $$\n",
    "where we have:\n",
    "* $n$ number of customers\n",
    "* $C$ cost of a call\n",
    "* $R$ expected revenue from a successful subscription"
   ]
  },
  {
   "cell_type": "markdown",
   "metadata": {},
   "source": [
    "Based on domain knowledge, assign values to C and R."
   ]
  },
  {
   "cell_type": "code",
   "execution_count": 741,
   "metadata": {},
   "outputs": [],
   "source": [
    "# Define calculate profit function\n",
    "def calc_profit(y_true, y_pred, C = 5, R = 50):\n",
    "    '''\n",
    "    '''\n",
    "    TP = confusion_matrix(y_true, y_pred)[1, 1]\n",
    "    FP = confusion_matrix(y_true, y_pred)[0, 1]\n",
    "    \n",
    "    profit = TP*(R-C)+FP*(-C)\n",
    "    \n",
    "    return profit"
   ]
  },
  {
   "cell_type": "markdown",
   "metadata": {},
   "source": [
    "We can now calculate expected profit assuming we call all customers (i.e. predict `y` for all entries)."
   ]
  },
  {
   "cell_type": "code",
   "execution_count": 717,
   "metadata": {
    "scrolled": true
   },
   "outputs": [
    {
     "name": "stdout",
     "output_type": "stream",
     "text": [
      "Expected profit - Training set: $18775\n",
      "Expected profit - Test set: $4680\n"
     ]
    }
   ],
   "source": [
    "# Define arrays with 1s (predict yes)\n",
    "y_test_pred = np.ones(len(y_test))\n",
    "y_train_pred = np.ones(len(y_train))\n",
    "\n",
    "train_profit = calc_profit(y_train, y_train_pred)\n",
    "test_profit = calc_profit(y_test, y_test_pred)\n",
    "print(f'Expected profit - Training set: ${train_profit}')\n",
    "print(f'Expected profit - Test set: ${test_profit}')"
   ]
  },
  {
   "cell_type": "code",
   "execution_count": 716,
   "metadata": {},
   "outputs": [],
   "source": [
    "# Define scorer using sklearn make_scorer\n",
    "revenue = make_scorer(calc_profit, greater_is_better = True)"
   ]
  },
  {
   "cell_type": "markdown",
   "metadata": {},
   "source": [
    "### Dealing with Class Imbalance"
   ]
  },
  {
   "cell_type": "markdown",
   "metadata": {},
   "source": [
    "We will try two methods to adjust for the class imabalance.\n",
    "\n",
    "First we will investigate adjusting the weights to be inversely proportional to the frequency of the classes. With Sklearn, we can set the `class_weight` parameter to be `balanced`. This means that mistakes for the minority class will be more strongly penalized than mistakes for the majority class."
   ]
  },
  {
   "cell_type": "code",
   "execution_count": 719,
   "metadata": {
    "scrolled": false
   },
   "outputs": [
    {
     "name": "stdout",
     "output_type": "stream",
     "text": [
      "Classification Report for Train set\n",
      "              precision    recall  f1-score   support\n",
      "\n",
      "           0       0.95      0.86      0.90     26314\n",
      "           1       0.36      0.63      0.46      3341\n",
      "\n",
      "    accuracy                           0.83     29655\n",
      "   macro avg       0.66      0.75      0.68     29655\n",
      "weighted avg       0.88      0.83      0.85     29655\n",
      "\n",
      "Classification Report for Test set\n",
      "              precision    recall  f1-score   support\n",
      "\n",
      "           0       0.95      0.85      0.90      6579\n",
      "           1       0.35      0.62      0.44       835\n",
      "\n",
      "    accuracy                           0.83      7414\n",
      "   macro avg       0.65      0.73      0.67      7414\n",
      "weighted avg       0.88      0.83      0.85      7414\n",
      "\n"
     ]
    }
   ],
   "source": [
    "# Instantiate \n",
    "logreg = LogisticRegression(fit_intercept = True, C = 1e17, random_state = random_state, class_weight= 'balanced')\n",
    "\n",
    "# Fit Model\n",
    "logreg.fit(X_train, y_train)\n",
    "\n",
    "# Get Predictions\n",
    "train_preds = logreg.predict(X_train)\n",
    "test_preds = logreg.predict(X_test)\n",
    "\n",
    "print('Classification Report for Train set')\n",
    "print(classification_report(y_train, train_preds))\n",
    "print('Classification Report for Test set')\n",
    "print(classification_report(y_test, test_preds))"
   ]
  },
  {
   "cell_type": "markdown",
   "metadata": {},
   "source": [
    "Now let us try using SMOTE (Synthetic Minority Oversampling Technique). This creates new synthetic data of the minority class."
   ]
  },
  {
   "cell_type": "code",
   "execution_count": 720,
   "metadata": {
    "scrolled": false
   },
   "outputs": [
    {
     "name": "stdout",
     "output_type": "stream",
     "text": [
      "Classification Report for Train set\n",
      "              precision    recall  f1-score   support\n",
      "\n",
      "           0       0.70      0.85      0.77     26314\n",
      "           1       0.81      0.63      0.71     26314\n",
      "\n",
      "    accuracy                           0.74     52628\n",
      "   macro avg       0.76      0.74      0.74     52628\n",
      "weighted avg       0.76      0.74      0.74     52628\n",
      "\n",
      "Classification Report for Test set\n",
      "              precision    recall  f1-score   support\n",
      "\n",
      "           0       0.95      0.85      0.89      6579\n",
      "           1       0.34      0.62      0.44       835\n",
      "\n",
      "    accuracy                           0.82      7414\n",
      "   macro avg       0.64      0.73      0.67      7414\n",
      "weighted avg       0.88      0.82      0.84      7414\n",
      "\n"
     ]
    }
   ],
   "source": [
    "# Create instance of SMOTE\n",
    "smote = SMOTE()\n",
    "\n",
    "# Apply smote\n",
    "X_train_resampled, y_train_resampled = smote.fit_sample(X_train, y_train)\n",
    "\n",
    "# Instantiate \n",
    "logreg = LogisticRegression(fit_intercept = True, C = 1e17, random_state = random_state)\n",
    "\n",
    "# Fit Model\n",
    "logreg.fit(X_train_resampled, y_train_resampled)\n",
    "\n",
    "# Get Predictions\n",
    "train_preds = logreg.predict(X_train_resampled)\n",
    "test_preds = logreg.predict(X_test)\n",
    "\n",
    "print('Classification Report for Train set')\n",
    "print(classification_report(y_train_resampled, train_preds))\n",
    "print('Classification Report for Test set')\n",
    "print(classification_report(y_test, test_preds))"
   ]
  },
  {
   "cell_type": "markdown",
   "metadata": {},
   "source": [
    "Both methods have given good results, but we will choose to use SMOTE as it is more widely used and will work for non-parametric classifiers when we do not have the option to adjust class weights to `balanced`."
   ]
  },
  {
   "cell_type": "markdown",
   "metadata": {},
   "source": [
    "Going forward, we will therefore use `X_train_resampled` and `y_train_resampled` and be sure to incorporate SMOTE into our final pipeline."
   ]
  },
  {
   "cell_type": "code",
   "execution_count": 721,
   "metadata": {},
   "outputs": [
    {
     "name": "stdout",
     "output_type": "stream",
     "text": [
      "Expected profit - Training set: $732460\n",
      "Expected profit - Test set: $18200\n"
     ]
    }
   ],
   "source": [
    "# Define arrays with 1s (predict yes)\n",
    "y_test_pred = np.ones(len(y_test))\n",
    "y_train_pred = np.ones(len(y_train_resampled))\n",
    "\n",
    "train_profit = calc_profit(y_train_resampled, train_preds)\n",
    "test_profit = calc_profit(y_test, test_preds)\n",
    "print(f'Expected profit - Training set: ${train_profit}')\n",
    "print(f'Expected profit - Test set: ${test_profit}')"
   ]
  },
  {
   "cell_type": "markdown",
   "metadata": {},
   "source": [
    "### Baseline Model"
   ]
  },
  {
   "cell_type": "markdown",
   "metadata": {},
   "source": [
    "As a starting point and baseline model, let us try logistic regression."
   ]
  },
  {
   "cell_type": "code",
   "execution_count": 728,
   "metadata": {
    "scrolled": false
   },
   "outputs": [
    {
     "data": {
      "text/plain": [
       "LogisticRegression(C=1e+17, class_weight=None, dual=False, fit_intercept=True,\n",
       "                   intercept_scaling=1, l1_ratio=None, max_iter=100,\n",
       "                   multi_class='auto', n_jobs=None, penalty='l2',\n",
       "                   random_state=0, solver='lbfgs', tol=0.0001, verbose=0,\n",
       "                   warm_start=False)"
      ]
     },
     "execution_count": 728,
     "metadata": {},
     "output_type": "execute_result"
    }
   ],
   "source": [
    "# Instantiate Logistic Regression\n",
    "logreg = LogisticRegression(fit_intercept = True, C = 1e17, random_state = random_state)\n",
    "\n",
    "# Fit classifier\n",
    "logreg.fit(X_train_resampled, y_train_resampled)"
   ]
  },
  {
   "cell_type": "code",
   "execution_count": 730,
   "metadata": {
    "scrolled": false
   },
   "outputs": [
    {
     "name": "stdout",
     "output_type": "stream",
     "text": [
      "Classification Report for Train set\n",
      "              precision    recall  f1-score   support\n",
      "\n",
      "           0       0.70      0.85      0.77     26314\n",
      "           1       0.81      0.63      0.71     26314\n",
      "\n",
      "    accuracy                           0.74     52628\n",
      "   macro avg       0.76      0.74      0.74     52628\n",
      "weighted avg       0.76      0.74      0.74     52628\n",
      "\n",
      "Classification Report for Test set\n",
      "              precision    recall  f1-score   support\n",
      "\n",
      "           0       0.95      0.85      0.89      6579\n",
      "           1       0.34      0.62      0.44       835\n",
      "\n",
      "    accuracy                           0.82      7414\n",
      "   macro avg       0.64      0.73      0.67      7414\n",
      "weighted avg       0.88      0.82      0.84      7414\n",
      "\n"
     ]
    }
   ],
   "source": [
    "# Get Predictions\n",
    "train_preds = logreg.predict(X_train_resampled)\n",
    "test_preds = logreg.predict(X_test)\n",
    "\n",
    "print('Classification Report for Train set')\n",
    "print(classification_report(y_train_resampled, train_preds))\n",
    "print('Classification Report for Test set')\n",
    "print(classification_report(y_test, test_preds))"
   ]
  },
  {
   "cell_type": "code",
   "execution_count": 725,
   "metadata": {},
   "outputs": [],
   "source": [
    "def CNF_plot(clf, X_train, y_train, X_test, y_test):\n",
    "    '''\n",
    "    '''\n",
    "    fig, axes = plt.subplots(1,2, figsize = (10,6), sharey = 'row')\n",
    "    plot_confusion_matrix(clf, X_train, y_train, values_format = '.0f', ax = axes[0])\n",
    "    axes[0].set_title('Training Set Confusion Matrix') \n",
    "    plot_confusion_matrix(clf, X_test, y_test, values_format = '.0f', ax = axes[1])\n",
    "    axes[1].set_title('Test Set Confusion Matrix')\n",
    "    plt.show()  "
   ]
  },
  {
   "cell_type": "code",
   "execution_count": 731,
   "metadata": {},
   "outputs": [
    {
     "data": {
      "image/png": "[encoded data removed]",
      "text/plain": [
       "<Figure size 720x432 with 4 Axes>"
      ]
     },
     "metadata": {
      "needs_background": "light"
     },
     "output_type": "display_data"
    }
   ],
   "source": [
    "# Apply function\n",
    "CNF_plot(logreg, X_train_resampled, y_train_resampled, X_test, y_test)"
   ]
  },
  {
   "cell_type": "code",
   "execution_count": 733,
   "metadata": {},
   "outputs": [],
   "source": [
    "# Get probability scores\n",
    "y_train_score = logreg.fit(X_train_resampled, y_train_resampled).predict_proba(X_train_resampled)[:,1]\n",
    "y_test_score = logreg.fit(X_train_resampled, y_train_resampled).predict_proba(X_test)[:,1]"
   ]
  },
  {
   "cell_type": "code",
   "execution_count": 779,
   "metadata": {},
   "outputs": [],
   "source": [
    "def ROC_plot(clf_name, y_train, y_test, y_train_score, y_test_score):\n",
    "    '''\n",
    "    '''\n",
    "    fpr_train, tpr_train, thresholds_train = roc_curve(y_train, y_train_score)\n",
    "    fpr_test, tpr_test, thresholds_test = roc_curve(y_test, y_test_score)\n",
    "\n",
    "    J_train = tpr_train - fpr_train\n",
    "    ix_train = np.argmax(J_train)\n",
    "    best_train_t = round(thresholds_train[ix_train],3)\n",
    "\n",
    "    J_test = tpr_test - fpr_test\n",
    "    ix_test = np.argmax(J_test)\n",
    "    best_test_t = round(thresholds_test[ix_test],3)\n",
    "\n",
    "    # Plot ROC side by side\n",
    "    fig, axes = plt.subplots(1,2, figsize = (13,6))\n",
    "    axes[0].plot(fpr_train, tpr_train, color='darkorange', lw=4, label= clf_name)\n",
    "\n",
    "    axes[0].scatter(fpr_train[ix_train], tpr_train[ix_train], marker='o', \n",
    "                zorder = 3, label=f'Best Threshold = {best_train_t}')\n",
    "\n",
    "    axes[1].plot(fpr_test, tpr_test, color='darkorange', lw=4, label= clf_name)\n",
    "\n",
    "    axes[1].scatter(fpr_test[ix_test], tpr_test[ix_test], marker='o', \n",
    "                zorder = 3, label=f'Best Threshold = {best_test_t}')\n",
    "\n",
    "    for ax in axes:\n",
    "        ax.plot([0, 1], [0, 1], color='navy', lw=2, linestyle='--', label = 'No Skill')\n",
    "        ax.set_xlabel('False Positive Rate')\n",
    "        ax.set_ylabel('True Positive Rate')\n",
    "        ax.legend(loc='lower right')\n",
    "    axes[0].set_title(f'ROC Curve - Training Set \\n AUC = {round(auc(fpr_train, tpr_train),2)}')\n",
    "    axes[1].set_title(f'ROC Curve - Test Set \\n AUC = {round(auc(fpr_test, tpr_test),2)}')\n",
    "    plt.show()"
   ]
  },
  {
   "cell_type": "code",
   "execution_count": 781,
   "metadata": {
    "scrolled": true
   },
   "outputs": [
    {
     "data": {
      "image/png": "[encoded data removed]",
      "text/plain": [
       "<Figure size 936x432 with 2 Axes>"
      ]
     },
     "metadata": {
      "needs_background": "light"
     },
     "output_type": "display_data"
    }
   ],
   "source": [
    "ROC_plot('Logistic Regression', y_train_resampled, y_test, y_train_score, y_test_score)"
   ]
  },
  {
   "cell_type": "code",
   "execution_count": 641,
   "metadata": {},
   "outputs": [],
   "source": [
    "def PR_plot(clf_name, y_train, y_test, y_train_score, y_test_score):\n",
    "    '''\n",
    "    '''\n",
    "    # Calculate train Precision-Recall curve\n",
    "    precision_train, recall_train, thresholds_train = precision_recall_curve(y_train, y_train_score)\n",
    "\n",
    "    # Calculate test Precision-Recall curve\n",
    "    precision_test, recall_test, thresholds_test = precision_recall_curve(y_test, y_test_score)\n",
    "\n",
    "    # Calculate train f-score\n",
    "    fscore_train = (2 * precision_train * recall_train) / (precision_train + recall_train)\n",
    "    # Get the index of the largest train f-score\n",
    "    ix_train = np.argmax(fscore_train)\n",
    "    # Get best train threshold\n",
    "    best_train_t = round(thresholds_train[ix_train],3)\n",
    "\n",
    "    # Calculate train f-score\n",
    "    fscore_test = (2 * precision_test * recall_test) / (precision_test + recall_test)\n",
    "    # Get the index of the largest train f-score\n",
    "    ix_test = np.argmax(fscore_test)\n",
    "    # Get best train threshold\n",
    "    best_test_t = round(thresholds_test[ix_test],3)\n",
    "\n",
    "    # Plot PR side by side\n",
    "    fig, axes = plt.subplots(1,2, figsize = (13,6))\n",
    "    axes[0].plot(precision_train, recall_train, color='darkorange', lw=4, label= clf_name)\n",
    "\n",
    "    axes[0].scatter(precision_train[ix_train], recall_train[ix_train], marker='o', \n",
    "               zorder = 3, label=f'Best Threshold = {best_train_t}')\n",
    "\n",
    "    axes[1].plot(precision_test, recall_test, color='darkorange', lw=4, label= clf_name)\n",
    "\n",
    "    axes[1].scatter(precision_test[ix_test], recall_test[ix_test], marker='o', \n",
    "                zorder = 3, label=f'Best Threshold = {best_test_t}')\n",
    "\n",
    "    for ax in axes:\n",
    "        ax.plot([0, 1], [0, 0], color='navy', lw=2, linestyle='--', label = 'No Skill')\n",
    "        ax.set_xlabel('Recall')\n",
    "        ax.set_ylabel('Precision')\n",
    "        ax.legend(loc='top right')\n",
    "    axes[0].set_title(f'Precision/Recall Curve - Training Set')\n",
    "    axes[1].set_title(f'Precision/Recall Curve - Test Set')\n",
    "    plt.show()"
   ]
  },
  {
   "cell_type": "code",
   "execution_count": 735,
   "metadata": {
    "scrolled": true
   },
   "outputs": [
    {
     "data": {
      "image/png": "[encoded data removed]",
      "text/plain": [
       "<Figure size 936x432 with 2 Axes>"
      ]
     },
     "metadata": {
      "needs_background": "light"
     },
     "output_type": "display_data"
    }
   ],
   "source": [
    "PR_plot('Logistic Regression', y_train_resampled, y_test, y_train_score, y_test_score)"
   ]
  },
  {
   "cell_type": "code",
   "execution_count": 738,
   "metadata": {},
   "outputs": [],
   "source": [
    "# Define function to map probability to label\n",
    "def get_class(proba, threshold):\n",
    "    return (proba >= threshold).astype('int')\n",
    "\n",
    "\n",
    "def profit_threshold_optimizer(y, y_score):\n",
    "    '''\n",
    "    '''\n",
    "    # Define thresholds\n",
    "    thresholds = np.arange(0,1,0.1)\n",
    "    \n",
    "    # Calculate profit for each threshold\n",
    "    profits = []\n",
    "    for t in thresholds:\n",
    "        y_preds = get_class(y_score, t)\n",
    "        profit = calc_profit(y, y_preds)\n",
    "        profits.append(profit)\n",
    "    \n",
    "    # Get best threshold and best profit\n",
    "    ix = np.argmax(profits)\n",
    "    best_t = thresholds[ix]\n",
    "    best_profit = profits[ix] \n",
    "    \n",
    "    return best_t, best_profit"
   ]
  },
  {
   "cell_type": "code",
   "execution_count": 739,
   "metadata": {
    "scrolled": true
   },
   "outputs": [
    {
     "name": "stdout",
     "output_type": "stream",
     "text": [
      "Train Threshold: 0.0\n",
      "Train Profit: $1052560\n"
     ]
    }
   ],
   "source": [
    "# Apply to training set\n",
    "best_t, best_profit = profit_threshold_optimizer(y_train_resampled, y_train_score)\n",
    "print(f'Train Threshold: {best_t}')\n",
    "print(f'Train Profit: ${best_profit}')"
   ]
  },
  {
   "cell_type": "code",
   "execution_count": 740,
   "metadata": {},
   "outputs": [
    {
     "name": "stdout",
     "output_type": "stream",
     "text": [
      "Train Threshold: 0.5\n",
      "Train Profit: $18200\n"
     ]
    }
   ],
   "source": [
    "# Apply to training set\n",
    "best_t, best_profit = profit_threshold_optimizer(y_test, y_test_score)\n",
    "print(f'Train Threshold: {best_t}')\n",
    "print(f'Train Profit: ${best_profit}')"
   ]
  },
  {
   "cell_type": "markdown",
   "metadata": {},
   "source": [
    "### Classifiers"
   ]
  },
  {
   "cell_type": "code",
   "execution_count": 755,
   "metadata": {},
   "outputs": [],
   "source": [
    "# Create a dictionary of classifiers\n",
    "clf_dict = {\n",
    "    'Logistic Regression': LogisticRegression(random_state = random_state),\n",
    "  # 'K-Nearest Neighbours': KNeighborsClassifier(),\n",
    "   # 'Decision Tree': DecisionTreeClassifier(random_state = random_state),\n",
    "    'Naive Bayes': GaussianNB(),\n",
    "   # 'Support Vector Classification': SVC(random_state = random_state, probability = True),\n",
    "   # 'Random Forrest': RandomForestClassifier(random_state = random_state),\n",
    "   # 'AdaBoost': AdaBoostClassifier(random_state = random_state),\n",
    "   # 'Gradient Boosting': GradientBoostingClassifier(random_state = random_state),\n",
    "    'XGBoost' : xgb.XGBClassifier()\n",
    "}"
   ]
  },
  {
   "cell_type": "code",
   "execution_count": 749,
   "metadata": {},
   "outputs": [],
   "source": [
    "# Define function to batch classify\n",
    "\n",
    "def batch_clf(X_train, y_train, X_test, y_test, clf_dict, verbose = True):\n",
    "    '''\n",
    "    Fits a dictionary of classifiers onto Training Set and returns a table showing scores\n",
    "    \n",
    "    Return: results dataframe\n",
    "    '''\n",
    "    # Create empty DataFrame to store results\n",
    "    times = []\n",
    "    train_acc_scores = []\n",
    "    test_acc_scores = []\n",
    "    train_f1_scores = []\n",
    "    test_f1_scores = []\n",
    "    train_precision_scores = []\n",
    "    test_precision_scores = []\n",
    "    train_recall_scores = []\n",
    "    test_recall_scores = []\n",
    "    train_roc_data = []\n",
    "    test_roc_data = []\n",
    "    train_profit_scores = []\n",
    "    test_profit_scores = []\n",
    "    \n",
    "    # Loop through dictionary items\n",
    "    for key, clf in clf_dict.items():\n",
    "        start_time = time.clock()\n",
    "        \n",
    "        # Fit classifier\n",
    "        clf_fitted = clf.fit(X_train,y_train)\n",
    "        \n",
    "        # Get Predictions\n",
    "        train_preds = clf_fitted.predict(X_train)\n",
    "        test_preds = clf_fitted.predict(X_test)\n",
    "  \n",
    "        \n",
    "        #Get accuracy scores\n",
    "        train_acc = accuracy_score(y_train, train_preds)\n",
    "        train_acc_scores.append(round(train_acc,2))\n",
    "        test_acc = accuracy_score(y_test, test_preds)\n",
    "        test_acc_scores.append(round(test_acc,2))\n",
    "        \n",
    "        #Get F1 Scores\n",
    "        train_f1 = f1_score(y_train, train_preds)\n",
    "        train_f1_scores.append(round(train_f1,2))\n",
    "        test_f1 = f1_score(y_test, test_preds)\n",
    "        test_f1_scores.append(round(test_f1,2))\n",
    "        \n",
    "        # Get Precision Scores\n",
    "        train_precision = precision_score(y_train, train_preds)\n",
    "        train_precision_scores.append(round(train_precision,2))\n",
    "        test_precision = precision_score(y_test, test_preds)\n",
    "        test_precision_scores.append(round(test_precision,2))\n",
    "        \n",
    "        # Get Recall Scores\n",
    "        train_recall = recall_score(y_train, train_preds)\n",
    "        train_recall_scores.append(round(train_recall,2))\n",
    "        test_recall = recall_score(y_test, test_preds)\n",
    "        test_recall_scores.append(round(test_recall,2))\n",
    "        \n",
    "        # Get Probability Predictions\n",
    "        train_hat = clf_fitted.predict_proba(X_train)\n",
    "        train_proba = train_hat[:,1]\n",
    "        fpr_train, tpr_train, thresholds_train = roc_curve(y_train, train_proba)\n",
    "        train_roc_data.append([fpr_train, tpr_train, thresholds_train])\n",
    "            \n",
    "        test_hat = clf_fitted.predict_proba(X_test)\n",
    "        test_proba = test_hat[:,1]\n",
    "        fpr_test, tpr_test, thresholds_test = roc_curve(y_test, test_proba)\n",
    "        test_roc_data.append([fpr_test, tpr_test, thresholds_test])\n",
    "        \n",
    "        # Get Profit\n",
    "        \n",
    "        best_t, best_profit = profit_threshold_optimizer(y_train, train_proba)\n",
    "        train_profit_scores.append(best_profit)\n",
    "        best_t, best_profit = profit_threshold_optimizer(y_test, test_proba)\n",
    "        test_profit_scores.append(best_profit)\n",
    "\n",
    "        end_time = time.clock()\n",
    "        time_elapsed = end_time - start_time\n",
    "        times.append(round(time_elapsed,2))\n",
    "        \n",
    "        if verbose:\n",
    "            print(f'trained {key} in {round(time_elapsed,2)}')\n",
    "        \n",
    "    # Create results dataframe\n",
    "    results = pd.DataFrame({'Model': list(clf_dict.keys()), \n",
    "                            'Time': times,\n",
    "                            'Train Accuracy': train_acc_scores,\n",
    "                            'Test Accuracy': test_acc_scores, \n",
    "                            'Train F1': train_f1_scores,\n",
    "                            'Test F1': test_f1_scores,\n",
    "                            'Train Precision' : train_precision_scores,\n",
    "                            'Test Precision' : test_precision_scores,\n",
    "                            'Train Recall': train_recall_scores,\n",
    "                            'Test Recall': test_recall_scores,\n",
    "                            'Train Profit' : train_profit_scores,\n",
    "                            'Test Profit' : test_profit_scores\n",
    "                            })\n",
    "    \n",
    "   # Plot side by side ROC curve\n",
    "    fig, axes = plt.subplots(1,2, figsize = (13,6))\n",
    "    \n",
    "    for i in range(len(train_roc_data)):\n",
    "        axes[0].plot(train_roc_data[i][0], train_roc_data[i][1], lw=4, \\\n",
    "                 label= f'{list(clf_dict.keys())[i]}')\n",
    "        \n",
    "    for i in range(len(test_roc_data)):\n",
    "        axes[1].plot(test_roc_data[i][0], test_roc_data[i][1], lw=4, \\\n",
    "                 label= f'{list(clf_dict.keys())[i]}')    \n",
    "        \n",
    "    for ax in axes:\n",
    "        ax.plot([0, 1], [0, 1], color='navy', lw=2, linestyle='--')\n",
    "        ax.set_xlabel('False Positive Rate')\n",
    "        ax.set_ylabel('True Positive Rate')\n",
    "        ax.legend(loc='lower right')\n",
    "    axes[0].set_title('Receiver operating characteristic (ROC) Curve \\n Training Set')\n",
    "    axes[1].set_title('Receiver operating characteristic (ROC) Curve \\n Test Set')\n",
    "    plt.show()\n",
    "\n",
    "    return results"
   ]
  },
  {
   "cell_type": "code",
   "execution_count": 754,
   "metadata": {
    "scrolled": true
   },
   "outputs": [
    {
     "name": "stdout",
     "output_type": "stream",
     "text": [
      "trained Logistic Regression in 2.95\n",
      "trained Naive Bayes in 1.91\n",
      "trained XGBoost in 14.33\n"
     ]
    },
    {
     "data": {
      "image/png": "[encoded data removed]",
      "text/plain": [
       "<Figure size 936x432 with 2 Axes>"
      ]
     },
     "metadata": {
      "needs_background": "light"
     },
     "output_type": "display_data"
    },
    {
     "data": {
      "text/html": [
       "<div>\n",
       "<style scoped>\n",
       "    .dataframe tbody tr th:only-of-type {\n",
       "        vertical-align: middle;\n",
       "    }\n",
       "\n",
       "    .dataframe tbody tr th {\n",
       "        vertical-align: top;\n",
       "    }\n",
       "\n",
       "    .dataframe thead th {\n",
       "        text-align: right;\n",
       "    }\n",
       "</style>\n",
       "<table border=\"1\" class=\"dataframe\">\n",
       "  <thead>\n",
       "    <tr style=\"text-align: right;\">\n",
       "      <th></th>\n",
       "      <th>Model</th>\n",
       "      <th>Time</th>\n",
       "      <th>Train Accuracy</th>\n",
       "      <th>Test Accuracy</th>\n",
       "      <th>Train F1</th>\n",
       "      <th>Test F1</th>\n",
       "      <th>Train Precision</th>\n",
       "      <th>Test Precision</th>\n",
       "      <th>Train Recall</th>\n",
       "      <th>Test Recall</th>\n",
       "      <th>Train Profit</th>\n",
       "      <th>Test Profit</th>\n",
       "    </tr>\n",
       "  </thead>\n",
       "  <tbody>\n",
       "    <tr>\n",
       "      <td>0</td>\n",
       "      <td>Logistic Regression</td>\n",
       "      <td>2.95</td>\n",
       "      <td>0.74</td>\n",
       "      <td>0.82</td>\n",
       "      <td>0.71</td>\n",
       "      <td>0.44</td>\n",
       "      <td>0.81</td>\n",
       "      <td>0.34</td>\n",
       "      <td>0.64</td>\n",
       "      <td>0.62</td>\n",
       "      <td>1052560</td>\n",
       "      <td>18200</td>\n",
       "    </tr>\n",
       "    <tr>\n",
       "      <td>1</td>\n",
       "      <td>Naive Bayes</td>\n",
       "      <td>1.91</td>\n",
       "      <td>0.67</td>\n",
       "      <td>0.54</td>\n",
       "      <td>0.71</td>\n",
       "      <td>0.28</td>\n",
       "      <td>0.63</td>\n",
       "      <td>0.17</td>\n",
       "      <td>0.83</td>\n",
       "      <td>0.81</td>\n",
       "      <td>1052560</td>\n",
       "      <td>15515</td>\n",
       "    </tr>\n",
       "    <tr>\n",
       "      <td>2</td>\n",
       "      <td>XGBoost</td>\n",
       "      <td>14.33</td>\n",
       "      <td>0.90</td>\n",
       "      <td>0.88</td>\n",
       "      <td>0.90</td>\n",
       "      <td>0.47</td>\n",
       "      <td>0.93</td>\n",
       "      <td>0.46</td>\n",
       "      <td>0.87</td>\n",
       "      <td>0.49</td>\n",
       "      <td>1094235</td>\n",
       "      <td>18130</td>\n",
       "    </tr>\n",
       "  </tbody>\n",
       "</table>\n",
       "</div>"
      ],
      "text/plain": [
       "                 Model   Time  Train Accuracy  Test Accuracy  Train F1  \\\n",
       "0  Logistic Regression   2.95            0.74           0.82      0.71   \n",
       "1          Naive Bayes   1.91            0.67           0.54      0.71   \n",
       "2              XGBoost  14.33            0.90           0.88      0.90   \n",
       "\n",
       "   Test F1  Train Precision  Test Precision  Train Recall  Test Recall  \\\n",
       "0     0.44             0.81            0.34          0.64         0.62   \n",
       "1     0.28             0.63            0.17          0.83         0.81   \n",
       "2     0.47             0.93            0.46          0.87         0.49   \n",
       "\n",
       "   Train Profit  Test Profit  \n",
       "0       1052560        18200  \n",
       "1       1052560        15515  \n",
       "2       1094235        18130  "
      ]
     },
     "execution_count": 754,
     "metadata": {},
     "output_type": "execute_result"
    }
   ],
   "source": [
    "results = batch_clf(X_train_resampled, y_train_resampled, X_test.values, y_test.values, clf_dict)\n",
    "results"
   ]
  },
  {
   "cell_type": "markdown",
   "metadata": {},
   "source": [
    "We will eliminate Support Vector Classification due to the high run-time and average performance.\n",
    "\n",
    "We note that certain models appear to be overfitting on the training data, namely our tree-based algorithms `Decision Tree` and `Random Forrest`."
   ]
  },
  {
   "cell_type": "markdown",
   "metadata": {},
   "source": [
    "### Tuning Classifiers"
   ]
  },
  {
   "cell_type": "markdown",
   "metadata": {},
   "source": [
    "Let us apply `RandomizedSearchCV` to find the best hyperparameters to avoid overfitting and perform cross-validation too. As we wish to try a range of classifiers and parameter choices, `RandomizedSearchCV` is chosen over `GridsearchCV` for computational time. \n",
    "\n",
    "Once we have one or two short-listed models, we will further tune with exhaustive `GridSearchCV`."
   ]
  },
  {
   "cell_type": "markdown",
   "metadata": {},
   "source": [
    "We begin by defining the parameter grid for our classifiers."
   ]
  },
  {
   "cell_type": "code",
   "execution_count": 683,
   "metadata": {},
   "outputs": [],
   "source": [
    "# Create a dictionary of classifiers\n",
    "clf_dict = {\n",
    "    'Logistic Regression': LogisticRegression(random_state = random_state),\n",
    "    'K-Nearest Neighbours': KNeighborsClassifier(),\n",
    "    'Decision Tree': DecisionTreeClassifier(random_state = random_state),\n",
    "    'Naive Bayes': GaussianNB(),\n",
    "    'Support Vector Classification': SVC(random_state = random_state),\n",
    "    'Random Forrest': RandomForestClassifier(random_state = random_state),\n",
    "    'AdaBoost': AdaBoostClassifier(random_state = random_state),\n",
    "    'Gradient Boosting': GradientBoostingClassifier(random_state = random_state),\n",
    "    'XGBoost' : xgb.XGBClassifier()\n",
    "}"
   ]
  },
  {
   "cell_type": "code",
   "execution_count": 757,
   "metadata": {},
   "outputs": [],
   "source": [
    "# Define param grid\n",
    "RF_params = {\n",
    "    'clf__max_depth': [4, 5, 6, 10, 15],\n",
    "    'clf__criterion': ['gini', 'entropy'],\n",
    "    'clf__n_estimators': [100, 200, 300],\n",
    "    'clf__min_samples_split': [3, 5, 10],\n",
    "    'clf_min_samples_leaf': [3,4,6]\n",
    "}\n",
    "\n",
    "DT_params = {\n",
    "    'clf__max_depth': [5, 25, 50],\n",
    "    'clf__criterion': ['gini', 'entropy'],\n",
    "    'clf__min_samples_split': [6, 10],\n",
    "}\n",
    "\n",
    "LR_params = {\n",
    "    'clf__solver': ['liblinear'],\n",
    "    'clf__C': [0.1, 1],\n",
    "}\n",
    "\n",
    "KNN_params = {\n",
    "    'clf__n_neighbors': [5, 15],\n",
    "    'clf__weights': ['uniform', 'distance'],\n",
    "    'clf__p': [1, 5]\n",
    "}\n",
    "\n",
    "GB_params = {\n",
    "    'clf__n_estimators' : [50, 100, 200],\n",
    "    'clf__max_depth' : [5, 10, 15]\n",
    "}\n",
    "\n",
    "XGB_params = {\n",
    "    'clf__n_estimators': [50, 100, 200],\n",
    "    'clf__max_depth': [5,10,15],\n",
    "    'clf__min_child_weight': [3,5]\n",
    "}"
   ]
  },
  {
   "cell_type": "code",
   "execution_count": 759,
   "metadata": {},
   "outputs": [],
   "source": [
    "# Create new empty dictionary\n",
    "tuning_clf_dict = {}\n",
    "\n",
    "for k,v in clf_dict.items():\n",
    "    tuning_clf_dict[k] = {}\n",
    "    # Add clfs\n",
    "    tuning_clf_dict[k]['clf'] = v\n",
    "    \n",
    "# Remove SVM\n",
    "#del tuning_clf_dict['Support Vector Classification']\n",
    "    \n",
    "# Add Pipeline to nested dictionary\n",
    "for k in tuning_clf_dict.keys():\n",
    "    tuning_clf_dict[k]['pipeline'] = Pipeline([('smote', smote), ('clf', tuning_clf_dict[k]['clf'])])"
   ]
  },
  {
   "cell_type": "code",
   "execution_count": 760,
   "metadata": {},
   "outputs": [],
   "source": [
    "# Add param grid to nested dictionary\n",
    "\n",
    "# Add key param_grid and default empty dictionary value\n",
    "for k in tuning_clf_dict.keys():\n",
    "    tuning_clf_dict[k]['param_grid'] = {}\n",
    "\n",
    "# Reassign parameter grid to parametric classifiers\n",
    "tuning_clf_dict['Logistic Regression']['param_grid'] = LR_params\n",
    "#tuning_clf_dict['Decision Tree']['param_grid'] = DT_params\n",
    "#tuning_clf_dict['Random Forrest']['param_grid'] = RF_params\n",
    "#tuning_clf_dict['K-Nearest Neighbours']['param_grid'] = KNN_params\n",
    "#tuning_clf_dict['Gradient Boosting']['param_grid'] = GB_params\n",
    "tuning_clf_dict['XGBoost']['param_grid'] = XGB_params"
   ]
  },
  {
   "cell_type": "code",
   "execution_count": 764,
   "metadata": {},
   "outputs": [],
   "source": [
    "# Add RandomizedSearchCV to nested dictionary\n",
    "cv = 2\n",
    "scoring = 'f'\n",
    "\n",
    "for k in tuning_clf_dict.keys():\n",
    "    tuning_clf_dict[k]['rscv'] = RandomizedSearchCV(estimator = tuning_clf_dict[k]['pipeline'], \n",
    "                                                  param_distributions = tuning_clf_dict[k]['param_grid'],\n",
    "                                                  scoring = scoring,\n",
    "                                                  cv = cv)"
   ]
  },
  {
   "cell_type": "code",
   "execution_count": 768,
   "metadata": {},
   "outputs": [],
   "source": [
    "# Extract \n",
    "rscv_dict = {}\n",
    "\n",
    "for k in tuning_clf_dict.keys():\n",
    "    rscv_dict[k] = tuning_clf_dict[k]['rscv']"
   ]
  },
  {
   "cell_type": "code",
   "execution_count": 771,
   "metadata": {},
   "outputs": [
    {
     "name": "stdout",
     "output_type": "stream",
     "text": [
      "trained Logistic Regression in 7.79\n",
      "trained Naive Bayes in 3.92\n",
      "trained XGBoost in 432.78\n"
     ]
    },
    {
     "data": {
      "image/png": "[encoded data removed]",
      "text/plain": [
       "<Figure size 936x432 with 2 Axes>"
      ]
     },
     "metadata": {
      "needs_background": "light"
     },
     "output_type": "display_data"
    },
    {
     "data": {
      "text/html": [
       "<div>\n",
       "<style scoped>\n",
       "    .dataframe tbody tr th:only-of-type {\n",
       "        vertical-align: middle;\n",
       "    }\n",
       "\n",
       "    .dataframe tbody tr th {\n",
       "        vertical-align: top;\n",
       "    }\n",
       "\n",
       "    .dataframe thead th {\n",
       "        text-align: right;\n",
       "    }\n",
       "</style>\n",
       "<table border=\"1\" class=\"dataframe\">\n",
       "  <thead>\n",
       "    <tr style=\"text-align: right;\">\n",
       "      <th></th>\n",
       "      <th>Model</th>\n",
       "      <th>Time</th>\n",
       "      <th>Train Accuracy</th>\n",
       "      <th>Test Accuracy</th>\n",
       "      <th>Train F1</th>\n",
       "      <th>Test F1</th>\n",
       "      <th>Train Precision</th>\n",
       "      <th>Test Precision</th>\n",
       "      <th>Train Recall</th>\n",
       "      <th>Test Recall</th>\n",
       "      <th>Train Profit</th>\n",
       "      <th>Test Profit</th>\n",
       "    </tr>\n",
       "  </thead>\n",
       "  <tbody>\n",
       "    <tr>\n",
       "      <td>0</td>\n",
       "      <td>Logistic Regression</td>\n",
       "      <td>7.79</td>\n",
       "      <td>0.83</td>\n",
       "      <td>0.83</td>\n",
       "      <td>0.46</td>\n",
       "      <td>0.44</td>\n",
       "      <td>0.36</td>\n",
       "      <td>0.34</td>\n",
       "      <td>0.63</td>\n",
       "      <td>0.61</td>\n",
       "      <td>76000</td>\n",
       "      <td>18210</td>\n",
       "    </tr>\n",
       "    <tr>\n",
       "      <td>1</td>\n",
       "      <td>Naive Bayes</td>\n",
       "      <td>3.92</td>\n",
       "      <td>0.54</td>\n",
       "      <td>0.54</td>\n",
       "      <td>0.28</td>\n",
       "      <td>0.28</td>\n",
       "      <td>0.17</td>\n",
       "      <td>0.17</td>\n",
       "      <td>0.80</td>\n",
       "      <td>0.81</td>\n",
       "      <td>61455</td>\n",
       "      <td>15560</td>\n",
       "    </tr>\n",
       "    <tr>\n",
       "      <td>2</td>\n",
       "      <td>XGBoost</td>\n",
       "      <td>432.78</td>\n",
       "      <td>0.89</td>\n",
       "      <td>0.88</td>\n",
       "      <td>0.52</td>\n",
       "      <td>0.48</td>\n",
       "      <td>0.49</td>\n",
       "      <td>0.46</td>\n",
       "      <td>0.54</td>\n",
       "      <td>0.50</td>\n",
       "      <td>78600</td>\n",
       "      <td>17995</td>\n",
       "    </tr>\n",
       "  </tbody>\n",
       "</table>\n",
       "</div>"
      ],
      "text/plain": [
       "                 Model    Time  Train Accuracy  Test Accuracy  Train F1  \\\n",
       "0  Logistic Regression    7.79            0.83           0.83      0.46   \n",
       "1          Naive Bayes    3.92            0.54           0.54      0.28   \n",
       "2              XGBoost  432.78            0.89           0.88      0.52   \n",
       "\n",
       "   Test F1  Train Precision  Test Precision  Train Recall  Test Recall  \\\n",
       "0     0.44             0.36            0.34          0.63         0.61   \n",
       "1     0.28             0.17            0.17          0.80         0.81   \n",
       "2     0.48             0.49            0.46          0.54         0.50   \n",
       "\n",
       "   Train Profit  Test Profit  \n",
       "0         76000        18210  \n",
       "1         61455        15560  \n",
       "2         78600        17995  "
      ]
     },
     "execution_count": 771,
     "metadata": {},
     "output_type": "execute_result"
    }
   ],
   "source": [
    "gs_results = batch_clf(X_train.values, y_train.values, X_test.values, y_test.values, rscv_dict)\n",
    "gs_results"
   ]
  },
  {
   "cell_type": "markdown",
   "metadata": {},
   "source": [
    "### XGBoost"
   ]
  },
  {
   "cell_type": "code",
   "execution_count": 791,
   "metadata": {},
   "outputs": [],
   "source": [
    "xgboost = xgb.XGBClassifier()"
   ]
  },
  {
   "cell_type": "code",
   "execution_count": 792,
   "metadata": {},
   "outputs": [],
   "source": [
    "pipeline = Pipeline([('smote', smote), ('clf', xgboost)])"
   ]
  },
  {
   "cell_type": "code",
   "execution_count": 793,
   "metadata": {},
   "outputs": [],
   "source": [
    "XGB_params = {\n",
    "  #  'clf__n_estimators': [50, 100, 200],\n",
    "    'clf__max_depth': [5,10,15],\n",
    " #   'clf__min_child_weight': [3,5]\n",
    "}"
   ]
  },
  {
   "cell_type": "code",
   "execution_count": 794,
   "metadata": {},
   "outputs": [],
   "source": [
    "cv = 3\n",
    "gs_xgboost = GridSearchCV(estimator = pipeline, \n",
    "                          param_grid = XGB_params,\n",
    "                          scoring = scoring,\n",
    "                          cv = cv)"
   ]
  },
  {
   "cell_type": "code",
   "execution_count": 795,
   "metadata": {
    "scrolled": false
   },
   "outputs": [],
   "source": [
    "# Fit classifier\n",
    "gs_xgboost_fitted = gs_xgboost.fit(X_train.values,y_train.values)\n",
    "        \n",
    "# Get Predictions\n",
    "train_preds = gs_xgboost_fitted.predict(X_train.values)\n",
    "test_preds = gs_xgboost_fitted.predict(X_test.values)\n",
    "\n",
    "# Get Probabilities\n",
    "train_hat = gs_xgboost_fitted.predict_proba(X_train.values)\n",
    "train_proba = train_hat[:,1]\n",
    "test_hat = gs_xgboost_fitted.predict_proba(X_test.values)\n",
    "test_proba = test_prob[:,1]"
   ]
  },
  {
   "cell_type": "code",
   "execution_count": 796,
   "metadata": {
    "scrolled": false
   },
   "outputs": [
    {
     "data": {
      "image/png": "[encoded data removed]",
      "text/plain": [
       "<Figure size 936x432 with 2 Axes>"
      ]
     },
     "metadata": {
      "needs_background": "light"
     },
     "output_type": "display_data"
    }
   ],
   "source": [
    "ROC_plot('XGBoost', y_train.values, y_test.values, train_proba, test_proba)"
   ]
  },
  {
   "cell_type": "code",
   "execution_count": 800,
   "metadata": {
    "scrolled": false
   },
   "outputs": [
    {
     "data": {
      "text/plain": [
       "{'clf__max_depth': 5}"
      ]
     },
     "execution_count": 800,
     "metadata": {},
     "output_type": "execute_result"
    }
   ],
   "source": [
    "XGB_best_params = gs_xgboost.best_params_\n",
    "XGB_best_params"
   ]
  },
  {
   "cell_type": "code",
   "execution_count": null,
   "metadata": {},
   "outputs": [],
   "source": [
    "full_pipeline = Pipeline([\n",
    "        ('syntaxclean', SyntaxCleanandDrop()),\n",
    "        ('numprocess', NumPreprocess()),\n",
    "        ('unknownimputer', UnknownImputer()),\n",
    "        ('catprocess', cat_process),\n",
    "        ('smote', smote),\n",
    "        ('clf', xgb.XGBClassifier(max_depth = 5))\n",
    "])"
   ]
  },
  {
   "cell_type": "markdown",
   "metadata": {},
   "source": [
    "## Interpret"
   ]
  },
  {
   "cell_type": "markdown",
   "metadata": {},
   "source": [
    "### Key Features"
   ]
  },
  {
   "cell_type": "markdown",
   "metadata": {},
   "source": [
    "### Test Set Predictions"
   ]
  },
  {
   "cell_type": "code",
   "execution_count": 820,
   "metadata": {},
   "outputs": [],
   "source": [
    "full_pipeline = Pipeline([\n",
    "        ('syntaxclean', SyntaxCleanandDrop()),\n",
    "        ('numprocess', NumPreprocess()),\n",
    "        ('unknownimputer', UnknownImputer()),\n",
    "        ('catprocess', cat_process),\n",
    "        ('smote', smote),\n",
    "        ('clf', xgb.XGBClassifier(max_depth = 5))\n",
    "])"
   ]
  },
  {
   "cell_type": "code",
   "execution_count": 821,
   "metadata": {
    "scrolled": false
   },
   "outputs": [
    {
     "data": {
      "text/html": [
       "<div>\n",
       "<style scoped>\n",
       "    .dataframe tbody tr th:only-of-type {\n",
       "        vertical-align: middle;\n",
       "    }\n",
       "\n",
       "    .dataframe tbody tr th {\n",
       "        vertical-align: top;\n",
       "    }\n",
       "\n",
       "    .dataframe thead th {\n",
       "        text-align: right;\n",
       "    }\n",
       "</style>\n",
       "<table border=\"1\" class=\"dataframe\">\n",
       "  <thead>\n",
       "    <tr style=\"text-align: right;\">\n",
       "      <th></th>\n",
       "      <th>age</th>\n",
       "      <th>job</th>\n",
       "      <th>marital</th>\n",
       "      <th>education</th>\n",
       "      <th>default</th>\n",
       "      <th>housing</th>\n",
       "      <th>loan</th>\n",
       "      <th>contact</th>\n",
       "      <th>month</th>\n",
       "      <th>day_of_week</th>\n",
       "      <th>duration</th>\n",
       "      <th>campaign</th>\n",
       "      <th>pdays</th>\n",
       "      <th>previous</th>\n",
       "      <th>poutcome</th>\n",
       "      <th>emp.var.rate</th>\n",
       "      <th>cons.price.idx</th>\n",
       "      <th>cons.conf.idx</th>\n",
       "      <th>euribor3m</th>\n",
       "      <th>nr.employed</th>\n",
       "    </tr>\n",
       "  </thead>\n",
       "  <tbody>\n",
       "    <tr>\n",
       "      <td>0</td>\n",
       "      <td>31</td>\n",
       "      <td>admin.</td>\n",
       "      <td>single</td>\n",
       "      <td>university.degree</td>\n",
       "      <td>no</td>\n",
       "      <td>no</td>\n",
       "      <td>yes</td>\n",
       "      <td>telephone</td>\n",
       "      <td>mar</td>\n",
       "      <td>mon</td>\n",
       "      <td>39</td>\n",
       "      <td>2</td>\n",
       "      <td>999</td>\n",
       "      <td>0</td>\n",
       "      <td>nonexistent</td>\n",
       "      <td>-1.8</td>\n",
       "      <td>92.843</td>\n",
       "      <td>-50.0</td>\n",
       "      <td>1.811</td>\n",
       "      <td>5099.1</td>\n",
       "    </tr>\n",
       "    <tr>\n",
       "      <td>1</td>\n",
       "      <td>36</td>\n",
       "      <td>admin.</td>\n",
       "      <td>single</td>\n",
       "      <td>university.degree</td>\n",
       "      <td>no</td>\n",
       "      <td>yes</td>\n",
       "      <td>no</td>\n",
       "      <td>telephone</td>\n",
       "      <td>may</td>\n",
       "      <td>wed</td>\n",
       "      <td>126</td>\n",
       "      <td>1</td>\n",
       "      <td>999</td>\n",
       "      <td>0</td>\n",
       "      <td>nonexistent</td>\n",
       "      <td>1.1</td>\n",
       "      <td>93.994</td>\n",
       "      <td>-36.4</td>\n",
       "      <td>4.857</td>\n",
       "      <td>5191.0</td>\n",
       "    </tr>\n",
       "    <tr>\n",
       "      <td>2</td>\n",
       "      <td>47</td>\n",
       "      <td>blue-collar</td>\n",
       "      <td>married</td>\n",
       "      <td>basic.4y</td>\n",
       "      <td>unknown</td>\n",
       "      <td>no</td>\n",
       "      <td>no</td>\n",
       "      <td>telephone</td>\n",
       "      <td>may</td>\n",
       "      <td>thu</td>\n",
       "      <td>391</td>\n",
       "      <td>1</td>\n",
       "      <td>999</td>\n",
       "      <td>1</td>\n",
       "      <td>failure</td>\n",
       "      <td>-1.8</td>\n",
       "      <td>92.893</td>\n",
       "      <td>-46.2</td>\n",
       "      <td>1.266</td>\n",
       "      <td>5099.1</td>\n",
       "    </tr>\n",
       "    <tr>\n",
       "      <td>3</td>\n",
       "      <td>47</td>\n",
       "      <td>retired</td>\n",
       "      <td>married</td>\n",
       "      <td>basic.4y</td>\n",
       "      <td>unknown</td>\n",
       "      <td>no</td>\n",
       "      <td>no</td>\n",
       "      <td>telephone</td>\n",
       "      <td>jun</td>\n",
       "      <td>fri</td>\n",
       "      <td>63</td>\n",
       "      <td>2</td>\n",
       "      <td>999</td>\n",
       "      <td>0</td>\n",
       "      <td>nonexistent</td>\n",
       "      <td>1.4</td>\n",
       "      <td>94.465</td>\n",
       "      <td>-41.8</td>\n",
       "      <td>4.967</td>\n",
       "      <td>5228.1</td>\n",
       "    </tr>\n",
       "    <tr>\n",
       "      <td>4</td>\n",
       "      <td>47</td>\n",
       "      <td>services</td>\n",
       "      <td>married</td>\n",
       "      <td>high.school</td>\n",
       "      <td>no</td>\n",
       "      <td>no</td>\n",
       "      <td>no</td>\n",
       "      <td>cellular</td>\n",
       "      <td>may</td>\n",
       "      <td>mon</td>\n",
       "      <td>261</td>\n",
       "      <td>1</td>\n",
       "      <td>999</td>\n",
       "      <td>0</td>\n",
       "      <td>nonexistent</td>\n",
       "      <td>-1.8</td>\n",
       "      <td>92.893</td>\n",
       "      <td>-46.2</td>\n",
       "      <td>1.244</td>\n",
       "      <td>5099.1</td>\n",
       "    </tr>\n",
       "  </tbody>\n",
       "</table>\n",
       "</div>"
      ],
      "text/plain": [
       "   age          job  marital          education  default housing loan  \\\n",
       "0   31       admin.   single  university.degree       no      no  yes   \n",
       "1   36       admin.   single  university.degree       no     yes   no   \n",
       "2   47  blue-collar  married           basic.4y  unknown      no   no   \n",
       "3   47      retired  married           basic.4y  unknown      no   no   \n",
       "4   47     services  married        high.school       no      no   no   \n",
       "\n",
       "     contact month day_of_week  duration  campaign  pdays  previous  \\\n",
       "0  telephone   mar         mon        39         2    999         0   \n",
       "1  telephone   may         wed       126         1    999         0   \n",
       "2  telephone   may         thu       391         1    999         1   \n",
       "3  telephone   jun         fri        63         2    999         0   \n",
       "4   cellular   may         mon       261         1    999         0   \n",
       "\n",
       "      poutcome  emp.var.rate  cons.price.idx  cons.conf.idx  euribor3m  \\\n",
       "0  nonexistent          -1.8          92.843          -50.0      1.811   \n",
       "1  nonexistent           1.1          93.994          -36.4      4.857   \n",
       "2      failure          -1.8          92.893          -46.2      1.266   \n",
       "3  nonexistent           1.4          94.465          -41.8      4.967   \n",
       "4  nonexistent          -1.8          92.893          -46.2      1.244   \n",
       "\n",
       "   nr.employed  \n",
       "0       5099.1  \n",
       "1       5191.0  \n",
       "2       5099.1  \n",
       "3       5228.1  \n",
       "4       5099.1  "
      ]
     },
     "execution_count": 821,
     "metadata": {},
     "output_type": "execute_result"
    }
   ],
   "source": [
    "# Create copy\n",
    "df_copy = train_set.reset_index(drop = True)\n",
    "\n",
    "# Define y\n",
    "y = df_copy['y']\n",
    "\n",
    "# Map y values to 1 and 0 \n",
    "y = y.map(lambda x: 1 if x == 'yes' else 0)\n",
    "\n",
    "# Define X\n",
    "X = df_copy.drop('y', axis = 1)\n",
    "X.head()"
   ]
  },
  {
   "cell_type": "code",
   "execution_count": 822,
   "metadata": {
    "scrolled": true
   },
   "outputs": [
    {
     "data": {
      "text/plain": [
       "Pipeline(memory=None,\n",
       "         steps=[('syntaxclean', SyntaxCleanandDrop()),\n",
       "                ('numprocess', NumPreprocess()),\n",
       "                ('unknownimputer', UnknownImputer()),\n",
       "                ('catprocess',\n",
       "                 ColumnTransformer(n_jobs=None, remainder='passthrough',\n",
       "                                   sparse_threshold=0.3,\n",
       "                                   transformer_weights=None,\n",
       "                                   transformers=[('cat',\n",
       "                                                  OneHotEncoder(categories='auto',\n",
       "                                                                drop=None,\n",
       "                                                                dtype=<class 'numpy.float64'>,\n",
       "                                                                handle_unkno...\n",
       "                 XGBClassifier(base_score=0.5, booster='gbtree',\n",
       "                               colsample_bylevel=1, colsample_bynode=1,\n",
       "                               colsample_bytree=1, gamma=0, learning_rate=0.1,\n",
       "                               max_delta_step=0, max_depth=5,\n",
       "                               min_child_weight=1, missing=None,\n",
       "                               n_estimators=100, n_jobs=1, nthread=None,\n",
       "                               objective='binary:logistic', random_state=0,\n",
       "                               reg_alpha=0, reg_lambda=1, scale_pos_weight=1,\n",
       "                               seed=None, silent=None, subsample=1,\n",
       "                               verbosity=1))],\n",
       "         verbose=False)"
      ]
     },
     "execution_count": 822,
     "metadata": {},
     "output_type": "execute_result"
    }
   ],
   "source": [
    "full_pipeline.fit(X,y)"
   ]
  },
  {
   "cell_type": "code",
   "execution_count": 831,
   "metadata": {},
   "outputs": [],
   "source": [
    "X_test = test_set.drop('y', axis =1 ).reset_index(drop = True)\n",
    "y_test = test_set['y'].reset_index(drop = True)\n",
    "\n",
    "# Map y values to 1 and 0 \n",
    "y_test = y_test.map(lambda x: 1 if x == 'yes' else 0)"
   ]
  },
  {
   "cell_type": "code",
   "execution_count": 858,
   "metadata": {},
   "outputs": [],
   "source": [
    "# Predict on test set\n",
    "test_preds = full_pipeline.predict(X_test)"
   ]
  },
  {
   "cell_type": "code",
   "execution_count": 859,
   "metadata": {
    "scrolled": true
   },
   "outputs": [
    {
     "name": "stdout",
     "output_type": "stream",
     "text": [
      "Classification Report for Test set\n",
      "              precision    recall  f1-score   support\n",
      "\n",
      "           0       0.94      0.81      0.87      3655\n",
      "           1       0.29      0.59      0.39       464\n",
      "\n",
      "    accuracy                           0.79      4119\n",
      "   macro avg       0.61      0.70      0.63      4119\n",
      "weighted avg       0.87      0.79      0.82      4119\n",
      "\n"
     ]
    }
   ],
   "source": [
    "print('Classification Report for Test set')\n",
    "print(classification_report(y_test, test_preds))"
   ]
  },
  {
   "cell_type": "code",
   "execution_count": 862,
   "metadata": {
    "scrolled": true
   },
   "outputs": [
    {
     "data": {
      "image/png": "[encoded data removed]",
      "text/plain": [
       "<Figure size 432x288 with 2 Axes>"
      ]
     },
     "metadata": {
      "needs_background": "light"
     },
     "output_type": "display_data"
    }
   ],
   "source": [
    "plot_confusion_matrix(full_pipeline, X_test, y_test, values_format = '.0f')\n",
    "plt.title('Final Test Set Confusion Matrix')\n",
    "plt.show()"
   ]
  },
  {
   "cell_type": "code",
   "execution_count": 832,
   "metadata": {
    "scrolled": true
   },
   "outputs": [
    {
     "data": {
      "text/plain": [
       "array([[0.93112695, 0.06887306],\n",
       "       [0.85844976, 0.14155026],\n",
       "       [0.8539287 , 0.1460713 ],\n",
       "       ...,\n",
       "       [0.2958395 , 0.7041605 ],\n",
       "       [0.8806981 , 0.11930194],\n",
       "       [0.33031565, 0.66968435]], dtype=float32)"
      ]
     },
     "execution_count": 832,
     "metadata": {},
     "output_type": "execute_result"
    }
   ],
   "source": [
    "# Predict on test set\n",
    "full_pipeline.predict_proba(X_test)"
   ]
  },
  {
   "cell_type": "markdown",
   "metadata": {},
   "source": [
    "### Answer to Problem"
   ]
  },
  {
   "cell_type": "code",
   "execution_count": 833,
   "metadata": {},
   "outputs": [],
   "source": [
    "pos_proba = full_pipeline.predict_proba(X_test)[:,1]\n",
    "pos_proba_s = pd.Series(pos_proba)\n",
    "\n",
    "test_set_with_proba = pd.concat([X_test, y_test, pos_proba_s], axis = 1)\n",
    "test_set_with_proba = test_set_with_proba.rename(columns = {0: 'yes_proba'})\n",
    "test_set_with_proba"
   ]
  },
  {
   "cell_type": "code",
   "execution_count": 844,
   "metadata": {
    "scrolled": false
   },
   "outputs": [
    {
     "data": {
      "text/html": [
       "<div>\n",
       "<style scoped>\n",
       "    .dataframe tbody tr th:only-of-type {\n",
       "        vertical-align: middle;\n",
       "    }\n",
       "\n",
       "    .dataframe tbody tr th {\n",
       "        vertical-align: top;\n",
       "    }\n",
       "\n",
       "    .dataframe thead th {\n",
       "        text-align: right;\n",
       "    }\n",
       "</style>\n",
       "<table border=\"1\" class=\"dataframe\">\n",
       "  <thead>\n",
       "    <tr style=\"text-align: right;\">\n",
       "      <th></th>\n",
       "      <th>age</th>\n",
       "      <th>job</th>\n",
       "      <th>marital</th>\n",
       "      <th>education</th>\n",
       "      <th>default</th>\n",
       "      <th>housing</th>\n",
       "      <th>loan</th>\n",
       "      <th>contact</th>\n",
       "      <th>month</th>\n",
       "      <th>day_of_week</th>\n",
       "      <th>...</th>\n",
       "      <th>pdays</th>\n",
       "      <th>previous</th>\n",
       "      <th>poutcome</th>\n",
       "      <th>emp_var_rate</th>\n",
       "      <th>cons_price_idx</th>\n",
       "      <th>cons_conf_idx</th>\n",
       "      <th>euribor3m</th>\n",
       "      <th>nr_employed</th>\n",
       "      <th>y</th>\n",
       "      <th>yes_proba</th>\n",
       "    </tr>\n",
       "  </thead>\n",
       "  <tbody>\n",
       "    <tr>\n",
       "      <td>0</td>\n",
       "      <td>40</td>\n",
       "      <td>housemaid</td>\n",
       "      <td>divorced</td>\n",
       "      <td>high_school</td>\n",
       "      <td>no</td>\n",
       "      <td>no</td>\n",
       "      <td>no</td>\n",
       "      <td>telephone</td>\n",
       "      <td>jun</td>\n",
       "      <td>wed</td>\n",
       "      <td>...</td>\n",
       "      <td>999</td>\n",
       "      <td>0</td>\n",
       "      <td>nonexistent</td>\n",
       "      <td>1.4</td>\n",
       "      <td>94.465</td>\n",
       "      <td>-41.8</td>\n",
       "      <td>4.864</td>\n",
       "      <td>5228.1</td>\n",
       "      <td>1</td>\n",
       "      <td>0.068873</td>\n",
       "    </tr>\n",
       "    <tr>\n",
       "      <td>1</td>\n",
       "      <td>46</td>\n",
       "      <td>admin</td>\n",
       "      <td>married</td>\n",
       "      <td>high_school</td>\n",
       "      <td>no</td>\n",
       "      <td>yes</td>\n",
       "      <td>no</td>\n",
       "      <td>telephone</td>\n",
       "      <td>may</td>\n",
       "      <td>wed</td>\n",
       "      <td>...</td>\n",
       "      <td>999</td>\n",
       "      <td>0</td>\n",
       "      <td>nonexistent</td>\n",
       "      <td>1.1</td>\n",
       "      <td>93.994</td>\n",
       "      <td>-36.4</td>\n",
       "      <td>4.858</td>\n",
       "      <td>5191.0</td>\n",
       "      <td>0</td>\n",
       "      <td>0.141550</td>\n",
       "    </tr>\n",
       "    <tr>\n",
       "      <td>2</td>\n",
       "      <td>29</td>\n",
       "      <td>blue-collar</td>\n",
       "      <td>married</td>\n",
       "      <td>basic_9y</td>\n",
       "      <td>unknown</td>\n",
       "      <td>yes</td>\n",
       "      <td>no</td>\n",
       "      <td>telephone</td>\n",
       "      <td>may</td>\n",
       "      <td>wed</td>\n",
       "      <td>...</td>\n",
       "      <td>999</td>\n",
       "      <td>0</td>\n",
       "      <td>nonexistent</td>\n",
       "      <td>1.1</td>\n",
       "      <td>93.994</td>\n",
       "      <td>-36.4</td>\n",
       "      <td>4.858</td>\n",
       "      <td>5191.0</td>\n",
       "      <td>0</td>\n",
       "      <td>0.146071</td>\n",
       "    </tr>\n",
       "    <tr>\n",
       "      <td>3</td>\n",
       "      <td>50</td>\n",
       "      <td>retired</td>\n",
       "      <td>married</td>\n",
       "      <td>professional_course</td>\n",
       "      <td>no</td>\n",
       "      <td>yes</td>\n",
       "      <td>no</td>\n",
       "      <td>cellular</td>\n",
       "      <td>jul</td>\n",
       "      <td>fri</td>\n",
       "      <td>...</td>\n",
       "      <td>999</td>\n",
       "      <td>0</td>\n",
       "      <td>nonexistent</td>\n",
       "      <td>1.4</td>\n",
       "      <td>93.918</td>\n",
       "      <td>-42.7</td>\n",
       "      <td>4.962</td>\n",
       "      <td>5228.1</td>\n",
       "      <td>1</td>\n",
       "      <td>0.228520</td>\n",
       "    </tr>\n",
       "    <tr>\n",
       "      <td>4</td>\n",
       "      <td>40</td>\n",
       "      <td>admin</td>\n",
       "      <td>single</td>\n",
       "      <td>high_school</td>\n",
       "      <td>no</td>\n",
       "      <td>no</td>\n",
       "      <td>no</td>\n",
       "      <td>telephone</td>\n",
       "      <td>jun</td>\n",
       "      <td>fri</td>\n",
       "      <td>...</td>\n",
       "      <td>999</td>\n",
       "      <td>0</td>\n",
       "      <td>nonexistent</td>\n",
       "      <td>1.4</td>\n",
       "      <td>94.465</td>\n",
       "      <td>-41.8</td>\n",
       "      <td>4.967</td>\n",
       "      <td>5228.1</td>\n",
       "      <td>0</td>\n",
       "      <td>0.101380</td>\n",
       "    </tr>\n",
       "    <tr>\n",
       "      <td>...</td>\n",
       "      <td>...</td>\n",
       "      <td>...</td>\n",
       "      <td>...</td>\n",
       "      <td>...</td>\n",
       "      <td>...</td>\n",
       "      <td>...</td>\n",
       "      <td>...</td>\n",
       "      <td>...</td>\n",
       "      <td>...</td>\n",
       "      <td>...</td>\n",
       "      <td>...</td>\n",
       "      <td>...</td>\n",
       "      <td>...</td>\n",
       "      <td>...</td>\n",
       "      <td>...</td>\n",
       "      <td>...</td>\n",
       "      <td>...</td>\n",
       "      <td>...</td>\n",
       "      <td>...</td>\n",
       "      <td>...</td>\n",
       "      <td>...</td>\n",
       "    </tr>\n",
       "    <tr>\n",
       "      <td>4114</td>\n",
       "      <td>33</td>\n",
       "      <td>self-employed</td>\n",
       "      <td>single</td>\n",
       "      <td>university_degree</td>\n",
       "      <td>no</td>\n",
       "      <td>no</td>\n",
       "      <td>no</td>\n",
       "      <td>telephone</td>\n",
       "      <td>jun</td>\n",
       "      <td>thu</td>\n",
       "      <td>...</td>\n",
       "      <td>999</td>\n",
       "      <td>0</td>\n",
       "      <td>nonexistent</td>\n",
       "      <td>1.4</td>\n",
       "      <td>94.465</td>\n",
       "      <td>-41.8</td>\n",
       "      <td>4.961</td>\n",
       "      <td>5228.1</td>\n",
       "      <td>0</td>\n",
       "      <td>0.157947</td>\n",
       "    </tr>\n",
       "    <tr>\n",
       "      <td>4115</td>\n",
       "      <td>44</td>\n",
       "      <td>admin</td>\n",
       "      <td>divorced</td>\n",
       "      <td>high_school</td>\n",
       "      <td>no</td>\n",
       "      <td>yes</td>\n",
       "      <td>yes</td>\n",
       "      <td>cellular</td>\n",
       "      <td>may</td>\n",
       "      <td>fri</td>\n",
       "      <td>...</td>\n",
       "      <td>999</td>\n",
       "      <td>0</td>\n",
       "      <td>nonexistent</td>\n",
       "      <td>-1.8</td>\n",
       "      <td>92.893</td>\n",
       "      <td>-46.2</td>\n",
       "      <td>1.313</td>\n",
       "      <td>5099.1</td>\n",
       "      <td>0</td>\n",
       "      <td>0.457275</td>\n",
       "    </tr>\n",
       "    <tr>\n",
       "      <td>4116</td>\n",
       "      <td>57</td>\n",
       "      <td>blue-collar</td>\n",
       "      <td>divorced</td>\n",
       "      <td>basic_4y</td>\n",
       "      <td>no</td>\n",
       "      <td>no</td>\n",
       "      <td>no</td>\n",
       "      <td>cellular</td>\n",
       "      <td>jun</td>\n",
       "      <td>mon</td>\n",
       "      <td>...</td>\n",
       "      <td>12</td>\n",
       "      <td>1</td>\n",
       "      <td>success</td>\n",
       "      <td>-2.9</td>\n",
       "      <td>92.963</td>\n",
       "      <td>-40.8</td>\n",
       "      <td>1.266</td>\n",
       "      <td>5076.2</td>\n",
       "      <td>0</td>\n",
       "      <td>0.704161</td>\n",
       "    </tr>\n",
       "    <tr>\n",
       "      <td>4117</td>\n",
       "      <td>35</td>\n",
       "      <td>technician</td>\n",
       "      <td>divorced</td>\n",
       "      <td>professional_course</td>\n",
       "      <td>no</td>\n",
       "      <td>no</td>\n",
       "      <td>yes</td>\n",
       "      <td>telephone</td>\n",
       "      <td>may</td>\n",
       "      <td>fri</td>\n",
       "      <td>...</td>\n",
       "      <td>999</td>\n",
       "      <td>0</td>\n",
       "      <td>nonexistent</td>\n",
       "      <td>1.1</td>\n",
       "      <td>93.994</td>\n",
       "      <td>-36.4</td>\n",
       "      <td>4.855</td>\n",
       "      <td>5191.0</td>\n",
       "      <td>0</td>\n",
       "      <td>0.119302</td>\n",
       "    </tr>\n",
       "    <tr>\n",
       "      <td>4118</td>\n",
       "      <td>29</td>\n",
       "      <td>admin</td>\n",
       "      <td>single</td>\n",
       "      <td>high_school</td>\n",
       "      <td>no</td>\n",
       "      <td>no</td>\n",
       "      <td>no</td>\n",
       "      <td>cellular</td>\n",
       "      <td>mar</td>\n",
       "      <td>mon</td>\n",
       "      <td>...</td>\n",
       "      <td>999</td>\n",
       "      <td>0</td>\n",
       "      <td>nonexistent</td>\n",
       "      <td>-1.8</td>\n",
       "      <td>93.369</td>\n",
       "      <td>-34.8</td>\n",
       "      <td>0.652</td>\n",
       "      <td>5008.7</td>\n",
       "      <td>0</td>\n",
       "      <td>0.669684</td>\n",
       "    </tr>\n",
       "  </tbody>\n",
       "</table>\n",
       "<p>4119 rows × 22 columns</p>\n",
       "</div>"
      ],
      "text/plain": [
       "      age            job   marital            education  default housing loan  \\\n",
       "0      40      housemaid  divorced          high_school       no      no   no   \n",
       "1      46          admin   married          high_school       no     yes   no   \n",
       "2      29    blue-collar   married             basic_9y  unknown     yes   no   \n",
       "3      50        retired   married  professional_course       no     yes   no   \n",
       "4      40          admin    single          high_school       no      no   no   \n",
       "...   ...            ...       ...                  ...      ...     ...  ...   \n",
       "4114   33  self-employed    single    university_degree       no      no   no   \n",
       "4115   44          admin  divorced          high_school       no     yes  yes   \n",
       "4116   57    blue-collar  divorced             basic_4y       no      no   no   \n",
       "4117   35     technician  divorced  professional_course       no      no  yes   \n",
       "4118   29          admin    single          high_school       no      no   no   \n",
       "\n",
       "        contact month day_of_week  ...  pdays  previous     poutcome  \\\n",
       "0     telephone   jun         wed  ...    999         0  nonexistent   \n",
       "1     telephone   may         wed  ...    999         0  nonexistent   \n",
       "2     telephone   may         wed  ...    999         0  nonexistent   \n",
       "3      cellular   jul         fri  ...    999         0  nonexistent   \n",
       "4     telephone   jun         fri  ...    999         0  nonexistent   \n",
       "...         ...   ...         ...  ...    ...       ...          ...   \n",
       "4114  telephone   jun         thu  ...    999         0  nonexistent   \n",
       "4115   cellular   may         fri  ...    999         0  nonexistent   \n",
       "4116   cellular   jun         mon  ...     12         1      success   \n",
       "4117  telephone   may         fri  ...    999         0  nonexistent   \n",
       "4118   cellular   mar         mon  ...    999         0  nonexistent   \n",
       "\n",
       "      emp_var_rate cons_price_idx  cons_conf_idx  euribor3m  nr_employed  y  \\\n",
       "0              1.4         94.465          -41.8      4.864       5228.1  1   \n",
       "1              1.1         93.994          -36.4      4.858       5191.0  0   \n",
       "2              1.1         93.994          -36.4      4.858       5191.0  0   \n",
       "3              1.4         93.918          -42.7      4.962       5228.1  1   \n",
       "4              1.4         94.465          -41.8      4.967       5228.1  0   \n",
       "...            ...            ...            ...        ...          ... ..   \n",
       "4114           1.4         94.465          -41.8      4.961       5228.1  0   \n",
       "4115          -1.8         92.893          -46.2      1.313       5099.1  0   \n",
       "4116          -2.9         92.963          -40.8      1.266       5076.2  0   \n",
       "4117           1.1         93.994          -36.4      4.855       5191.0  0   \n",
       "4118          -1.8         93.369          -34.8      0.652       5008.7  0   \n",
       "\n",
       "      yes_proba  \n",
       "0      0.068873  \n",
       "1      0.141550  \n",
       "2      0.146071  \n",
       "3      0.228520  \n",
       "4      0.101380  \n",
       "...         ...  \n",
       "4114   0.157947  \n",
       "4115   0.457275  \n",
       "4116   0.704161  \n",
       "4117   0.119302  \n",
       "4118   0.669684  \n",
       "\n",
       "[4119 rows x 22 columns]"
      ]
     },
     "execution_count": 844,
     "metadata": {},
     "output_type": "execute_result"
    }
   ],
   "source": [
    "test_set_with_proba = pd.concat([X_test, y_test, pos_proba_s], axis = 1)\n",
    "test_set_with_proba = test_set_with_proba.rename(columns = {0: 'yes_proba'})\n",
    "test_set_with_proba"
   ]
  },
  {
   "cell_type": "code",
   "execution_count": 848,
   "metadata": {
    "scrolled": true
   },
   "outputs": [
    {
     "data": {
      "text/html": [
       "<div>\n",
       "<style scoped>\n",
       "    .dataframe tbody tr th:only-of-type {\n",
       "        vertical-align: middle;\n",
       "    }\n",
       "\n",
       "    .dataframe tbody tr th {\n",
       "        vertical-align: top;\n",
       "    }\n",
       "\n",
       "    .dataframe thead th {\n",
       "        text-align: right;\n",
       "    }\n",
       "</style>\n",
       "<table border=\"1\" class=\"dataframe\">\n",
       "  <thead>\n",
       "    <tr style=\"text-align: right;\">\n",
       "      <th></th>\n",
       "      <th>age</th>\n",
       "      <th>job</th>\n",
       "      <th>marital</th>\n",
       "      <th>education</th>\n",
       "      <th>default</th>\n",
       "      <th>housing</th>\n",
       "      <th>loan</th>\n",
       "      <th>contact</th>\n",
       "      <th>month</th>\n",
       "      <th>day_of_week</th>\n",
       "      <th>...</th>\n",
       "      <th>pdays</th>\n",
       "      <th>previous</th>\n",
       "      <th>poutcome</th>\n",
       "      <th>emp_var_rate</th>\n",
       "      <th>cons_price_idx</th>\n",
       "      <th>cons_conf_idx</th>\n",
       "      <th>euribor3m</th>\n",
       "      <th>nr_employed</th>\n",
       "      <th>y</th>\n",
       "      <th>yes_proba</th>\n",
       "    </tr>\n",
       "  </thead>\n",
       "  <tbody>\n",
       "    <tr>\n",
       "      <td>3056</td>\n",
       "      <td>37</td>\n",
       "      <td>technician</td>\n",
       "      <td>single</td>\n",
       "      <td>professional_course</td>\n",
       "      <td>no</td>\n",
       "      <td>yes</td>\n",
       "      <td>no</td>\n",
       "      <td>cellular</td>\n",
       "      <td>nov</td>\n",
       "      <td>wed</td>\n",
       "      <td>...</td>\n",
       "      <td>6</td>\n",
       "      <td>4</td>\n",
       "      <td>success</td>\n",
       "      <td>-1.1</td>\n",
       "      <td>94.767</td>\n",
       "      <td>-50.8</td>\n",
       "      <td>1.044</td>\n",
       "      <td>4963.6</td>\n",
       "      <td>1</td>\n",
       "      <td>0.942420</td>\n",
       "    </tr>\n",
       "    <tr>\n",
       "      <td>3790</td>\n",
       "      <td>45</td>\n",
       "      <td>unemployed</td>\n",
       "      <td>married</td>\n",
       "      <td>high_school</td>\n",
       "      <td>no</td>\n",
       "      <td>no</td>\n",
       "      <td>no</td>\n",
       "      <td>cellular</td>\n",
       "      <td>sep</td>\n",
       "      <td>wed</td>\n",
       "      <td>...</td>\n",
       "      <td>6</td>\n",
       "      <td>2</td>\n",
       "      <td>success</td>\n",
       "      <td>-1.1</td>\n",
       "      <td>94.199</td>\n",
       "      <td>-37.5</td>\n",
       "      <td>0.880</td>\n",
       "      <td>4963.6</td>\n",
       "      <td>0</td>\n",
       "      <td>0.927844</td>\n",
       "    </tr>\n",
       "    <tr>\n",
       "      <td>1709</td>\n",
       "      <td>30</td>\n",
       "      <td>admin</td>\n",
       "      <td>single</td>\n",
       "      <td>university_degree</td>\n",
       "      <td>no</td>\n",
       "      <td>yes</td>\n",
       "      <td>no</td>\n",
       "      <td>cellular</td>\n",
       "      <td>jun</td>\n",
       "      <td>thu</td>\n",
       "      <td>...</td>\n",
       "      <td>3</td>\n",
       "      <td>2</td>\n",
       "      <td>success</td>\n",
       "      <td>-2.9</td>\n",
       "      <td>92.963</td>\n",
       "      <td>-40.8</td>\n",
       "      <td>1.260</td>\n",
       "      <td>5076.2</td>\n",
       "      <td>0</td>\n",
       "      <td>0.925724</td>\n",
       "    </tr>\n",
       "    <tr>\n",
       "      <td>340</td>\n",
       "      <td>39</td>\n",
       "      <td>admin</td>\n",
       "      <td>married</td>\n",
       "      <td>high_school</td>\n",
       "      <td>no</td>\n",
       "      <td>no</td>\n",
       "      <td>no</td>\n",
       "      <td>cellular</td>\n",
       "      <td>aug</td>\n",
       "      <td>thu</td>\n",
       "      <td>...</td>\n",
       "      <td>4</td>\n",
       "      <td>1</td>\n",
       "      <td>success</td>\n",
       "      <td>-2.9</td>\n",
       "      <td>92.201</td>\n",
       "      <td>-31.4</td>\n",
       "      <td>0.873</td>\n",
       "      <td>5076.2</td>\n",
       "      <td>1</td>\n",
       "      <td>0.924038</td>\n",
       "    </tr>\n",
       "    <tr>\n",
       "      <td>1003</td>\n",
       "      <td>46</td>\n",
       "      <td>unemployed</td>\n",
       "      <td>single</td>\n",
       "      <td>university_degree</td>\n",
       "      <td>no</td>\n",
       "      <td>no</td>\n",
       "      <td>no</td>\n",
       "      <td>cellular</td>\n",
       "      <td>mar</td>\n",
       "      <td>tue</td>\n",
       "      <td>...</td>\n",
       "      <td>10</td>\n",
       "      <td>2</td>\n",
       "      <td>success</td>\n",
       "      <td>-1.8</td>\n",
       "      <td>93.369</td>\n",
       "      <td>-34.8</td>\n",
       "      <td>0.646</td>\n",
       "      <td>5008.7</td>\n",
       "      <td>1</td>\n",
       "      <td>0.922099</td>\n",
       "    </tr>\n",
       "    <tr>\n",
       "      <td>...</td>\n",
       "      <td>...</td>\n",
       "      <td>...</td>\n",
       "      <td>...</td>\n",
       "      <td>...</td>\n",
       "      <td>...</td>\n",
       "      <td>...</td>\n",
       "      <td>...</td>\n",
       "      <td>...</td>\n",
       "      <td>...</td>\n",
       "      <td>...</td>\n",
       "      <td>...</td>\n",
       "      <td>...</td>\n",
       "      <td>...</td>\n",
       "      <td>...</td>\n",
       "      <td>...</td>\n",
       "      <td>...</td>\n",
       "      <td>...</td>\n",
       "      <td>...</td>\n",
       "      <td>...</td>\n",
       "      <td>...</td>\n",
       "      <td>...</td>\n",
       "    </tr>\n",
       "    <tr>\n",
       "      <td>1296</td>\n",
       "      <td>29</td>\n",
       "      <td>admin</td>\n",
       "      <td>single</td>\n",
       "      <td>university_degree</td>\n",
       "      <td>no</td>\n",
       "      <td>no</td>\n",
       "      <td>yes</td>\n",
       "      <td>cellular</td>\n",
       "      <td>apr</td>\n",
       "      <td>wed</td>\n",
       "      <td>...</td>\n",
       "      <td>999</td>\n",
       "      <td>0</td>\n",
       "      <td>nonexistent</td>\n",
       "      <td>-1.8</td>\n",
       "      <td>93.075</td>\n",
       "      <td>-47.1</td>\n",
       "      <td>1.498</td>\n",
       "      <td>5099.1</td>\n",
       "      <td>0</td>\n",
       "      <td>0.644636</td>\n",
       "    </tr>\n",
       "    <tr>\n",
       "      <td>2568</td>\n",
       "      <td>54</td>\n",
       "      <td>management</td>\n",
       "      <td>married</td>\n",
       "      <td>university_degree</td>\n",
       "      <td>no</td>\n",
       "      <td>yes</td>\n",
       "      <td>no</td>\n",
       "      <td>cellular</td>\n",
       "      <td>apr</td>\n",
       "      <td>thu</td>\n",
       "      <td>...</td>\n",
       "      <td>999</td>\n",
       "      <td>0</td>\n",
       "      <td>nonexistent</td>\n",
       "      <td>-1.8</td>\n",
       "      <td>93.075</td>\n",
       "      <td>-47.1</td>\n",
       "      <td>1.365</td>\n",
       "      <td>5099.1</td>\n",
       "      <td>0</td>\n",
       "      <td>0.644346</td>\n",
       "    </tr>\n",
       "    <tr>\n",
       "      <td>82</td>\n",
       "      <td>63</td>\n",
       "      <td>retired</td>\n",
       "      <td>married</td>\n",
       "      <td>unknown</td>\n",
       "      <td>no</td>\n",
       "      <td>no</td>\n",
       "      <td>no</td>\n",
       "      <td>telephone</td>\n",
       "      <td>apr</td>\n",
       "      <td>wed</td>\n",
       "      <td>...</td>\n",
       "      <td>999</td>\n",
       "      <td>0</td>\n",
       "      <td>nonexistent</td>\n",
       "      <td>-1.8</td>\n",
       "      <td>93.075</td>\n",
       "      <td>-47.1</td>\n",
       "      <td>1.445</td>\n",
       "      <td>5099.1</td>\n",
       "      <td>0</td>\n",
       "      <td>0.644231</td>\n",
       "    </tr>\n",
       "    <tr>\n",
       "      <td>3809</td>\n",
       "      <td>36</td>\n",
       "      <td>admin</td>\n",
       "      <td>single</td>\n",
       "      <td>basic_9y</td>\n",
       "      <td>no</td>\n",
       "      <td>yes</td>\n",
       "      <td>yes</td>\n",
       "      <td>telephone</td>\n",
       "      <td>apr</td>\n",
       "      <td>wed</td>\n",
       "      <td>...</td>\n",
       "      <td>999</td>\n",
       "      <td>0</td>\n",
       "      <td>nonexistent</td>\n",
       "      <td>-1.8</td>\n",
       "      <td>93.749</td>\n",
       "      <td>-34.6</td>\n",
       "      <td>0.644</td>\n",
       "      <td>5008.7</td>\n",
       "      <td>1</td>\n",
       "      <td>0.641262</td>\n",
       "    </tr>\n",
       "    <tr>\n",
       "      <td>1106</td>\n",
       "      <td>34</td>\n",
       "      <td>technician</td>\n",
       "      <td>married</td>\n",
       "      <td>professional_course</td>\n",
       "      <td>no</td>\n",
       "      <td>yes</td>\n",
       "      <td>no</td>\n",
       "      <td>cellular</td>\n",
       "      <td>mar</td>\n",
       "      <td>mon</td>\n",
       "      <td>...</td>\n",
       "      <td>999</td>\n",
       "      <td>0</td>\n",
       "      <td>nonexistent</td>\n",
       "      <td>-1.8</td>\n",
       "      <td>92.843</td>\n",
       "      <td>-50.0</td>\n",
       "      <td>1.629</td>\n",
       "      <td>5099.1</td>\n",
       "      <td>0</td>\n",
       "      <td>0.641136</td>\n",
       "    </tr>\n",
       "  </tbody>\n",
       "</table>\n",
       "<p>500 rows × 22 columns</p>\n",
       "</div>"
      ],
      "text/plain": [
       "      age         job  marital            education default housing loan  \\\n",
       "3056   37  technician   single  professional_course      no     yes   no   \n",
       "3790   45  unemployed  married          high_school      no      no   no   \n",
       "1709   30       admin   single    university_degree      no     yes   no   \n",
       "340    39       admin  married          high_school      no      no   no   \n",
       "1003   46  unemployed   single    university_degree      no      no   no   \n",
       "...   ...         ...      ...                  ...     ...     ...  ...   \n",
       "1296   29       admin   single    university_degree      no      no  yes   \n",
       "2568   54  management  married    university_degree      no     yes   no   \n",
       "82     63     retired  married              unknown      no      no   no   \n",
       "3809   36       admin   single             basic_9y      no     yes  yes   \n",
       "1106   34  technician  married  professional_course      no     yes   no   \n",
       "\n",
       "        contact month day_of_week  ...  pdays  previous     poutcome  \\\n",
       "3056   cellular   nov         wed  ...      6         4      success   \n",
       "3790   cellular   sep         wed  ...      6         2      success   \n",
       "1709   cellular   jun         thu  ...      3         2      success   \n",
       "340    cellular   aug         thu  ...      4         1      success   \n",
       "1003   cellular   mar         tue  ...     10         2      success   \n",
       "...         ...   ...         ...  ...    ...       ...          ...   \n",
       "1296   cellular   apr         wed  ...    999         0  nonexistent   \n",
       "2568   cellular   apr         thu  ...    999         0  nonexistent   \n",
       "82    telephone   apr         wed  ...    999         0  nonexistent   \n",
       "3809  telephone   apr         wed  ...    999         0  nonexistent   \n",
       "1106   cellular   mar         mon  ...    999         0  nonexistent   \n",
       "\n",
       "      emp_var_rate cons_price_idx  cons_conf_idx  euribor3m  nr_employed  y  \\\n",
       "3056          -1.1         94.767          -50.8      1.044       4963.6  1   \n",
       "3790          -1.1         94.199          -37.5      0.880       4963.6  0   \n",
       "1709          -2.9         92.963          -40.8      1.260       5076.2  0   \n",
       "340           -2.9         92.201          -31.4      0.873       5076.2  1   \n",
       "1003          -1.8         93.369          -34.8      0.646       5008.7  1   \n",
       "...            ...            ...            ...        ...          ... ..   \n",
       "1296          -1.8         93.075          -47.1      1.498       5099.1  0   \n",
       "2568          -1.8         93.075          -47.1      1.365       5099.1  0   \n",
       "82            -1.8         93.075          -47.1      1.445       5099.1  0   \n",
       "3809          -1.8         93.749          -34.6      0.644       5008.7  1   \n",
       "1106          -1.8         92.843          -50.0      1.629       5099.1  0   \n",
       "\n",
       "      yes_proba  \n",
       "3056   0.942420  \n",
       "3790   0.927844  \n",
       "1709   0.925724  \n",
       "340    0.924038  \n",
       "1003   0.922099  \n",
       "...         ...  \n",
       "1296   0.644636  \n",
       "2568   0.644346  \n",
       "82     0.644231  \n",
       "3809   0.641262  \n",
       "1106   0.641136  \n",
       "\n",
       "[500 rows x 22 columns]"
      ]
     },
     "execution_count": 848,
     "metadata": {},
     "output_type": "execute_result"
    }
   ],
   "source": [
    "top_500 = test_set_with_proba.sort_values('yes_proba', ascending = False)[:500]\n",
    "top_500.head()"
   ]
  },
  {
   "cell_type": "code",
   "execution_count": 849,
   "metadata": {
    "scrolled": true
   },
   "outputs": [
    {
     "data": {
      "text/plain": [
       "0    315\n",
       "1    185\n",
       "Name: y, dtype: int64"
      ]
     },
     "execution_count": 849,
     "metadata": {},
     "output_type": "execute_result"
    }
   ],
   "source": [
    "# Get num of y\n",
    "top_500['y'].value_counts()"
   ]
  },
  {
   "cell_type": "code",
   "execution_count": 850,
   "metadata": {},
   "outputs": [
    {
     "data": {
      "text/plain": [
       "100.0"
      ]
     },
     "execution_count": 850,
     "metadata": {},
     "output_type": "execute_result"
    }
   ],
   "source": [
    "0.2*500"
   ]
  },
  {
   "cell_type": "code",
   "execution_count": 851,
   "metadata": {
    "scrolled": true
   },
   "outputs": [
    {
     "data": {
      "text/plain": [
       "4250"
      ]
     },
     "execution_count": 851,
     "metadata": {},
     "output_type": "execute_result"
    }
   ],
   "source": [
    "85*50"
   ]
  },
  {
   "cell_type": "code",
   "execution_count": 852,
   "metadata": {},
   "outputs": [
    {
     "data": {
      "text/plain": [
       "823.8000000000001"
      ]
     },
     "execution_count": 852,
     "metadata": {},
     "output_type": "execute_result"
    }
   ],
   "source": [
    "0.2*4119"
   ]
  },
  {
   "cell_type": "markdown",
   "metadata": {},
   "source": [
    "## Interpret Model"
   ]
  },
  {
   "cell_type": "code",
   "execution_count": null,
   "metadata": {},
   "outputs": [],
   "source": []
  },
  {
   "cell_type": "code",
   "execution_count": 806,
   "metadata": {},
   "outputs": [
    {
     "data": {
      "text/plain": [
       "array([0.04755248, 0.02162321, 0.01352911, 0.01884012, 0.024746  ,\n",
       "       0.0138625 , 0.01596073, 0.02153147, 0.0040183 , 0.02465978,\n",
       "       0.01348236, 0.04554444, 0.02318667, 0.01223168, 0.01605841,\n",
       "       0.01528171, 0.03827311, 0.03056551, 0.00296471, 0.0167857 ,\n",
       "       0.02401891, 0.        , 0.        , 0.03164561, 0.        ,\n",
       "       0.03498742, 0.        , 0.0285296 , 0.        , 0.00700422,\n",
       "       0.00491375, 0.        , 0.00406355, 0.00472417, 0.00595177,\n",
       "       0.00416391, 0.00445891, 0.01441304, 0.0041467 , 0.04485517,\n",
       "       0.02664651, 0.02762653, 0.03743099, 0.04091549, 0.0093555 ,\n",
       "       0.00307515, 0.01801858, 0.00467771, 0.00128711, 0.00350761,\n",
       "       0.0034656 , 0.03374963, 0.01573388, 0.13593498], dtype=float32)"
      ]
     },
     "execution_count": 806,
     "metadata": {},
     "output_type": "execute_result"
    }
   ],
   "source": [
    "gs_xgboost.best_estimator_[1].feature_importances_\n",
    "\n"
   ]
  },
  {
   "cell_type": "markdown",
   "metadata": {},
   "source": [
    "### Key Features"
   ]
  },
  {
   "cell_type": "code",
   "execution_count": null,
   "metadata": {},
   "outputs": [],
   "source": []
  }
 ],
 "metadata": {
  "kernelspec": {
   "display_name": "Python [conda env:learn-env] *",
   "language": "python",
   "name": "conda-env-learn-env-py"
  },
  "language_info": {
   "codemirror_mode": {
    "name": "ipython",
    "version": 3
   },
   "file_extension": ".py",
   "mimetype": "text/x-python",
   "name": "python",
   "nbconvert_exporter": "python",
   "pygments_lexer": "ipython3",
   "version": "3.6.9"
  },
  "toc": {
   "base_numbering": 1,
   "nav_menu": {},
   "number_sections": true,
   "sideBar": true,
   "skip_h1_title": true,
   "title_cell": "Table of Contents",
   "title_sidebar": "Contents",
   "toc_cell": false,
   "toc_position": {
    "height": "calc(100% - 180px)",
    "left": "10px",
    "top": "150px",
    "width": "281.188px"
   },
   "toc_section_display": true,
   "toc_window_display": true
  }
 },
 "nbformat": 4,
 "nbformat_minor": 2
}
